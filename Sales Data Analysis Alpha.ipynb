{
 "cells": [
  {
   "cell_type": "markdown",
   "id": "f415d25c",
   "metadata": {},
   "source": [
    "# Sales Data Analysis with Python\n",
    "\n",
    "### (A part of Big Data Analysis)"
   ]
  },
  {
   "cell_type": "markdown",
   "id": "36070356",
   "metadata": {},
   "source": [
    "-------------"
   ]
  },
  {
   "cell_type": "markdown",
   "id": "d05eb518",
   "metadata": {},
   "source": [
    "## Restaurant Sales Dataset\n",
    "***\n",
    "Here, \n",
    "\n",
    "We have the sales data of a restaurant company from different cities (countries).\n",
    "\n",
    "This data is available in Excel file format. We are going to analyze and visualize this data."
   ]
  },
  {
   "cell_type": "markdown",
   "id": "746e24fe",
   "metadata": {},
   "source": [
    "-------------"
   ]
  },
  {
   "cell_type": "markdown",
   "id": "aeb652ab",
   "metadata": {},
   "source": [
    "### Importing the Required Libraries"
   ]
  },
  {
   "cell_type": "code",
   "execution_count": 208,
   "id": "c444ae4c",
   "metadata": {},
   "outputs": [],
   "source": [
    "import pandas as pd\n",
    "import matplotlib.pyplot as plt\n",
    "import seaborn as sns"
   ]
  },
  {
   "cell_type": "markdown",
   "id": "bfbe9d2e",
   "metadata": {},
   "source": [
    "### Importing the dataset"
   ]
  },
  {
   "cell_type": "code",
   "execution_count": 209,
   "id": "e8aa5675",
   "metadata": {},
   "outputs": [],
   "source": [
    "data = pd.read_excel(r\"C:\\Users\\Alpha\\Desktop\\DS_Python_Resources\\Datasets\\Sales-Data-Analysis.xlsx\")"
   ]
  },
  {
   "cell_type": "code",
   "execution_count": 210,
   "id": "5222d9ac",
   "metadata": {},
   "outputs": [
    {
     "data": {
      "application/vnd.microsoft.datawrangler.viewer.v0+json": {
       "columns": [
        {
         "name": "index",
         "rawType": "int64",
         "type": "integer"
        },
        {
         "name": "Unnamed: 0",
         "rawType": "float64",
         "type": "float"
        },
        {
         "name": "Unnamed: 1",
         "rawType": "object",
         "type": "unknown"
        },
        {
         "name": "Unnamed: 2",
         "rawType": "object",
         "type": "unknown"
        },
        {
         "name": "Unnamed: 3",
         "rawType": "object",
         "type": "string"
        },
        {
         "name": "Unnamed: 4",
         "rawType": "object",
         "type": "unknown"
        },
        {
         "name": "Unnamed: 5",
         "rawType": "object",
         "type": "unknown"
        },
        {
         "name": "Unnamed: 6",
         "rawType": "object",
         "type": "string"
        },
        {
         "name": "Unnamed: 7",
         "rawType": "object",
         "type": "string"
        },
        {
         "name": "Unnamed: 8",
         "rawType": "object",
         "type": "string"
        },
        {
         "name": "Unnamed: 9",
         "rawType": "object",
         "type": "string"
        }
       ],
       "ref": "7c8ed8ce-c2af-4c07-9d70-737e74d679b1",
       "rows": [
        [
         "118",
         null,
         "10577",
         "2022-12-02 00:00:00",
         "Fries",
         "3.49",
         "630.3724928366762",
         "Online ",
         " Credit Card",
         "Remy Monet",
         "Paris"
        ],
        [
         "6",
         null,
         "10457",
         "2022-11-08 00:00:00",
         "Fries",
         "3.49",
         "573.0659025787965",
         "In-store ",
         " Credit Card",
         "Remy    Monet",
         "Paris"
        ],
        [
         "169",
         null,
         "10628",
         "2022-12-12 00:00:00",
         "Beverages",
         "2.95",
         "677.9661016949152",
         "Online ",
         " Gift Card",
         "Joao Silva",
         "Lisbon"
        ]
       ],
       "shape": {
        "columns": 10,
        "rows": 3
       }
      },
      "text/html": [
       "<div>\n",
       "<style scoped>\n",
       "    .dataframe tbody tr th:only-of-type {\n",
       "        vertical-align: middle;\n",
       "    }\n",
       "\n",
       "    .dataframe tbody tr th {\n",
       "        vertical-align: top;\n",
       "    }\n",
       "\n",
       "    .dataframe thead th {\n",
       "        text-align: right;\n",
       "    }\n",
       "</style>\n",
       "<table border=\"1\" class=\"dataframe\">\n",
       "  <thead>\n",
       "    <tr style=\"text-align: right;\">\n",
       "      <th></th>\n",
       "      <th>Unnamed: 0</th>\n",
       "      <th>Unnamed: 1</th>\n",
       "      <th>Unnamed: 2</th>\n",
       "      <th>Unnamed: 3</th>\n",
       "      <th>Unnamed: 4</th>\n",
       "      <th>Unnamed: 5</th>\n",
       "      <th>Unnamed: 6</th>\n",
       "      <th>Unnamed: 7</th>\n",
       "      <th>Unnamed: 8</th>\n",
       "      <th>Unnamed: 9</th>\n",
       "    </tr>\n",
       "  </thead>\n",
       "  <tbody>\n",
       "    <tr>\n",
       "      <th>118</th>\n",
       "      <td>NaN</td>\n",
       "      <td>10577</td>\n",
       "      <td>2022-12-02 00:00:00</td>\n",
       "      <td>Fries</td>\n",
       "      <td>3.49</td>\n",
       "      <td>630.372493</td>\n",
       "      <td>Online</td>\n",
       "      <td>Credit Card</td>\n",
       "      <td>Remy Monet</td>\n",
       "      <td>Paris</td>\n",
       "    </tr>\n",
       "    <tr>\n",
       "      <th>6</th>\n",
       "      <td>NaN</td>\n",
       "      <td>10457</td>\n",
       "      <td>2022-11-08 00:00:00</td>\n",
       "      <td>Fries</td>\n",
       "      <td>3.49</td>\n",
       "      <td>573.065903</td>\n",
       "      <td>In-store</td>\n",
       "      <td>Credit Card</td>\n",
       "      <td>Remy    Monet</td>\n",
       "      <td>Paris</td>\n",
       "    </tr>\n",
       "    <tr>\n",
       "      <th>169</th>\n",
       "      <td>NaN</td>\n",
       "      <td>10628</td>\n",
       "      <td>2022-12-12 00:00:00</td>\n",
       "      <td>Beverages</td>\n",
       "      <td>2.95</td>\n",
       "      <td>677.966102</td>\n",
       "      <td>Online</td>\n",
       "      <td>Gift Card</td>\n",
       "      <td>Joao Silva</td>\n",
       "      <td>Lisbon</td>\n",
       "    </tr>\n",
       "  </tbody>\n",
       "</table>\n",
       "</div>"
      ],
      "text/plain": [
       "     Unnamed: 0 Unnamed: 1           Unnamed: 2 Unnamed: 3 Unnamed: 4  \\\n",
       "118         NaN      10577  2022-12-02 00:00:00      Fries       3.49   \n",
       "6           NaN      10457  2022-11-08 00:00:00      Fries       3.49   \n",
       "169         NaN      10628  2022-12-12 00:00:00  Beverages       2.95   \n",
       "\n",
       "     Unnamed: 5 Unnamed: 6    Unnamed: 7     Unnamed: 8 Unnamed: 9  \n",
       "118  630.372493    Online    Credit Card     Remy Monet      Paris  \n",
       "6    573.065903  In-store    Credit Card  Remy    Monet      Paris  \n",
       "169  677.966102    Online      Gift Card     Joao Silva     Lisbon  "
      ]
     },
     "execution_count": 210,
     "metadata": {},
     "output_type": "execute_result"
    }
   ],
   "source": [
    "data.sample(3)"
   ]
  },
  {
   "cell_type": "code",
   "execution_count": 211,
   "id": "e2edf7d3",
   "metadata": {},
   "outputs": [
    {
     "data": {
      "application/vnd.microsoft.datawrangler.viewer.v0+json": {
       "columns": [
        {
         "name": "index",
         "rawType": "int64",
         "type": "integer"
        },
        {
         "name": "Unnamed: 0",
         "rawType": "float64",
         "type": "float"
        },
        {
         "name": "Unnamed: 1",
         "rawType": "object",
         "type": "unknown"
        },
        {
         "name": "Unnamed: 2",
         "rawType": "object",
         "type": "unknown"
        },
        {
         "name": "Unnamed: 3",
         "rawType": "object",
         "type": "string"
        },
        {
         "name": "Unnamed: 4",
         "rawType": "object",
         "type": "unknown"
        },
        {
         "name": "Unnamed: 5",
         "rawType": "object",
         "type": "unknown"
        },
        {
         "name": "Unnamed: 6",
         "rawType": "object",
         "type": "string"
        },
        {
         "name": "Unnamed: 7",
         "rawType": "object",
         "type": "string"
        },
        {
         "name": "Unnamed: 8",
         "rawType": "object",
         "type": "string"
        },
        {
         "name": "Unnamed: 9",
         "rawType": "object",
         "type": "string"
        }
       ],
       "ref": "ad318705-5a43-4607-b0f3-b87e1020b36c",
       "rows": [
        [
         "0",
         null,
         "Order ID",
         "Date",
         "Product",
         "Price",
         "Quantity",
         "Purchase Type",
         "Payment Method",
         "Manager",
         "City"
        ],
        [
         "1",
         null,
         "10452",
         "2022-11-07 00:00:00",
         "Fries",
         "3.49",
         "573.0659025787965",
         "Online ",
         " Gift Card",
         "Tom      Jackson",
         "London"
        ],
        [
         "2",
         null,
         "10453",
         "2022-11-07 00:00:00",
         "Beverages",
         "2.95",
         "745.7627118644067",
         "Online ",
         " Gift Card",
         "       Pablo Perez",
         "Madrid"
        ],
        [
         "3",
         null,
         "10454",
         "2022-11-07 00:00:00",
         "Sides & Other",
         "4.99",
         "200.4008016032064",
         "In-store ",
         " Gift Card",
         "Joao    Silva",
         "Lisbon"
        ],
        [
         "4",
         null,
         "10455",
         "2022-11-08 00:00:00",
         "Burgers",
         "12.99",
         "569.6689761354888",
         "In-store ",
         " Credit Card",
         "Walter Muller",
         "Berlin"
        ]
       ],
       "shape": {
        "columns": 10,
        "rows": 5
       }
      },
      "text/html": [
       "<div>\n",
       "<style scoped>\n",
       "    .dataframe tbody tr th:only-of-type {\n",
       "        vertical-align: middle;\n",
       "    }\n",
       "\n",
       "    .dataframe tbody tr th {\n",
       "        vertical-align: top;\n",
       "    }\n",
       "\n",
       "    .dataframe thead th {\n",
       "        text-align: right;\n",
       "    }\n",
       "</style>\n",
       "<table border=\"1\" class=\"dataframe\">\n",
       "  <thead>\n",
       "    <tr style=\"text-align: right;\">\n",
       "      <th></th>\n",
       "      <th>Unnamed: 0</th>\n",
       "      <th>Unnamed: 1</th>\n",
       "      <th>Unnamed: 2</th>\n",
       "      <th>Unnamed: 3</th>\n",
       "      <th>Unnamed: 4</th>\n",
       "      <th>Unnamed: 5</th>\n",
       "      <th>Unnamed: 6</th>\n",
       "      <th>Unnamed: 7</th>\n",
       "      <th>Unnamed: 8</th>\n",
       "      <th>Unnamed: 9</th>\n",
       "    </tr>\n",
       "  </thead>\n",
       "  <tbody>\n",
       "    <tr>\n",
       "      <th>0</th>\n",
       "      <td>NaN</td>\n",
       "      <td>Order ID</td>\n",
       "      <td>Date</td>\n",
       "      <td>Product</td>\n",
       "      <td>Price</td>\n",
       "      <td>Quantity</td>\n",
       "      <td>Purchase Type</td>\n",
       "      <td>Payment Method</td>\n",
       "      <td>Manager</td>\n",
       "      <td>City</td>\n",
       "    </tr>\n",
       "    <tr>\n",
       "      <th>1</th>\n",
       "      <td>NaN</td>\n",
       "      <td>10452</td>\n",
       "      <td>2022-11-07 00:00:00</td>\n",
       "      <td>Fries</td>\n",
       "      <td>3.49</td>\n",
       "      <td>573.065903</td>\n",
       "      <td>Online</td>\n",
       "      <td>Gift Card</td>\n",
       "      <td>Tom      Jackson</td>\n",
       "      <td>London</td>\n",
       "    </tr>\n",
       "    <tr>\n",
       "      <th>2</th>\n",
       "      <td>NaN</td>\n",
       "      <td>10453</td>\n",
       "      <td>2022-11-07 00:00:00</td>\n",
       "      <td>Beverages</td>\n",
       "      <td>2.95</td>\n",
       "      <td>745.762712</td>\n",
       "      <td>Online</td>\n",
       "      <td>Gift Card</td>\n",
       "      <td>Pablo Perez</td>\n",
       "      <td>Madrid</td>\n",
       "    </tr>\n",
       "    <tr>\n",
       "      <th>3</th>\n",
       "      <td>NaN</td>\n",
       "      <td>10454</td>\n",
       "      <td>2022-11-07 00:00:00</td>\n",
       "      <td>Sides &amp; Other</td>\n",
       "      <td>4.99</td>\n",
       "      <td>200.400802</td>\n",
       "      <td>In-store</td>\n",
       "      <td>Gift Card</td>\n",
       "      <td>Joao    Silva</td>\n",
       "      <td>Lisbon</td>\n",
       "    </tr>\n",
       "    <tr>\n",
       "      <th>4</th>\n",
       "      <td>NaN</td>\n",
       "      <td>10455</td>\n",
       "      <td>2022-11-08 00:00:00</td>\n",
       "      <td>Burgers</td>\n",
       "      <td>12.99</td>\n",
       "      <td>569.668976</td>\n",
       "      <td>In-store</td>\n",
       "      <td>Credit Card</td>\n",
       "      <td>Walter Muller</td>\n",
       "      <td>Berlin</td>\n",
       "    </tr>\n",
       "  </tbody>\n",
       "</table>\n",
       "</div>"
      ],
      "text/plain": [
       "   Unnamed: 0 Unnamed: 1           Unnamed: 2     Unnamed: 3 Unnamed: 4  \\\n",
       "0         NaN   Order ID                 Date        Product      Price   \n",
       "1         NaN      10452  2022-11-07 00:00:00          Fries       3.49   \n",
       "2         NaN      10453  2022-11-07 00:00:00      Beverages       2.95   \n",
       "3         NaN      10454  2022-11-07 00:00:00  Sides & Other       4.99   \n",
       "4         NaN      10455  2022-11-08 00:00:00        Burgers      12.99   \n",
       "\n",
       "   Unnamed: 5     Unnamed: 6      Unnamed: 7          Unnamed: 8 Unnamed: 9  \n",
       "0    Quantity  Purchase Type  Payment Method             Manager       City  \n",
       "1  573.065903        Online        Gift Card    Tom      Jackson     London  \n",
       "2  745.762712        Online        Gift Card         Pablo Perez     Madrid  \n",
       "3  200.400802      In-store        Gift Card       Joao    Silva     Lisbon  \n",
       "4  569.668976      In-store      Credit Card       Walter Muller     Berlin  "
      ]
     },
     "execution_count": 211,
     "metadata": {},
     "output_type": "execute_result"
    }
   ],
   "source": [
    "data.head()"
   ]
  },
  {
   "cell_type": "code",
   "execution_count": 212,
   "id": "189b6478",
   "metadata": {},
   "outputs": [
    {
     "data": {
      "application/vnd.microsoft.datawrangler.viewer.v0+json": {
       "columns": [
        {
         "name": "index",
         "rawType": "object",
         "type": "string"
        },
        {
         "name": "0",
         "rawType": "object",
         "type": "unknown"
        }
       ],
       "ref": "bea3da3d-2db3-42d6-b743-05cd31eb704e",
       "rows": [
        [
         "Unnamed: 0",
         "float64"
        ],
        [
         "Unnamed: 1",
         "object"
        ],
        [
         "Unnamed: 2",
         "object"
        ],
        [
         "Unnamed: 3",
         "object"
        ],
        [
         "Unnamed: 4",
         "object"
        ],
        [
         "Unnamed: 5",
         "object"
        ],
        [
         "Unnamed: 6",
         "object"
        ],
        [
         "Unnamed: 7",
         "object"
        ],
        [
         "Unnamed: 8",
         "object"
        ],
        [
         "Unnamed: 9",
         "object"
        ]
       ],
       "shape": {
        "columns": 1,
        "rows": 10
       }
      },
      "text/plain": [
       "Unnamed: 0    float64\n",
       "Unnamed: 1     object\n",
       "Unnamed: 2     object\n",
       "Unnamed: 3     object\n",
       "Unnamed: 4     object\n",
       "Unnamed: 5     object\n",
       "Unnamed: 6     object\n",
       "Unnamed: 7     object\n",
       "Unnamed: 8     object\n",
       "Unnamed: 9     object\n",
       "dtype: object"
      ]
     },
     "execution_count": 212,
     "metadata": {},
     "output_type": "execute_result"
    }
   ],
   "source": [
    "data.dtypes"
   ]
  },
  {
   "cell_type": "code",
   "execution_count": 213,
   "id": "594e7010",
   "metadata": {},
   "outputs": [
    {
     "name": "stdout",
     "output_type": "stream",
     "text": [
      "<class 'pandas.core.frame.DataFrame'>\n",
      "RangeIndex: 255 entries, 0 to 254\n",
      "Data columns (total 10 columns):\n",
      " #   Column      Non-Null Count  Dtype  \n",
      "---  ------      --------------  -----  \n",
      " 0   Unnamed: 0  0 non-null      float64\n",
      " 1   Unnamed: 1  255 non-null    object \n",
      " 2   Unnamed: 2  255 non-null    object \n",
      " 3   Unnamed: 3  255 non-null    object \n",
      " 4   Unnamed: 4  255 non-null    object \n",
      " 5   Unnamed: 5  255 non-null    object \n",
      " 6   Unnamed: 6  255 non-null    object \n",
      " 7   Unnamed: 7  255 non-null    object \n",
      " 8   Unnamed: 8  255 non-null    object \n",
      " 9   Unnamed: 9  255 non-null    object \n",
      "dtypes: float64(1), object(9)\n",
      "memory usage: 20.1+ KB\n"
     ]
    }
   ],
   "source": [
    "data.info()                                      # to show some basic informations about the dataset"
   ]
  },
  {
   "cell_type": "markdown",
   "id": "78cb2349",
   "metadata": {},
   "source": [
    "#### Drop Unwanted Column"
   ]
  },
  {
   "cell_type": "code",
   "execution_count": 214,
   "id": "432abc8e",
   "metadata": {},
   "outputs": [],
   "source": [
    "data.drop(columns='Unnamed: 0', inplace=True)         # to drop the column from the dataframe"
   ]
  },
  {
   "cell_type": "code",
   "execution_count": 215,
   "id": "0fb87bef",
   "metadata": {
    "scrolled": true
   },
   "outputs": [
    {
     "data": {
      "application/vnd.microsoft.datawrangler.viewer.v0+json": {
       "columns": [
        {
         "name": "index",
         "rawType": "int64",
         "type": "integer"
        },
        {
         "name": "Unnamed: 1",
         "rawType": "object",
         "type": "unknown"
        },
        {
         "name": "Unnamed: 2",
         "rawType": "object",
         "type": "unknown"
        },
        {
         "name": "Unnamed: 3",
         "rawType": "object",
         "type": "string"
        },
        {
         "name": "Unnamed: 4",
         "rawType": "object",
         "type": "unknown"
        },
        {
         "name": "Unnamed: 5",
         "rawType": "object",
         "type": "unknown"
        },
        {
         "name": "Unnamed: 6",
         "rawType": "object",
         "type": "string"
        },
        {
         "name": "Unnamed: 7",
         "rawType": "object",
         "type": "string"
        },
        {
         "name": "Unnamed: 8",
         "rawType": "object",
         "type": "string"
        },
        {
         "name": "Unnamed: 9",
         "rawType": "object",
         "type": "string"
        }
       ],
       "ref": "04909369-de3b-4c74-9c9f-9d913c48335a",
       "rows": [
        [
         "0",
         "Order ID",
         "Date",
         "Product",
         "Price",
         "Quantity",
         "Purchase Type",
         "Payment Method",
         "Manager",
         "City"
        ],
        [
         "1",
         "10452",
         "2022-11-07 00:00:00",
         "Fries",
         "3.49",
         "573.0659025787965",
         "Online ",
         " Gift Card",
         "Tom      Jackson",
         "London"
        ],
        [
         "2",
         "10453",
         "2022-11-07 00:00:00",
         "Beverages",
         "2.95",
         "745.7627118644067",
         "Online ",
         " Gift Card",
         "       Pablo Perez",
         "Madrid"
        ],
        [
         "3",
         "10454",
         "2022-11-07 00:00:00",
         "Sides & Other",
         "4.99",
         "200.4008016032064",
         "In-store ",
         " Gift Card",
         "Joao    Silva",
         "Lisbon"
        ],
        [
         "4",
         "10455",
         "2022-11-08 00:00:00",
         "Burgers",
         "12.99",
         "569.6689761354888",
         "In-store ",
         " Credit Card",
         "Walter Muller",
         "Berlin"
        ]
       ],
       "shape": {
        "columns": 9,
        "rows": 5
       }
      },
      "text/html": [
       "<div>\n",
       "<style scoped>\n",
       "    .dataframe tbody tr th:only-of-type {\n",
       "        vertical-align: middle;\n",
       "    }\n",
       "\n",
       "    .dataframe tbody tr th {\n",
       "        vertical-align: top;\n",
       "    }\n",
       "\n",
       "    .dataframe thead th {\n",
       "        text-align: right;\n",
       "    }\n",
       "</style>\n",
       "<table border=\"1\" class=\"dataframe\">\n",
       "  <thead>\n",
       "    <tr style=\"text-align: right;\">\n",
       "      <th></th>\n",
       "      <th>Unnamed: 1</th>\n",
       "      <th>Unnamed: 2</th>\n",
       "      <th>Unnamed: 3</th>\n",
       "      <th>Unnamed: 4</th>\n",
       "      <th>Unnamed: 5</th>\n",
       "      <th>Unnamed: 6</th>\n",
       "      <th>Unnamed: 7</th>\n",
       "      <th>Unnamed: 8</th>\n",
       "      <th>Unnamed: 9</th>\n",
       "    </tr>\n",
       "  </thead>\n",
       "  <tbody>\n",
       "    <tr>\n",
       "      <th>0</th>\n",
       "      <td>Order ID</td>\n",
       "      <td>Date</td>\n",
       "      <td>Product</td>\n",
       "      <td>Price</td>\n",
       "      <td>Quantity</td>\n",
       "      <td>Purchase Type</td>\n",
       "      <td>Payment Method</td>\n",
       "      <td>Manager</td>\n",
       "      <td>City</td>\n",
       "    </tr>\n",
       "    <tr>\n",
       "      <th>1</th>\n",
       "      <td>10452</td>\n",
       "      <td>2022-11-07 00:00:00</td>\n",
       "      <td>Fries</td>\n",
       "      <td>3.49</td>\n",
       "      <td>573.065903</td>\n",
       "      <td>Online</td>\n",
       "      <td>Gift Card</td>\n",
       "      <td>Tom      Jackson</td>\n",
       "      <td>London</td>\n",
       "    </tr>\n",
       "    <tr>\n",
       "      <th>2</th>\n",
       "      <td>10453</td>\n",
       "      <td>2022-11-07 00:00:00</td>\n",
       "      <td>Beverages</td>\n",
       "      <td>2.95</td>\n",
       "      <td>745.762712</td>\n",
       "      <td>Online</td>\n",
       "      <td>Gift Card</td>\n",
       "      <td>Pablo Perez</td>\n",
       "      <td>Madrid</td>\n",
       "    </tr>\n",
       "    <tr>\n",
       "      <th>3</th>\n",
       "      <td>10454</td>\n",
       "      <td>2022-11-07 00:00:00</td>\n",
       "      <td>Sides &amp; Other</td>\n",
       "      <td>4.99</td>\n",
       "      <td>200.400802</td>\n",
       "      <td>In-store</td>\n",
       "      <td>Gift Card</td>\n",
       "      <td>Joao    Silva</td>\n",
       "      <td>Lisbon</td>\n",
       "    </tr>\n",
       "    <tr>\n",
       "      <th>4</th>\n",
       "      <td>10455</td>\n",
       "      <td>2022-11-08 00:00:00</td>\n",
       "      <td>Burgers</td>\n",
       "      <td>12.99</td>\n",
       "      <td>569.668976</td>\n",
       "      <td>In-store</td>\n",
       "      <td>Credit Card</td>\n",
       "      <td>Walter Muller</td>\n",
       "      <td>Berlin</td>\n",
       "    </tr>\n",
       "  </tbody>\n",
       "</table>\n",
       "</div>"
      ],
      "text/plain": [
       "  Unnamed: 1           Unnamed: 2     Unnamed: 3 Unnamed: 4  Unnamed: 5  \\\n",
       "0   Order ID                 Date        Product      Price    Quantity   \n",
       "1      10452  2022-11-07 00:00:00          Fries       3.49  573.065903   \n",
       "2      10453  2022-11-07 00:00:00      Beverages       2.95  745.762712   \n",
       "3      10454  2022-11-07 00:00:00  Sides & Other       4.99  200.400802   \n",
       "4      10455  2022-11-08 00:00:00        Burgers      12.99  569.668976   \n",
       "\n",
       "      Unnamed: 6      Unnamed: 7          Unnamed: 8 Unnamed: 9  \n",
       "0  Purchase Type  Payment Method             Manager       City  \n",
       "1        Online        Gift Card    Tom      Jackson     London  \n",
       "2        Online        Gift Card         Pablo Perez     Madrid  \n",
       "3      In-store        Gift Card       Joao    Silva     Lisbon  \n",
       "4      In-store      Credit Card       Walter Muller     Berlin  "
      ]
     },
     "execution_count": 215,
     "metadata": {},
     "output_type": "execute_result"
    }
   ],
   "source": [
    "data.head()                                           # to show top 5 records of the dataframe"
   ]
  },
  {
   "cell_type": "markdown",
   "id": "0a66210e",
   "metadata": {},
   "source": [
    "#### Changing the columns names"
   ]
  },
  {
   "cell_type": "code",
   "execution_count": 216,
   "id": "08cebb64",
   "metadata": {},
   "outputs": [
    {
     "data": {
      "application/vnd.microsoft.datawrangler.viewer.v0+json": {
       "columns": [
        {
         "name": "index",
         "rawType": "object",
         "type": "string"
        },
        {
         "name": "0",
         "rawType": "object",
         "type": "string"
        }
       ],
       "ref": "301c3f86-ba4d-4a56-846b-4fb45fa52b02",
       "rows": [
        [
         "Unnamed: 1",
         "Order ID"
        ],
        [
         "Unnamed: 2",
         "Date"
        ],
        [
         "Unnamed: 3",
         "Product"
        ],
        [
         "Unnamed: 4",
         "Price"
        ],
        [
         "Unnamed: 5",
         "Quantity"
        ],
        [
         "Unnamed: 6",
         "Purchase Type"
        ],
        [
         "Unnamed: 7",
         "Payment Method"
        ],
        [
         "Unnamed: 8",
         "Manager"
        ],
        [
         "Unnamed: 9",
         "City"
        ]
       ],
       "shape": {
        "columns": 1,
        "rows": 9
       }
      },
      "text/plain": [
       "Unnamed: 1          Order ID\n",
       "Unnamed: 2              Date\n",
       "Unnamed: 3           Product\n",
       "Unnamed: 4             Price\n",
       "Unnamed: 5          Quantity\n",
       "Unnamed: 6     Purchase Type\n",
       "Unnamed: 7    Payment Method\n",
       "Unnamed: 8           Manager\n",
       "Unnamed: 9              City\n",
       "Name: 0, dtype: object"
      ]
     },
     "execution_count": 216,
     "metadata": {},
     "output_type": "execute_result"
    }
   ],
   "source": [
    "data.loc[0]                               # using the loc function to show Ist row values"
   ]
  },
  {
   "cell_type": "code",
   "execution_count": 217,
   "id": "2567c0f5",
   "metadata": {},
   "outputs": [
    {
     "data": {
      "text/plain": [
       "Index(['Unnamed: 1', 'Unnamed: 2', 'Unnamed: 3', 'Unnamed: 4', 'Unnamed: 5',\n",
       "       'Unnamed: 6', 'Unnamed: 7', 'Unnamed: 8', 'Unnamed: 9'],\n",
       "      dtype='object')"
      ]
     },
     "execution_count": 217,
     "metadata": {},
     "output_type": "execute_result"
    }
   ],
   "source": [
    "data.columns                              # to show all the column names"
   ]
  },
  {
   "cell_type": "code",
   "execution_count": 218,
   "id": "2456b08c",
   "metadata": {},
   "outputs": [],
   "source": [
    "data.columns = data.loc[0]                # changing all the column names"
   ]
  },
  {
   "cell_type": "code",
   "execution_count": 219,
   "id": "d7235d74",
   "metadata": {},
   "outputs": [
    {
     "data": {
      "application/vnd.microsoft.datawrangler.viewer.v0+json": {
       "columns": [
        {
         "name": "index",
         "rawType": "int64",
         "type": "integer"
        },
        {
         "name": "Order ID",
         "rawType": "object",
         "type": "unknown"
        },
        {
         "name": "Date",
         "rawType": "object",
         "type": "unknown"
        },
        {
         "name": "Product",
         "rawType": "object",
         "type": "string"
        },
        {
         "name": "Price",
         "rawType": "object",
         "type": "unknown"
        },
        {
         "name": "Quantity",
         "rawType": "object",
         "type": "unknown"
        },
        {
         "name": "Purchase Type",
         "rawType": "object",
         "type": "string"
        },
        {
         "name": "Payment Method",
         "rawType": "object",
         "type": "string"
        },
        {
         "name": "Manager",
         "rawType": "object",
         "type": "string"
        },
        {
         "name": "City",
         "rawType": "object",
         "type": "string"
        }
       ],
       "ref": "e77f21f3-4ea6-451e-92e5-37f519f4c576",
       "rows": [
        [
         "0",
         "Order ID",
         "Date",
         "Product",
         "Price",
         "Quantity",
         "Purchase Type",
         "Payment Method",
         "Manager",
         "City"
        ],
        [
         "1",
         "10452",
         "2022-11-07 00:00:00",
         "Fries",
         "3.49",
         "573.0659025787965",
         "Online ",
         " Gift Card",
         "Tom      Jackson",
         "London"
        ],
        [
         "2",
         "10453",
         "2022-11-07 00:00:00",
         "Beverages",
         "2.95",
         "745.7627118644067",
         "Online ",
         " Gift Card",
         "       Pablo Perez",
         "Madrid"
        ],
        [
         "3",
         "10454",
         "2022-11-07 00:00:00",
         "Sides & Other",
         "4.99",
         "200.4008016032064",
         "In-store ",
         " Gift Card",
         "Joao    Silva",
         "Lisbon"
        ],
        [
         "4",
         "10455",
         "2022-11-08 00:00:00",
         "Burgers",
         "12.99",
         "569.6689761354888",
         "In-store ",
         " Credit Card",
         "Walter Muller",
         "Berlin"
        ]
       ],
       "shape": {
        "columns": 9,
        "rows": 5
       }
      },
      "text/html": [
       "<div>\n",
       "<style scoped>\n",
       "    .dataframe tbody tr th:only-of-type {\n",
       "        vertical-align: middle;\n",
       "    }\n",
       "\n",
       "    .dataframe tbody tr th {\n",
       "        vertical-align: top;\n",
       "    }\n",
       "\n",
       "    .dataframe thead th {\n",
       "        text-align: right;\n",
       "    }\n",
       "</style>\n",
       "<table border=\"1\" class=\"dataframe\">\n",
       "  <thead>\n",
       "    <tr style=\"text-align: right;\">\n",
       "      <th></th>\n",
       "      <th>Order ID</th>\n",
       "      <th>Date</th>\n",
       "      <th>Product</th>\n",
       "      <th>Price</th>\n",
       "      <th>Quantity</th>\n",
       "      <th>Purchase Type</th>\n",
       "      <th>Payment Method</th>\n",
       "      <th>Manager</th>\n",
       "      <th>City</th>\n",
       "    </tr>\n",
       "  </thead>\n",
       "  <tbody>\n",
       "    <tr>\n",
       "      <th>0</th>\n",
       "      <td>Order ID</td>\n",
       "      <td>Date</td>\n",
       "      <td>Product</td>\n",
       "      <td>Price</td>\n",
       "      <td>Quantity</td>\n",
       "      <td>Purchase Type</td>\n",
       "      <td>Payment Method</td>\n",
       "      <td>Manager</td>\n",
       "      <td>City</td>\n",
       "    </tr>\n",
       "    <tr>\n",
       "      <th>1</th>\n",
       "      <td>10452</td>\n",
       "      <td>2022-11-07 00:00:00</td>\n",
       "      <td>Fries</td>\n",
       "      <td>3.49</td>\n",
       "      <td>573.065903</td>\n",
       "      <td>Online</td>\n",
       "      <td>Gift Card</td>\n",
       "      <td>Tom      Jackson</td>\n",
       "      <td>London</td>\n",
       "    </tr>\n",
       "    <tr>\n",
       "      <th>2</th>\n",
       "      <td>10453</td>\n",
       "      <td>2022-11-07 00:00:00</td>\n",
       "      <td>Beverages</td>\n",
       "      <td>2.95</td>\n",
       "      <td>745.762712</td>\n",
       "      <td>Online</td>\n",
       "      <td>Gift Card</td>\n",
       "      <td>Pablo Perez</td>\n",
       "      <td>Madrid</td>\n",
       "    </tr>\n",
       "    <tr>\n",
       "      <th>3</th>\n",
       "      <td>10454</td>\n",
       "      <td>2022-11-07 00:00:00</td>\n",
       "      <td>Sides &amp; Other</td>\n",
       "      <td>4.99</td>\n",
       "      <td>200.400802</td>\n",
       "      <td>In-store</td>\n",
       "      <td>Gift Card</td>\n",
       "      <td>Joao    Silva</td>\n",
       "      <td>Lisbon</td>\n",
       "    </tr>\n",
       "    <tr>\n",
       "      <th>4</th>\n",
       "      <td>10455</td>\n",
       "      <td>2022-11-08 00:00:00</td>\n",
       "      <td>Burgers</td>\n",
       "      <td>12.99</td>\n",
       "      <td>569.668976</td>\n",
       "      <td>In-store</td>\n",
       "      <td>Credit Card</td>\n",
       "      <td>Walter Muller</td>\n",
       "      <td>Berlin</td>\n",
       "    </tr>\n",
       "  </tbody>\n",
       "</table>\n",
       "</div>"
      ],
      "text/plain": [
       "0  Order ID                 Date        Product  Price    Quantity  \\\n",
       "0  Order ID                 Date        Product  Price    Quantity   \n",
       "1     10452  2022-11-07 00:00:00          Fries   3.49  573.065903   \n",
       "2     10453  2022-11-07 00:00:00      Beverages   2.95  745.762712   \n",
       "3     10454  2022-11-07 00:00:00  Sides & Other   4.99  200.400802   \n",
       "4     10455  2022-11-08 00:00:00        Burgers  12.99  569.668976   \n",
       "\n",
       "0  Purchase Type  Payment Method             Manager    City  \n",
       "0  Purchase Type  Payment Method             Manager    City  \n",
       "1        Online        Gift Card    Tom      Jackson  London  \n",
       "2        Online        Gift Card         Pablo Perez  Madrid  \n",
       "3      In-store        Gift Card       Joao    Silva  Lisbon  \n",
       "4      In-store      Credit Card       Walter Muller  Berlin  "
      ]
     },
     "execution_count": 219,
     "metadata": {},
     "output_type": "execute_result"
    }
   ],
   "source": [
    "data.head()"
   ]
  },
  {
   "cell_type": "markdown",
   "id": "eca3df00",
   "metadata": {},
   "source": [
    "#### Drop the unwanted Ist row"
   ]
  },
  {
   "cell_type": "code",
   "execution_count": 220,
   "id": "0e9156f6",
   "metadata": {},
   "outputs": [],
   "source": [
    "data.drop(0, inplace=True)                     # to delete the first row from the dataframe"
   ]
  },
  {
   "cell_type": "code",
   "execution_count": 221,
   "id": "ddecdb21",
   "metadata": {},
   "outputs": [
    {
     "data": {
      "application/vnd.microsoft.datawrangler.viewer.v0+json": {
       "columns": [
        {
         "name": "index",
         "rawType": "int64",
         "type": "integer"
        },
        {
         "name": "Order ID",
         "rawType": "object",
         "type": "unknown"
        },
        {
         "name": "Date",
         "rawType": "object",
         "type": "unknown"
        },
        {
         "name": "Product",
         "rawType": "object",
         "type": "string"
        },
        {
         "name": "Price",
         "rawType": "object",
         "type": "unknown"
        },
        {
         "name": "Quantity",
         "rawType": "object",
         "type": "unknown"
        },
        {
         "name": "Purchase Type",
         "rawType": "object",
         "type": "string"
        },
        {
         "name": "Payment Method",
         "rawType": "object",
         "type": "string"
        },
        {
         "name": "Manager",
         "rawType": "object",
         "type": "string"
        },
        {
         "name": "City",
         "rawType": "object",
         "type": "string"
        }
       ],
       "ref": "ccbac638-94cc-4759-b8df-9117ba5473f4",
       "rows": [
        [
         "1",
         "10452",
         "2022-11-07 00:00:00",
         "Fries",
         "3.49",
         "573.0659025787965",
         "Online ",
         " Gift Card",
         "Tom      Jackson",
         "London"
        ],
        [
         "2",
         "10453",
         "2022-11-07 00:00:00",
         "Beverages",
         "2.95",
         "745.7627118644067",
         "Online ",
         " Gift Card",
         "       Pablo Perez",
         "Madrid"
        ],
        [
         "3",
         "10454",
         "2022-11-07 00:00:00",
         "Sides & Other",
         "4.99",
         "200.4008016032064",
         "In-store ",
         " Gift Card",
         "Joao    Silva",
         "Lisbon"
        ],
        [
         "4",
         "10455",
         "2022-11-08 00:00:00",
         "Burgers",
         "12.99",
         "569.6689761354888",
         "In-store ",
         " Credit Card",
         "Walter Muller",
         "Berlin"
        ],
        [
         "5",
         "10456",
         "2022-11-08 00:00:00",
         "Chicken Sandwiches",
         "9.95",
         "201.00502512562818",
         "In-store ",
         " Credit Card",
         "Walter Muller",
         "Berlin"
        ],
        [
         "6",
         "10457",
         "2022-11-08 00:00:00",
         "Fries",
         "3.49",
         "573.0659025787965",
         "In-store ",
         " Credit Card",
         "Remy    Monet",
         "Paris"
        ],
        [
         "7",
         "10459",
         "2022-11-08 00:00:00",
         "Sides & Other",
         "4.99",
         "200.4008016032064",
         "In-store ",
         " Credit Card",
         "Walter Muller",
         "Berlin"
        ],
        [
         "8",
         "10460",
         "2022-11-09 00:00:00",
         "Burgers",
         "12.99",
         "554.2725173210162",
         "In-store ",
         " Credit Card",
         "Remy Monet",
         "Paris"
        ],
        [
         "9",
         "10461",
         "2022-11-09 00:00:00",
         "Chicken Sandwiches",
         "9.95",
         "201.00502512562818",
         "In-store ",
         " Credit Card",
         "Remy Monet",
         "Paris"
        ],
        [
         "10",
         "10462",
         "2022-11-09 00:00:00",
         "Fries",
         "3.49",
         "573.0659025787965",
         "In-store ",
         " Credit Card",
         "       Remy Monet",
         "Paris"
        ],
        [
         "11",
         "10463",
         "2022-11-09 00:00:00",
         "Beverages",
         "2.95",
         "677.9661016949152",
         "In-store ",
         " Credit Card",
         "       Remy Monet",
         "Paris"
        ],
        [
         "12",
         "10464",
         "2022-11-09 00:00:00",
         "Sides & Other",
         "4.99",
         "200.4008016032064",
         "In-store ",
         " Credit Card",
         "Remy     Monet",
         "Paris"
        ],
        [
         "13",
         "10465",
         "2022-11-10 00:00:00",
         "Burgers",
         "12.99",
         "554.2725173210162",
         "In-store ",
         " Credit Card",
         "Pablo Perez",
         "Madrid"
        ],
        [
         "14",
         "10466",
         "2022-11-10 00:00:00",
         "Chicken Sandwiches",
         "9.95",
         "201.00502512562818",
         "In-store ",
         " Credit Card",
         "Pablo Perez",
         "Madrid"
        ],
        [
         "15",
         "10467",
         "2022-11-10 00:00:00",
         "Fries",
         "3.49",
         "573.0659025787965",
         "In-store ",
         " Credit Card",
         "Pablo Perez",
         "Madrid"
        ],
        [
         "16",
         "10468",
         "2022-11-10 00:00:00",
         "Beverages",
         "2.95",
         "677.9661016949152",
         "In-store ",
         " Credit Card",
         "       Pablo Perez",
         "Madrid"
        ],
        [
         "17",
         "10470",
         "2022-11-11 00:00:00",
         "Burgers",
         "12.99",
         "554.2725173210162",
         "In-store ",
         " Credit Card",
         "       Pablo Perez",
         "Madrid"
        ],
        [
         "18",
         "10471",
         "2022-11-11 00:00:00",
         "Chicken Sandwiches",
         "9.95",
         "201.00502512562818",
         "In-store ",
         " Credit Card",
         "       Pablo Perez",
         "Madrid"
        ],
        [
         "19",
         "10472",
         "2022-11-11 00:00:00",
         "Fries",
         "3.49",
         "630.3724928366762",
         "In-store ",
         " Credit Card",
         "Pablo   Perez",
         "Madrid"
        ],
        [
         "20",
         "10473",
         "2022-11-11 00:00:00",
         "Beverages",
         "2.95",
         "677.9661016949152",
         "In-store ",
         " Credit Card",
         "       Pablo Perez",
         "Madrid"
        ],
        [
         "21",
         "10474",
         "2022-11-11 00:00:00",
         "Sides & Other",
         "4.99",
         "200.4008016032064",
         "In-store ",
         " Credit Card",
         "       Pablo Perez",
         "Madrid"
        ],
        [
         "22",
         "10475",
         "2022-11-12 00:00:00",
         "Burgers",
         "12.99",
         "523.4795996920708",
         "In-store ",
         " Credit Card",
         "       Pablo Perez",
         "Madrid"
        ],
        [
         "23",
         "10476",
         "2022-11-12 00:00:00",
         "Chicken Sandwiches",
         "9.95",
         "201.00502512562818",
         "In-store ",
         " Credit Card",
         "Pablo Perez",
         "Madrid"
        ],
        [
         "24",
         "10477",
         "2022-11-12 00:00:00",
         "Fries",
         "3.49",
         "630.3724928366762",
         "In-store ",
         " Credit Card",
         "Pablo  Perez",
         "Madrid"
        ],
        [
         "25",
         "10478",
         "2022-11-12 00:00:00",
         "Beverages",
         "2.95",
         "677.9661016949152",
         "In-store ",
         " Credit Card",
         "Pablo Perez",
         "Madrid"
        ],
        [
         "26",
         "10479",
         "2022-11-12 00:00:00",
         "Sides & Other",
         "4.99",
         "200.4008016032064",
         "In-store ",
         " Credit Card",
         "Pablo    Perez",
         "Madrid"
        ],
        [
         "27",
         "10480",
         "2022-11-13 00:00:00",
         "Burgers",
         "12.99",
         "508.08314087759817",
         "In-store ",
         " Credit Card",
         "Pablo Perez",
         "Madrid"
        ],
        [
         "28",
         "10481",
         "2022-11-13 00:00:00",
         "Chicken Sandwiches",
         "9.95",
         "201.00502512562818",
         "In-store ",
         " Credit Card",
         "Pablo Perez",
         "Madrid"
        ],
        [
         "29",
         "10482",
         "2022-11-13 00:00:00",
         "Fries",
         "25.5",
         "630.3724928366762",
         "In-store ",
         " Credit Card",
         "Joao Silva",
         "Lisbon"
        ],
        [
         "30",
         "10486",
         "2022-11-14 00:00:00",
         "Chicken Sandwiches",
         "29.05",
         "201.00502512562818",
         "In-store ",
         " Credit Card",
         "Joao    Silva",
         "Lisbon"
        ],
        [
         "31",
         "10487",
         "2022-11-14 00:00:00",
         "Fries",
         "3.49",
         "630.3724928366762",
         "In-store ",
         " Credit Card",
         "Joao Silva",
         "Lisbon"
        ],
        [
         "32",
         "10488",
         "2022-11-14 00:00:00",
         "Beverages",
         "2.95",
         "677.9661016949152",
         "In-store ",
         " Credit Card",
         "Joao Silva",
         "Lisbon"
        ],
        [
         "33",
         "10489",
         "2022-11-14 00:00:00",
         "Sides & Other",
         "4.99",
         "200.4008016032064",
         "In-store ",
         " Credit Card",
         "Pablo Perez",
         "Madrid"
        ],
        [
         "34",
         "10490",
         "2022-11-15 00:00:00",
         "Burgers",
         "12.99",
         "508.08314087759817",
         "In-store ",
         " Credit Card",
         "Pablo Perez",
         "Madrid"
        ],
        [
         "35",
         "10491",
         "2022-11-15 00:00:00",
         "Chicken Sandwiches",
         "9.95",
         "201.00502512562818",
         "In-store ",
         " Credit Card",
         "Pablo Perez",
         "Madrid"
        ],
        [
         "36",
         "10492",
         "2022-11-15 00:00:00",
         "Fries",
         "3.49",
         "573.0659025787965",
         "In-store ",
         " Credit Card",
         "Pablo Perez",
         "Madrid"
        ],
        [
         "37",
         "10493",
         "2022-11-15 00:00:00",
         "Beverages",
         "2.95",
         "677.9661016949152",
         "In-store ",
         " Credit Card",
         "Pablo Perez",
         "Madrid"
        ],
        [
         "38",
         "10494",
         "2022-11-15 00:00:00",
         "Sides & Other",
         "4.99",
         "200.4008016032064",
         "In-store ",
         " Credit Card",
         "Pablo Perez",
         "Madrid"
        ],
        [
         "39",
         "10495",
         "2022-11-16 00:00:00",
         "Burgers",
         "12.99",
         "508.08314087759817",
         "In-store ",
         " Credit Card",
         "Pablo Perez",
         "Madrid"
        ],
        [
         "40",
         "10496",
         "2022-11-16 00:00:00",
         "Chicken Sandwiches",
         "9.95",
         "201.00502512562818",
         "In-store ",
         " Credit Card",
         "Pablo Perez",
         "Madrid"
        ],
        [
         "41",
         "10497",
         "2022-11-16 00:00:00",
         "Fries",
         "3.49",
         "573.0659025787965",
         "In-store ",
         " Credit Card",
         "Pablo Perez",
         "Madrid"
        ],
        [
         "42",
         "10498",
         "2022-11-16 00:00:00",
         "Beverages",
         "2.95",
         "677.9661016949152",
         "Drive-thru ",
         " Credit Card",
         "Pablo Perez",
         "Madrid"
        ],
        [
         "43",
         "10499",
         "2022-11-16 00:00:00",
         "Sides & Other",
         "4.99",
         "200.4008016032064",
         "Drive-thru ",
         " Credit Card",
         "Pablo Perez",
         "Madrid"
        ],
        [
         "44",
         "10500",
         "2022-11-17 00:00:00",
         "Burgers",
         "12.99",
         "523.4795996920708",
         "Drive-thru ",
         " Credit Card",
         "Pablo Perez",
         "Madrid"
        ],
        [
         "45",
         "10501",
         "2022-11-17 00:00:00",
         "Chicken Sandwiches",
         "9.95",
         "201.00502512562818",
         "Drive-thru ",
         " Credit Card",
         "Pablo Perez",
         "Madrid"
        ],
        [
         "46",
         "10502",
         "2022-11-17 00:00:00",
         "Fries",
         "3.49",
         "630.3724928366762",
         "Drive-thru ",
         " Credit Card",
         "Pablo Perez",
         "Madrid"
        ],
        [
         "47",
         "10503",
         "2022-11-17 00:00:00",
         "Beverages",
         "2.95",
         "677.9661016949152",
         "Drive-thru ",
         " Credit Card",
         "Pablo Perez",
         "Madrid"
        ],
        [
         "48",
         "10504",
         "2022-11-17 00:00:00",
         "Sides & Other",
         "4.99",
         "200.4008016032064",
         "Drive-thru ",
         " Credit Card",
         "Pablo Perez",
         "Madrid"
        ],
        [
         "49",
         "10505",
         "2022-11-18 00:00:00",
         "Burgers",
         "12.99",
         "538.8760585065435",
         "Drive-thru ",
         " Credit Card",
         "Pablo Perez",
         "Madrid"
        ],
        [
         "50",
         "10506",
         "2022-11-18 00:00:00",
         "Chicken Sandwiches",
         "9.95",
         "201.00502512562818",
         "Drive-thru ",
         " Credit Card",
         "Pablo Perez",
         "Madrid"
        ]
       ],
       "shape": {
        "columns": 9,
        "rows": 254
       }
      },
      "text/html": [
       "<div>\n",
       "<style scoped>\n",
       "    .dataframe tbody tr th:only-of-type {\n",
       "        vertical-align: middle;\n",
       "    }\n",
       "\n",
       "    .dataframe tbody tr th {\n",
       "        vertical-align: top;\n",
       "    }\n",
       "\n",
       "    .dataframe thead th {\n",
       "        text-align: right;\n",
       "    }\n",
       "</style>\n",
       "<table border=\"1\" class=\"dataframe\">\n",
       "  <thead>\n",
       "    <tr style=\"text-align: right;\">\n",
       "      <th></th>\n",
       "      <th>Order ID</th>\n",
       "      <th>Date</th>\n",
       "      <th>Product</th>\n",
       "      <th>Price</th>\n",
       "      <th>Quantity</th>\n",
       "      <th>Purchase Type</th>\n",
       "      <th>Payment Method</th>\n",
       "      <th>Manager</th>\n",
       "      <th>City</th>\n",
       "    </tr>\n",
       "  </thead>\n",
       "  <tbody>\n",
       "    <tr>\n",
       "      <th>1</th>\n",
       "      <td>10452</td>\n",
       "      <td>2022-11-07 00:00:00</td>\n",
       "      <td>Fries</td>\n",
       "      <td>3.49</td>\n",
       "      <td>573.065903</td>\n",
       "      <td>Online</td>\n",
       "      <td>Gift Card</td>\n",
       "      <td>Tom      Jackson</td>\n",
       "      <td>London</td>\n",
       "    </tr>\n",
       "    <tr>\n",
       "      <th>2</th>\n",
       "      <td>10453</td>\n",
       "      <td>2022-11-07 00:00:00</td>\n",
       "      <td>Beverages</td>\n",
       "      <td>2.95</td>\n",
       "      <td>745.762712</td>\n",
       "      <td>Online</td>\n",
       "      <td>Gift Card</td>\n",
       "      <td>Pablo Perez</td>\n",
       "      <td>Madrid</td>\n",
       "    </tr>\n",
       "    <tr>\n",
       "      <th>3</th>\n",
       "      <td>10454</td>\n",
       "      <td>2022-11-07 00:00:00</td>\n",
       "      <td>Sides &amp; Other</td>\n",
       "      <td>4.99</td>\n",
       "      <td>200.400802</td>\n",
       "      <td>In-store</td>\n",
       "      <td>Gift Card</td>\n",
       "      <td>Joao    Silva</td>\n",
       "      <td>Lisbon</td>\n",
       "    </tr>\n",
       "    <tr>\n",
       "      <th>4</th>\n",
       "      <td>10455</td>\n",
       "      <td>2022-11-08 00:00:00</td>\n",
       "      <td>Burgers</td>\n",
       "      <td>12.99</td>\n",
       "      <td>569.668976</td>\n",
       "      <td>In-store</td>\n",
       "      <td>Credit Card</td>\n",
       "      <td>Walter Muller</td>\n",
       "      <td>Berlin</td>\n",
       "    </tr>\n",
       "    <tr>\n",
       "      <th>5</th>\n",
       "      <td>10456</td>\n",
       "      <td>2022-11-08 00:00:00</td>\n",
       "      <td>Chicken Sandwiches</td>\n",
       "      <td>9.95</td>\n",
       "      <td>201.005025</td>\n",
       "      <td>In-store</td>\n",
       "      <td>Credit Card</td>\n",
       "      <td>Walter Muller</td>\n",
       "      <td>Berlin</td>\n",
       "    </tr>\n",
       "    <tr>\n",
       "      <th>...</th>\n",
       "      <td>...</td>\n",
       "      <td>...</td>\n",
       "      <td>...</td>\n",
       "      <td>...</td>\n",
       "      <td>...</td>\n",
       "      <td>...</td>\n",
       "      <td>...</td>\n",
       "      <td>...</td>\n",
       "      <td>...</td>\n",
       "    </tr>\n",
       "    <tr>\n",
       "      <th>250</th>\n",
       "      <td>10709</td>\n",
       "      <td>2022-12-28 00:00:00</td>\n",
       "      <td>Sides &amp; Other</td>\n",
       "      <td>4.99</td>\n",
       "      <td>200.400802</td>\n",
       "      <td>Drive-thru</td>\n",
       "      <td>Gift Card</td>\n",
       "      <td>Walter Muller</td>\n",
       "      <td>Berlin</td>\n",
       "    </tr>\n",
       "    <tr>\n",
       "      <th>251</th>\n",
       "      <td>10710</td>\n",
       "      <td>2022-12-29 00:00:00</td>\n",
       "      <td>Burgers</td>\n",
       "      <td>12.99</td>\n",
       "      <td>754.426482</td>\n",
       "      <td>Drive-thru</td>\n",
       "      <td>Gift Card</td>\n",
       "      <td>Walter Muller</td>\n",
       "      <td>Berlin</td>\n",
       "    </tr>\n",
       "    <tr>\n",
       "      <th>252</th>\n",
       "      <td>10711</td>\n",
       "      <td>2022-12-29 00:00:00</td>\n",
       "      <td>Chicken Sandwiches</td>\n",
       "      <td>9.95</td>\n",
       "      <td>281.407035</td>\n",
       "      <td>Drive-thru</td>\n",
       "      <td>Gift Card</td>\n",
       "      <td>Walter Muller</td>\n",
       "      <td>Berlin</td>\n",
       "    </tr>\n",
       "    <tr>\n",
       "      <th>253</th>\n",
       "      <td>10712</td>\n",
       "      <td>2022-12-29 00:00:00</td>\n",
       "      <td>Fries</td>\n",
       "      <td>3.49</td>\n",
       "      <td>630.372493</td>\n",
       "      <td>Drive-thru</td>\n",
       "      <td>Gift Card</td>\n",
       "      <td>Walter Muller</td>\n",
       "      <td>Berlin</td>\n",
       "    </tr>\n",
       "    <tr>\n",
       "      <th>254</th>\n",
       "      <td>10713</td>\n",
       "      <td>2022-12-29 00:00:00</td>\n",
       "      <td>Beverages</td>\n",
       "      <td>2.95</td>\n",
       "      <td>677.966102</td>\n",
       "      <td>Drive-thru</td>\n",
       "      <td>Gift Card</td>\n",
       "      <td>Walter Muller</td>\n",
       "      <td>Berlin</td>\n",
       "    </tr>\n",
       "  </tbody>\n",
       "</table>\n",
       "<p>254 rows × 9 columns</p>\n",
       "</div>"
      ],
      "text/plain": [
       "0   Order ID                 Date             Product  Price    Quantity  \\\n",
       "1      10452  2022-11-07 00:00:00               Fries   3.49  573.065903   \n",
       "2      10453  2022-11-07 00:00:00           Beverages   2.95  745.762712   \n",
       "3      10454  2022-11-07 00:00:00       Sides & Other   4.99  200.400802   \n",
       "4      10455  2022-11-08 00:00:00             Burgers  12.99  569.668976   \n",
       "5      10456  2022-11-08 00:00:00  Chicken Sandwiches   9.95  201.005025   \n",
       "..       ...                  ...                 ...    ...         ...   \n",
       "250    10709  2022-12-28 00:00:00       Sides & Other   4.99  200.400802   \n",
       "251    10710  2022-12-29 00:00:00             Burgers  12.99  754.426482   \n",
       "252    10711  2022-12-29 00:00:00  Chicken Sandwiches   9.95  281.407035   \n",
       "253    10712  2022-12-29 00:00:00               Fries   3.49  630.372493   \n",
       "254    10713  2022-12-29 00:00:00           Beverages   2.95  677.966102   \n",
       "\n",
       "0   Purchase Type Payment Method             Manager    City  \n",
       "1         Online       Gift Card    Tom      Jackson  London  \n",
       "2         Online       Gift Card         Pablo Perez  Madrid  \n",
       "3       In-store       Gift Card       Joao    Silva  Lisbon  \n",
       "4       In-store     Credit Card       Walter Muller  Berlin  \n",
       "5       In-store     Credit Card       Walter Muller  Berlin  \n",
       "..            ...            ...                 ...     ...  \n",
       "250   Drive-thru       Gift Card       Walter Muller  Berlin  \n",
       "251   Drive-thru       Gift Card       Walter Muller  Berlin  \n",
       "252   Drive-thru       Gift Card       Walter Muller  Berlin  \n",
       "253   Drive-thru       Gift Card       Walter Muller  Berlin  \n",
       "254   Drive-thru       Gift Card       Walter Muller  Berlin  \n",
       "\n",
       "[254 rows x 9 columns]"
      ]
     },
     "execution_count": 221,
     "metadata": {},
     "output_type": "execute_result"
    }
   ],
   "source": [
    "data"
   ]
  },
  {
   "cell_type": "code",
   "execution_count": 222,
   "id": "5a236fea",
   "metadata": {},
   "outputs": [
    {
     "name": "stdout",
     "output_type": "stream",
     "text": [
      "<class 'pandas.core.frame.DataFrame'>\n",
      "RangeIndex: 254 entries, 1 to 254\n",
      "Data columns (total 9 columns):\n",
      " #   Column          Non-Null Count  Dtype \n",
      "---  ------          --------------  ----- \n",
      " 0   Order ID        254 non-null    object\n",
      " 1   Date            254 non-null    object\n",
      " 2   Product         254 non-null    object\n",
      " 3   Price           254 non-null    object\n",
      " 4   Quantity        254 non-null    object\n",
      " 5   Purchase Type   254 non-null    object\n",
      " 6   Payment Method  254 non-null    object\n",
      " 7   Manager         254 non-null    object\n",
      " 8   City            254 non-null    object\n",
      "dtypes: object(9)\n",
      "memory usage: 18.0+ KB\n"
     ]
    }
   ],
   "source": [
    "data.info()                               # to show some basic informations about the dataset"
   ]
  },
  {
   "cell_type": "markdown",
   "id": "f79333dd",
   "metadata": {},
   "source": [
    "#### Consider the Manager column"
   ]
  },
  {
   "cell_type": "code",
   "execution_count": 223,
   "id": "787a6c17",
   "metadata": {},
   "outputs": [
    {
     "data": {
      "application/vnd.microsoft.datawrangler.viewer.v0+json": {
       "columns": [
        {
         "name": "index",
         "rawType": "int64",
         "type": "integer"
        },
        {
         "name": "Order ID",
         "rawType": "object",
         "type": "unknown"
        },
        {
         "name": "Date",
         "rawType": "object",
         "type": "unknown"
        },
        {
         "name": "Product",
         "rawType": "object",
         "type": "string"
        },
        {
         "name": "Price",
         "rawType": "object",
         "type": "unknown"
        },
        {
         "name": "Quantity",
         "rawType": "object",
         "type": "unknown"
        },
        {
         "name": "Purchase Type",
         "rawType": "object",
         "type": "string"
        },
        {
         "name": "Payment Method",
         "rawType": "object",
         "type": "string"
        },
        {
         "name": "Manager",
         "rawType": "object",
         "type": "string"
        },
        {
         "name": "City",
         "rawType": "object",
         "type": "string"
        }
       ],
       "ref": "2615d361-a543-4eea-a0ba-cf3ff90cc95a",
       "rows": [
        [
         "1",
         "10452",
         "2022-11-07 00:00:00",
         "Fries",
         "3.49",
         "573.0659025787965",
         "Online ",
         " Gift Card",
         "Tom      Jackson",
         "London"
        ],
        [
         "2",
         "10453",
         "2022-11-07 00:00:00",
         "Beverages",
         "2.95",
         "745.7627118644067",
         "Online ",
         " Gift Card",
         "       Pablo Perez",
         "Madrid"
        ],
        [
         "3",
         "10454",
         "2022-11-07 00:00:00",
         "Sides & Other",
         "4.99",
         "200.4008016032064",
         "In-store ",
         " Gift Card",
         "Joao    Silva",
         "Lisbon"
        ],
        [
         "4",
         "10455",
         "2022-11-08 00:00:00",
         "Burgers",
         "12.99",
         "569.6689761354888",
         "In-store ",
         " Credit Card",
         "Walter Muller",
         "Berlin"
        ],
        [
         "5",
         "10456",
         "2022-11-08 00:00:00",
         "Chicken Sandwiches",
         "9.95",
         "201.00502512562818",
         "In-store ",
         " Credit Card",
         "Walter Muller",
         "Berlin"
        ]
       ],
       "shape": {
        "columns": 9,
        "rows": 5
       }
      },
      "text/html": [
       "<div>\n",
       "<style scoped>\n",
       "    .dataframe tbody tr th:only-of-type {\n",
       "        vertical-align: middle;\n",
       "    }\n",
       "\n",
       "    .dataframe tbody tr th {\n",
       "        vertical-align: top;\n",
       "    }\n",
       "\n",
       "    .dataframe thead th {\n",
       "        text-align: right;\n",
       "    }\n",
       "</style>\n",
       "<table border=\"1\" class=\"dataframe\">\n",
       "  <thead>\n",
       "    <tr style=\"text-align: right;\">\n",
       "      <th></th>\n",
       "      <th>Order ID</th>\n",
       "      <th>Date</th>\n",
       "      <th>Product</th>\n",
       "      <th>Price</th>\n",
       "      <th>Quantity</th>\n",
       "      <th>Purchase Type</th>\n",
       "      <th>Payment Method</th>\n",
       "      <th>Manager</th>\n",
       "      <th>City</th>\n",
       "    </tr>\n",
       "  </thead>\n",
       "  <tbody>\n",
       "    <tr>\n",
       "      <th>1</th>\n",
       "      <td>10452</td>\n",
       "      <td>2022-11-07 00:00:00</td>\n",
       "      <td>Fries</td>\n",
       "      <td>3.49</td>\n",
       "      <td>573.065903</td>\n",
       "      <td>Online</td>\n",
       "      <td>Gift Card</td>\n",
       "      <td>Tom      Jackson</td>\n",
       "      <td>London</td>\n",
       "    </tr>\n",
       "    <tr>\n",
       "      <th>2</th>\n",
       "      <td>10453</td>\n",
       "      <td>2022-11-07 00:00:00</td>\n",
       "      <td>Beverages</td>\n",
       "      <td>2.95</td>\n",
       "      <td>745.762712</td>\n",
       "      <td>Online</td>\n",
       "      <td>Gift Card</td>\n",
       "      <td>Pablo Perez</td>\n",
       "      <td>Madrid</td>\n",
       "    </tr>\n",
       "    <tr>\n",
       "      <th>3</th>\n",
       "      <td>10454</td>\n",
       "      <td>2022-11-07 00:00:00</td>\n",
       "      <td>Sides &amp; Other</td>\n",
       "      <td>4.99</td>\n",
       "      <td>200.400802</td>\n",
       "      <td>In-store</td>\n",
       "      <td>Gift Card</td>\n",
       "      <td>Joao    Silva</td>\n",
       "      <td>Lisbon</td>\n",
       "    </tr>\n",
       "    <tr>\n",
       "      <th>4</th>\n",
       "      <td>10455</td>\n",
       "      <td>2022-11-08 00:00:00</td>\n",
       "      <td>Burgers</td>\n",
       "      <td>12.99</td>\n",
       "      <td>569.668976</td>\n",
       "      <td>In-store</td>\n",
       "      <td>Credit Card</td>\n",
       "      <td>Walter Muller</td>\n",
       "      <td>Berlin</td>\n",
       "    </tr>\n",
       "    <tr>\n",
       "      <th>5</th>\n",
       "      <td>10456</td>\n",
       "      <td>2022-11-08 00:00:00</td>\n",
       "      <td>Chicken Sandwiches</td>\n",
       "      <td>9.95</td>\n",
       "      <td>201.005025</td>\n",
       "      <td>In-store</td>\n",
       "      <td>Credit Card</td>\n",
       "      <td>Walter Muller</td>\n",
       "      <td>Berlin</td>\n",
       "    </tr>\n",
       "  </tbody>\n",
       "</table>\n",
       "</div>"
      ],
      "text/plain": [
       "0 Order ID                 Date             Product  Price    Quantity  \\\n",
       "1    10452  2022-11-07 00:00:00               Fries   3.49  573.065903   \n",
       "2    10453  2022-11-07 00:00:00           Beverages   2.95  745.762712   \n",
       "3    10454  2022-11-07 00:00:00       Sides & Other   4.99  200.400802   \n",
       "4    10455  2022-11-08 00:00:00             Burgers  12.99  569.668976   \n",
       "5    10456  2022-11-08 00:00:00  Chicken Sandwiches   9.95  201.005025   \n",
       "\n",
       "0 Purchase Type Payment Method             Manager    City  \n",
       "1       Online       Gift Card    Tom      Jackson  London  \n",
       "2       Online       Gift Card         Pablo Perez  Madrid  \n",
       "3     In-store       Gift Card       Joao    Silva  Lisbon  \n",
       "4     In-store     Credit Card       Walter Muller  Berlin  \n",
       "5     In-store     Credit Card       Walter Muller  Berlin  "
      ]
     },
     "execution_count": 223,
     "metadata": {},
     "output_type": "execute_result"
    }
   ],
   "source": [
    "data.head()"
   ]
  },
  {
   "cell_type": "code",
   "execution_count": 224,
   "id": "6df9623a",
   "metadata": {},
   "outputs": [
    {
     "data": {
      "application/vnd.microsoft.datawrangler.viewer.v0+json": {
       "columns": [
        {
         "name": "index",
         "rawType": "int64",
         "type": "integer"
        },
        {
         "name": "Manager",
         "rawType": "object",
         "type": "string"
        }
       ],
       "ref": "286622b1-2674-4026-ab9a-77df3d3b8c29",
       "rows": [
        [
         "1",
         "Tom      Jackson"
        ],
        [
         "2",
         "       Pablo Perez"
        ],
        [
         "3",
         "Joao    Silva"
        ],
        [
         "4",
         "Walter Muller"
        ],
        [
         "5",
         "Walter Muller"
        ],
        [
         "6",
         "Remy    Monet"
        ],
        [
         "7",
         "Walter Muller"
        ],
        [
         "8",
         "Remy Monet"
        ],
        [
         "9",
         "Remy Monet"
        ],
        [
         "10",
         "       Remy Monet"
        ],
        [
         "11",
         "       Remy Monet"
        ],
        [
         "12",
         "Remy     Monet"
        ],
        [
         "13",
         "Pablo Perez"
        ],
        [
         "14",
         "Pablo Perez"
        ],
        [
         "15",
         "Pablo Perez"
        ],
        [
         "16",
         "       Pablo Perez"
        ],
        [
         "17",
         "       Pablo Perez"
        ],
        [
         "18",
         "       Pablo Perez"
        ],
        [
         "19",
         "Pablo   Perez"
        ],
        [
         "20",
         "       Pablo Perez"
        ],
        [
         "21",
         "       Pablo Perez"
        ],
        [
         "22",
         "       Pablo Perez"
        ],
        [
         "23",
         "Pablo Perez"
        ],
        [
         "24",
         "Pablo  Perez"
        ],
        [
         "25",
         "Pablo Perez"
        ],
        [
         "26",
         "Pablo    Perez"
        ],
        [
         "27",
         "Pablo Perez"
        ],
        [
         "28",
         "Pablo Perez"
        ],
        [
         "29",
         "Joao Silva"
        ],
        [
         "30",
         "Joao    Silva"
        ],
        [
         "31",
         "Joao Silva"
        ],
        [
         "32",
         "Joao Silva"
        ],
        [
         "33",
         "Pablo Perez"
        ],
        [
         "34",
         "Pablo Perez"
        ],
        [
         "35",
         "Pablo Perez"
        ],
        [
         "36",
         "Pablo Perez"
        ],
        [
         "37",
         "Pablo Perez"
        ],
        [
         "38",
         "Pablo Perez"
        ],
        [
         "39",
         "Pablo Perez"
        ],
        [
         "40",
         "Pablo Perez"
        ],
        [
         "41",
         "Pablo Perez"
        ],
        [
         "42",
         "Pablo Perez"
        ],
        [
         "43",
         "Pablo Perez"
        ],
        [
         "44",
         "Pablo Perez"
        ],
        [
         "45",
         "Pablo Perez"
        ],
        [
         "46",
         "Pablo Perez"
        ],
        [
         "47",
         "Pablo Perez"
        ],
        [
         "48",
         "Pablo Perez"
        ],
        [
         "49",
         "Pablo Perez"
        ],
        [
         "50",
         "Pablo Perez"
        ]
       ],
       "shape": {
        "columns": 1,
        "rows": 254
       }
      },
      "text/plain": [
       "1        Tom      Jackson\n",
       "2             Pablo Perez\n",
       "3           Joao    Silva\n",
       "4           Walter Muller\n",
       "5           Walter Muller\n",
       "              ...        \n",
       "250         Walter Muller\n",
       "251         Walter Muller\n",
       "252         Walter Muller\n",
       "253         Walter Muller\n",
       "254         Walter Muller\n",
       "Name: Manager, Length: 254, dtype: object"
      ]
     },
     "execution_count": 224,
     "metadata": {},
     "output_type": "execute_result"
    }
   ],
   "source": [
    "data.Manager"
   ]
  },
  {
   "cell_type": "code",
   "execution_count": 225,
   "id": "c69a90e0",
   "metadata": {},
   "outputs": [
    {
     "data": {
      "text/plain": [
       "14"
      ]
     },
     "execution_count": 225,
     "metadata": {},
     "output_type": "execute_result"
    }
   ],
   "source": [
    "data.Manager.nunique()                      # to show count of unique values present in the column"
   ]
  },
  {
   "cell_type": "code",
   "execution_count": 226,
   "id": "602a21a8",
   "metadata": {},
   "outputs": [],
   "source": [
    "data['Manager'] = data['Manager'].str.strip().str.replace(r'\\s+', ' ', regex=True)   # to remove extra spaces in names"
   ]
  },
  {
   "cell_type": "code",
   "execution_count": 227,
   "id": "8fb10371",
   "metadata": {},
   "outputs": [
    {
     "data": {
      "application/vnd.microsoft.datawrangler.viewer.v0+json": {
       "columns": [
        {
         "name": "index",
         "rawType": "int64",
         "type": "integer"
        },
        {
         "name": "Order ID",
         "rawType": "object",
         "type": "unknown"
        },
        {
         "name": "Date",
         "rawType": "object",
         "type": "unknown"
        },
        {
         "name": "Product",
         "rawType": "object",
         "type": "string"
        },
        {
         "name": "Price",
         "rawType": "object",
         "type": "unknown"
        },
        {
         "name": "Quantity",
         "rawType": "object",
         "type": "unknown"
        },
        {
         "name": "Purchase Type",
         "rawType": "object",
         "type": "string"
        },
        {
         "name": "Payment Method",
         "rawType": "object",
         "type": "string"
        },
        {
         "name": "Manager",
         "rawType": "object",
         "type": "string"
        },
        {
         "name": "City",
         "rawType": "object",
         "type": "string"
        }
       ],
       "ref": "55c05db8-7575-41db-93b3-224a1a1b783e",
       "rows": [
        [
         "1",
         "10452",
         "2022-11-07 00:00:00",
         "Fries",
         "3.49",
         "573.0659025787965",
         "Online ",
         " Gift Card",
         "Tom Jackson",
         "London"
        ],
        [
         "2",
         "10453",
         "2022-11-07 00:00:00",
         "Beverages",
         "2.95",
         "745.7627118644067",
         "Online ",
         " Gift Card",
         "Pablo Perez",
         "Madrid"
        ],
        [
         "3",
         "10454",
         "2022-11-07 00:00:00",
         "Sides & Other",
         "4.99",
         "200.4008016032064",
         "In-store ",
         " Gift Card",
         "Joao Silva",
         "Lisbon"
        ],
        [
         "4",
         "10455",
         "2022-11-08 00:00:00",
         "Burgers",
         "12.99",
         "569.6689761354888",
         "In-store ",
         " Credit Card",
         "Walter Muller",
         "Berlin"
        ],
        [
         "5",
         "10456",
         "2022-11-08 00:00:00",
         "Chicken Sandwiches",
         "9.95",
         "201.00502512562818",
         "In-store ",
         " Credit Card",
         "Walter Muller",
         "Berlin"
        ],
        [
         "6",
         "10457",
         "2022-11-08 00:00:00",
         "Fries",
         "3.49",
         "573.0659025787965",
         "In-store ",
         " Credit Card",
         "Remy Monet",
         "Paris"
        ],
        [
         "7",
         "10459",
         "2022-11-08 00:00:00",
         "Sides & Other",
         "4.99",
         "200.4008016032064",
         "In-store ",
         " Credit Card",
         "Walter Muller",
         "Berlin"
        ],
        [
         "8",
         "10460",
         "2022-11-09 00:00:00",
         "Burgers",
         "12.99",
         "554.2725173210162",
         "In-store ",
         " Credit Card",
         "Remy Monet",
         "Paris"
        ],
        [
         "9",
         "10461",
         "2022-11-09 00:00:00",
         "Chicken Sandwiches",
         "9.95",
         "201.00502512562818",
         "In-store ",
         " Credit Card",
         "Remy Monet",
         "Paris"
        ],
        [
         "10",
         "10462",
         "2022-11-09 00:00:00",
         "Fries",
         "3.49",
         "573.0659025787965",
         "In-store ",
         " Credit Card",
         "Remy Monet",
         "Paris"
        ],
        [
         "11",
         "10463",
         "2022-11-09 00:00:00",
         "Beverages",
         "2.95",
         "677.9661016949152",
         "In-store ",
         " Credit Card",
         "Remy Monet",
         "Paris"
        ],
        [
         "12",
         "10464",
         "2022-11-09 00:00:00",
         "Sides & Other",
         "4.99",
         "200.4008016032064",
         "In-store ",
         " Credit Card",
         "Remy Monet",
         "Paris"
        ],
        [
         "13",
         "10465",
         "2022-11-10 00:00:00",
         "Burgers",
         "12.99",
         "554.2725173210162",
         "In-store ",
         " Credit Card",
         "Pablo Perez",
         "Madrid"
        ],
        [
         "14",
         "10466",
         "2022-11-10 00:00:00",
         "Chicken Sandwiches",
         "9.95",
         "201.00502512562818",
         "In-store ",
         " Credit Card",
         "Pablo Perez",
         "Madrid"
        ],
        [
         "15",
         "10467",
         "2022-11-10 00:00:00",
         "Fries",
         "3.49",
         "573.0659025787965",
         "In-store ",
         " Credit Card",
         "Pablo Perez",
         "Madrid"
        ],
        [
         "16",
         "10468",
         "2022-11-10 00:00:00",
         "Beverages",
         "2.95",
         "677.9661016949152",
         "In-store ",
         " Credit Card",
         "Pablo Perez",
         "Madrid"
        ],
        [
         "17",
         "10470",
         "2022-11-11 00:00:00",
         "Burgers",
         "12.99",
         "554.2725173210162",
         "In-store ",
         " Credit Card",
         "Pablo Perez",
         "Madrid"
        ],
        [
         "18",
         "10471",
         "2022-11-11 00:00:00",
         "Chicken Sandwiches",
         "9.95",
         "201.00502512562818",
         "In-store ",
         " Credit Card",
         "Pablo Perez",
         "Madrid"
        ],
        [
         "19",
         "10472",
         "2022-11-11 00:00:00",
         "Fries",
         "3.49",
         "630.3724928366762",
         "In-store ",
         " Credit Card",
         "Pablo Perez",
         "Madrid"
        ],
        [
         "20",
         "10473",
         "2022-11-11 00:00:00",
         "Beverages",
         "2.95",
         "677.9661016949152",
         "In-store ",
         " Credit Card",
         "Pablo Perez",
         "Madrid"
        ]
       ],
       "shape": {
        "columns": 9,
        "rows": 20
       }
      },
      "text/html": [
       "<div>\n",
       "<style scoped>\n",
       "    .dataframe tbody tr th:only-of-type {\n",
       "        vertical-align: middle;\n",
       "    }\n",
       "\n",
       "    .dataframe tbody tr th {\n",
       "        vertical-align: top;\n",
       "    }\n",
       "\n",
       "    .dataframe thead th {\n",
       "        text-align: right;\n",
       "    }\n",
       "</style>\n",
       "<table border=\"1\" class=\"dataframe\">\n",
       "  <thead>\n",
       "    <tr style=\"text-align: right;\">\n",
       "      <th></th>\n",
       "      <th>Order ID</th>\n",
       "      <th>Date</th>\n",
       "      <th>Product</th>\n",
       "      <th>Price</th>\n",
       "      <th>Quantity</th>\n",
       "      <th>Purchase Type</th>\n",
       "      <th>Payment Method</th>\n",
       "      <th>Manager</th>\n",
       "      <th>City</th>\n",
       "    </tr>\n",
       "  </thead>\n",
       "  <tbody>\n",
       "    <tr>\n",
       "      <th>1</th>\n",
       "      <td>10452</td>\n",
       "      <td>2022-11-07 00:00:00</td>\n",
       "      <td>Fries</td>\n",
       "      <td>3.49</td>\n",
       "      <td>573.065903</td>\n",
       "      <td>Online</td>\n",
       "      <td>Gift Card</td>\n",
       "      <td>Tom Jackson</td>\n",
       "      <td>London</td>\n",
       "    </tr>\n",
       "    <tr>\n",
       "      <th>2</th>\n",
       "      <td>10453</td>\n",
       "      <td>2022-11-07 00:00:00</td>\n",
       "      <td>Beverages</td>\n",
       "      <td>2.95</td>\n",
       "      <td>745.762712</td>\n",
       "      <td>Online</td>\n",
       "      <td>Gift Card</td>\n",
       "      <td>Pablo Perez</td>\n",
       "      <td>Madrid</td>\n",
       "    </tr>\n",
       "    <tr>\n",
       "      <th>3</th>\n",
       "      <td>10454</td>\n",
       "      <td>2022-11-07 00:00:00</td>\n",
       "      <td>Sides &amp; Other</td>\n",
       "      <td>4.99</td>\n",
       "      <td>200.400802</td>\n",
       "      <td>In-store</td>\n",
       "      <td>Gift Card</td>\n",
       "      <td>Joao Silva</td>\n",
       "      <td>Lisbon</td>\n",
       "    </tr>\n",
       "    <tr>\n",
       "      <th>4</th>\n",
       "      <td>10455</td>\n",
       "      <td>2022-11-08 00:00:00</td>\n",
       "      <td>Burgers</td>\n",
       "      <td>12.99</td>\n",
       "      <td>569.668976</td>\n",
       "      <td>In-store</td>\n",
       "      <td>Credit Card</td>\n",
       "      <td>Walter Muller</td>\n",
       "      <td>Berlin</td>\n",
       "    </tr>\n",
       "    <tr>\n",
       "      <th>5</th>\n",
       "      <td>10456</td>\n",
       "      <td>2022-11-08 00:00:00</td>\n",
       "      <td>Chicken Sandwiches</td>\n",
       "      <td>9.95</td>\n",
       "      <td>201.005025</td>\n",
       "      <td>In-store</td>\n",
       "      <td>Credit Card</td>\n",
       "      <td>Walter Muller</td>\n",
       "      <td>Berlin</td>\n",
       "    </tr>\n",
       "    <tr>\n",
       "      <th>6</th>\n",
       "      <td>10457</td>\n",
       "      <td>2022-11-08 00:00:00</td>\n",
       "      <td>Fries</td>\n",
       "      <td>3.49</td>\n",
       "      <td>573.065903</td>\n",
       "      <td>In-store</td>\n",
       "      <td>Credit Card</td>\n",
       "      <td>Remy Monet</td>\n",
       "      <td>Paris</td>\n",
       "    </tr>\n",
       "    <tr>\n",
       "      <th>7</th>\n",
       "      <td>10459</td>\n",
       "      <td>2022-11-08 00:00:00</td>\n",
       "      <td>Sides &amp; Other</td>\n",
       "      <td>4.99</td>\n",
       "      <td>200.400802</td>\n",
       "      <td>In-store</td>\n",
       "      <td>Credit Card</td>\n",
       "      <td>Walter Muller</td>\n",
       "      <td>Berlin</td>\n",
       "    </tr>\n",
       "    <tr>\n",
       "      <th>8</th>\n",
       "      <td>10460</td>\n",
       "      <td>2022-11-09 00:00:00</td>\n",
       "      <td>Burgers</td>\n",
       "      <td>12.99</td>\n",
       "      <td>554.272517</td>\n",
       "      <td>In-store</td>\n",
       "      <td>Credit Card</td>\n",
       "      <td>Remy Monet</td>\n",
       "      <td>Paris</td>\n",
       "    </tr>\n",
       "    <tr>\n",
       "      <th>9</th>\n",
       "      <td>10461</td>\n",
       "      <td>2022-11-09 00:00:00</td>\n",
       "      <td>Chicken Sandwiches</td>\n",
       "      <td>9.95</td>\n",
       "      <td>201.005025</td>\n",
       "      <td>In-store</td>\n",
       "      <td>Credit Card</td>\n",
       "      <td>Remy Monet</td>\n",
       "      <td>Paris</td>\n",
       "    </tr>\n",
       "    <tr>\n",
       "      <th>10</th>\n",
       "      <td>10462</td>\n",
       "      <td>2022-11-09 00:00:00</td>\n",
       "      <td>Fries</td>\n",
       "      <td>3.49</td>\n",
       "      <td>573.065903</td>\n",
       "      <td>In-store</td>\n",
       "      <td>Credit Card</td>\n",
       "      <td>Remy Monet</td>\n",
       "      <td>Paris</td>\n",
       "    </tr>\n",
       "    <tr>\n",
       "      <th>11</th>\n",
       "      <td>10463</td>\n",
       "      <td>2022-11-09 00:00:00</td>\n",
       "      <td>Beverages</td>\n",
       "      <td>2.95</td>\n",
       "      <td>677.966102</td>\n",
       "      <td>In-store</td>\n",
       "      <td>Credit Card</td>\n",
       "      <td>Remy Monet</td>\n",
       "      <td>Paris</td>\n",
       "    </tr>\n",
       "    <tr>\n",
       "      <th>12</th>\n",
       "      <td>10464</td>\n",
       "      <td>2022-11-09 00:00:00</td>\n",
       "      <td>Sides &amp; Other</td>\n",
       "      <td>4.99</td>\n",
       "      <td>200.400802</td>\n",
       "      <td>In-store</td>\n",
       "      <td>Credit Card</td>\n",
       "      <td>Remy Monet</td>\n",
       "      <td>Paris</td>\n",
       "    </tr>\n",
       "    <tr>\n",
       "      <th>13</th>\n",
       "      <td>10465</td>\n",
       "      <td>2022-11-10 00:00:00</td>\n",
       "      <td>Burgers</td>\n",
       "      <td>12.99</td>\n",
       "      <td>554.272517</td>\n",
       "      <td>In-store</td>\n",
       "      <td>Credit Card</td>\n",
       "      <td>Pablo Perez</td>\n",
       "      <td>Madrid</td>\n",
       "    </tr>\n",
       "    <tr>\n",
       "      <th>14</th>\n",
       "      <td>10466</td>\n",
       "      <td>2022-11-10 00:00:00</td>\n",
       "      <td>Chicken Sandwiches</td>\n",
       "      <td>9.95</td>\n",
       "      <td>201.005025</td>\n",
       "      <td>In-store</td>\n",
       "      <td>Credit Card</td>\n",
       "      <td>Pablo Perez</td>\n",
       "      <td>Madrid</td>\n",
       "    </tr>\n",
       "    <tr>\n",
       "      <th>15</th>\n",
       "      <td>10467</td>\n",
       "      <td>2022-11-10 00:00:00</td>\n",
       "      <td>Fries</td>\n",
       "      <td>3.49</td>\n",
       "      <td>573.065903</td>\n",
       "      <td>In-store</td>\n",
       "      <td>Credit Card</td>\n",
       "      <td>Pablo Perez</td>\n",
       "      <td>Madrid</td>\n",
       "    </tr>\n",
       "    <tr>\n",
       "      <th>16</th>\n",
       "      <td>10468</td>\n",
       "      <td>2022-11-10 00:00:00</td>\n",
       "      <td>Beverages</td>\n",
       "      <td>2.95</td>\n",
       "      <td>677.966102</td>\n",
       "      <td>In-store</td>\n",
       "      <td>Credit Card</td>\n",
       "      <td>Pablo Perez</td>\n",
       "      <td>Madrid</td>\n",
       "    </tr>\n",
       "    <tr>\n",
       "      <th>17</th>\n",
       "      <td>10470</td>\n",
       "      <td>2022-11-11 00:00:00</td>\n",
       "      <td>Burgers</td>\n",
       "      <td>12.99</td>\n",
       "      <td>554.272517</td>\n",
       "      <td>In-store</td>\n",
       "      <td>Credit Card</td>\n",
       "      <td>Pablo Perez</td>\n",
       "      <td>Madrid</td>\n",
       "    </tr>\n",
       "    <tr>\n",
       "      <th>18</th>\n",
       "      <td>10471</td>\n",
       "      <td>2022-11-11 00:00:00</td>\n",
       "      <td>Chicken Sandwiches</td>\n",
       "      <td>9.95</td>\n",
       "      <td>201.005025</td>\n",
       "      <td>In-store</td>\n",
       "      <td>Credit Card</td>\n",
       "      <td>Pablo Perez</td>\n",
       "      <td>Madrid</td>\n",
       "    </tr>\n",
       "    <tr>\n",
       "      <th>19</th>\n",
       "      <td>10472</td>\n",
       "      <td>2022-11-11 00:00:00</td>\n",
       "      <td>Fries</td>\n",
       "      <td>3.49</td>\n",
       "      <td>630.372493</td>\n",
       "      <td>In-store</td>\n",
       "      <td>Credit Card</td>\n",
       "      <td>Pablo Perez</td>\n",
       "      <td>Madrid</td>\n",
       "    </tr>\n",
       "    <tr>\n",
       "      <th>20</th>\n",
       "      <td>10473</td>\n",
       "      <td>2022-11-11 00:00:00</td>\n",
       "      <td>Beverages</td>\n",
       "      <td>2.95</td>\n",
       "      <td>677.966102</td>\n",
       "      <td>In-store</td>\n",
       "      <td>Credit Card</td>\n",
       "      <td>Pablo Perez</td>\n",
       "      <td>Madrid</td>\n",
       "    </tr>\n",
       "  </tbody>\n",
       "</table>\n",
       "</div>"
      ],
      "text/plain": [
       "0  Order ID                 Date             Product  Price    Quantity  \\\n",
       "1     10452  2022-11-07 00:00:00               Fries   3.49  573.065903   \n",
       "2     10453  2022-11-07 00:00:00           Beverages   2.95  745.762712   \n",
       "3     10454  2022-11-07 00:00:00       Sides & Other   4.99  200.400802   \n",
       "4     10455  2022-11-08 00:00:00             Burgers  12.99  569.668976   \n",
       "5     10456  2022-11-08 00:00:00  Chicken Sandwiches   9.95  201.005025   \n",
       "6     10457  2022-11-08 00:00:00               Fries   3.49  573.065903   \n",
       "7     10459  2022-11-08 00:00:00       Sides & Other   4.99  200.400802   \n",
       "8     10460  2022-11-09 00:00:00             Burgers  12.99  554.272517   \n",
       "9     10461  2022-11-09 00:00:00  Chicken Sandwiches   9.95  201.005025   \n",
       "10    10462  2022-11-09 00:00:00               Fries   3.49  573.065903   \n",
       "11    10463  2022-11-09 00:00:00           Beverages   2.95  677.966102   \n",
       "12    10464  2022-11-09 00:00:00       Sides & Other   4.99  200.400802   \n",
       "13    10465  2022-11-10 00:00:00             Burgers  12.99  554.272517   \n",
       "14    10466  2022-11-10 00:00:00  Chicken Sandwiches   9.95  201.005025   \n",
       "15    10467  2022-11-10 00:00:00               Fries   3.49  573.065903   \n",
       "16    10468  2022-11-10 00:00:00           Beverages   2.95  677.966102   \n",
       "17    10470  2022-11-11 00:00:00             Burgers  12.99  554.272517   \n",
       "18    10471  2022-11-11 00:00:00  Chicken Sandwiches   9.95  201.005025   \n",
       "19    10472  2022-11-11 00:00:00               Fries   3.49  630.372493   \n",
       "20    10473  2022-11-11 00:00:00           Beverages   2.95  677.966102   \n",
       "\n",
       "0  Purchase Type Payment Method        Manager    City  \n",
       "1        Online       Gift Card    Tom Jackson  London  \n",
       "2        Online       Gift Card    Pablo Perez  Madrid  \n",
       "3      In-store       Gift Card     Joao Silva  Lisbon  \n",
       "4      In-store     Credit Card  Walter Muller  Berlin  \n",
       "5      In-store     Credit Card  Walter Muller  Berlin  \n",
       "6      In-store     Credit Card     Remy Monet   Paris  \n",
       "7      In-store     Credit Card  Walter Muller  Berlin  \n",
       "8      In-store     Credit Card     Remy Monet   Paris  \n",
       "9      In-store     Credit Card     Remy Monet   Paris  \n",
       "10     In-store     Credit Card     Remy Monet   Paris  \n",
       "11     In-store     Credit Card     Remy Monet   Paris  \n",
       "12     In-store     Credit Card     Remy Monet   Paris  \n",
       "13     In-store     Credit Card    Pablo Perez  Madrid  \n",
       "14     In-store     Credit Card    Pablo Perez  Madrid  \n",
       "15     In-store     Credit Card    Pablo Perez  Madrid  \n",
       "16     In-store     Credit Card    Pablo Perez  Madrid  \n",
       "17     In-store     Credit Card    Pablo Perez  Madrid  \n",
       "18     In-store     Credit Card    Pablo Perez  Madrid  \n",
       "19     In-store     Credit Card    Pablo Perez  Madrid  \n",
       "20     In-store     Credit Card    Pablo Perez  Madrid  "
      ]
     },
     "execution_count": 227,
     "metadata": {},
     "output_type": "execute_result"
    }
   ],
   "source": [
    "data.head(20)"
   ]
  },
  {
   "cell_type": "code",
   "execution_count": 228,
   "id": "00b0062a",
   "metadata": {},
   "outputs": [
    {
     "data": {
      "text/plain": [
       "array(['Tom Jackson', 'Pablo Perez', 'Joao Silva', 'Walter Muller',\n",
       "       'Remy Monet'], dtype=object)"
      ]
     },
     "execution_count": 228,
     "metadata": {},
     "output_type": "execute_result"
    }
   ],
   "source": [
    "data['Manager'].unique()             # to show all the unique values of the column"
   ]
  },
  {
   "cell_type": "code",
   "execution_count": 229,
   "id": "63af19b1",
   "metadata": {},
   "outputs": [
    {
     "data": {
      "text/plain": [
       "5"
      ]
     },
     "execution_count": 229,
     "metadata": {},
     "output_type": "execute_result"
    }
   ],
   "source": [
    "data['Manager'].nunique()             # to show count of unique values present in the column"
   ]
  },
  {
   "cell_type": "markdown",
   "id": "179cccf8",
   "metadata": {},
   "source": [
    "#### Removing the duplicate records"
   ]
  },
  {
   "cell_type": "code",
   "execution_count": 230,
   "id": "5da24ce2",
   "metadata": {},
   "outputs": [
    {
     "data": {
      "application/vnd.microsoft.datawrangler.viewer.v0+json": {
       "columns": [
        {
         "name": "index",
         "rawType": "int64",
         "type": "integer"
        },
        {
         "name": "Order ID",
         "rawType": "object",
         "type": "unknown"
        },
        {
         "name": "Date",
         "rawType": "object",
         "type": "unknown"
        },
        {
         "name": "Product",
         "rawType": "object",
         "type": "string"
        },
        {
         "name": "Price",
         "rawType": "object",
         "type": "unknown"
        },
        {
         "name": "Quantity",
         "rawType": "object",
         "type": "unknown"
        },
        {
         "name": "Purchase Type",
         "rawType": "object",
         "type": "string"
        },
        {
         "name": "Payment Method",
         "rawType": "object",
         "type": "string"
        },
        {
         "name": "Manager",
         "rawType": "object",
         "type": "string"
        },
        {
         "name": "City",
         "rawType": "object",
         "type": "string"
        }
       ],
       "ref": "5a817d46-4364-463b-b013-347d977045c4",
       "rows": [
        [
         "1",
         "10452",
         "2022-11-07 00:00:00",
         "Fries",
         "3.49",
         "573.0659025787965",
         "Online ",
         " Gift Card",
         "Tom Jackson",
         "London"
        ],
        [
         "2",
         "10453",
         "2022-11-07 00:00:00",
         "Beverages",
         "2.95",
         "745.7627118644067",
         "Online ",
         " Gift Card",
         "Pablo Perez",
         "Madrid"
        ],
        [
         "3",
         "10454",
         "2022-11-07 00:00:00",
         "Sides & Other",
         "4.99",
         "200.4008016032064",
         "In-store ",
         " Gift Card",
         "Joao Silva",
         "Lisbon"
        ],
        [
         "4",
         "10455",
         "2022-11-08 00:00:00",
         "Burgers",
         "12.99",
         "569.6689761354888",
         "In-store ",
         " Credit Card",
         "Walter Muller",
         "Berlin"
        ],
        [
         "5",
         "10456",
         "2022-11-08 00:00:00",
         "Chicken Sandwiches",
         "9.95",
         "201.00502512562818",
         "In-store ",
         " Credit Card",
         "Walter Muller",
         "Berlin"
        ]
       ],
       "shape": {
        "columns": 9,
        "rows": 5
       }
      },
      "text/html": [
       "<div>\n",
       "<style scoped>\n",
       "    .dataframe tbody tr th:only-of-type {\n",
       "        vertical-align: middle;\n",
       "    }\n",
       "\n",
       "    .dataframe tbody tr th {\n",
       "        vertical-align: top;\n",
       "    }\n",
       "\n",
       "    .dataframe thead th {\n",
       "        text-align: right;\n",
       "    }\n",
       "</style>\n",
       "<table border=\"1\" class=\"dataframe\">\n",
       "  <thead>\n",
       "    <tr style=\"text-align: right;\">\n",
       "      <th></th>\n",
       "      <th>Order ID</th>\n",
       "      <th>Date</th>\n",
       "      <th>Product</th>\n",
       "      <th>Price</th>\n",
       "      <th>Quantity</th>\n",
       "      <th>Purchase Type</th>\n",
       "      <th>Payment Method</th>\n",
       "      <th>Manager</th>\n",
       "      <th>City</th>\n",
       "    </tr>\n",
       "  </thead>\n",
       "  <tbody>\n",
       "    <tr>\n",
       "      <th>1</th>\n",
       "      <td>10452</td>\n",
       "      <td>2022-11-07 00:00:00</td>\n",
       "      <td>Fries</td>\n",
       "      <td>3.49</td>\n",
       "      <td>573.065903</td>\n",
       "      <td>Online</td>\n",
       "      <td>Gift Card</td>\n",
       "      <td>Tom Jackson</td>\n",
       "      <td>London</td>\n",
       "    </tr>\n",
       "    <tr>\n",
       "      <th>2</th>\n",
       "      <td>10453</td>\n",
       "      <td>2022-11-07 00:00:00</td>\n",
       "      <td>Beverages</td>\n",
       "      <td>2.95</td>\n",
       "      <td>745.762712</td>\n",
       "      <td>Online</td>\n",
       "      <td>Gift Card</td>\n",
       "      <td>Pablo Perez</td>\n",
       "      <td>Madrid</td>\n",
       "    </tr>\n",
       "    <tr>\n",
       "      <th>3</th>\n",
       "      <td>10454</td>\n",
       "      <td>2022-11-07 00:00:00</td>\n",
       "      <td>Sides &amp; Other</td>\n",
       "      <td>4.99</td>\n",
       "      <td>200.400802</td>\n",
       "      <td>In-store</td>\n",
       "      <td>Gift Card</td>\n",
       "      <td>Joao Silva</td>\n",
       "      <td>Lisbon</td>\n",
       "    </tr>\n",
       "    <tr>\n",
       "      <th>4</th>\n",
       "      <td>10455</td>\n",
       "      <td>2022-11-08 00:00:00</td>\n",
       "      <td>Burgers</td>\n",
       "      <td>12.99</td>\n",
       "      <td>569.668976</td>\n",
       "      <td>In-store</td>\n",
       "      <td>Credit Card</td>\n",
       "      <td>Walter Muller</td>\n",
       "      <td>Berlin</td>\n",
       "    </tr>\n",
       "    <tr>\n",
       "      <th>5</th>\n",
       "      <td>10456</td>\n",
       "      <td>2022-11-08 00:00:00</td>\n",
       "      <td>Chicken Sandwiches</td>\n",
       "      <td>9.95</td>\n",
       "      <td>201.005025</td>\n",
       "      <td>In-store</td>\n",
       "      <td>Credit Card</td>\n",
       "      <td>Walter Muller</td>\n",
       "      <td>Berlin</td>\n",
       "    </tr>\n",
       "  </tbody>\n",
       "</table>\n",
       "</div>"
      ],
      "text/plain": [
       "0 Order ID                 Date             Product  Price    Quantity  \\\n",
       "1    10452  2022-11-07 00:00:00               Fries   3.49  573.065903   \n",
       "2    10453  2022-11-07 00:00:00           Beverages   2.95  745.762712   \n",
       "3    10454  2022-11-07 00:00:00       Sides & Other   4.99  200.400802   \n",
       "4    10455  2022-11-08 00:00:00             Burgers  12.99  569.668976   \n",
       "5    10456  2022-11-08 00:00:00  Chicken Sandwiches   9.95  201.005025   \n",
       "\n",
       "0 Purchase Type Payment Method        Manager    City  \n",
       "1       Online       Gift Card    Tom Jackson  London  \n",
       "2       Online       Gift Card    Pablo Perez  Madrid  \n",
       "3     In-store       Gift Card     Joao Silva  Lisbon  \n",
       "4     In-store     Credit Card  Walter Muller  Berlin  \n",
       "5     In-store     Credit Card  Walter Muller  Berlin  "
      ]
     },
     "execution_count": 230,
     "metadata": {},
     "output_type": "execute_result"
    }
   ],
   "source": [
    "data.head()                     # to show top 5 records of the dataframe"
   ]
  },
  {
   "cell_type": "code",
   "execution_count": 231,
   "id": "6d0f0717",
   "metadata": {},
   "outputs": [
    {
     "name": "stderr",
     "output_type": "stream",
     "text": [
      "C:\\Users\\Alpha\\AppData\\Local\\Temp\\ipykernel_9904\\2178070786.py:1: FutureWarning: The behavior of value_counts with object-dtype is deprecated. In a future version, this will *not* perform dtype inference on the resulting index. To retain the old behavior, use `result.index = result.index.infer_objects()`\n",
      "  data.describe()                            # to show some summary about the columns\n"
     ]
    },
    {
     "data": {
      "application/vnd.microsoft.datawrangler.viewer.v0+json": {
       "columns": [
        {
         "name": "index",
         "rawType": "object",
         "type": "string"
        },
        {
         "name": "Order ID",
         "rawType": "int64",
         "type": "integer"
        },
        {
         "name": "Date",
         "rawType": "object",
         "type": "unknown"
        },
        {
         "name": "Product",
         "rawType": "object",
         "type": "unknown"
        },
        {
         "name": "Price",
         "rawType": "float64",
         "type": "float"
        },
        {
         "name": "Quantity",
         "rawType": "float64",
         "type": "float"
        },
        {
         "name": "Purchase Type",
         "rawType": "object",
         "type": "unknown"
        },
        {
         "name": "Payment Method",
         "rawType": "object",
         "type": "unknown"
        },
        {
         "name": "Manager",
         "rawType": "object",
         "type": "unknown"
        },
        {
         "name": "City",
         "rawType": "object",
         "type": "unknown"
        }
       ],
       "ref": "6cc91851-c7fb-49aa-9325-f1e119c594fd",
       "rows": [
        [
         "count",
         "254",
         "254",
         "254",
         "254.0",
         "254.0",
         "254",
         "254",
         "254",
         "254"
        ],
        [
         "unique",
         "254",
         "53",
         "5",
         "7.0",
         "29.0",
         "3",
         "3",
         "5",
         "5"
        ],
        [
         "top",
         "10452",
         "2022-12-03 00:00:00",
         "Burgers",
         "12.99",
         "200.4008016032064",
         "Online ",
         " Credit Card",
         "Tom Jackson",
         "London"
        ],
        [
         "freq",
         "1",
         "5",
         "52",
         "52.0",
         "49.0",
         "107",
         "120",
         "75",
         "75"
        ]
       ],
       "shape": {
        "columns": 9,
        "rows": 4
       }
      },
      "text/html": [
       "<div>\n",
       "<style scoped>\n",
       "    .dataframe tbody tr th:only-of-type {\n",
       "        vertical-align: middle;\n",
       "    }\n",
       "\n",
       "    .dataframe tbody tr th {\n",
       "        vertical-align: top;\n",
       "    }\n",
       "\n",
       "    .dataframe thead th {\n",
       "        text-align: right;\n",
       "    }\n",
       "</style>\n",
       "<table border=\"1\" class=\"dataframe\">\n",
       "  <thead>\n",
       "    <tr style=\"text-align: right;\">\n",
       "      <th></th>\n",
       "      <th>Order ID</th>\n",
       "      <th>Date</th>\n",
       "      <th>Product</th>\n",
       "      <th>Price</th>\n",
       "      <th>Quantity</th>\n",
       "      <th>Purchase Type</th>\n",
       "      <th>Payment Method</th>\n",
       "      <th>Manager</th>\n",
       "      <th>City</th>\n",
       "    </tr>\n",
       "  </thead>\n",
       "  <tbody>\n",
       "    <tr>\n",
       "      <th>count</th>\n",
       "      <td>254</td>\n",
       "      <td>254</td>\n",
       "      <td>254</td>\n",
       "      <td>254.00</td>\n",
       "      <td>254.000000</td>\n",
       "      <td>254</td>\n",
       "      <td>254</td>\n",
       "      <td>254</td>\n",
       "      <td>254</td>\n",
       "    </tr>\n",
       "    <tr>\n",
       "      <th>unique</th>\n",
       "      <td>254</td>\n",
       "      <td>53</td>\n",
       "      <td>5</td>\n",
       "      <td>7.00</td>\n",
       "      <td>29.000000</td>\n",
       "      <td>3</td>\n",
       "      <td>3</td>\n",
       "      <td>5</td>\n",
       "      <td>5</td>\n",
       "    </tr>\n",
       "    <tr>\n",
       "      <th>top</th>\n",
       "      <td>10452</td>\n",
       "      <td>2022-12-03 00:00:00</td>\n",
       "      <td>Burgers</td>\n",
       "      <td>12.99</td>\n",
       "      <td>200.400802</td>\n",
       "      <td>Online</td>\n",
       "      <td>Credit Card</td>\n",
       "      <td>Tom Jackson</td>\n",
       "      <td>London</td>\n",
       "    </tr>\n",
       "    <tr>\n",
       "      <th>freq</th>\n",
       "      <td>1</td>\n",
       "      <td>5</td>\n",
       "      <td>52</td>\n",
       "      <td>52.00</td>\n",
       "      <td>49.000000</td>\n",
       "      <td>107</td>\n",
       "      <td>120</td>\n",
       "      <td>75</td>\n",
       "      <td>75</td>\n",
       "    </tr>\n",
       "  </tbody>\n",
       "</table>\n",
       "</div>"
      ],
      "text/plain": [
       "0       Order ID                 Date  Product   Price    Quantity  \\\n",
       "count        254                  254      254  254.00  254.000000   \n",
       "unique       254                   53        5    7.00   29.000000   \n",
       "top        10452  2022-12-03 00:00:00  Burgers   12.99  200.400802   \n",
       "freq           1                    5       52   52.00   49.000000   \n",
       "\n",
       "0      Purchase Type Payment Method      Manager    City  \n",
       "count            254            254          254     254  \n",
       "unique             3              3            5       5  \n",
       "top          Online     Credit Card  Tom Jackson  London  \n",
       "freq             107            120           75      75  "
      ]
     },
     "execution_count": 231,
     "metadata": {},
     "output_type": "execute_result"
    }
   ],
   "source": [
    "data.describe()                            # to show some summary about the columns"
   ]
  },
  {
   "cell_type": "code",
   "execution_count": 232,
   "id": "cf960df9",
   "metadata": {},
   "outputs": [
    {
     "data": {
      "application/vnd.microsoft.datawrangler.viewer.v0+json": {
       "columns": [
        {
         "name": "index",
         "rawType": "int64",
         "type": "integer"
        },
        {
         "name": "Order ID",
         "rawType": "object",
         "type": "string"
        },
        {
         "name": "Date",
         "rawType": "object",
         "type": "string"
        },
        {
         "name": "Product",
         "rawType": "object",
         "type": "string"
        },
        {
         "name": "Price",
         "rawType": "object",
         "type": "string"
        },
        {
         "name": "Quantity",
         "rawType": "object",
         "type": "string"
        },
        {
         "name": "Purchase Type",
         "rawType": "object",
         "type": "string"
        },
        {
         "name": "Payment Method",
         "rawType": "object",
         "type": "string"
        },
        {
         "name": "Manager",
         "rawType": "object",
         "type": "string"
        },
        {
         "name": "City",
         "rawType": "object",
         "type": "string"
        }
       ],
       "ref": "9bc592c3-7a8c-4be6-ab59-a94ecac380a8",
       "rows": [],
       "shape": {
        "columns": 9,
        "rows": 0
       }
      },
      "text/html": [
       "<div>\n",
       "<style scoped>\n",
       "    .dataframe tbody tr th:only-of-type {\n",
       "        vertical-align: middle;\n",
       "    }\n",
       "\n",
       "    .dataframe tbody tr th {\n",
       "        vertical-align: top;\n",
       "    }\n",
       "\n",
       "    .dataframe thead th {\n",
       "        text-align: right;\n",
       "    }\n",
       "</style>\n",
       "<table border=\"1\" class=\"dataframe\">\n",
       "  <thead>\n",
       "    <tr style=\"text-align: right;\">\n",
       "      <th></th>\n",
       "      <th>Order ID</th>\n",
       "      <th>Date</th>\n",
       "      <th>Product</th>\n",
       "      <th>Price</th>\n",
       "      <th>Quantity</th>\n",
       "      <th>Purchase Type</th>\n",
       "      <th>Payment Method</th>\n",
       "      <th>Manager</th>\n",
       "      <th>City</th>\n",
       "    </tr>\n",
       "  </thead>\n",
       "  <tbody>\n",
       "  </tbody>\n",
       "</table>\n",
       "</div>"
      ],
      "text/plain": [
       "Empty DataFrame\n",
       "Columns: [Order ID, Date, Product, Price, Quantity, Purchase Type, Payment Method, Manager, City]\n",
       "Index: []"
      ]
     },
     "execution_count": 232,
     "metadata": {},
     "output_type": "execute_result"
    }
   ],
   "source": [
    "data[data.duplicated()]                    # to show all the duplicate records"
   ]
  },
  {
   "cell_type": "code",
   "execution_count": 233,
   "id": "db3d6624",
   "metadata": {},
   "outputs": [
    {
     "name": "stderr",
     "output_type": "stream",
     "text": [
      "C:\\Users\\Alpha\\AppData\\Local\\Temp\\ipykernel_9904\\2178070786.py:1: FutureWarning: The behavior of value_counts with object-dtype is deprecated. In a future version, this will *not* perform dtype inference on the resulting index. To retain the old behavior, use `result.index = result.index.infer_objects()`\n",
      "  data.describe()                            # to show some summary about the columns\n"
     ]
    },
    {
     "data": {
      "application/vnd.microsoft.datawrangler.viewer.v0+json": {
       "columns": [
        {
         "name": "index",
         "rawType": "object",
         "type": "string"
        },
        {
         "name": "Order ID",
         "rawType": "int64",
         "type": "integer"
        },
        {
         "name": "Date",
         "rawType": "object",
         "type": "unknown"
        },
        {
         "name": "Product",
         "rawType": "object",
         "type": "unknown"
        },
        {
         "name": "Price",
         "rawType": "float64",
         "type": "float"
        },
        {
         "name": "Quantity",
         "rawType": "float64",
         "type": "float"
        },
        {
         "name": "Purchase Type",
         "rawType": "object",
         "type": "unknown"
        },
        {
         "name": "Payment Method",
         "rawType": "object",
         "type": "unknown"
        },
        {
         "name": "Manager",
         "rawType": "object",
         "type": "unknown"
        },
        {
         "name": "City",
         "rawType": "object",
         "type": "unknown"
        }
       ],
       "ref": "2cb1b138-1a97-4efb-a366-8d30d678de1f",
       "rows": [
        [
         "count",
         "254",
         "254",
         "254",
         "254.0",
         "254.0",
         "254",
         "254",
         "254",
         "254"
        ],
        [
         "unique",
         "254",
         "53",
         "5",
         "7.0",
         "29.0",
         "3",
         "3",
         "5",
         "5"
        ],
        [
         "top",
         "10452",
         "2022-12-03 00:00:00",
         "Burgers",
         "12.99",
         "200.4008016032064",
         "Online ",
         " Credit Card",
         "Tom Jackson",
         "London"
        ],
        [
         "freq",
         "1",
         "5",
         "52",
         "52.0",
         "49.0",
         "107",
         "120",
         "75",
         "75"
        ]
       ],
       "shape": {
        "columns": 9,
        "rows": 4
       }
      },
      "text/html": [
       "<div>\n",
       "<style scoped>\n",
       "    .dataframe tbody tr th:only-of-type {\n",
       "        vertical-align: middle;\n",
       "    }\n",
       "\n",
       "    .dataframe tbody tr th {\n",
       "        vertical-align: top;\n",
       "    }\n",
       "\n",
       "    .dataframe thead th {\n",
       "        text-align: right;\n",
       "    }\n",
       "</style>\n",
       "<table border=\"1\" class=\"dataframe\">\n",
       "  <thead>\n",
       "    <tr style=\"text-align: right;\">\n",
       "      <th></th>\n",
       "      <th>Order ID</th>\n",
       "      <th>Date</th>\n",
       "      <th>Product</th>\n",
       "      <th>Price</th>\n",
       "      <th>Quantity</th>\n",
       "      <th>Purchase Type</th>\n",
       "      <th>Payment Method</th>\n",
       "      <th>Manager</th>\n",
       "      <th>City</th>\n",
       "    </tr>\n",
       "  </thead>\n",
       "  <tbody>\n",
       "    <tr>\n",
       "      <th>count</th>\n",
       "      <td>254</td>\n",
       "      <td>254</td>\n",
       "      <td>254</td>\n",
       "      <td>254.00</td>\n",
       "      <td>254.000000</td>\n",
       "      <td>254</td>\n",
       "      <td>254</td>\n",
       "      <td>254</td>\n",
       "      <td>254</td>\n",
       "    </tr>\n",
       "    <tr>\n",
       "      <th>unique</th>\n",
       "      <td>254</td>\n",
       "      <td>53</td>\n",
       "      <td>5</td>\n",
       "      <td>7.00</td>\n",
       "      <td>29.000000</td>\n",
       "      <td>3</td>\n",
       "      <td>3</td>\n",
       "      <td>5</td>\n",
       "      <td>5</td>\n",
       "    </tr>\n",
       "    <tr>\n",
       "      <th>top</th>\n",
       "      <td>10452</td>\n",
       "      <td>2022-12-03 00:00:00</td>\n",
       "      <td>Burgers</td>\n",
       "      <td>12.99</td>\n",
       "      <td>200.400802</td>\n",
       "      <td>Online</td>\n",
       "      <td>Credit Card</td>\n",
       "      <td>Tom Jackson</td>\n",
       "      <td>London</td>\n",
       "    </tr>\n",
       "    <tr>\n",
       "      <th>freq</th>\n",
       "      <td>1</td>\n",
       "      <td>5</td>\n",
       "      <td>52</td>\n",
       "      <td>52.00</td>\n",
       "      <td>49.000000</td>\n",
       "      <td>107</td>\n",
       "      <td>120</td>\n",
       "      <td>75</td>\n",
       "      <td>75</td>\n",
       "    </tr>\n",
       "  </tbody>\n",
       "</table>\n",
       "</div>"
      ],
      "text/plain": [
       "0       Order ID                 Date  Product   Price    Quantity  \\\n",
       "count        254                  254      254  254.00  254.000000   \n",
       "unique       254                   53        5    7.00   29.000000   \n",
       "top        10452  2022-12-03 00:00:00  Burgers   12.99  200.400802   \n",
       "freq           1                    5       52   52.00   49.000000   \n",
       "\n",
       "0      Purchase Type Payment Method      Manager    City  \n",
       "count            254            254          254     254  \n",
       "unique             3              3            5       5  \n",
       "top          Online     Credit Card  Tom Jackson  London  \n",
       "freq             107            120           75      75  "
      ]
     },
     "execution_count": 233,
     "metadata": {},
     "output_type": "execute_result"
    }
   ],
   "source": [
    "data.describe()                            # to show some summary about the columns"
   ]
  },
  {
   "cell_type": "code",
   "execution_count": 234,
   "id": "307027f9",
   "metadata": {},
   "outputs": [
    {
     "data": {
      "application/vnd.microsoft.datawrangler.viewer.v0+json": {
       "columns": [
        {
         "name": "index",
         "rawType": "int64",
         "type": "integer"
        },
        {
         "name": "Order ID",
         "rawType": "object",
         "type": "string"
        },
        {
         "name": "Date",
         "rawType": "object",
         "type": "string"
        },
        {
         "name": "Product",
         "rawType": "object",
         "type": "string"
        },
        {
         "name": "Price",
         "rawType": "object",
         "type": "string"
        },
        {
         "name": "Quantity",
         "rawType": "object",
         "type": "string"
        },
        {
         "name": "Purchase Type",
         "rawType": "object",
         "type": "string"
        },
        {
         "name": "Payment Method",
         "rawType": "object",
         "type": "string"
        },
        {
         "name": "Manager",
         "rawType": "object",
         "type": "string"
        },
        {
         "name": "City",
         "rawType": "object",
         "type": "string"
        }
       ],
       "ref": "f4f150cf-4d86-4800-944a-42db7feca1bd",
       "rows": [],
       "shape": {
        "columns": 9,
        "rows": 0
       }
      },
      "text/html": [
       "<div>\n",
       "<style scoped>\n",
       "    .dataframe tbody tr th:only-of-type {\n",
       "        vertical-align: middle;\n",
       "    }\n",
       "\n",
       "    .dataframe tbody tr th {\n",
       "        vertical-align: top;\n",
       "    }\n",
       "\n",
       "    .dataframe thead th {\n",
       "        text-align: right;\n",
       "    }\n",
       "</style>\n",
       "<table border=\"1\" class=\"dataframe\">\n",
       "  <thead>\n",
       "    <tr style=\"text-align: right;\">\n",
       "      <th></th>\n",
       "      <th>Order ID</th>\n",
       "      <th>Date</th>\n",
       "      <th>Product</th>\n",
       "      <th>Price</th>\n",
       "      <th>Quantity</th>\n",
       "      <th>Purchase Type</th>\n",
       "      <th>Payment Method</th>\n",
       "      <th>Manager</th>\n",
       "      <th>City</th>\n",
       "    </tr>\n",
       "  </thead>\n",
       "  <tbody>\n",
       "  </tbody>\n",
       "</table>\n",
       "</div>"
      ],
      "text/plain": [
       "Empty DataFrame\n",
       "Columns: [Order ID, Date, Product, Price, Quantity, Purchase Type, Payment Method, Manager, City]\n",
       "Index: []"
      ]
     },
     "execution_count": 234,
     "metadata": {},
     "output_type": "execute_result"
    }
   ],
   "source": [
    "data[data['Order ID'].duplicated()]        # to check the duplicate records in a column"
   ]
  },
  {
   "cell_type": "code",
   "execution_count": 235,
   "id": "1c1dd1d7",
   "metadata": {},
   "outputs": [
    {
     "data": {
      "application/vnd.microsoft.datawrangler.viewer.v0+json": {
       "columns": [
        {
         "name": "index",
         "rawType": "int64",
         "type": "integer"
        },
        {
         "name": "Order ID",
         "rawType": "object",
         "type": "unknown"
        },
        {
         "name": "Date",
         "rawType": "object",
         "type": "unknown"
        },
        {
         "name": "Product",
         "rawType": "object",
         "type": "string"
        },
        {
         "name": "Price",
         "rawType": "object",
         "type": "unknown"
        },
        {
         "name": "Quantity",
         "rawType": "object",
         "type": "unknown"
        },
        {
         "name": "Purchase Type",
         "rawType": "object",
         "type": "string"
        },
        {
         "name": "Payment Method",
         "rawType": "object",
         "type": "string"
        },
        {
         "name": "Manager",
         "rawType": "object",
         "type": "string"
        },
        {
         "name": "City",
         "rawType": "object",
         "type": "string"
        }
       ],
       "ref": "fd4ae539-90f6-45cc-bfa2-9105dc0c6938",
       "rows": [
        [
         "61",
         "10483",
         "2022-11-13 00:00:00",
         "Beverages",
         "2.95",
         "677.9661016949152",
         "In-store ",
         " Credit Card",
         "Joao Silva",
         "Lisbon"
        ]
       ],
       "shape": {
        "columns": 9,
        "rows": 1
       }
      },
      "text/html": [
       "<div>\n",
       "<style scoped>\n",
       "    .dataframe tbody tr th:only-of-type {\n",
       "        vertical-align: middle;\n",
       "    }\n",
       "\n",
       "    .dataframe tbody tr th {\n",
       "        vertical-align: top;\n",
       "    }\n",
       "\n",
       "    .dataframe thead th {\n",
       "        text-align: right;\n",
       "    }\n",
       "</style>\n",
       "<table border=\"1\" class=\"dataframe\">\n",
       "  <thead>\n",
       "    <tr style=\"text-align: right;\">\n",
       "      <th></th>\n",
       "      <th>Order ID</th>\n",
       "      <th>Date</th>\n",
       "      <th>Product</th>\n",
       "      <th>Price</th>\n",
       "      <th>Quantity</th>\n",
       "      <th>Purchase Type</th>\n",
       "      <th>Payment Method</th>\n",
       "      <th>Manager</th>\n",
       "      <th>City</th>\n",
       "    </tr>\n",
       "  </thead>\n",
       "  <tbody>\n",
       "    <tr>\n",
       "      <th>61</th>\n",
       "      <td>10483</td>\n",
       "      <td>2022-11-13 00:00:00</td>\n",
       "      <td>Beverages</td>\n",
       "      <td>2.95</td>\n",
       "      <td>677.966102</td>\n",
       "      <td>In-store</td>\n",
       "      <td>Credit Card</td>\n",
       "      <td>Joao Silva</td>\n",
       "      <td>Lisbon</td>\n",
       "    </tr>\n",
       "  </tbody>\n",
       "</table>\n",
       "</div>"
      ],
      "text/plain": [
       "0  Order ID                 Date    Product Price    Quantity Purchase Type  \\\n",
       "61    10483  2022-11-13 00:00:00  Beverages  2.95  677.966102     In-store    \n",
       "\n",
       "0  Payment Method     Manager    City  \n",
       "61    Credit Card  Joao Silva  Lisbon  "
      ]
     },
     "execution_count": 235,
     "metadata": {},
     "output_type": "execute_result"
    }
   ],
   "source": [
    "data[data['Order ID'] == 10483]            # using filtering to show some records"
   ]
  },
  {
   "cell_type": "code",
   "execution_count": 236,
   "id": "721c8f58",
   "metadata": {},
   "outputs": [
    {
     "data": {
      "application/vnd.microsoft.datawrangler.viewer.v0+json": {
       "columns": [
        {
         "name": "index",
         "rawType": "int64",
         "type": "integer"
        },
        {
         "name": "Order ID",
         "rawType": "object",
         "type": "unknown"
        },
        {
         "name": "Date",
         "rawType": "object",
         "type": "unknown"
        },
        {
         "name": "Product",
         "rawType": "object",
         "type": "string"
        },
        {
         "name": "Price",
         "rawType": "object",
         "type": "unknown"
        },
        {
         "name": "Quantity",
         "rawType": "object",
         "type": "unknown"
        },
        {
         "name": "Purchase Type",
         "rawType": "object",
         "type": "string"
        },
        {
         "name": "Payment Method",
         "rawType": "object",
         "type": "string"
        },
        {
         "name": "Manager",
         "rawType": "object",
         "type": "string"
        },
        {
         "name": "City",
         "rawType": "object",
         "type": "string"
        }
       ],
       "ref": "f69909c3-ccb1-435c-b378-118021f8f295",
       "rows": [
        [
         "62",
         "10484",
         "2022-11-13 00:00:00",
         "Sides & Other",
         "4.99",
         "200.4008016032064",
         "In-store ",
         " Credit Card",
         "Joao Silva",
         "Lisbon"
        ]
       ],
       "shape": {
        "columns": 9,
        "rows": 1
       }
      },
      "text/html": [
       "<div>\n",
       "<style scoped>\n",
       "    .dataframe tbody tr th:only-of-type {\n",
       "        vertical-align: middle;\n",
       "    }\n",
       "\n",
       "    .dataframe tbody tr th {\n",
       "        vertical-align: top;\n",
       "    }\n",
       "\n",
       "    .dataframe thead th {\n",
       "        text-align: right;\n",
       "    }\n",
       "</style>\n",
       "<table border=\"1\" class=\"dataframe\">\n",
       "  <thead>\n",
       "    <tr style=\"text-align: right;\">\n",
       "      <th></th>\n",
       "      <th>Order ID</th>\n",
       "      <th>Date</th>\n",
       "      <th>Product</th>\n",
       "      <th>Price</th>\n",
       "      <th>Quantity</th>\n",
       "      <th>Purchase Type</th>\n",
       "      <th>Payment Method</th>\n",
       "      <th>Manager</th>\n",
       "      <th>City</th>\n",
       "    </tr>\n",
       "  </thead>\n",
       "  <tbody>\n",
       "    <tr>\n",
       "      <th>62</th>\n",
       "      <td>10484</td>\n",
       "      <td>2022-11-13 00:00:00</td>\n",
       "      <td>Sides &amp; Other</td>\n",
       "      <td>4.99</td>\n",
       "      <td>200.400802</td>\n",
       "      <td>In-store</td>\n",
       "      <td>Credit Card</td>\n",
       "      <td>Joao Silva</td>\n",
       "      <td>Lisbon</td>\n",
       "    </tr>\n",
       "  </tbody>\n",
       "</table>\n",
       "</div>"
      ],
      "text/plain": [
       "0  Order ID                 Date        Product Price    Quantity  \\\n",
       "62    10484  2022-11-13 00:00:00  Sides & Other  4.99  200.400802   \n",
       "\n",
       "0  Purchase Type Payment Method     Manager    City  \n",
       "62     In-store     Credit Card  Joao Silva  Lisbon  "
      ]
     },
     "execution_count": 236,
     "metadata": {},
     "output_type": "execute_result"
    }
   ],
   "source": [
    "data[data['Order ID'] == 10484]            # using filtering to show some records"
   ]
  },
  {
   "cell_type": "code",
   "execution_count": 237,
   "id": "fe0e06e6",
   "metadata": {},
   "outputs": [
    {
     "data": {
      "application/vnd.microsoft.datawrangler.viewer.v0+json": {
       "columns": [
        {
         "name": "index",
         "rawType": "int64",
         "type": "integer"
        },
        {
         "name": "Order ID",
         "rawType": "object",
         "type": "unknown"
        },
        {
         "name": "Date",
         "rawType": "object",
         "type": "unknown"
        },
        {
         "name": "Product",
         "rawType": "object",
         "type": "string"
        },
        {
         "name": "Price",
         "rawType": "object",
         "type": "unknown"
        },
        {
         "name": "Quantity",
         "rawType": "object",
         "type": "unknown"
        },
        {
         "name": "Purchase Type",
         "rawType": "object",
         "type": "string"
        },
        {
         "name": "Payment Method",
         "rawType": "object",
         "type": "string"
        },
        {
         "name": "Manager",
         "rawType": "object",
         "type": "string"
        },
        {
         "name": "City",
         "rawType": "object",
         "type": "string"
        }
       ],
       "ref": "4c6182a2-90b6-4a31-a748-2f753d6f90e5",
       "rows": [
        [
         "63",
         "10485",
         "2022-11-14 00:00:00",
         "Burgers",
         "12.99",
         "523.4795996920708",
         "In-store ",
         " Credit Card",
         "Joao Silva",
         "Lisbon"
        ]
       ],
       "shape": {
        "columns": 9,
        "rows": 1
       }
      },
      "text/html": [
       "<div>\n",
       "<style scoped>\n",
       "    .dataframe tbody tr th:only-of-type {\n",
       "        vertical-align: middle;\n",
       "    }\n",
       "\n",
       "    .dataframe tbody tr th {\n",
       "        vertical-align: top;\n",
       "    }\n",
       "\n",
       "    .dataframe thead th {\n",
       "        text-align: right;\n",
       "    }\n",
       "</style>\n",
       "<table border=\"1\" class=\"dataframe\">\n",
       "  <thead>\n",
       "    <tr style=\"text-align: right;\">\n",
       "      <th></th>\n",
       "      <th>Order ID</th>\n",
       "      <th>Date</th>\n",
       "      <th>Product</th>\n",
       "      <th>Price</th>\n",
       "      <th>Quantity</th>\n",
       "      <th>Purchase Type</th>\n",
       "      <th>Payment Method</th>\n",
       "      <th>Manager</th>\n",
       "      <th>City</th>\n",
       "    </tr>\n",
       "  </thead>\n",
       "  <tbody>\n",
       "    <tr>\n",
       "      <th>63</th>\n",
       "      <td>10485</td>\n",
       "      <td>2022-11-14 00:00:00</td>\n",
       "      <td>Burgers</td>\n",
       "      <td>12.99</td>\n",
       "      <td>523.4796</td>\n",
       "      <td>In-store</td>\n",
       "      <td>Credit Card</td>\n",
       "      <td>Joao Silva</td>\n",
       "      <td>Lisbon</td>\n",
       "    </tr>\n",
       "  </tbody>\n",
       "</table>\n",
       "</div>"
      ],
      "text/plain": [
       "0  Order ID                 Date  Product  Price  Quantity Purchase Type  \\\n",
       "63    10485  2022-11-14 00:00:00  Burgers  12.99  523.4796     In-store    \n",
       "\n",
       "0  Payment Method     Manager    City  \n",
       "63    Credit Card  Joao Silva  Lisbon  "
      ]
     },
     "execution_count": 237,
     "metadata": {},
     "output_type": "execute_result"
    }
   ],
   "source": [
    "data[data['Order ID'] == 10485]           # using filtering to show some records"
   ]
  },
  {
   "cell_type": "code",
   "execution_count": 238,
   "id": "3ab61262",
   "metadata": {},
   "outputs": [],
   "source": [
    "data.drop(32, inplace=True)               # to remove any row with the index number"
   ]
  },
  {
   "cell_type": "code",
   "execution_count": 239,
   "id": "010c33dc",
   "metadata": {},
   "outputs": [
    {
     "data": {
      "application/vnd.microsoft.datawrangler.viewer.v0+json": {
       "columns": [
        {
         "name": "index",
         "rawType": "int64",
         "type": "integer"
        },
        {
         "name": "Order ID",
         "rawType": "object",
         "type": "unknown"
        },
        {
         "name": "Date",
         "rawType": "object",
         "type": "unknown"
        },
        {
         "name": "Product",
         "rawType": "object",
         "type": "string"
        },
        {
         "name": "Price",
         "rawType": "object",
         "type": "unknown"
        },
        {
         "name": "Quantity",
         "rawType": "object",
         "type": "unknown"
        },
        {
         "name": "Purchase Type",
         "rawType": "object",
         "type": "string"
        },
        {
         "name": "Payment Method",
         "rawType": "object",
         "type": "string"
        },
        {
         "name": "Manager",
         "rawType": "object",
         "type": "string"
        },
        {
         "name": "City",
         "rawType": "object",
         "type": "string"
        }
       ],
       "ref": "8c77b6ad-b752-4ff0-bad6-10458fb04fd8",
       "rows": [
        [
         "61",
         "10483",
         "2022-11-13 00:00:00",
         "Beverages",
         "2.95",
         "677.9661016949152",
         "In-store ",
         " Credit Card",
         "Joao Silva",
         "Lisbon"
        ]
       ],
       "shape": {
        "columns": 9,
        "rows": 1
       }
      },
      "text/html": [
       "<div>\n",
       "<style scoped>\n",
       "    .dataframe tbody tr th:only-of-type {\n",
       "        vertical-align: middle;\n",
       "    }\n",
       "\n",
       "    .dataframe tbody tr th {\n",
       "        vertical-align: top;\n",
       "    }\n",
       "\n",
       "    .dataframe thead th {\n",
       "        text-align: right;\n",
       "    }\n",
       "</style>\n",
       "<table border=\"1\" class=\"dataframe\">\n",
       "  <thead>\n",
       "    <tr style=\"text-align: right;\">\n",
       "      <th></th>\n",
       "      <th>Order ID</th>\n",
       "      <th>Date</th>\n",
       "      <th>Product</th>\n",
       "      <th>Price</th>\n",
       "      <th>Quantity</th>\n",
       "      <th>Purchase Type</th>\n",
       "      <th>Payment Method</th>\n",
       "      <th>Manager</th>\n",
       "      <th>City</th>\n",
       "    </tr>\n",
       "  </thead>\n",
       "  <tbody>\n",
       "    <tr>\n",
       "      <th>61</th>\n",
       "      <td>10483</td>\n",
       "      <td>2022-11-13 00:00:00</td>\n",
       "      <td>Beverages</td>\n",
       "      <td>2.95</td>\n",
       "      <td>677.966102</td>\n",
       "      <td>In-store</td>\n",
       "      <td>Credit Card</td>\n",
       "      <td>Joao Silva</td>\n",
       "      <td>Lisbon</td>\n",
       "    </tr>\n",
       "  </tbody>\n",
       "</table>\n",
       "</div>"
      ],
      "text/plain": [
       "0  Order ID                 Date    Product Price    Quantity Purchase Type  \\\n",
       "61    10483  2022-11-13 00:00:00  Beverages  2.95  677.966102     In-store    \n",
       "\n",
       "0  Payment Method     Manager    City  \n",
       "61    Credit Card  Joao Silva  Lisbon  "
      ]
     },
     "execution_count": 239,
     "metadata": {},
     "output_type": "execute_result"
    }
   ],
   "source": [
    "data[data['Order ID'] == 10483]"
   ]
  },
  {
   "cell_type": "code",
   "execution_count": 240,
   "id": "57baba42",
   "metadata": {},
   "outputs": [],
   "source": [
    "data.drop([33, 34], inplace=True)         # to remove one or more rows with the index numbers"
   ]
  },
  {
   "cell_type": "code",
   "execution_count": 241,
   "id": "dd91ec6a",
   "metadata": {},
   "outputs": [
    {
     "data": {
      "application/vnd.microsoft.datawrangler.viewer.v0+json": {
       "columns": [
        {
         "name": "index",
         "rawType": "int64",
         "type": "integer"
        },
        {
         "name": "Order ID",
         "rawType": "object",
         "type": "unknown"
        },
        {
         "name": "Date",
         "rawType": "object",
         "type": "unknown"
        },
        {
         "name": "Product",
         "rawType": "object",
         "type": "string"
        },
        {
         "name": "Price",
         "rawType": "object",
         "type": "unknown"
        },
        {
         "name": "Quantity",
         "rawType": "object",
         "type": "unknown"
        },
        {
         "name": "Purchase Type",
         "rawType": "object",
         "type": "string"
        },
        {
         "name": "Payment Method",
         "rawType": "object",
         "type": "string"
        },
        {
         "name": "Manager",
         "rawType": "object",
         "type": "string"
        },
        {
         "name": "City",
         "rawType": "object",
         "type": "string"
        }
       ],
       "ref": "eee98f09-9840-4779-b09e-9c767a32a4eb",
       "rows": [
        [
         "62",
         "10484",
         "2022-11-13 00:00:00",
         "Sides & Other",
         "4.99",
         "200.4008016032064",
         "In-store ",
         " Credit Card",
         "Joao Silva",
         "Lisbon"
        ]
       ],
       "shape": {
        "columns": 9,
        "rows": 1
       }
      },
      "text/html": [
       "<div>\n",
       "<style scoped>\n",
       "    .dataframe tbody tr th:only-of-type {\n",
       "        vertical-align: middle;\n",
       "    }\n",
       "\n",
       "    .dataframe tbody tr th {\n",
       "        vertical-align: top;\n",
       "    }\n",
       "\n",
       "    .dataframe thead th {\n",
       "        text-align: right;\n",
       "    }\n",
       "</style>\n",
       "<table border=\"1\" class=\"dataframe\">\n",
       "  <thead>\n",
       "    <tr style=\"text-align: right;\">\n",
       "      <th></th>\n",
       "      <th>Order ID</th>\n",
       "      <th>Date</th>\n",
       "      <th>Product</th>\n",
       "      <th>Price</th>\n",
       "      <th>Quantity</th>\n",
       "      <th>Purchase Type</th>\n",
       "      <th>Payment Method</th>\n",
       "      <th>Manager</th>\n",
       "      <th>City</th>\n",
       "    </tr>\n",
       "  </thead>\n",
       "  <tbody>\n",
       "    <tr>\n",
       "      <th>62</th>\n",
       "      <td>10484</td>\n",
       "      <td>2022-11-13 00:00:00</td>\n",
       "      <td>Sides &amp; Other</td>\n",
       "      <td>4.99</td>\n",
       "      <td>200.400802</td>\n",
       "      <td>In-store</td>\n",
       "      <td>Credit Card</td>\n",
       "      <td>Joao Silva</td>\n",
       "      <td>Lisbon</td>\n",
       "    </tr>\n",
       "  </tbody>\n",
       "</table>\n",
       "</div>"
      ],
      "text/plain": [
       "0  Order ID                 Date        Product Price    Quantity  \\\n",
       "62    10484  2022-11-13 00:00:00  Sides & Other  4.99  200.400802   \n",
       "\n",
       "0  Purchase Type Payment Method     Manager    City  \n",
       "62     In-store     Credit Card  Joao Silva  Lisbon  "
      ]
     },
     "execution_count": 241,
     "metadata": {},
     "output_type": "execute_result"
    }
   ],
   "source": [
    "data[data['Order ID'] == 10484]"
   ]
  },
  {
   "cell_type": "code",
   "execution_count": 242,
   "id": "b208afce",
   "metadata": {},
   "outputs": [
    {
     "data": {
      "application/vnd.microsoft.datawrangler.viewer.v0+json": {
       "columns": [
        {
         "name": "index",
         "rawType": "int64",
         "type": "integer"
        },
        {
         "name": "Order ID",
         "rawType": "object",
         "type": "unknown"
        },
        {
         "name": "Date",
         "rawType": "object",
         "type": "unknown"
        },
        {
         "name": "Product",
         "rawType": "object",
         "type": "string"
        },
        {
         "name": "Price",
         "rawType": "object",
         "type": "unknown"
        },
        {
         "name": "Quantity",
         "rawType": "object",
         "type": "unknown"
        },
        {
         "name": "Purchase Type",
         "rawType": "object",
         "type": "string"
        },
        {
         "name": "Payment Method",
         "rawType": "object",
         "type": "string"
        },
        {
         "name": "Manager",
         "rawType": "object",
         "type": "string"
        },
        {
         "name": "City",
         "rawType": "object",
         "type": "string"
        }
       ],
       "ref": "5455f8c2-ab56-4072-ac93-a81c6b5f1038",
       "rows": [
        [
         "63",
         "10485",
         "2022-11-14 00:00:00",
         "Burgers",
         "12.99",
         "523.4795996920708",
         "In-store ",
         " Credit Card",
         "Joao Silva",
         "Lisbon"
        ]
       ],
       "shape": {
        "columns": 9,
        "rows": 1
       }
      },
      "text/html": [
       "<div>\n",
       "<style scoped>\n",
       "    .dataframe tbody tr th:only-of-type {\n",
       "        vertical-align: middle;\n",
       "    }\n",
       "\n",
       "    .dataframe tbody tr th {\n",
       "        vertical-align: top;\n",
       "    }\n",
       "\n",
       "    .dataframe thead th {\n",
       "        text-align: right;\n",
       "    }\n",
       "</style>\n",
       "<table border=\"1\" class=\"dataframe\">\n",
       "  <thead>\n",
       "    <tr style=\"text-align: right;\">\n",
       "      <th></th>\n",
       "      <th>Order ID</th>\n",
       "      <th>Date</th>\n",
       "      <th>Product</th>\n",
       "      <th>Price</th>\n",
       "      <th>Quantity</th>\n",
       "      <th>Purchase Type</th>\n",
       "      <th>Payment Method</th>\n",
       "      <th>Manager</th>\n",
       "      <th>City</th>\n",
       "    </tr>\n",
       "  </thead>\n",
       "  <tbody>\n",
       "    <tr>\n",
       "      <th>63</th>\n",
       "      <td>10485</td>\n",
       "      <td>2022-11-14 00:00:00</td>\n",
       "      <td>Burgers</td>\n",
       "      <td>12.99</td>\n",
       "      <td>523.4796</td>\n",
       "      <td>In-store</td>\n",
       "      <td>Credit Card</td>\n",
       "      <td>Joao Silva</td>\n",
       "      <td>Lisbon</td>\n",
       "    </tr>\n",
       "  </tbody>\n",
       "</table>\n",
       "</div>"
      ],
      "text/plain": [
       "0  Order ID                 Date  Product  Price  Quantity Purchase Type  \\\n",
       "63    10485  2022-11-14 00:00:00  Burgers  12.99  523.4796     In-store    \n",
       "\n",
       "0  Payment Method     Manager    City  \n",
       "63    Credit Card  Joao Silva  Lisbon  "
      ]
     },
     "execution_count": 242,
     "metadata": {},
     "output_type": "execute_result"
    }
   ],
   "source": [
    "data[data['Order ID'] == 10485]"
   ]
  },
  {
   "cell_type": "code",
   "execution_count": 243,
   "id": "3e849fbc",
   "metadata": {},
   "outputs": [
    {
     "data": {
      "application/vnd.microsoft.datawrangler.viewer.v0+json": {
       "columns": [
        {
         "name": "index",
         "rawType": "int64",
         "type": "integer"
        },
        {
         "name": "Order ID",
         "rawType": "object",
         "type": "string"
        },
        {
         "name": "Date",
         "rawType": "object",
         "type": "string"
        },
        {
         "name": "Product",
         "rawType": "object",
         "type": "string"
        },
        {
         "name": "Price",
         "rawType": "object",
         "type": "string"
        },
        {
         "name": "Quantity",
         "rawType": "object",
         "type": "string"
        },
        {
         "name": "Purchase Type",
         "rawType": "object",
         "type": "string"
        },
        {
         "name": "Payment Method",
         "rawType": "object",
         "type": "string"
        },
        {
         "name": "Manager",
         "rawType": "object",
         "type": "string"
        },
        {
         "name": "City",
         "rawType": "object",
         "type": "string"
        }
       ],
       "ref": "d44e0dc9-b398-4ffd-b26d-7ea8f6550710",
       "rows": [],
       "shape": {
        "columns": 9,
        "rows": 0
       }
      },
      "text/html": [
       "<div>\n",
       "<style scoped>\n",
       "    .dataframe tbody tr th:only-of-type {\n",
       "        vertical-align: middle;\n",
       "    }\n",
       "\n",
       "    .dataframe tbody tr th {\n",
       "        vertical-align: top;\n",
       "    }\n",
       "\n",
       "    .dataframe thead th {\n",
       "        text-align: right;\n",
       "    }\n",
       "</style>\n",
       "<table border=\"1\" class=\"dataframe\">\n",
       "  <thead>\n",
       "    <tr style=\"text-align: right;\">\n",
       "      <th></th>\n",
       "      <th>Order ID</th>\n",
       "      <th>Date</th>\n",
       "      <th>Product</th>\n",
       "      <th>Price</th>\n",
       "      <th>Quantity</th>\n",
       "      <th>Purchase Type</th>\n",
       "      <th>Payment Method</th>\n",
       "      <th>Manager</th>\n",
       "      <th>City</th>\n",
       "    </tr>\n",
       "  </thead>\n",
       "  <tbody>\n",
       "  </tbody>\n",
       "</table>\n",
       "</div>"
      ],
      "text/plain": [
       "Empty DataFrame\n",
       "Columns: [Order ID, Date, Product, Price, Quantity, Purchase Type, Payment Method, Manager, City]\n",
       "Index: []"
      ]
     },
     "execution_count": 243,
     "metadata": {},
     "output_type": "execute_result"
    }
   ],
   "source": [
    "data[data['Order ID'].duplicated()]             # to check the duplicate records in a column"
   ]
  },
  {
   "cell_type": "code",
   "execution_count": 244,
   "id": "22ef3e7f",
   "metadata": {},
   "outputs": [
    {
     "data": {
      "application/vnd.microsoft.datawrangler.viewer.v0+json": {
       "columns": [
        {
         "name": "index",
         "rawType": "int64",
         "type": "integer"
        },
        {
         "name": "Order ID",
         "rawType": "object",
         "type": "unknown"
        },
        {
         "name": "Date",
         "rawType": "object",
         "type": "unknown"
        },
        {
         "name": "Product",
         "rawType": "object",
         "type": "string"
        },
        {
         "name": "Price",
         "rawType": "object",
         "type": "unknown"
        },
        {
         "name": "Quantity",
         "rawType": "object",
         "type": "unknown"
        },
        {
         "name": "Purchase Type",
         "rawType": "object",
         "type": "string"
        },
        {
         "name": "Payment Method",
         "rawType": "object",
         "type": "string"
        },
        {
         "name": "Manager",
         "rawType": "object",
         "type": "string"
        },
        {
         "name": "City",
         "rawType": "object",
         "type": "string"
        }
       ],
       "ref": "d96482d4-c77b-4570-a2f9-6d5a7e0b0ab9",
       "rows": [
        [
         "1",
         "10452",
         "2022-11-07 00:00:00",
         "Fries",
         "3.49",
         "573.0659025787965",
         "Online ",
         " Gift Card",
         "Tom Jackson",
         "London"
        ],
        [
         "2",
         "10453",
         "2022-11-07 00:00:00",
         "Beverages",
         "2.95",
         "745.7627118644067",
         "Online ",
         " Gift Card",
         "Pablo Perez",
         "Madrid"
        ],
        [
         "3",
         "10454",
         "2022-11-07 00:00:00",
         "Sides & Other",
         "4.99",
         "200.4008016032064",
         "In-store ",
         " Gift Card",
         "Joao Silva",
         "Lisbon"
        ],
        [
         "4",
         "10455",
         "2022-11-08 00:00:00",
         "Burgers",
         "12.99",
         "569.6689761354888",
         "In-store ",
         " Credit Card",
         "Walter Muller",
         "Berlin"
        ],
        [
         "5",
         "10456",
         "2022-11-08 00:00:00",
         "Chicken Sandwiches",
         "9.95",
         "201.00502512562818",
         "In-store ",
         " Credit Card",
         "Walter Muller",
         "Berlin"
        ],
        [
         "6",
         "10457",
         "2022-11-08 00:00:00",
         "Fries",
         "3.49",
         "573.0659025787965",
         "In-store ",
         " Credit Card",
         "Remy Monet",
         "Paris"
        ],
        [
         "7",
         "10459",
         "2022-11-08 00:00:00",
         "Sides & Other",
         "4.99",
         "200.4008016032064",
         "In-store ",
         " Credit Card",
         "Walter Muller",
         "Berlin"
        ],
        [
         "8",
         "10460",
         "2022-11-09 00:00:00",
         "Burgers",
         "12.99",
         "554.2725173210162",
         "In-store ",
         " Credit Card",
         "Remy Monet",
         "Paris"
        ],
        [
         "9",
         "10461",
         "2022-11-09 00:00:00",
         "Chicken Sandwiches",
         "9.95",
         "201.00502512562818",
         "In-store ",
         " Credit Card",
         "Remy Monet",
         "Paris"
        ],
        [
         "10",
         "10462",
         "2022-11-09 00:00:00",
         "Fries",
         "3.49",
         "573.0659025787965",
         "In-store ",
         " Credit Card",
         "Remy Monet",
         "Paris"
        ],
        [
         "11",
         "10463",
         "2022-11-09 00:00:00",
         "Beverages",
         "2.95",
         "677.9661016949152",
         "In-store ",
         " Credit Card",
         "Remy Monet",
         "Paris"
        ],
        [
         "12",
         "10464",
         "2022-11-09 00:00:00",
         "Sides & Other",
         "4.99",
         "200.4008016032064",
         "In-store ",
         " Credit Card",
         "Remy Monet",
         "Paris"
        ],
        [
         "13",
         "10465",
         "2022-11-10 00:00:00",
         "Burgers",
         "12.99",
         "554.2725173210162",
         "In-store ",
         " Credit Card",
         "Pablo Perez",
         "Madrid"
        ],
        [
         "14",
         "10466",
         "2022-11-10 00:00:00",
         "Chicken Sandwiches",
         "9.95",
         "201.00502512562818",
         "In-store ",
         " Credit Card",
         "Pablo Perez",
         "Madrid"
        ],
        [
         "15",
         "10467",
         "2022-11-10 00:00:00",
         "Fries",
         "3.49",
         "573.0659025787965",
         "In-store ",
         " Credit Card",
         "Pablo Perez",
         "Madrid"
        ],
        [
         "16",
         "10468",
         "2022-11-10 00:00:00",
         "Beverages",
         "2.95",
         "677.9661016949152",
         "In-store ",
         " Credit Card",
         "Pablo Perez",
         "Madrid"
        ],
        [
         "17",
         "10470",
         "2022-11-11 00:00:00",
         "Burgers",
         "12.99",
         "554.2725173210162",
         "In-store ",
         " Credit Card",
         "Pablo Perez",
         "Madrid"
        ],
        [
         "18",
         "10471",
         "2022-11-11 00:00:00",
         "Chicken Sandwiches",
         "9.95",
         "201.00502512562818",
         "In-store ",
         " Credit Card",
         "Pablo Perez",
         "Madrid"
        ],
        [
         "19",
         "10472",
         "2022-11-11 00:00:00",
         "Fries",
         "3.49",
         "630.3724928366762",
         "In-store ",
         " Credit Card",
         "Pablo Perez",
         "Madrid"
        ],
        [
         "20",
         "10473",
         "2022-11-11 00:00:00",
         "Beverages",
         "2.95",
         "677.9661016949152",
         "In-store ",
         " Credit Card",
         "Pablo Perez",
         "Madrid"
        ],
        [
         "21",
         "10474",
         "2022-11-11 00:00:00",
         "Sides & Other",
         "4.99",
         "200.4008016032064",
         "In-store ",
         " Credit Card",
         "Pablo Perez",
         "Madrid"
        ],
        [
         "22",
         "10475",
         "2022-11-12 00:00:00",
         "Burgers",
         "12.99",
         "523.4795996920708",
         "In-store ",
         " Credit Card",
         "Pablo Perez",
         "Madrid"
        ],
        [
         "23",
         "10476",
         "2022-11-12 00:00:00",
         "Chicken Sandwiches",
         "9.95",
         "201.00502512562818",
         "In-store ",
         " Credit Card",
         "Pablo Perez",
         "Madrid"
        ],
        [
         "24",
         "10477",
         "2022-11-12 00:00:00",
         "Fries",
         "3.49",
         "630.3724928366762",
         "In-store ",
         " Credit Card",
         "Pablo Perez",
         "Madrid"
        ],
        [
         "25",
         "10478",
         "2022-11-12 00:00:00",
         "Beverages",
         "2.95",
         "677.9661016949152",
         "In-store ",
         " Credit Card",
         "Pablo Perez",
         "Madrid"
        ],
        [
         "26",
         "10479",
         "2022-11-12 00:00:00",
         "Sides & Other",
         "4.99",
         "200.4008016032064",
         "In-store ",
         " Credit Card",
         "Pablo Perez",
         "Madrid"
        ],
        [
         "27",
         "10480",
         "2022-11-13 00:00:00",
         "Burgers",
         "12.99",
         "508.08314087759817",
         "In-store ",
         " Credit Card",
         "Pablo Perez",
         "Madrid"
        ],
        [
         "28",
         "10481",
         "2022-11-13 00:00:00",
         "Chicken Sandwiches",
         "9.95",
         "201.00502512562818",
         "In-store ",
         " Credit Card",
         "Pablo Perez",
         "Madrid"
        ],
        [
         "29",
         "10482",
         "2022-11-13 00:00:00",
         "Fries",
         "25.5",
         "630.3724928366762",
         "In-store ",
         " Credit Card",
         "Joao Silva",
         "Lisbon"
        ],
        [
         "30",
         "10486",
         "2022-11-14 00:00:00",
         "Chicken Sandwiches",
         "29.05",
         "201.00502512562818",
         "In-store ",
         " Credit Card",
         "Joao Silva",
         "Lisbon"
        ],
        [
         "31",
         "10487",
         "2022-11-14 00:00:00",
         "Fries",
         "3.49",
         "630.3724928366762",
         "In-store ",
         " Credit Card",
         "Joao Silva",
         "Lisbon"
        ],
        [
         "35",
         "10491",
         "2022-11-15 00:00:00",
         "Chicken Sandwiches",
         "9.95",
         "201.00502512562818",
         "In-store ",
         " Credit Card",
         "Pablo Perez",
         "Madrid"
        ],
        [
         "36",
         "10492",
         "2022-11-15 00:00:00",
         "Fries",
         "3.49",
         "573.0659025787965",
         "In-store ",
         " Credit Card",
         "Pablo Perez",
         "Madrid"
        ],
        [
         "37",
         "10493",
         "2022-11-15 00:00:00",
         "Beverages",
         "2.95",
         "677.9661016949152",
         "In-store ",
         " Credit Card",
         "Pablo Perez",
         "Madrid"
        ],
        [
         "38",
         "10494",
         "2022-11-15 00:00:00",
         "Sides & Other",
         "4.99",
         "200.4008016032064",
         "In-store ",
         " Credit Card",
         "Pablo Perez",
         "Madrid"
        ],
        [
         "39",
         "10495",
         "2022-11-16 00:00:00",
         "Burgers",
         "12.99",
         "508.08314087759817",
         "In-store ",
         " Credit Card",
         "Pablo Perez",
         "Madrid"
        ],
        [
         "40",
         "10496",
         "2022-11-16 00:00:00",
         "Chicken Sandwiches",
         "9.95",
         "201.00502512562818",
         "In-store ",
         " Credit Card",
         "Pablo Perez",
         "Madrid"
        ],
        [
         "41",
         "10497",
         "2022-11-16 00:00:00",
         "Fries",
         "3.49",
         "573.0659025787965",
         "In-store ",
         " Credit Card",
         "Pablo Perez",
         "Madrid"
        ],
        [
         "42",
         "10498",
         "2022-11-16 00:00:00",
         "Beverages",
         "2.95",
         "677.9661016949152",
         "Drive-thru ",
         " Credit Card",
         "Pablo Perez",
         "Madrid"
        ],
        [
         "43",
         "10499",
         "2022-11-16 00:00:00",
         "Sides & Other",
         "4.99",
         "200.4008016032064",
         "Drive-thru ",
         " Credit Card",
         "Pablo Perez",
         "Madrid"
        ],
        [
         "44",
         "10500",
         "2022-11-17 00:00:00",
         "Burgers",
         "12.99",
         "523.4795996920708",
         "Drive-thru ",
         " Credit Card",
         "Pablo Perez",
         "Madrid"
        ],
        [
         "45",
         "10501",
         "2022-11-17 00:00:00",
         "Chicken Sandwiches",
         "9.95",
         "201.00502512562818",
         "Drive-thru ",
         " Credit Card",
         "Pablo Perez",
         "Madrid"
        ],
        [
         "46",
         "10502",
         "2022-11-17 00:00:00",
         "Fries",
         "3.49",
         "630.3724928366762",
         "Drive-thru ",
         " Credit Card",
         "Pablo Perez",
         "Madrid"
        ],
        [
         "47",
         "10503",
         "2022-11-17 00:00:00",
         "Beverages",
         "2.95",
         "677.9661016949152",
         "Drive-thru ",
         " Credit Card",
         "Pablo Perez",
         "Madrid"
        ],
        [
         "48",
         "10504",
         "2022-11-17 00:00:00",
         "Sides & Other",
         "4.99",
         "200.4008016032064",
         "Drive-thru ",
         " Credit Card",
         "Pablo Perez",
         "Madrid"
        ],
        [
         "49",
         "10505",
         "2022-11-18 00:00:00",
         "Burgers",
         "12.99",
         "538.8760585065435",
         "Drive-thru ",
         " Credit Card",
         "Pablo Perez",
         "Madrid"
        ],
        [
         "50",
         "10506",
         "2022-11-18 00:00:00",
         "Chicken Sandwiches",
         "9.95",
         "201.00502512562818",
         "Drive-thru ",
         " Credit Card",
         "Pablo Perez",
         "Madrid"
        ],
        [
         "51",
         "10507",
         "2022-11-18 00:00:00",
         "Fries",
         "3.49",
         "687.6790830945558",
         "Drive-thru ",
         " Credit Card",
         "Pablo Perez",
         "Madrid"
        ],
        [
         "52",
         "10508",
         "2022-11-18 00:00:00",
         "Beverages",
         "2.95",
         "677.9661016949152",
         "Drive-thru ",
         " Credit Card",
         "Pablo Perez",
         "Madrid"
        ],
        [
         "53",
         "10509",
         "2022-11-18 00:00:00",
         "Sides & Other",
         "4.99",
         "200.4008016032064",
         "Drive-thru ",
         " Credit Card",
         "Pablo Perez",
         "Madrid"
        ]
       ],
       "shape": {
        "columns": 9,
        "rows": 251
       }
      },
      "text/html": [
       "<div>\n",
       "<style scoped>\n",
       "    .dataframe tbody tr th:only-of-type {\n",
       "        vertical-align: middle;\n",
       "    }\n",
       "\n",
       "    .dataframe tbody tr th {\n",
       "        vertical-align: top;\n",
       "    }\n",
       "\n",
       "    .dataframe thead th {\n",
       "        text-align: right;\n",
       "    }\n",
       "</style>\n",
       "<table border=\"1\" class=\"dataframe\">\n",
       "  <thead>\n",
       "    <tr style=\"text-align: right;\">\n",
       "      <th></th>\n",
       "      <th>Order ID</th>\n",
       "      <th>Date</th>\n",
       "      <th>Product</th>\n",
       "      <th>Price</th>\n",
       "      <th>Quantity</th>\n",
       "      <th>Purchase Type</th>\n",
       "      <th>Payment Method</th>\n",
       "      <th>Manager</th>\n",
       "      <th>City</th>\n",
       "    </tr>\n",
       "  </thead>\n",
       "  <tbody>\n",
       "    <tr>\n",
       "      <th>1</th>\n",
       "      <td>10452</td>\n",
       "      <td>2022-11-07 00:00:00</td>\n",
       "      <td>Fries</td>\n",
       "      <td>3.49</td>\n",
       "      <td>573.065903</td>\n",
       "      <td>Online</td>\n",
       "      <td>Gift Card</td>\n",
       "      <td>Tom Jackson</td>\n",
       "      <td>London</td>\n",
       "    </tr>\n",
       "    <tr>\n",
       "      <th>2</th>\n",
       "      <td>10453</td>\n",
       "      <td>2022-11-07 00:00:00</td>\n",
       "      <td>Beverages</td>\n",
       "      <td>2.95</td>\n",
       "      <td>745.762712</td>\n",
       "      <td>Online</td>\n",
       "      <td>Gift Card</td>\n",
       "      <td>Pablo Perez</td>\n",
       "      <td>Madrid</td>\n",
       "    </tr>\n",
       "    <tr>\n",
       "      <th>3</th>\n",
       "      <td>10454</td>\n",
       "      <td>2022-11-07 00:00:00</td>\n",
       "      <td>Sides &amp; Other</td>\n",
       "      <td>4.99</td>\n",
       "      <td>200.400802</td>\n",
       "      <td>In-store</td>\n",
       "      <td>Gift Card</td>\n",
       "      <td>Joao Silva</td>\n",
       "      <td>Lisbon</td>\n",
       "    </tr>\n",
       "    <tr>\n",
       "      <th>4</th>\n",
       "      <td>10455</td>\n",
       "      <td>2022-11-08 00:00:00</td>\n",
       "      <td>Burgers</td>\n",
       "      <td>12.99</td>\n",
       "      <td>569.668976</td>\n",
       "      <td>In-store</td>\n",
       "      <td>Credit Card</td>\n",
       "      <td>Walter Muller</td>\n",
       "      <td>Berlin</td>\n",
       "    </tr>\n",
       "    <tr>\n",
       "      <th>5</th>\n",
       "      <td>10456</td>\n",
       "      <td>2022-11-08 00:00:00</td>\n",
       "      <td>Chicken Sandwiches</td>\n",
       "      <td>9.95</td>\n",
       "      <td>201.005025</td>\n",
       "      <td>In-store</td>\n",
       "      <td>Credit Card</td>\n",
       "      <td>Walter Muller</td>\n",
       "      <td>Berlin</td>\n",
       "    </tr>\n",
       "    <tr>\n",
       "      <th>...</th>\n",
       "      <td>...</td>\n",
       "      <td>...</td>\n",
       "      <td>...</td>\n",
       "      <td>...</td>\n",
       "      <td>...</td>\n",
       "      <td>...</td>\n",
       "      <td>...</td>\n",
       "      <td>...</td>\n",
       "      <td>...</td>\n",
       "    </tr>\n",
       "    <tr>\n",
       "      <th>250</th>\n",
       "      <td>10709</td>\n",
       "      <td>2022-12-28 00:00:00</td>\n",
       "      <td>Sides &amp; Other</td>\n",
       "      <td>4.99</td>\n",
       "      <td>200.400802</td>\n",
       "      <td>Drive-thru</td>\n",
       "      <td>Gift Card</td>\n",
       "      <td>Walter Muller</td>\n",
       "      <td>Berlin</td>\n",
       "    </tr>\n",
       "    <tr>\n",
       "      <th>251</th>\n",
       "      <td>10710</td>\n",
       "      <td>2022-12-29 00:00:00</td>\n",
       "      <td>Burgers</td>\n",
       "      <td>12.99</td>\n",
       "      <td>754.426482</td>\n",
       "      <td>Drive-thru</td>\n",
       "      <td>Gift Card</td>\n",
       "      <td>Walter Muller</td>\n",
       "      <td>Berlin</td>\n",
       "    </tr>\n",
       "    <tr>\n",
       "      <th>252</th>\n",
       "      <td>10711</td>\n",
       "      <td>2022-12-29 00:00:00</td>\n",
       "      <td>Chicken Sandwiches</td>\n",
       "      <td>9.95</td>\n",
       "      <td>281.407035</td>\n",
       "      <td>Drive-thru</td>\n",
       "      <td>Gift Card</td>\n",
       "      <td>Walter Muller</td>\n",
       "      <td>Berlin</td>\n",
       "    </tr>\n",
       "    <tr>\n",
       "      <th>253</th>\n",
       "      <td>10712</td>\n",
       "      <td>2022-12-29 00:00:00</td>\n",
       "      <td>Fries</td>\n",
       "      <td>3.49</td>\n",
       "      <td>630.372493</td>\n",
       "      <td>Drive-thru</td>\n",
       "      <td>Gift Card</td>\n",
       "      <td>Walter Muller</td>\n",
       "      <td>Berlin</td>\n",
       "    </tr>\n",
       "    <tr>\n",
       "      <th>254</th>\n",
       "      <td>10713</td>\n",
       "      <td>2022-12-29 00:00:00</td>\n",
       "      <td>Beverages</td>\n",
       "      <td>2.95</td>\n",
       "      <td>677.966102</td>\n",
       "      <td>Drive-thru</td>\n",
       "      <td>Gift Card</td>\n",
       "      <td>Walter Muller</td>\n",
       "      <td>Berlin</td>\n",
       "    </tr>\n",
       "  </tbody>\n",
       "</table>\n",
       "<p>251 rows × 9 columns</p>\n",
       "</div>"
      ],
      "text/plain": [
       "0   Order ID                 Date             Product  Price    Quantity  \\\n",
       "1      10452  2022-11-07 00:00:00               Fries   3.49  573.065903   \n",
       "2      10453  2022-11-07 00:00:00           Beverages   2.95  745.762712   \n",
       "3      10454  2022-11-07 00:00:00       Sides & Other   4.99  200.400802   \n",
       "4      10455  2022-11-08 00:00:00             Burgers  12.99  569.668976   \n",
       "5      10456  2022-11-08 00:00:00  Chicken Sandwiches   9.95  201.005025   \n",
       "..       ...                  ...                 ...    ...         ...   \n",
       "250    10709  2022-12-28 00:00:00       Sides & Other   4.99  200.400802   \n",
       "251    10710  2022-12-29 00:00:00             Burgers  12.99  754.426482   \n",
       "252    10711  2022-12-29 00:00:00  Chicken Sandwiches   9.95  281.407035   \n",
       "253    10712  2022-12-29 00:00:00               Fries   3.49  630.372493   \n",
       "254    10713  2022-12-29 00:00:00           Beverages   2.95  677.966102   \n",
       "\n",
       "0   Purchase Type Payment Method        Manager    City  \n",
       "1         Online       Gift Card    Tom Jackson  London  \n",
       "2         Online       Gift Card    Pablo Perez  Madrid  \n",
       "3       In-store       Gift Card     Joao Silva  Lisbon  \n",
       "4       In-store     Credit Card  Walter Muller  Berlin  \n",
       "5       In-store     Credit Card  Walter Muller  Berlin  \n",
       "..            ...            ...            ...     ...  \n",
       "250   Drive-thru       Gift Card  Walter Muller  Berlin  \n",
       "251   Drive-thru       Gift Card  Walter Muller  Berlin  \n",
       "252   Drive-thru       Gift Card  Walter Muller  Berlin  \n",
       "253   Drive-thru       Gift Card  Walter Muller  Berlin  \n",
       "254   Drive-thru       Gift Card  Walter Muller  Berlin  \n",
       "\n",
       "[251 rows x 9 columns]"
      ]
     },
     "execution_count": 244,
     "metadata": {},
     "output_type": "execute_result"
    }
   ],
   "source": [
    "data"
   ]
  },
  {
   "cell_type": "markdown",
   "id": "0b47713a",
   "metadata": {},
   "source": [
    "#### Converting the datatype of columns"
   ]
  },
  {
   "cell_type": "code",
   "execution_count": 245,
   "id": "9d86aeab",
   "metadata": {},
   "outputs": [
    {
     "name": "stdout",
     "output_type": "stream",
     "text": [
      "<class 'pandas.core.frame.DataFrame'>\n",
      "Index: 251 entries, 1 to 254\n",
      "Data columns (total 9 columns):\n",
      " #   Column          Non-Null Count  Dtype \n",
      "---  ------          --------------  ----- \n",
      " 0   Order ID        251 non-null    object\n",
      " 1   Date            251 non-null    object\n",
      " 2   Product         251 non-null    object\n",
      " 3   Price           251 non-null    object\n",
      " 4   Quantity        251 non-null    object\n",
      " 5   Purchase Type   251 non-null    object\n",
      " 6   Payment Method  251 non-null    object\n",
      " 7   Manager         251 non-null    object\n",
      " 8   City            251 non-null    object\n",
      "dtypes: object(9)\n",
      "memory usage: 19.6+ KB\n"
     ]
    }
   ],
   "source": [
    "data.info()                               # to get some basic info about the dataframe"
   ]
  },
  {
   "cell_type": "code",
   "execution_count": 246,
   "id": "d557d88c",
   "metadata": {},
   "outputs": [],
   "source": [
    "data.Quantity = data.Quantity.astype(float)  # to change the datatype of a column"
   ]
  },
  {
   "cell_type": "code",
   "execution_count": 247,
   "id": "c523e4b1",
   "metadata": {},
   "outputs": [
    {
     "name": "stdout",
     "output_type": "stream",
     "text": [
      "<class 'pandas.core.frame.DataFrame'>\n",
      "Index: 251 entries, 1 to 254\n",
      "Data columns (total 9 columns):\n",
      " #   Column          Non-Null Count  Dtype  \n",
      "---  ------          --------------  -----  \n",
      " 0   Order ID        251 non-null    object \n",
      " 1   Date            251 non-null    object \n",
      " 2   Product         251 non-null    object \n",
      " 3   Price           251 non-null    object \n",
      " 4   Quantity        251 non-null    float64\n",
      " 5   Purchase Type   251 non-null    object \n",
      " 6   Payment Method  251 non-null    object \n",
      " 7   Manager         251 non-null    object \n",
      " 8   City            251 non-null    object \n",
      "dtypes: float64(1), object(8)\n",
      "memory usage: 19.6+ KB\n"
     ]
    }
   ],
   "source": [
    "data.info()                                  # to get some basic info about the dataframe"
   ]
  },
  {
   "cell_type": "code",
   "execution_count": 248,
   "id": "6ba55f7b",
   "metadata": {},
   "outputs": [],
   "source": [
    "data.Quantity = data.Quantity.round()              # to round-off the values of a column"
   ]
  },
  {
   "cell_type": "code",
   "execution_count": 249,
   "id": "fd42f09d",
   "metadata": {},
   "outputs": [
    {
     "data": {
      "application/vnd.microsoft.datawrangler.viewer.v0+json": {
       "columns": [
        {
         "name": "index",
         "rawType": "int64",
         "type": "integer"
        },
        {
         "name": "Quantity",
         "rawType": "float64",
         "type": "float"
        }
       ],
       "ref": "361ec811-2c2f-43e4-b28d-427253de56b0",
       "rows": [
        [
         "1",
         "573.0"
        ],
        [
         "2",
         "746.0"
        ],
        [
         "3",
         "200.0"
        ],
        [
         "4",
         "570.0"
        ],
        [
         "5",
         "201.0"
        ],
        [
         "6",
         "573.0"
        ],
        [
         "7",
         "200.0"
        ],
        [
         "8",
         "554.0"
        ],
        [
         "9",
         "201.0"
        ],
        [
         "10",
         "573.0"
        ],
        [
         "11",
         "678.0"
        ],
        [
         "12",
         "200.0"
        ],
        [
         "13",
         "554.0"
        ],
        [
         "14",
         "201.0"
        ],
        [
         "15",
         "573.0"
        ],
        [
         "16",
         "678.0"
        ],
        [
         "17",
         "554.0"
        ],
        [
         "18",
         "201.0"
        ],
        [
         "19",
         "630.0"
        ],
        [
         "20",
         "678.0"
        ],
        [
         "21",
         "200.0"
        ],
        [
         "22",
         "523.0"
        ],
        [
         "23",
         "201.0"
        ],
        [
         "24",
         "630.0"
        ],
        [
         "25",
         "678.0"
        ],
        [
         "26",
         "200.0"
        ],
        [
         "27",
         "508.0"
        ],
        [
         "28",
         "201.0"
        ],
        [
         "29",
         "630.0"
        ],
        [
         "30",
         "201.0"
        ],
        [
         "31",
         "630.0"
        ],
        [
         "35",
         "201.0"
        ],
        [
         "36",
         "573.0"
        ],
        [
         "37",
         "678.0"
        ],
        [
         "38",
         "200.0"
        ],
        [
         "39",
         "508.0"
        ],
        [
         "40",
         "201.0"
        ],
        [
         "41",
         "573.0"
        ],
        [
         "42",
         "678.0"
        ],
        [
         "43",
         "200.0"
        ],
        [
         "44",
         "523.0"
        ],
        [
         "45",
         "201.0"
        ],
        [
         "46",
         "630.0"
        ],
        [
         "47",
         "678.0"
        ],
        [
         "48",
         "200.0"
        ],
        [
         "49",
         "539.0"
        ],
        [
         "50",
         "201.0"
        ],
        [
         "51",
         "688.0"
        ],
        [
         "52",
         "678.0"
        ],
        [
         "53",
         "200.0"
        ]
       ],
       "shape": {
        "columns": 1,
        "rows": 251
       }
      },
      "text/plain": [
       "1      573.0\n",
       "2      746.0\n",
       "3      200.0\n",
       "4      570.0\n",
       "5      201.0\n",
       "       ...  \n",
       "250    200.0\n",
       "251    754.0\n",
       "252    281.0\n",
       "253    630.0\n",
       "254    678.0\n",
       "Name: Quantity, Length: 251, dtype: float64"
      ]
     },
     "execution_count": 249,
     "metadata": {},
     "output_type": "execute_result"
    }
   ],
   "source": [
    "data.Quantity"
   ]
  },
  {
   "cell_type": "code",
   "execution_count": 250,
   "id": "03c43020",
   "metadata": {},
   "outputs": [],
   "source": [
    "data.Quantity = data.Quantity.astype(int)             # to change the datatype of a column"
   ]
  },
  {
   "cell_type": "code",
   "execution_count": 251,
   "id": "1030c320",
   "metadata": {},
   "outputs": [
    {
     "data": {
      "application/vnd.microsoft.datawrangler.viewer.v0+json": {
       "columns": [
        {
         "name": "index",
         "rawType": "int64",
         "type": "integer"
        },
        {
         "name": "Quantity",
         "rawType": "int32",
         "type": "integer"
        }
       ],
       "ref": "bc280577-fdf4-4e0b-9f6d-d7101f6f10ac",
       "rows": [
        [
         "1",
         "573"
        ],
        [
         "2",
         "746"
        ],
        [
         "3",
         "200"
        ],
        [
         "4",
         "570"
        ],
        [
         "5",
         "201"
        ],
        [
         "6",
         "573"
        ],
        [
         "7",
         "200"
        ],
        [
         "8",
         "554"
        ],
        [
         "9",
         "201"
        ],
        [
         "10",
         "573"
        ],
        [
         "11",
         "678"
        ],
        [
         "12",
         "200"
        ],
        [
         "13",
         "554"
        ],
        [
         "14",
         "201"
        ],
        [
         "15",
         "573"
        ],
        [
         "16",
         "678"
        ],
        [
         "17",
         "554"
        ],
        [
         "18",
         "201"
        ],
        [
         "19",
         "630"
        ],
        [
         "20",
         "678"
        ],
        [
         "21",
         "200"
        ],
        [
         "22",
         "523"
        ],
        [
         "23",
         "201"
        ],
        [
         "24",
         "630"
        ],
        [
         "25",
         "678"
        ],
        [
         "26",
         "200"
        ],
        [
         "27",
         "508"
        ],
        [
         "28",
         "201"
        ],
        [
         "29",
         "630"
        ],
        [
         "30",
         "201"
        ],
        [
         "31",
         "630"
        ],
        [
         "35",
         "201"
        ],
        [
         "36",
         "573"
        ],
        [
         "37",
         "678"
        ],
        [
         "38",
         "200"
        ],
        [
         "39",
         "508"
        ],
        [
         "40",
         "201"
        ],
        [
         "41",
         "573"
        ],
        [
         "42",
         "678"
        ],
        [
         "43",
         "200"
        ],
        [
         "44",
         "523"
        ],
        [
         "45",
         "201"
        ],
        [
         "46",
         "630"
        ],
        [
         "47",
         "678"
        ],
        [
         "48",
         "200"
        ],
        [
         "49",
         "539"
        ],
        [
         "50",
         "201"
        ],
        [
         "51",
         "688"
        ],
        [
         "52",
         "678"
        ],
        [
         "53",
         "200"
        ]
       ],
       "shape": {
        "columns": 1,
        "rows": 251
       }
      },
      "text/plain": [
       "1      573\n",
       "2      746\n",
       "3      200\n",
       "4      570\n",
       "5      201\n",
       "      ... \n",
       "250    200\n",
       "251    754\n",
       "252    281\n",
       "253    630\n",
       "254    678\n",
       "Name: Quantity, Length: 251, dtype: int32"
      ]
     },
     "execution_count": 251,
     "metadata": {},
     "output_type": "execute_result"
    }
   ],
   "source": [
    "data['Quantity']"
   ]
  },
  {
   "cell_type": "code",
   "execution_count": 252,
   "id": "6b36d8c9",
   "metadata": {},
   "outputs": [],
   "source": [
    "data['Order ID'] = data['Order ID'].astype(int)        # to change the datatype of a column\n",
    "data['Price'] = data['Price'].astype(float)            # to change the datatype of a column"
   ]
  },
  {
   "cell_type": "code",
   "execution_count": 253,
   "id": "c234fd33",
   "metadata": {},
   "outputs": [
    {
     "name": "stdout",
     "output_type": "stream",
     "text": [
      "<class 'pandas.core.frame.DataFrame'>\n",
      "Index: 251 entries, 1 to 254\n",
      "Data columns (total 9 columns):\n",
      " #   Column          Non-Null Count  Dtype  \n",
      "---  ------          --------------  -----  \n",
      " 0   Order ID        251 non-null    int32  \n",
      " 1   Date            251 non-null    object \n",
      " 2   Product         251 non-null    object \n",
      " 3   Price           251 non-null    float64\n",
      " 4   Quantity        251 non-null    int32  \n",
      " 5   Purchase Type   251 non-null    object \n",
      " 6   Payment Method  251 non-null    object \n",
      " 7   Manager         251 non-null    object \n",
      " 8   City            251 non-null    object \n",
      "dtypes: float64(1), int32(2), object(6)\n",
      "memory usage: 17.6+ KB\n"
     ]
    }
   ],
   "source": [
    "data.info()                                       # to get some basic info about the dataframe"
   ]
  },
  {
   "cell_type": "code",
   "execution_count": 254,
   "id": "3bb709ac",
   "metadata": {},
   "outputs": [],
   "source": [
    "data.Date = pd.to_datetime(data.Date)          # to convert the datatype into datetime format"
   ]
  },
  {
   "cell_type": "code",
   "execution_count": 255,
   "id": "2c171a52",
   "metadata": {},
   "outputs": [
    {
     "data": {
      "text/plain": [
       "dtype('<M8[ns]')"
      ]
     },
     "execution_count": 255,
     "metadata": {},
     "output_type": "execute_result"
    }
   ],
   "source": [
    "data.Date.dtype                                # to check the datatype of any column"
   ]
  },
  {
   "cell_type": "code",
   "execution_count": 256,
   "id": "5707f22a",
   "metadata": {},
   "outputs": [
    {
     "name": "stdout",
     "output_type": "stream",
     "text": [
      "<class 'pandas.core.frame.DataFrame'>\n",
      "Index: 251 entries, 1 to 254\n",
      "Data columns (total 9 columns):\n",
      " #   Column          Non-Null Count  Dtype         \n",
      "---  ------          --------------  -----         \n",
      " 0   Order ID        251 non-null    int32         \n",
      " 1   Date            251 non-null    datetime64[ns]\n",
      " 2   Product         251 non-null    object        \n",
      " 3   Price           251 non-null    float64       \n",
      " 4   Quantity        251 non-null    int32         \n",
      " 5   Purchase Type   251 non-null    object        \n",
      " 6   Payment Method  251 non-null    object        \n",
      " 7   Manager         251 non-null    object        \n",
      " 8   City            251 non-null    object        \n",
      "dtypes: datetime64[ns](1), float64(1), int32(2), object(5)\n",
      "memory usage: 17.6+ KB\n"
     ]
    }
   ],
   "source": [
    "data.info()"
   ]
  },
  {
   "cell_type": "code",
   "execution_count": 257,
   "id": "b3c800e4",
   "metadata": {},
   "outputs": [
    {
     "data": {
      "application/vnd.microsoft.datawrangler.viewer.v0+json": {
       "columns": [
        {
         "name": "index",
         "rawType": "int64",
         "type": "integer"
        },
        {
         "name": "Order ID",
         "rawType": "int32",
         "type": "integer"
        },
        {
         "name": "Date",
         "rawType": "datetime64[ns]",
         "type": "datetime"
        },
        {
         "name": "Product",
         "rawType": "object",
         "type": "string"
        },
        {
         "name": "Price",
         "rawType": "float64",
         "type": "float"
        },
        {
         "name": "Quantity",
         "rawType": "int32",
         "type": "integer"
        },
        {
         "name": "Purchase Type",
         "rawType": "object",
         "type": "string"
        },
        {
         "name": "Payment Method",
         "rawType": "object",
         "type": "string"
        },
        {
         "name": "Manager",
         "rawType": "object",
         "type": "string"
        },
        {
         "name": "City",
         "rawType": "object",
         "type": "string"
        }
       ],
       "ref": "2c0207b5-0b0c-4e15-a7be-0868fafc505a",
       "rows": [
        [
         "1",
         "10452",
         "2022-11-07 00:00:00",
         "Fries",
         "3.49",
         "573",
         "Online ",
         " Gift Card",
         "Tom Jackson",
         "London"
        ],
        [
         "2",
         "10453",
         "2022-11-07 00:00:00",
         "Beverages",
         "2.95",
         "746",
         "Online ",
         " Gift Card",
         "Pablo Perez",
         "Madrid"
        ],
        [
         "3",
         "10454",
         "2022-11-07 00:00:00",
         "Sides & Other",
         "4.99",
         "200",
         "In-store ",
         " Gift Card",
         "Joao Silva",
         "Lisbon"
        ],
        [
         "4",
         "10455",
         "2022-11-08 00:00:00",
         "Burgers",
         "12.99",
         "570",
         "In-store ",
         " Credit Card",
         "Walter Muller",
         "Berlin"
        ],
        [
         "5",
         "10456",
         "2022-11-08 00:00:00",
         "Chicken Sandwiches",
         "9.95",
         "201",
         "In-store ",
         " Credit Card",
         "Walter Muller",
         "Berlin"
        ],
        [
         "6",
         "10457",
         "2022-11-08 00:00:00",
         "Fries",
         "3.49",
         "573",
         "In-store ",
         " Credit Card",
         "Remy Monet",
         "Paris"
        ],
        [
         "7",
         "10459",
         "2022-11-08 00:00:00",
         "Sides & Other",
         "4.99",
         "200",
         "In-store ",
         " Credit Card",
         "Walter Muller",
         "Berlin"
        ],
        [
         "8",
         "10460",
         "2022-11-09 00:00:00",
         "Burgers",
         "12.99",
         "554",
         "In-store ",
         " Credit Card",
         "Remy Monet",
         "Paris"
        ],
        [
         "9",
         "10461",
         "2022-11-09 00:00:00",
         "Chicken Sandwiches",
         "9.95",
         "201",
         "In-store ",
         " Credit Card",
         "Remy Monet",
         "Paris"
        ],
        [
         "10",
         "10462",
         "2022-11-09 00:00:00",
         "Fries",
         "3.49",
         "573",
         "In-store ",
         " Credit Card",
         "Remy Monet",
         "Paris"
        ],
        [
         "11",
         "10463",
         "2022-11-09 00:00:00",
         "Beverages",
         "2.95",
         "678",
         "In-store ",
         " Credit Card",
         "Remy Monet",
         "Paris"
        ],
        [
         "12",
         "10464",
         "2022-11-09 00:00:00",
         "Sides & Other",
         "4.99",
         "200",
         "In-store ",
         " Credit Card",
         "Remy Monet",
         "Paris"
        ],
        [
         "13",
         "10465",
         "2022-11-10 00:00:00",
         "Burgers",
         "12.99",
         "554",
         "In-store ",
         " Credit Card",
         "Pablo Perez",
         "Madrid"
        ],
        [
         "14",
         "10466",
         "2022-11-10 00:00:00",
         "Chicken Sandwiches",
         "9.95",
         "201",
         "In-store ",
         " Credit Card",
         "Pablo Perez",
         "Madrid"
        ],
        [
         "15",
         "10467",
         "2022-11-10 00:00:00",
         "Fries",
         "3.49",
         "573",
         "In-store ",
         " Credit Card",
         "Pablo Perez",
         "Madrid"
        ],
        [
         "16",
         "10468",
         "2022-11-10 00:00:00",
         "Beverages",
         "2.95",
         "678",
         "In-store ",
         " Credit Card",
         "Pablo Perez",
         "Madrid"
        ],
        [
         "17",
         "10470",
         "2022-11-11 00:00:00",
         "Burgers",
         "12.99",
         "554",
         "In-store ",
         " Credit Card",
         "Pablo Perez",
         "Madrid"
        ],
        [
         "18",
         "10471",
         "2022-11-11 00:00:00",
         "Chicken Sandwiches",
         "9.95",
         "201",
         "In-store ",
         " Credit Card",
         "Pablo Perez",
         "Madrid"
        ],
        [
         "19",
         "10472",
         "2022-11-11 00:00:00",
         "Fries",
         "3.49",
         "630",
         "In-store ",
         " Credit Card",
         "Pablo Perez",
         "Madrid"
        ],
        [
         "20",
         "10473",
         "2022-11-11 00:00:00",
         "Beverages",
         "2.95",
         "678",
         "In-store ",
         " Credit Card",
         "Pablo Perez",
         "Madrid"
        ],
        [
         "21",
         "10474",
         "2022-11-11 00:00:00",
         "Sides & Other",
         "4.99",
         "200",
         "In-store ",
         " Credit Card",
         "Pablo Perez",
         "Madrid"
        ],
        [
         "22",
         "10475",
         "2022-11-12 00:00:00",
         "Burgers",
         "12.99",
         "523",
         "In-store ",
         " Credit Card",
         "Pablo Perez",
         "Madrid"
        ],
        [
         "23",
         "10476",
         "2022-11-12 00:00:00",
         "Chicken Sandwiches",
         "9.95",
         "201",
         "In-store ",
         " Credit Card",
         "Pablo Perez",
         "Madrid"
        ],
        [
         "24",
         "10477",
         "2022-11-12 00:00:00",
         "Fries",
         "3.49",
         "630",
         "In-store ",
         " Credit Card",
         "Pablo Perez",
         "Madrid"
        ],
        [
         "25",
         "10478",
         "2022-11-12 00:00:00",
         "Beverages",
         "2.95",
         "678",
         "In-store ",
         " Credit Card",
         "Pablo Perez",
         "Madrid"
        ],
        [
         "26",
         "10479",
         "2022-11-12 00:00:00",
         "Sides & Other",
         "4.99",
         "200",
         "In-store ",
         " Credit Card",
         "Pablo Perez",
         "Madrid"
        ],
        [
         "27",
         "10480",
         "2022-11-13 00:00:00",
         "Burgers",
         "12.99",
         "508",
         "In-store ",
         " Credit Card",
         "Pablo Perez",
         "Madrid"
        ],
        [
         "28",
         "10481",
         "2022-11-13 00:00:00",
         "Chicken Sandwiches",
         "9.95",
         "201",
         "In-store ",
         " Credit Card",
         "Pablo Perez",
         "Madrid"
        ],
        [
         "29",
         "10482",
         "2022-11-13 00:00:00",
         "Fries",
         "25.5",
         "630",
         "In-store ",
         " Credit Card",
         "Joao Silva",
         "Lisbon"
        ],
        [
         "30",
         "10486",
         "2022-11-14 00:00:00",
         "Chicken Sandwiches",
         "29.05",
         "201",
         "In-store ",
         " Credit Card",
         "Joao Silva",
         "Lisbon"
        ],
        [
         "31",
         "10487",
         "2022-11-14 00:00:00",
         "Fries",
         "3.49",
         "630",
         "In-store ",
         " Credit Card",
         "Joao Silva",
         "Lisbon"
        ],
        [
         "35",
         "10491",
         "2022-11-15 00:00:00",
         "Chicken Sandwiches",
         "9.95",
         "201",
         "In-store ",
         " Credit Card",
         "Pablo Perez",
         "Madrid"
        ],
        [
         "36",
         "10492",
         "2022-11-15 00:00:00",
         "Fries",
         "3.49",
         "573",
         "In-store ",
         " Credit Card",
         "Pablo Perez",
         "Madrid"
        ],
        [
         "37",
         "10493",
         "2022-11-15 00:00:00",
         "Beverages",
         "2.95",
         "678",
         "In-store ",
         " Credit Card",
         "Pablo Perez",
         "Madrid"
        ],
        [
         "38",
         "10494",
         "2022-11-15 00:00:00",
         "Sides & Other",
         "4.99",
         "200",
         "In-store ",
         " Credit Card",
         "Pablo Perez",
         "Madrid"
        ],
        [
         "39",
         "10495",
         "2022-11-16 00:00:00",
         "Burgers",
         "12.99",
         "508",
         "In-store ",
         " Credit Card",
         "Pablo Perez",
         "Madrid"
        ],
        [
         "40",
         "10496",
         "2022-11-16 00:00:00",
         "Chicken Sandwiches",
         "9.95",
         "201",
         "In-store ",
         " Credit Card",
         "Pablo Perez",
         "Madrid"
        ],
        [
         "41",
         "10497",
         "2022-11-16 00:00:00",
         "Fries",
         "3.49",
         "573",
         "In-store ",
         " Credit Card",
         "Pablo Perez",
         "Madrid"
        ],
        [
         "42",
         "10498",
         "2022-11-16 00:00:00",
         "Beverages",
         "2.95",
         "678",
         "Drive-thru ",
         " Credit Card",
         "Pablo Perez",
         "Madrid"
        ],
        [
         "43",
         "10499",
         "2022-11-16 00:00:00",
         "Sides & Other",
         "4.99",
         "200",
         "Drive-thru ",
         " Credit Card",
         "Pablo Perez",
         "Madrid"
        ],
        [
         "44",
         "10500",
         "2022-11-17 00:00:00",
         "Burgers",
         "12.99",
         "523",
         "Drive-thru ",
         " Credit Card",
         "Pablo Perez",
         "Madrid"
        ],
        [
         "45",
         "10501",
         "2022-11-17 00:00:00",
         "Chicken Sandwiches",
         "9.95",
         "201",
         "Drive-thru ",
         " Credit Card",
         "Pablo Perez",
         "Madrid"
        ],
        [
         "46",
         "10502",
         "2022-11-17 00:00:00",
         "Fries",
         "3.49",
         "630",
         "Drive-thru ",
         " Credit Card",
         "Pablo Perez",
         "Madrid"
        ],
        [
         "47",
         "10503",
         "2022-11-17 00:00:00",
         "Beverages",
         "2.95",
         "678",
         "Drive-thru ",
         " Credit Card",
         "Pablo Perez",
         "Madrid"
        ],
        [
         "48",
         "10504",
         "2022-11-17 00:00:00",
         "Sides & Other",
         "4.99",
         "200",
         "Drive-thru ",
         " Credit Card",
         "Pablo Perez",
         "Madrid"
        ],
        [
         "49",
         "10505",
         "2022-11-18 00:00:00",
         "Burgers",
         "12.99",
         "539",
         "Drive-thru ",
         " Credit Card",
         "Pablo Perez",
         "Madrid"
        ],
        [
         "50",
         "10506",
         "2022-11-18 00:00:00",
         "Chicken Sandwiches",
         "9.95",
         "201",
         "Drive-thru ",
         " Credit Card",
         "Pablo Perez",
         "Madrid"
        ],
        [
         "51",
         "10507",
         "2022-11-18 00:00:00",
         "Fries",
         "3.49",
         "688",
         "Drive-thru ",
         " Credit Card",
         "Pablo Perez",
         "Madrid"
        ],
        [
         "52",
         "10508",
         "2022-11-18 00:00:00",
         "Beverages",
         "2.95",
         "678",
         "Drive-thru ",
         " Credit Card",
         "Pablo Perez",
         "Madrid"
        ],
        [
         "53",
         "10509",
         "2022-11-18 00:00:00",
         "Sides & Other",
         "4.99",
         "200",
         "Drive-thru ",
         " Credit Card",
         "Pablo Perez",
         "Madrid"
        ]
       ],
       "shape": {
        "columns": 9,
        "rows": 251
       }
      },
      "text/html": [
       "<div>\n",
       "<style scoped>\n",
       "    .dataframe tbody tr th:only-of-type {\n",
       "        vertical-align: middle;\n",
       "    }\n",
       "\n",
       "    .dataframe tbody tr th {\n",
       "        vertical-align: top;\n",
       "    }\n",
       "\n",
       "    .dataframe thead th {\n",
       "        text-align: right;\n",
       "    }\n",
       "</style>\n",
       "<table border=\"1\" class=\"dataframe\">\n",
       "  <thead>\n",
       "    <tr style=\"text-align: right;\">\n",
       "      <th></th>\n",
       "      <th>Order ID</th>\n",
       "      <th>Date</th>\n",
       "      <th>Product</th>\n",
       "      <th>Price</th>\n",
       "      <th>Quantity</th>\n",
       "      <th>Purchase Type</th>\n",
       "      <th>Payment Method</th>\n",
       "      <th>Manager</th>\n",
       "      <th>City</th>\n",
       "    </tr>\n",
       "  </thead>\n",
       "  <tbody>\n",
       "    <tr>\n",
       "      <th>1</th>\n",
       "      <td>10452</td>\n",
       "      <td>2022-11-07</td>\n",
       "      <td>Fries</td>\n",
       "      <td>3.49</td>\n",
       "      <td>573</td>\n",
       "      <td>Online</td>\n",
       "      <td>Gift Card</td>\n",
       "      <td>Tom Jackson</td>\n",
       "      <td>London</td>\n",
       "    </tr>\n",
       "    <tr>\n",
       "      <th>2</th>\n",
       "      <td>10453</td>\n",
       "      <td>2022-11-07</td>\n",
       "      <td>Beverages</td>\n",
       "      <td>2.95</td>\n",
       "      <td>746</td>\n",
       "      <td>Online</td>\n",
       "      <td>Gift Card</td>\n",
       "      <td>Pablo Perez</td>\n",
       "      <td>Madrid</td>\n",
       "    </tr>\n",
       "    <tr>\n",
       "      <th>3</th>\n",
       "      <td>10454</td>\n",
       "      <td>2022-11-07</td>\n",
       "      <td>Sides &amp; Other</td>\n",
       "      <td>4.99</td>\n",
       "      <td>200</td>\n",
       "      <td>In-store</td>\n",
       "      <td>Gift Card</td>\n",
       "      <td>Joao Silva</td>\n",
       "      <td>Lisbon</td>\n",
       "    </tr>\n",
       "    <tr>\n",
       "      <th>4</th>\n",
       "      <td>10455</td>\n",
       "      <td>2022-11-08</td>\n",
       "      <td>Burgers</td>\n",
       "      <td>12.99</td>\n",
       "      <td>570</td>\n",
       "      <td>In-store</td>\n",
       "      <td>Credit Card</td>\n",
       "      <td>Walter Muller</td>\n",
       "      <td>Berlin</td>\n",
       "    </tr>\n",
       "    <tr>\n",
       "      <th>5</th>\n",
       "      <td>10456</td>\n",
       "      <td>2022-11-08</td>\n",
       "      <td>Chicken Sandwiches</td>\n",
       "      <td>9.95</td>\n",
       "      <td>201</td>\n",
       "      <td>In-store</td>\n",
       "      <td>Credit Card</td>\n",
       "      <td>Walter Muller</td>\n",
       "      <td>Berlin</td>\n",
       "    </tr>\n",
       "    <tr>\n",
       "      <th>...</th>\n",
       "      <td>...</td>\n",
       "      <td>...</td>\n",
       "      <td>...</td>\n",
       "      <td>...</td>\n",
       "      <td>...</td>\n",
       "      <td>...</td>\n",
       "      <td>...</td>\n",
       "      <td>...</td>\n",
       "      <td>...</td>\n",
       "    </tr>\n",
       "    <tr>\n",
       "      <th>250</th>\n",
       "      <td>10709</td>\n",
       "      <td>2022-12-28</td>\n",
       "      <td>Sides &amp; Other</td>\n",
       "      <td>4.99</td>\n",
       "      <td>200</td>\n",
       "      <td>Drive-thru</td>\n",
       "      <td>Gift Card</td>\n",
       "      <td>Walter Muller</td>\n",
       "      <td>Berlin</td>\n",
       "    </tr>\n",
       "    <tr>\n",
       "      <th>251</th>\n",
       "      <td>10710</td>\n",
       "      <td>2022-12-29</td>\n",
       "      <td>Burgers</td>\n",
       "      <td>12.99</td>\n",
       "      <td>754</td>\n",
       "      <td>Drive-thru</td>\n",
       "      <td>Gift Card</td>\n",
       "      <td>Walter Muller</td>\n",
       "      <td>Berlin</td>\n",
       "    </tr>\n",
       "    <tr>\n",
       "      <th>252</th>\n",
       "      <td>10711</td>\n",
       "      <td>2022-12-29</td>\n",
       "      <td>Chicken Sandwiches</td>\n",
       "      <td>9.95</td>\n",
       "      <td>281</td>\n",
       "      <td>Drive-thru</td>\n",
       "      <td>Gift Card</td>\n",
       "      <td>Walter Muller</td>\n",
       "      <td>Berlin</td>\n",
       "    </tr>\n",
       "    <tr>\n",
       "      <th>253</th>\n",
       "      <td>10712</td>\n",
       "      <td>2022-12-29</td>\n",
       "      <td>Fries</td>\n",
       "      <td>3.49</td>\n",
       "      <td>630</td>\n",
       "      <td>Drive-thru</td>\n",
       "      <td>Gift Card</td>\n",
       "      <td>Walter Muller</td>\n",
       "      <td>Berlin</td>\n",
       "    </tr>\n",
       "    <tr>\n",
       "      <th>254</th>\n",
       "      <td>10713</td>\n",
       "      <td>2022-12-29</td>\n",
       "      <td>Beverages</td>\n",
       "      <td>2.95</td>\n",
       "      <td>678</td>\n",
       "      <td>Drive-thru</td>\n",
       "      <td>Gift Card</td>\n",
       "      <td>Walter Muller</td>\n",
       "      <td>Berlin</td>\n",
       "    </tr>\n",
       "  </tbody>\n",
       "</table>\n",
       "<p>251 rows × 9 columns</p>\n",
       "</div>"
      ],
      "text/plain": [
       "0    Order ID       Date             Product  Price  Quantity Purchase Type  \\\n",
       "1       10452 2022-11-07               Fries   3.49       573       Online    \n",
       "2       10453 2022-11-07           Beverages   2.95       746       Online    \n",
       "3       10454 2022-11-07       Sides & Other   4.99       200     In-store    \n",
       "4       10455 2022-11-08             Burgers  12.99       570     In-store    \n",
       "5       10456 2022-11-08  Chicken Sandwiches   9.95       201     In-store    \n",
       "..        ...        ...                 ...    ...       ...           ...   \n",
       "250     10709 2022-12-28       Sides & Other   4.99       200   Drive-thru    \n",
       "251     10710 2022-12-29             Burgers  12.99       754   Drive-thru    \n",
       "252     10711 2022-12-29  Chicken Sandwiches   9.95       281   Drive-thru    \n",
       "253     10712 2022-12-29               Fries   3.49       630   Drive-thru    \n",
       "254     10713 2022-12-29           Beverages   2.95       678   Drive-thru    \n",
       "\n",
       "0   Payment Method        Manager    City  \n",
       "1        Gift Card    Tom Jackson  London  \n",
       "2        Gift Card    Pablo Perez  Madrid  \n",
       "3        Gift Card     Joao Silva  Lisbon  \n",
       "4      Credit Card  Walter Muller  Berlin  \n",
       "5      Credit Card  Walter Muller  Berlin  \n",
       "..             ...            ...     ...  \n",
       "250      Gift Card  Walter Muller  Berlin  \n",
       "251      Gift Card  Walter Muller  Berlin  \n",
       "252      Gift Card  Walter Muller  Berlin  \n",
       "253      Gift Card  Walter Muller  Berlin  \n",
       "254      Gift Card  Walter Muller  Berlin  \n",
       "\n",
       "[251 rows x 9 columns]"
      ]
     },
     "execution_count": 257,
     "metadata": {},
     "output_type": "execute_result"
    }
   ],
   "source": [
    "data"
   ]
  },
  {
   "cell_type": "markdown",
   "id": "b6344235",
   "metadata": {},
   "source": [
    "----------"
   ]
  },
  {
   "cell_type": "markdown",
   "id": "b4790eb3",
   "metadata": {},
   "source": [
    "# Analyzing the Data"
   ]
  },
  {
   "cell_type": "markdown",
   "id": "262f68c3",
   "metadata": {},
   "source": [
    "#### Q.1) Most Preferred Payment Method ?"
   ]
  },
  {
   "cell_type": "code",
   "execution_count": 258,
   "id": "ca8e84b1",
   "metadata": {},
   "outputs": [
    {
     "data": {
      "application/vnd.microsoft.datawrangler.viewer.v0+json": {
       "columns": [
        {
         "name": "index",
         "rawType": "int64",
         "type": "integer"
        },
        {
         "name": "Order ID",
         "rawType": "int32",
         "type": "integer"
        },
        {
         "name": "Date",
         "rawType": "datetime64[ns]",
         "type": "datetime"
        },
        {
         "name": "Product",
         "rawType": "object",
         "type": "string"
        },
        {
         "name": "Price",
         "rawType": "float64",
         "type": "float"
        },
        {
         "name": "Quantity",
         "rawType": "int32",
         "type": "integer"
        },
        {
         "name": "Purchase Type",
         "rawType": "object",
         "type": "string"
        },
        {
         "name": "Payment Method",
         "rawType": "object",
         "type": "string"
        },
        {
         "name": "Manager",
         "rawType": "object",
         "type": "string"
        },
        {
         "name": "City",
         "rawType": "object",
         "type": "string"
        }
       ],
       "ref": "d685ad93-9a85-4007-808a-a3109bd1733d",
       "rows": [
        [
         "1",
         "10452",
         "2022-11-07 00:00:00",
         "Fries",
         "3.49",
         "573",
         "Online ",
         " Gift Card",
         "Tom Jackson",
         "London"
        ],
        [
         "2",
         "10453",
         "2022-11-07 00:00:00",
         "Beverages",
         "2.95",
         "746",
         "Online ",
         " Gift Card",
         "Pablo Perez",
         "Madrid"
        ],
        [
         "3",
         "10454",
         "2022-11-07 00:00:00",
         "Sides & Other",
         "4.99",
         "200",
         "In-store ",
         " Gift Card",
         "Joao Silva",
         "Lisbon"
        ],
        [
         "4",
         "10455",
         "2022-11-08 00:00:00",
         "Burgers",
         "12.99",
         "570",
         "In-store ",
         " Credit Card",
         "Walter Muller",
         "Berlin"
        ],
        [
         "5",
         "10456",
         "2022-11-08 00:00:00",
         "Chicken Sandwiches",
         "9.95",
         "201",
         "In-store ",
         " Credit Card",
         "Walter Muller",
         "Berlin"
        ]
       ],
       "shape": {
        "columns": 9,
        "rows": 5
       }
      },
      "text/html": [
       "<div>\n",
       "<style scoped>\n",
       "    .dataframe tbody tr th:only-of-type {\n",
       "        vertical-align: middle;\n",
       "    }\n",
       "\n",
       "    .dataframe tbody tr th {\n",
       "        vertical-align: top;\n",
       "    }\n",
       "\n",
       "    .dataframe thead th {\n",
       "        text-align: right;\n",
       "    }\n",
       "</style>\n",
       "<table border=\"1\" class=\"dataframe\">\n",
       "  <thead>\n",
       "    <tr style=\"text-align: right;\">\n",
       "      <th></th>\n",
       "      <th>Order ID</th>\n",
       "      <th>Date</th>\n",
       "      <th>Product</th>\n",
       "      <th>Price</th>\n",
       "      <th>Quantity</th>\n",
       "      <th>Purchase Type</th>\n",
       "      <th>Payment Method</th>\n",
       "      <th>Manager</th>\n",
       "      <th>City</th>\n",
       "    </tr>\n",
       "  </thead>\n",
       "  <tbody>\n",
       "    <tr>\n",
       "      <th>1</th>\n",
       "      <td>10452</td>\n",
       "      <td>2022-11-07</td>\n",
       "      <td>Fries</td>\n",
       "      <td>3.49</td>\n",
       "      <td>573</td>\n",
       "      <td>Online</td>\n",
       "      <td>Gift Card</td>\n",
       "      <td>Tom Jackson</td>\n",
       "      <td>London</td>\n",
       "    </tr>\n",
       "    <tr>\n",
       "      <th>2</th>\n",
       "      <td>10453</td>\n",
       "      <td>2022-11-07</td>\n",
       "      <td>Beverages</td>\n",
       "      <td>2.95</td>\n",
       "      <td>746</td>\n",
       "      <td>Online</td>\n",
       "      <td>Gift Card</td>\n",
       "      <td>Pablo Perez</td>\n",
       "      <td>Madrid</td>\n",
       "    </tr>\n",
       "    <tr>\n",
       "      <th>3</th>\n",
       "      <td>10454</td>\n",
       "      <td>2022-11-07</td>\n",
       "      <td>Sides &amp; Other</td>\n",
       "      <td>4.99</td>\n",
       "      <td>200</td>\n",
       "      <td>In-store</td>\n",
       "      <td>Gift Card</td>\n",
       "      <td>Joao Silva</td>\n",
       "      <td>Lisbon</td>\n",
       "    </tr>\n",
       "    <tr>\n",
       "      <th>4</th>\n",
       "      <td>10455</td>\n",
       "      <td>2022-11-08</td>\n",
       "      <td>Burgers</td>\n",
       "      <td>12.99</td>\n",
       "      <td>570</td>\n",
       "      <td>In-store</td>\n",
       "      <td>Credit Card</td>\n",
       "      <td>Walter Muller</td>\n",
       "      <td>Berlin</td>\n",
       "    </tr>\n",
       "    <tr>\n",
       "      <th>5</th>\n",
       "      <td>10456</td>\n",
       "      <td>2022-11-08</td>\n",
       "      <td>Chicken Sandwiches</td>\n",
       "      <td>9.95</td>\n",
       "      <td>201</td>\n",
       "      <td>In-store</td>\n",
       "      <td>Credit Card</td>\n",
       "      <td>Walter Muller</td>\n",
       "      <td>Berlin</td>\n",
       "    </tr>\n",
       "  </tbody>\n",
       "</table>\n",
       "</div>"
      ],
      "text/plain": [
       "0  Order ID       Date             Product  Price  Quantity Purchase Type  \\\n",
       "1     10452 2022-11-07               Fries   3.49       573       Online    \n",
       "2     10453 2022-11-07           Beverages   2.95       746       Online    \n",
       "3     10454 2022-11-07       Sides & Other   4.99       200     In-store    \n",
       "4     10455 2022-11-08             Burgers  12.99       570     In-store    \n",
       "5     10456 2022-11-08  Chicken Sandwiches   9.95       201     In-store    \n",
       "\n",
       "0 Payment Method        Manager    City  \n",
       "1      Gift Card    Tom Jackson  London  \n",
       "2      Gift Card    Pablo Perez  Madrid  \n",
       "3      Gift Card     Joao Silva  Lisbon  \n",
       "4    Credit Card  Walter Muller  Berlin  \n",
       "5    Credit Card  Walter Muller  Berlin  "
      ]
     },
     "execution_count": 258,
     "metadata": {},
     "output_type": "execute_result"
    }
   ],
   "source": [
    "data.head()                       # to show top 5 records of the dataframe"
   ]
  },
  {
   "cell_type": "code",
   "execution_count": 259,
   "id": "c5a7764a",
   "metadata": {},
   "outputs": [
    {
     "data": {
      "text/plain": [
       "array([' Gift Card', ' Credit Card', ' Cash'], dtype=object)"
      ]
     },
     "execution_count": 259,
     "metadata": {},
     "output_type": "execute_result"
    }
   ],
   "source": [
    "data['Payment Method'].unique()                       # to show the unique values of a column"
   ]
  },
  {
   "cell_type": "code",
   "execution_count": 260,
   "id": "05c2d574",
   "metadata": {},
   "outputs": [
    {
     "data": {
      "text/plain": [
       "3"
      ]
     },
     "execution_count": 260,
     "metadata": {},
     "output_type": "execute_result"
    }
   ],
   "source": [
    "data['Payment Method'].nunique()                      # to show the count of unique values in a column"
   ]
  },
  {
   "cell_type": "code",
   "execution_count": 261,
   "id": "a1a9d1c0",
   "metadata": {},
   "outputs": [
    {
     "data": {
      "application/vnd.microsoft.datawrangler.viewer.v0+json": {
       "columns": [
        {
         "name": "Payment Method",
         "rawType": "object",
         "type": "string"
        },
        {
         "name": "count",
         "rawType": "int64",
         "type": "integer"
        }
       ],
       "ref": "e73185ed-b84f-4ebf-be86-190c5a3bd380",
       "rows": [
        [
         " Credit Card",
         "117"
        ],
        [
         " Cash",
         "76"
        ],
        [
         " Gift Card",
         "58"
        ]
       ],
       "shape": {
        "columns": 1,
        "rows": 3
       }
      },
      "text/plain": [
       "Payment Method\n",
       "Credit Card    117\n",
       "Cash            76\n",
       "Gift Card       58\n",
       "Name: count, dtype: int64"
      ]
     },
     "execution_count": 261,
     "metadata": {},
     "output_type": "execute_result"
    }
   ],
   "source": [
    "data['Payment Method'].value_counts()                 # to show the unique values of a column with their counts"
   ]
  },
  {
   "cell_type": "code",
   "execution_count": 262,
   "id": "f4824366",
   "metadata": {},
   "outputs": [
    {
     "data": {
      "application/vnd.microsoft.datawrangler.viewer.v0+json": {
       "columns": [
        {
         "name": "Payment Method",
         "rawType": "object",
         "type": "string"
        },
        {
         "name": "proportion",
         "rawType": "float64",
         "type": "float"
        }
       ],
       "ref": "f6874877-696e-4243-ad4d-7db9d1806065",
       "rows": [
        [
         " Credit Card",
         "46.613545816733065"
        ],
        [
         " Cash",
         "30.278884462151396"
        ],
        [
         " Gift Card",
         "23.107569721115535"
        ]
       ],
       "shape": {
        "columns": 1,
        "rows": 3
       }
      },
      "text/plain": [
       "Payment Method\n",
       "Credit Card    46.613546\n",
       "Cash           30.278884\n",
       "Gift Card      23.107570\n",
       "Name: proportion, dtype: float64"
      ]
     },
     "execution_count": 262,
     "metadata": {},
     "output_type": "execute_result"
    }
   ],
   "source": [
    "data['Payment Method'].value_counts(normalize=True)*100    # to get the result in percentage"
   ]
  },
  {
   "cell_type": "code",
   "execution_count": 263,
   "id": "9bd23a61",
   "metadata": {},
   "outputs": [
    {
     "data": {
      "image/png": "[encoded data removed]",
      "text/plain": [
       "<Figure size 640x480 with 1 Axes>"
      ]
     },
     "metadata": {},
     "output_type": "display_data"
    }
   ],
   "source": [
    "data['Payment Method'].value_counts().plot(kind='bar') ;   # to draw the bar graph"
   ]
  },
  {
   "cell_type": "markdown",
   "id": "d840b4e7",
   "metadata": {},
   "source": [
    "#### Q.2) Most Selling Product ?\n",
    "- By Quantity\n",
    "- By Revenue\n"
   ]
  },
  {
   "cell_type": "markdown",
   "id": "25934361",
   "metadata": {},
   "source": [
    "#### By Quantity"
   ]
  },
  {
   "cell_type": "code",
   "execution_count": 264,
   "id": "f8ba52c9",
   "metadata": {},
   "outputs": [
    {
     "data": {
      "application/vnd.microsoft.datawrangler.viewer.v0+json": {
       "columns": [
        {
         "name": "index",
         "rawType": "int64",
         "type": "integer"
        },
        {
         "name": "Order ID",
         "rawType": "int32",
         "type": "integer"
        },
        {
         "name": "Date",
         "rawType": "datetime64[ns]",
         "type": "datetime"
        },
        {
         "name": "Product",
         "rawType": "object",
         "type": "string"
        },
        {
         "name": "Price",
         "rawType": "float64",
         "type": "float"
        },
        {
         "name": "Quantity",
         "rawType": "int32",
         "type": "integer"
        },
        {
         "name": "Purchase Type",
         "rawType": "object",
         "type": "string"
        },
        {
         "name": "Payment Method",
         "rawType": "object",
         "type": "string"
        },
        {
         "name": "Manager",
         "rawType": "object",
         "type": "string"
        },
        {
         "name": "City",
         "rawType": "object",
         "type": "string"
        }
       ],
       "ref": "629b294e-3d2e-4733-9264-4c6c79aef28f",
       "rows": [
        [
         "1",
         "10452",
         "2022-11-07 00:00:00",
         "Fries",
         "3.49",
         "573",
         "Online ",
         " Gift Card",
         "Tom Jackson",
         "London"
        ],
        [
         "2",
         "10453",
         "2022-11-07 00:00:00",
         "Beverages",
         "2.95",
         "746",
         "Online ",
         " Gift Card",
         "Pablo Perez",
         "Madrid"
        ],
        [
         "3",
         "10454",
         "2022-11-07 00:00:00",
         "Sides & Other",
         "4.99",
         "200",
         "In-store ",
         " Gift Card",
         "Joao Silva",
         "Lisbon"
        ],
        [
         "4",
         "10455",
         "2022-11-08 00:00:00",
         "Burgers",
         "12.99",
         "570",
         "In-store ",
         " Credit Card",
         "Walter Muller",
         "Berlin"
        ],
        [
         "5",
         "10456",
         "2022-11-08 00:00:00",
         "Chicken Sandwiches",
         "9.95",
         "201",
         "In-store ",
         " Credit Card",
         "Walter Muller",
         "Berlin"
        ]
       ],
       "shape": {
        "columns": 9,
        "rows": 5
       }
      },
      "text/html": [
       "<div>\n",
       "<style scoped>\n",
       "    .dataframe tbody tr th:only-of-type {\n",
       "        vertical-align: middle;\n",
       "    }\n",
       "\n",
       "    .dataframe tbody tr th {\n",
       "        vertical-align: top;\n",
       "    }\n",
       "\n",
       "    .dataframe thead th {\n",
       "        text-align: right;\n",
       "    }\n",
       "</style>\n",
       "<table border=\"1\" class=\"dataframe\">\n",
       "  <thead>\n",
       "    <tr style=\"text-align: right;\">\n",
       "      <th></th>\n",
       "      <th>Order ID</th>\n",
       "      <th>Date</th>\n",
       "      <th>Product</th>\n",
       "      <th>Price</th>\n",
       "      <th>Quantity</th>\n",
       "      <th>Purchase Type</th>\n",
       "      <th>Payment Method</th>\n",
       "      <th>Manager</th>\n",
       "      <th>City</th>\n",
       "    </tr>\n",
       "  </thead>\n",
       "  <tbody>\n",
       "    <tr>\n",
       "      <th>1</th>\n",
       "      <td>10452</td>\n",
       "      <td>2022-11-07</td>\n",
       "      <td>Fries</td>\n",
       "      <td>3.49</td>\n",
       "      <td>573</td>\n",
       "      <td>Online</td>\n",
       "      <td>Gift Card</td>\n",
       "      <td>Tom Jackson</td>\n",
       "      <td>London</td>\n",
       "    </tr>\n",
       "    <tr>\n",
       "      <th>2</th>\n",
       "      <td>10453</td>\n",
       "      <td>2022-11-07</td>\n",
       "      <td>Beverages</td>\n",
       "      <td>2.95</td>\n",
       "      <td>746</td>\n",
       "      <td>Online</td>\n",
       "      <td>Gift Card</td>\n",
       "      <td>Pablo Perez</td>\n",
       "      <td>Madrid</td>\n",
       "    </tr>\n",
       "    <tr>\n",
       "      <th>3</th>\n",
       "      <td>10454</td>\n",
       "      <td>2022-11-07</td>\n",
       "      <td>Sides &amp; Other</td>\n",
       "      <td>4.99</td>\n",
       "      <td>200</td>\n",
       "      <td>In-store</td>\n",
       "      <td>Gift Card</td>\n",
       "      <td>Joao Silva</td>\n",
       "      <td>Lisbon</td>\n",
       "    </tr>\n",
       "    <tr>\n",
       "      <th>4</th>\n",
       "      <td>10455</td>\n",
       "      <td>2022-11-08</td>\n",
       "      <td>Burgers</td>\n",
       "      <td>12.99</td>\n",
       "      <td>570</td>\n",
       "      <td>In-store</td>\n",
       "      <td>Credit Card</td>\n",
       "      <td>Walter Muller</td>\n",
       "      <td>Berlin</td>\n",
       "    </tr>\n",
       "    <tr>\n",
       "      <th>5</th>\n",
       "      <td>10456</td>\n",
       "      <td>2022-11-08</td>\n",
       "      <td>Chicken Sandwiches</td>\n",
       "      <td>9.95</td>\n",
       "      <td>201</td>\n",
       "      <td>In-store</td>\n",
       "      <td>Credit Card</td>\n",
       "      <td>Walter Muller</td>\n",
       "      <td>Berlin</td>\n",
       "    </tr>\n",
       "  </tbody>\n",
       "</table>\n",
       "</div>"
      ],
      "text/plain": [
       "0  Order ID       Date             Product  Price  Quantity Purchase Type  \\\n",
       "1     10452 2022-11-07               Fries   3.49       573       Online    \n",
       "2     10453 2022-11-07           Beverages   2.95       746       Online    \n",
       "3     10454 2022-11-07       Sides & Other   4.99       200     In-store    \n",
       "4     10455 2022-11-08             Burgers  12.99       570     In-store    \n",
       "5     10456 2022-11-08  Chicken Sandwiches   9.95       201     In-store    \n",
       "\n",
       "0 Payment Method        Manager    City  \n",
       "1      Gift Card    Tom Jackson  London  \n",
       "2      Gift Card    Pablo Perez  Madrid  \n",
       "3      Gift Card     Joao Silva  Lisbon  \n",
       "4    Credit Card  Walter Muller  Berlin  \n",
       "5    Credit Card  Walter Muller  Berlin  "
      ]
     },
     "execution_count": 264,
     "metadata": {},
     "output_type": "execute_result"
    }
   ],
   "source": [
    "data.head()"
   ]
  },
  {
   "cell_type": "code",
   "execution_count": 265,
   "id": "09786bb2",
   "metadata": {},
   "outputs": [
    {
     "data": {
      "application/vnd.microsoft.datawrangler.viewer.v0+json": {
       "columns": [
        {
         "name": "Product",
         "rawType": "object",
         "type": "string"
        },
        {
         "name": "Quantity",
         "rawType": "int32",
         "type": "integer"
        }
       ],
       "ref": "e208dcd9-0443-4c04-8e4b-c4c4e2917a12",
       "rows": [
        [
         "Beverages",
         "34310"
        ],
        [
         "Burgers",
         "28510"
        ],
        [
         "Chicken Sandwiches",
         "11133"
        ],
        [
         "Fries",
         "32023"
        ],
        [
         "Sides & Other",
         "9600"
        ]
       ],
       "shape": {
        "columns": 1,
        "rows": 5
       }
      },
      "text/plain": [
       "Product\n",
       "Beverages             34310\n",
       "Burgers               28510\n",
       "Chicken Sandwiches    11133\n",
       "Fries                 32023\n",
       "Sides & Other          9600\n",
       "Name: Quantity, dtype: int32"
      ]
     },
     "execution_count": 265,
     "metadata": {},
     "output_type": "execute_result"
    }
   ],
   "source": [
    "data.groupby('Product')['Quantity'].sum()            # to make the group of unique values of a column"
   ]
  },
  {
   "cell_type": "code",
   "execution_count": 266,
   "id": "3a8a968f",
   "metadata": {},
   "outputs": [
    {
     "data": {
      "application/vnd.microsoft.datawrangler.viewer.v0+json": {
       "columns": [
        {
         "name": "Product",
         "rawType": "object",
         "type": "string"
        },
        {
         "name": "Quantity",
         "rawType": "int32",
         "type": "integer"
        }
       ],
       "ref": "04c91648-64f3-4530-9cb4-6075ab6cfa4b",
       "rows": [
        [
         "Beverages",
         "34310"
        ],
        [
         "Fries",
         "32023"
        ],
        [
         "Burgers",
         "28510"
        ],
        [
         "Chicken Sandwiches",
         "11133"
        ],
        [
         "Sides & Other",
         "9600"
        ]
       ],
       "shape": {
        "columns": 1,
        "rows": 5
       }
      },
      "text/plain": [
       "Product\n",
       "Beverages             34310\n",
       "Fries                 32023\n",
       "Burgers               28510\n",
       "Chicken Sandwiches    11133\n",
       "Sides & Other          9600\n",
       "Name: Quantity, dtype: int32"
      ]
     },
     "execution_count": 266,
     "metadata": {},
     "output_type": "execute_result"
    }
   ],
   "source": [
    "data.groupby('Product')['Quantity'].sum().sort_values(ascending=False)   # to sort the result"
   ]
  },
  {
   "cell_type": "code",
   "execution_count": 267,
   "id": "c278f257",
   "metadata": {},
   "outputs": [
    {
     "data": {
      "application/vnd.microsoft.datawrangler.viewer.v0+json": {
       "columns": [
        {
         "name": "Product",
         "rawType": "object",
         "type": "string"
        },
        {
         "name": "Quantity",
         "rawType": "int32",
         "type": "integer"
        }
       ],
       "ref": "cba26543-caa8-4065-a7ff-107f083cbdc9",
       "rows": [
        [
         "Beverages",
         "34310"
        ],
        [
         "Fries",
         "32023"
        ],
        [
         "Burgers",
         "28510"
        ],
        [
         "Chicken Sandwiches",
         "11133"
        ],
        [
         "Sides & Other",
         "9600"
        ]
       ],
       "shape": {
        "columns": 1,
        "rows": 5
       }
      },
      "text/plain": [
       "Product\n",
       "Beverages             34310\n",
       "Fries                 32023\n",
       "Burgers               28510\n",
       "Chicken Sandwiches    11133\n",
       "Sides & Other          9600\n",
       "Name: Quantity, dtype: int32"
      ]
     },
     "execution_count": 267,
     "metadata": {},
     "output_type": "execute_result"
    }
   ],
   "source": [
    "most_quantity = data.groupby('Product')['Quantity'].sum().sort_values(ascending=False)\n",
    "most_quantity"
   ]
  },
  {
   "cell_type": "code",
   "execution_count": 268,
   "id": "d568d297",
   "metadata": {},
   "outputs": [
    {
     "data": {
      "text/plain": [
       "pandas.core.series.Series"
      ]
     },
     "execution_count": 268,
     "metadata": {},
     "output_type": "execute_result"
    }
   ],
   "source": [
    "type(most_quantity)                   # to the type of the variable"
   ]
  },
  {
   "cell_type": "code",
   "execution_count": 269,
   "id": "8f2cd067",
   "metadata": {},
   "outputs": [
    {
     "data": {
      "application/vnd.microsoft.datawrangler.viewer.v0+json": {
       "columns": [
        {
         "name": "index",
         "rawType": "int64",
         "type": "integer"
        },
        {
         "name": "Product",
         "rawType": "object",
         "type": "string"
        },
        {
         "name": "Quantity",
         "rawType": "int32",
         "type": "integer"
        }
       ],
       "ref": "0be48918-97fd-41fd-ad55-161e3c38fadd",
       "rows": [
        [
         "0",
         "Beverages",
         "34310"
        ],
        [
         "1",
         "Fries",
         "32023"
        ],
        [
         "2",
         "Burgers",
         "28510"
        ],
        [
         "3",
         "Chicken Sandwiches",
         "11133"
        ],
        [
         "4",
         "Sides & Other",
         "9600"
        ]
       ],
       "shape": {
        "columns": 2,
        "rows": 5
       }
      },
      "text/html": [
       "<div>\n",
       "<style scoped>\n",
       "    .dataframe tbody tr th:only-of-type {\n",
       "        vertical-align: middle;\n",
       "    }\n",
       "\n",
       "    .dataframe tbody tr th {\n",
       "        vertical-align: top;\n",
       "    }\n",
       "\n",
       "    .dataframe thead th {\n",
       "        text-align: right;\n",
       "    }\n",
       "</style>\n",
       "<table border=\"1\" class=\"dataframe\">\n",
       "  <thead>\n",
       "    <tr style=\"text-align: right;\">\n",
       "      <th></th>\n",
       "      <th>Product</th>\n",
       "      <th>Quantity</th>\n",
       "    </tr>\n",
       "  </thead>\n",
       "  <tbody>\n",
       "    <tr>\n",
       "      <th>0</th>\n",
       "      <td>Beverages</td>\n",
       "      <td>34310</td>\n",
       "    </tr>\n",
       "    <tr>\n",
       "      <th>1</th>\n",
       "      <td>Fries</td>\n",
       "      <td>32023</td>\n",
       "    </tr>\n",
       "    <tr>\n",
       "      <th>2</th>\n",
       "      <td>Burgers</td>\n",
       "      <td>28510</td>\n",
       "    </tr>\n",
       "    <tr>\n",
       "      <th>3</th>\n",
       "      <td>Chicken Sandwiches</td>\n",
       "      <td>11133</td>\n",
       "    </tr>\n",
       "    <tr>\n",
       "      <th>4</th>\n",
       "      <td>Sides &amp; Other</td>\n",
       "      <td>9600</td>\n",
       "    </tr>\n",
       "  </tbody>\n",
       "</table>\n",
       "</div>"
      ],
      "text/plain": [
       "              Product  Quantity\n",
       "0           Beverages     34310\n",
       "1               Fries     32023\n",
       "2             Burgers     28510\n",
       "3  Chicken Sandwiches     11133\n",
       "4       Sides & Other      9600"
      ]
     },
     "execution_count": 269,
     "metadata": {},
     "output_type": "execute_result"
    }
   ],
   "source": [
    "most_quantity = most_quantity.reset_index()     # To convert the index of a Series into a column to form a DataFrame\n",
    "most_quantity"
   ]
  },
  {
   "cell_type": "code",
   "execution_count": 270,
   "id": "10559897",
   "metadata": {},
   "outputs": [
    {
     "data": {
      "text/plain": [
       "pandas.core.frame.DataFrame"
      ]
     },
     "execution_count": 270,
     "metadata": {},
     "output_type": "execute_result"
    }
   ],
   "source": [
    "type(most_quantity)                   # to the type of the variable"
   ]
  },
  {
   "cell_type": "code",
   "execution_count": 271,
   "id": "24c62f8c",
   "metadata": {},
   "outputs": [
    {
     "data": {
      "image/png": "[encoded data removed]",
      "text/plain": [
       "<Figure size 900x400 with 1 Axes>"
      ]
     },
     "metadata": {},
     "output_type": "display_data"
    }
   ],
   "source": [
    "plt.figure(figsize = (9,4))\n",
    "plt.bar(most_quantity['Product'], most_quantity['Quantity'], color = ['red', 'black', 'green', 'yellow', 'cyan'], width=0.4)\n",
    "plt.title(\"Most Selling Product - By Quantity\")              \n",
    "plt.xlabel(\"Product\")\n",
    "plt.ylabel(\"Quantity\");"
   ]
  },
  {
   "cell_type": "markdown",
   "id": "d15b937d",
   "metadata": {},
   "source": [
    "#### By Revenue"
   ]
  },
  {
   "cell_type": "code",
   "execution_count": 272,
   "id": "944bb296",
   "metadata": {},
   "outputs": [
    {
     "data": {
      "application/vnd.microsoft.datawrangler.viewer.v0+json": {
       "columns": [
        {
         "name": "index",
         "rawType": "int64",
         "type": "integer"
        },
        {
         "name": "Order ID",
         "rawType": "int32",
         "type": "integer"
        },
        {
         "name": "Date",
         "rawType": "datetime64[ns]",
         "type": "datetime"
        },
        {
         "name": "Product",
         "rawType": "object",
         "type": "string"
        },
        {
         "name": "Price",
         "rawType": "float64",
         "type": "float"
        },
        {
         "name": "Quantity",
         "rawType": "int32",
         "type": "integer"
        },
        {
         "name": "Purchase Type",
         "rawType": "object",
         "type": "string"
        },
        {
         "name": "Payment Method",
         "rawType": "object",
         "type": "string"
        },
        {
         "name": "Manager",
         "rawType": "object",
         "type": "string"
        },
        {
         "name": "City",
         "rawType": "object",
         "type": "string"
        }
       ],
       "ref": "09a1ee3d-2c0e-4ac5-8064-498cc17a1d77",
       "rows": [
        [
         "1",
         "10452",
         "2022-11-07 00:00:00",
         "Fries",
         "3.49",
         "573",
         "Online ",
         " Gift Card",
         "Tom Jackson",
         "London"
        ],
        [
         "2",
         "10453",
         "2022-11-07 00:00:00",
         "Beverages",
         "2.95",
         "746",
         "Online ",
         " Gift Card",
         "Pablo Perez",
         "Madrid"
        ],
        [
         "3",
         "10454",
         "2022-11-07 00:00:00",
         "Sides & Other",
         "4.99",
         "200",
         "In-store ",
         " Gift Card",
         "Joao Silva",
         "Lisbon"
        ],
        [
         "4",
         "10455",
         "2022-11-08 00:00:00",
         "Burgers",
         "12.99",
         "570",
         "In-store ",
         " Credit Card",
         "Walter Muller",
         "Berlin"
        ],
        [
         "5",
         "10456",
         "2022-11-08 00:00:00",
         "Chicken Sandwiches",
         "9.95",
         "201",
         "In-store ",
         " Credit Card",
         "Walter Muller",
         "Berlin"
        ]
       ],
       "shape": {
        "columns": 9,
        "rows": 5
       }
      },
      "text/html": [
       "<div>\n",
       "<style scoped>\n",
       "    .dataframe tbody tr th:only-of-type {\n",
       "        vertical-align: middle;\n",
       "    }\n",
       "\n",
       "    .dataframe tbody tr th {\n",
       "        vertical-align: top;\n",
       "    }\n",
       "\n",
       "    .dataframe thead th {\n",
       "        text-align: right;\n",
       "    }\n",
       "</style>\n",
       "<table border=\"1\" class=\"dataframe\">\n",
       "  <thead>\n",
       "    <tr style=\"text-align: right;\">\n",
       "      <th></th>\n",
       "      <th>Order ID</th>\n",
       "      <th>Date</th>\n",
       "      <th>Product</th>\n",
       "      <th>Price</th>\n",
       "      <th>Quantity</th>\n",
       "      <th>Purchase Type</th>\n",
       "      <th>Payment Method</th>\n",
       "      <th>Manager</th>\n",
       "      <th>City</th>\n",
       "    </tr>\n",
       "  </thead>\n",
       "  <tbody>\n",
       "    <tr>\n",
       "      <th>1</th>\n",
       "      <td>10452</td>\n",
       "      <td>2022-11-07</td>\n",
       "      <td>Fries</td>\n",
       "      <td>3.49</td>\n",
       "      <td>573</td>\n",
       "      <td>Online</td>\n",
       "      <td>Gift Card</td>\n",
       "      <td>Tom Jackson</td>\n",
       "      <td>London</td>\n",
       "    </tr>\n",
       "    <tr>\n",
       "      <th>2</th>\n",
       "      <td>10453</td>\n",
       "      <td>2022-11-07</td>\n",
       "      <td>Beverages</td>\n",
       "      <td>2.95</td>\n",
       "      <td>746</td>\n",
       "      <td>Online</td>\n",
       "      <td>Gift Card</td>\n",
       "      <td>Pablo Perez</td>\n",
       "      <td>Madrid</td>\n",
       "    </tr>\n",
       "    <tr>\n",
       "      <th>3</th>\n",
       "      <td>10454</td>\n",
       "      <td>2022-11-07</td>\n",
       "      <td>Sides &amp; Other</td>\n",
       "      <td>4.99</td>\n",
       "      <td>200</td>\n",
       "      <td>In-store</td>\n",
       "      <td>Gift Card</td>\n",
       "      <td>Joao Silva</td>\n",
       "      <td>Lisbon</td>\n",
       "    </tr>\n",
       "    <tr>\n",
       "      <th>4</th>\n",
       "      <td>10455</td>\n",
       "      <td>2022-11-08</td>\n",
       "      <td>Burgers</td>\n",
       "      <td>12.99</td>\n",
       "      <td>570</td>\n",
       "      <td>In-store</td>\n",
       "      <td>Credit Card</td>\n",
       "      <td>Walter Muller</td>\n",
       "      <td>Berlin</td>\n",
       "    </tr>\n",
       "    <tr>\n",
       "      <th>5</th>\n",
       "      <td>10456</td>\n",
       "      <td>2022-11-08</td>\n",
       "      <td>Chicken Sandwiches</td>\n",
       "      <td>9.95</td>\n",
       "      <td>201</td>\n",
       "      <td>In-store</td>\n",
       "      <td>Credit Card</td>\n",
       "      <td>Walter Muller</td>\n",
       "      <td>Berlin</td>\n",
       "    </tr>\n",
       "  </tbody>\n",
       "</table>\n",
       "</div>"
      ],
      "text/plain": [
       "0  Order ID       Date             Product  Price  Quantity Purchase Type  \\\n",
       "1     10452 2022-11-07               Fries   3.49       573       Online    \n",
       "2     10453 2022-11-07           Beverages   2.95       746       Online    \n",
       "3     10454 2022-11-07       Sides & Other   4.99       200     In-store    \n",
       "4     10455 2022-11-08             Burgers  12.99       570     In-store    \n",
       "5     10456 2022-11-08  Chicken Sandwiches   9.95       201     In-store    \n",
       "\n",
       "0 Payment Method        Manager    City  \n",
       "1      Gift Card    Tom Jackson  London  \n",
       "2      Gift Card    Pablo Perez  Madrid  \n",
       "3      Gift Card     Joao Silva  Lisbon  \n",
       "4    Credit Card  Walter Muller  Berlin  \n",
       "5    Credit Card  Walter Muller  Berlin  "
      ]
     },
     "execution_count": 272,
     "metadata": {},
     "output_type": "execute_result"
    }
   ],
   "source": [
    "data.head()"
   ]
  },
  {
   "cell_type": "code",
   "execution_count": 273,
   "id": "e07f0417",
   "metadata": {},
   "outputs": [],
   "source": [
    "data['Revenue'] = data['Price'] * data['Quantity']       # to create a new column 'Revenue'"
   ]
  },
  {
   "cell_type": "code",
   "execution_count": 274,
   "id": "30cf8030",
   "metadata": {},
   "outputs": [
    {
     "data": {
      "application/vnd.microsoft.datawrangler.viewer.v0+json": {
       "columns": [
        {
         "name": "index",
         "rawType": "int64",
         "type": "integer"
        },
        {
         "name": "Order ID",
         "rawType": "int32",
         "type": "integer"
        },
        {
         "name": "Date",
         "rawType": "datetime64[ns]",
         "type": "datetime"
        },
        {
         "name": "Product",
         "rawType": "object",
         "type": "string"
        },
        {
         "name": "Price",
         "rawType": "float64",
         "type": "float"
        },
        {
         "name": "Quantity",
         "rawType": "int32",
         "type": "integer"
        },
        {
         "name": "Purchase Type",
         "rawType": "object",
         "type": "string"
        },
        {
         "name": "Payment Method",
         "rawType": "object",
         "type": "string"
        },
        {
         "name": "Manager",
         "rawType": "object",
         "type": "string"
        },
        {
         "name": "City",
         "rawType": "object",
         "type": "string"
        },
        {
         "name": "Revenue",
         "rawType": "float64",
         "type": "float"
        }
       ],
       "ref": "6809c52e-e90b-406a-9d2a-28bf5366b281",
       "rows": [
        [
         "1",
         "10452",
         "2022-11-07 00:00:00",
         "Fries",
         "3.49",
         "573",
         "Online ",
         " Gift Card",
         "Tom Jackson",
         "London",
         "1999.7700000000002"
        ],
        [
         "2",
         "10453",
         "2022-11-07 00:00:00",
         "Beverages",
         "2.95",
         "746",
         "Online ",
         " Gift Card",
         "Pablo Perez",
         "Madrid",
         "2200.7000000000003"
        ],
        [
         "3",
         "10454",
         "2022-11-07 00:00:00",
         "Sides & Other",
         "4.99",
         "200",
         "In-store ",
         " Gift Card",
         "Joao Silva",
         "Lisbon",
         "998.0"
        ],
        [
         "4",
         "10455",
         "2022-11-08 00:00:00",
         "Burgers",
         "12.99",
         "570",
         "In-store ",
         " Credit Card",
         "Walter Muller",
         "Berlin",
         "7404.3"
        ],
        [
         "5",
         "10456",
         "2022-11-08 00:00:00",
         "Chicken Sandwiches",
         "9.95",
         "201",
         "In-store ",
         " Credit Card",
         "Walter Muller",
         "Berlin",
         "1999.9499999999998"
        ],
        [
         "6",
         "10457",
         "2022-11-08 00:00:00",
         "Fries",
         "3.49",
         "573",
         "In-store ",
         " Credit Card",
         "Remy Monet",
         "Paris",
         "1999.7700000000002"
        ],
        [
         "7",
         "10459",
         "2022-11-08 00:00:00",
         "Sides & Other",
         "4.99",
         "200",
         "In-store ",
         " Credit Card",
         "Walter Muller",
         "Berlin",
         "998.0"
        ],
        [
         "8",
         "10460",
         "2022-11-09 00:00:00",
         "Burgers",
         "12.99",
         "554",
         "In-store ",
         " Credit Card",
         "Remy Monet",
         "Paris",
         "7196.46"
        ],
        [
         "9",
         "10461",
         "2022-11-09 00:00:00",
         "Chicken Sandwiches",
         "9.95",
         "201",
         "In-store ",
         " Credit Card",
         "Remy Monet",
         "Paris",
         "1999.9499999999998"
        ],
        [
         "10",
         "10462",
         "2022-11-09 00:00:00",
         "Fries",
         "3.49",
         "573",
         "In-store ",
         " Credit Card",
         "Remy Monet",
         "Paris",
         "1999.7700000000002"
        ],
        [
         "11",
         "10463",
         "2022-11-09 00:00:00",
         "Beverages",
         "2.95",
         "678",
         "In-store ",
         " Credit Card",
         "Remy Monet",
         "Paris",
         "2000.1000000000001"
        ],
        [
         "12",
         "10464",
         "2022-11-09 00:00:00",
         "Sides & Other",
         "4.99",
         "200",
         "In-store ",
         " Credit Card",
         "Remy Monet",
         "Paris",
         "998.0"
        ],
        [
         "13",
         "10465",
         "2022-11-10 00:00:00",
         "Burgers",
         "12.99",
         "554",
         "In-store ",
         " Credit Card",
         "Pablo Perez",
         "Madrid",
         "7196.46"
        ],
        [
         "14",
         "10466",
         "2022-11-10 00:00:00",
         "Chicken Sandwiches",
         "9.95",
         "201",
         "In-store ",
         " Credit Card",
         "Pablo Perez",
         "Madrid",
         "1999.9499999999998"
        ],
        [
         "15",
         "10467",
         "2022-11-10 00:00:00",
         "Fries",
         "3.49",
         "573",
         "In-store ",
         " Credit Card",
         "Pablo Perez",
         "Madrid",
         "1999.7700000000002"
        ],
        [
         "16",
         "10468",
         "2022-11-10 00:00:00",
         "Beverages",
         "2.95",
         "678",
         "In-store ",
         " Credit Card",
         "Pablo Perez",
         "Madrid",
         "2000.1000000000001"
        ],
        [
         "17",
         "10470",
         "2022-11-11 00:00:00",
         "Burgers",
         "12.99",
         "554",
         "In-store ",
         " Credit Card",
         "Pablo Perez",
         "Madrid",
         "7196.46"
        ],
        [
         "18",
         "10471",
         "2022-11-11 00:00:00",
         "Chicken Sandwiches",
         "9.95",
         "201",
         "In-store ",
         " Credit Card",
         "Pablo Perez",
         "Madrid",
         "1999.9499999999998"
        ],
        [
         "19",
         "10472",
         "2022-11-11 00:00:00",
         "Fries",
         "3.49",
         "630",
         "In-store ",
         " Credit Card",
         "Pablo Perez",
         "Madrid",
         "2198.7000000000003"
        ],
        [
         "20",
         "10473",
         "2022-11-11 00:00:00",
         "Beverages",
         "2.95",
         "678",
         "In-store ",
         " Credit Card",
         "Pablo Perez",
         "Madrid",
         "2000.1000000000001"
        ],
        [
         "21",
         "10474",
         "2022-11-11 00:00:00",
         "Sides & Other",
         "4.99",
         "200",
         "In-store ",
         " Credit Card",
         "Pablo Perez",
         "Madrid",
         "998.0"
        ],
        [
         "22",
         "10475",
         "2022-11-12 00:00:00",
         "Burgers",
         "12.99",
         "523",
         "In-store ",
         " Credit Card",
         "Pablo Perez",
         "Madrid",
         "6793.77"
        ],
        [
         "23",
         "10476",
         "2022-11-12 00:00:00",
         "Chicken Sandwiches",
         "9.95",
         "201",
         "In-store ",
         " Credit Card",
         "Pablo Perez",
         "Madrid",
         "1999.9499999999998"
        ],
        [
         "24",
         "10477",
         "2022-11-12 00:00:00",
         "Fries",
         "3.49",
         "630",
         "In-store ",
         " Credit Card",
         "Pablo Perez",
         "Madrid",
         "2198.7000000000003"
        ],
        [
         "25",
         "10478",
         "2022-11-12 00:00:00",
         "Beverages",
         "2.95",
         "678",
         "In-store ",
         " Credit Card",
         "Pablo Perez",
         "Madrid",
         "2000.1000000000001"
        ],
        [
         "26",
         "10479",
         "2022-11-12 00:00:00",
         "Sides & Other",
         "4.99",
         "200",
         "In-store ",
         " Credit Card",
         "Pablo Perez",
         "Madrid",
         "998.0"
        ],
        [
         "27",
         "10480",
         "2022-11-13 00:00:00",
         "Burgers",
         "12.99",
         "508",
         "In-store ",
         " Credit Card",
         "Pablo Perez",
         "Madrid",
         "6598.92"
        ],
        [
         "28",
         "10481",
         "2022-11-13 00:00:00",
         "Chicken Sandwiches",
         "9.95",
         "201",
         "In-store ",
         " Credit Card",
         "Pablo Perez",
         "Madrid",
         "1999.9499999999998"
        ],
        [
         "29",
         "10482",
         "2022-11-13 00:00:00",
         "Fries",
         "25.5",
         "630",
         "In-store ",
         " Credit Card",
         "Joao Silva",
         "Lisbon",
         "16065.0"
        ],
        [
         "30",
         "10486",
         "2022-11-14 00:00:00",
         "Chicken Sandwiches",
         "29.05",
         "201",
         "In-store ",
         " Credit Card",
         "Joao Silva",
         "Lisbon",
         "5839.05"
        ],
        [
         "31",
         "10487",
         "2022-11-14 00:00:00",
         "Fries",
         "3.49",
         "630",
         "In-store ",
         " Credit Card",
         "Joao Silva",
         "Lisbon",
         "2198.7000000000003"
        ],
        [
         "35",
         "10491",
         "2022-11-15 00:00:00",
         "Chicken Sandwiches",
         "9.95",
         "201",
         "In-store ",
         " Credit Card",
         "Pablo Perez",
         "Madrid",
         "1999.9499999999998"
        ],
        [
         "36",
         "10492",
         "2022-11-15 00:00:00",
         "Fries",
         "3.49",
         "573",
         "In-store ",
         " Credit Card",
         "Pablo Perez",
         "Madrid",
         "1999.7700000000002"
        ],
        [
         "37",
         "10493",
         "2022-11-15 00:00:00",
         "Beverages",
         "2.95",
         "678",
         "In-store ",
         " Credit Card",
         "Pablo Perez",
         "Madrid",
         "2000.1000000000001"
        ],
        [
         "38",
         "10494",
         "2022-11-15 00:00:00",
         "Sides & Other",
         "4.99",
         "200",
         "In-store ",
         " Credit Card",
         "Pablo Perez",
         "Madrid",
         "998.0"
        ],
        [
         "39",
         "10495",
         "2022-11-16 00:00:00",
         "Burgers",
         "12.99",
         "508",
         "In-store ",
         " Credit Card",
         "Pablo Perez",
         "Madrid",
         "6598.92"
        ],
        [
         "40",
         "10496",
         "2022-11-16 00:00:00",
         "Chicken Sandwiches",
         "9.95",
         "201",
         "In-store ",
         " Credit Card",
         "Pablo Perez",
         "Madrid",
         "1999.9499999999998"
        ],
        [
         "41",
         "10497",
         "2022-11-16 00:00:00",
         "Fries",
         "3.49",
         "573",
         "In-store ",
         " Credit Card",
         "Pablo Perez",
         "Madrid",
         "1999.7700000000002"
        ],
        [
         "42",
         "10498",
         "2022-11-16 00:00:00",
         "Beverages",
         "2.95",
         "678",
         "Drive-thru ",
         " Credit Card",
         "Pablo Perez",
         "Madrid",
         "2000.1000000000001"
        ],
        [
         "43",
         "10499",
         "2022-11-16 00:00:00",
         "Sides & Other",
         "4.99",
         "200",
         "Drive-thru ",
         " Credit Card",
         "Pablo Perez",
         "Madrid",
         "998.0"
        ],
        [
         "44",
         "10500",
         "2022-11-17 00:00:00",
         "Burgers",
         "12.99",
         "523",
         "Drive-thru ",
         " Credit Card",
         "Pablo Perez",
         "Madrid",
         "6793.77"
        ],
        [
         "45",
         "10501",
         "2022-11-17 00:00:00",
         "Chicken Sandwiches",
         "9.95",
         "201",
         "Drive-thru ",
         " Credit Card",
         "Pablo Perez",
         "Madrid",
         "1999.9499999999998"
        ],
        [
         "46",
         "10502",
         "2022-11-17 00:00:00",
         "Fries",
         "3.49",
         "630",
         "Drive-thru ",
         " Credit Card",
         "Pablo Perez",
         "Madrid",
         "2198.7000000000003"
        ],
        [
         "47",
         "10503",
         "2022-11-17 00:00:00",
         "Beverages",
         "2.95",
         "678",
         "Drive-thru ",
         " Credit Card",
         "Pablo Perez",
         "Madrid",
         "2000.1000000000001"
        ],
        [
         "48",
         "10504",
         "2022-11-17 00:00:00",
         "Sides & Other",
         "4.99",
         "200",
         "Drive-thru ",
         " Credit Card",
         "Pablo Perez",
         "Madrid",
         "998.0"
        ],
        [
         "49",
         "10505",
         "2022-11-18 00:00:00",
         "Burgers",
         "12.99",
         "539",
         "Drive-thru ",
         " Credit Card",
         "Pablo Perez",
         "Madrid",
         "7001.61"
        ],
        [
         "50",
         "10506",
         "2022-11-18 00:00:00",
         "Chicken Sandwiches",
         "9.95",
         "201",
         "Drive-thru ",
         " Credit Card",
         "Pablo Perez",
         "Madrid",
         "1999.9499999999998"
        ],
        [
         "51",
         "10507",
         "2022-11-18 00:00:00",
         "Fries",
         "3.49",
         "688",
         "Drive-thru ",
         " Credit Card",
         "Pablo Perez",
         "Madrid",
         "2401.1200000000003"
        ],
        [
         "52",
         "10508",
         "2022-11-18 00:00:00",
         "Beverages",
         "2.95",
         "678",
         "Drive-thru ",
         " Credit Card",
         "Pablo Perez",
         "Madrid",
         "2000.1000000000001"
        ],
        [
         "53",
         "10509",
         "2022-11-18 00:00:00",
         "Sides & Other",
         "4.99",
         "200",
         "Drive-thru ",
         " Credit Card",
         "Pablo Perez",
         "Madrid",
         "998.0"
        ]
       ],
       "shape": {
        "columns": 10,
        "rows": 251
       }
      },
      "text/html": [
       "<div>\n",
       "<style scoped>\n",
       "    .dataframe tbody tr th:only-of-type {\n",
       "        vertical-align: middle;\n",
       "    }\n",
       "\n",
       "    .dataframe tbody tr th {\n",
       "        vertical-align: top;\n",
       "    }\n",
       "\n",
       "    .dataframe thead th {\n",
       "        text-align: right;\n",
       "    }\n",
       "</style>\n",
       "<table border=\"1\" class=\"dataframe\">\n",
       "  <thead>\n",
       "    <tr style=\"text-align: right;\">\n",
       "      <th></th>\n",
       "      <th>Order ID</th>\n",
       "      <th>Date</th>\n",
       "      <th>Product</th>\n",
       "      <th>Price</th>\n",
       "      <th>Quantity</th>\n",
       "      <th>Purchase Type</th>\n",
       "      <th>Payment Method</th>\n",
       "      <th>Manager</th>\n",
       "      <th>City</th>\n",
       "      <th>Revenue</th>\n",
       "    </tr>\n",
       "  </thead>\n",
       "  <tbody>\n",
       "    <tr>\n",
       "      <th>1</th>\n",
       "      <td>10452</td>\n",
       "      <td>2022-11-07</td>\n",
       "      <td>Fries</td>\n",
       "      <td>3.49</td>\n",
       "      <td>573</td>\n",
       "      <td>Online</td>\n",
       "      <td>Gift Card</td>\n",
       "      <td>Tom Jackson</td>\n",
       "      <td>London</td>\n",
       "      <td>1999.77</td>\n",
       "    </tr>\n",
       "    <tr>\n",
       "      <th>2</th>\n",
       "      <td>10453</td>\n",
       "      <td>2022-11-07</td>\n",
       "      <td>Beverages</td>\n",
       "      <td>2.95</td>\n",
       "      <td>746</td>\n",
       "      <td>Online</td>\n",
       "      <td>Gift Card</td>\n",
       "      <td>Pablo Perez</td>\n",
       "      <td>Madrid</td>\n",
       "      <td>2200.70</td>\n",
       "    </tr>\n",
       "    <tr>\n",
       "      <th>3</th>\n",
       "      <td>10454</td>\n",
       "      <td>2022-11-07</td>\n",
       "      <td>Sides &amp; Other</td>\n",
       "      <td>4.99</td>\n",
       "      <td>200</td>\n",
       "      <td>In-store</td>\n",
       "      <td>Gift Card</td>\n",
       "      <td>Joao Silva</td>\n",
       "      <td>Lisbon</td>\n",
       "      <td>998.00</td>\n",
       "    </tr>\n",
       "    <tr>\n",
       "      <th>4</th>\n",
       "      <td>10455</td>\n",
       "      <td>2022-11-08</td>\n",
       "      <td>Burgers</td>\n",
       "      <td>12.99</td>\n",
       "      <td>570</td>\n",
       "      <td>In-store</td>\n",
       "      <td>Credit Card</td>\n",
       "      <td>Walter Muller</td>\n",
       "      <td>Berlin</td>\n",
       "      <td>7404.30</td>\n",
       "    </tr>\n",
       "    <tr>\n",
       "      <th>5</th>\n",
       "      <td>10456</td>\n",
       "      <td>2022-11-08</td>\n",
       "      <td>Chicken Sandwiches</td>\n",
       "      <td>9.95</td>\n",
       "      <td>201</td>\n",
       "      <td>In-store</td>\n",
       "      <td>Credit Card</td>\n",
       "      <td>Walter Muller</td>\n",
       "      <td>Berlin</td>\n",
       "      <td>1999.95</td>\n",
       "    </tr>\n",
       "    <tr>\n",
       "      <th>...</th>\n",
       "      <td>...</td>\n",
       "      <td>...</td>\n",
       "      <td>...</td>\n",
       "      <td>...</td>\n",
       "      <td>...</td>\n",
       "      <td>...</td>\n",
       "      <td>...</td>\n",
       "      <td>...</td>\n",
       "      <td>...</td>\n",
       "      <td>...</td>\n",
       "    </tr>\n",
       "    <tr>\n",
       "      <th>250</th>\n",
       "      <td>10709</td>\n",
       "      <td>2022-12-28</td>\n",
       "      <td>Sides &amp; Other</td>\n",
       "      <td>4.99</td>\n",
       "      <td>200</td>\n",
       "      <td>Drive-thru</td>\n",
       "      <td>Gift Card</td>\n",
       "      <td>Walter Muller</td>\n",
       "      <td>Berlin</td>\n",
       "      <td>998.00</td>\n",
       "    </tr>\n",
       "    <tr>\n",
       "      <th>251</th>\n",
       "      <td>10710</td>\n",
       "      <td>2022-12-29</td>\n",
       "      <td>Burgers</td>\n",
       "      <td>12.99</td>\n",
       "      <td>754</td>\n",
       "      <td>Drive-thru</td>\n",
       "      <td>Gift Card</td>\n",
       "      <td>Walter Muller</td>\n",
       "      <td>Berlin</td>\n",
       "      <td>9794.46</td>\n",
       "    </tr>\n",
       "    <tr>\n",
       "      <th>252</th>\n",
       "      <td>10711</td>\n",
       "      <td>2022-12-29</td>\n",
       "      <td>Chicken Sandwiches</td>\n",
       "      <td>9.95</td>\n",
       "      <td>281</td>\n",
       "      <td>Drive-thru</td>\n",
       "      <td>Gift Card</td>\n",
       "      <td>Walter Muller</td>\n",
       "      <td>Berlin</td>\n",
       "      <td>2795.95</td>\n",
       "    </tr>\n",
       "    <tr>\n",
       "      <th>253</th>\n",
       "      <td>10712</td>\n",
       "      <td>2022-12-29</td>\n",
       "      <td>Fries</td>\n",
       "      <td>3.49</td>\n",
       "      <td>630</td>\n",
       "      <td>Drive-thru</td>\n",
       "      <td>Gift Card</td>\n",
       "      <td>Walter Muller</td>\n",
       "      <td>Berlin</td>\n",
       "      <td>2198.70</td>\n",
       "    </tr>\n",
       "    <tr>\n",
       "      <th>254</th>\n",
       "      <td>10713</td>\n",
       "      <td>2022-12-29</td>\n",
       "      <td>Beverages</td>\n",
       "      <td>2.95</td>\n",
       "      <td>678</td>\n",
       "      <td>Drive-thru</td>\n",
       "      <td>Gift Card</td>\n",
       "      <td>Walter Muller</td>\n",
       "      <td>Berlin</td>\n",
       "      <td>2000.10</td>\n",
       "    </tr>\n",
       "  </tbody>\n",
       "</table>\n",
       "<p>251 rows × 10 columns</p>\n",
       "</div>"
      ],
      "text/plain": [
       "0    Order ID       Date             Product  Price  Quantity Purchase Type  \\\n",
       "1       10452 2022-11-07               Fries   3.49       573       Online    \n",
       "2       10453 2022-11-07           Beverages   2.95       746       Online    \n",
       "3       10454 2022-11-07       Sides & Other   4.99       200     In-store    \n",
       "4       10455 2022-11-08             Burgers  12.99       570     In-store    \n",
       "5       10456 2022-11-08  Chicken Sandwiches   9.95       201     In-store    \n",
       "..        ...        ...                 ...    ...       ...           ...   \n",
       "250     10709 2022-12-28       Sides & Other   4.99       200   Drive-thru    \n",
       "251     10710 2022-12-29             Burgers  12.99       754   Drive-thru    \n",
       "252     10711 2022-12-29  Chicken Sandwiches   9.95       281   Drive-thru    \n",
       "253     10712 2022-12-29               Fries   3.49       630   Drive-thru    \n",
       "254     10713 2022-12-29           Beverages   2.95       678   Drive-thru    \n",
       "\n",
       "0   Payment Method        Manager    City  Revenue  \n",
       "1        Gift Card    Tom Jackson  London  1999.77  \n",
       "2        Gift Card    Pablo Perez  Madrid  2200.70  \n",
       "3        Gift Card     Joao Silva  Lisbon   998.00  \n",
       "4      Credit Card  Walter Muller  Berlin  7404.30  \n",
       "5      Credit Card  Walter Muller  Berlin  1999.95  \n",
       "..             ...            ...     ...      ...  \n",
       "250      Gift Card  Walter Muller  Berlin   998.00  \n",
       "251      Gift Card  Walter Muller  Berlin  9794.46  \n",
       "252      Gift Card  Walter Muller  Berlin  2795.95  \n",
       "253      Gift Card  Walter Muller  Berlin  2198.70  \n",
       "254      Gift Card  Walter Muller  Berlin  2000.10  \n",
       "\n",
       "[251 rows x 10 columns]"
      ]
     },
     "execution_count": 274,
     "metadata": {},
     "output_type": "execute_result"
    }
   ],
   "source": [
    "data"
   ]
  },
  {
   "cell_type": "code",
   "execution_count": 275,
   "id": "a0a90efe",
   "metadata": {},
   "outputs": [
    {
     "data": {
      "application/vnd.microsoft.datawrangler.viewer.v0+json": {
       "columns": [
        {
         "name": "Product",
         "rawType": "object",
         "type": "string"
        },
        {
         "name": "Revenue",
         "rawType": "float64",
         "type": "float"
        }
       ],
       "ref": "084fd00f-c5a9-4993-9b0f-efe392010c0a",
       "rows": [
        [
         "Burgers",
         "370344.9"
        ],
        [
         "Fries",
         "125626.57"
        ],
        [
         "Chicken Sandwiches",
         "114612.45"
        ],
        [
         "Beverages",
         "101214.50000000001"
        ],
        [
         "Sides & Other",
         "47904.0"
        ]
       ],
       "shape": {
        "columns": 1,
        "rows": 5
       }
      },
      "text/plain": [
       "Product\n",
       "Burgers               370344.90\n",
       "Fries                 125626.57\n",
       "Chicken Sandwiches    114612.45\n",
       "Beverages             101214.50\n",
       "Sides & Other          47904.00\n",
       "Name: Revenue, dtype: float64"
      ]
     },
     "execution_count": 275,
     "metadata": {},
     "output_type": "execute_result"
    }
   ],
   "source": [
    "data.groupby('Product')['Revenue'].sum().sort_values(ascending = False) # to make the group of unique values of a column"
   ]
  },
  {
   "cell_type": "code",
   "execution_count": 276,
   "id": "b976689e",
   "metadata": {},
   "outputs": [
    {
     "data": {
      "application/vnd.microsoft.datawrangler.viewer.v0+json": {
       "columns": [
        {
         "name": "Product",
         "rawType": "object",
         "type": "string"
        },
        {
         "name": "Revenue",
         "rawType": "float64",
         "type": "float"
        }
       ],
       "ref": "63a29679-5df7-47f0-890a-f09370fd74a7",
       "rows": [
        [
         "Burgers",
         "370344.9"
        ],
        [
         "Fries",
         "125626.57"
        ],
        [
         "Chicken Sandwiches",
         "114612.45"
        ],
        [
         "Beverages",
         "101214.50000000001"
        ],
        [
         "Sides & Other",
         "47904.0"
        ]
       ],
       "shape": {
        "columns": 1,
        "rows": 5
       }
      },
      "text/plain": [
       "Product\n",
       "Burgers               370344.90\n",
       "Fries                 125626.57\n",
       "Chicken Sandwiches    114612.45\n",
       "Beverages             101214.50\n",
       "Sides & Other          47904.00\n",
       "Name: Revenue, dtype: float64"
      ]
     },
     "execution_count": 276,
     "metadata": {},
     "output_type": "execute_result"
    }
   ],
   "source": [
    "most_revenue = data.groupby('Product')['Revenue'].sum().sort_values(ascending = False)\n",
    "most_revenue"
   ]
  },
  {
   "cell_type": "code",
   "execution_count": 277,
   "id": "a821654b",
   "metadata": {},
   "outputs": [
    {
     "data": {
      "application/vnd.microsoft.datawrangler.viewer.v0+json": {
       "columns": [
        {
         "name": "index",
         "rawType": "int64",
         "type": "integer"
        },
        {
         "name": "Product",
         "rawType": "object",
         "type": "string"
        },
        {
         "name": "Revenue",
         "rawType": "float64",
         "type": "float"
        }
       ],
       "ref": "1758d430-8091-4a59-9a87-a694b6ce338a",
       "rows": [
        [
         "0",
         "Burgers",
         "370344.9"
        ],
        [
         "1",
         "Fries",
         "125626.57"
        ],
        [
         "2",
         "Chicken Sandwiches",
         "114612.45"
        ],
        [
         "3",
         "Beverages",
         "101214.50000000001"
        ],
        [
         "4",
         "Sides & Other",
         "47904.0"
        ]
       ],
       "shape": {
        "columns": 2,
        "rows": 5
       }
      },
      "text/html": [
       "<div>\n",
       "<style scoped>\n",
       "    .dataframe tbody tr th:only-of-type {\n",
       "        vertical-align: middle;\n",
       "    }\n",
       "\n",
       "    .dataframe tbody tr th {\n",
       "        vertical-align: top;\n",
       "    }\n",
       "\n",
       "    .dataframe thead th {\n",
       "        text-align: right;\n",
       "    }\n",
       "</style>\n",
       "<table border=\"1\" class=\"dataframe\">\n",
       "  <thead>\n",
       "    <tr style=\"text-align: right;\">\n",
       "      <th></th>\n",
       "      <th>Product</th>\n",
       "      <th>Revenue</th>\n",
       "    </tr>\n",
       "  </thead>\n",
       "  <tbody>\n",
       "    <tr>\n",
       "      <th>0</th>\n",
       "      <td>Burgers</td>\n",
       "      <td>370344.90</td>\n",
       "    </tr>\n",
       "    <tr>\n",
       "      <th>1</th>\n",
       "      <td>Fries</td>\n",
       "      <td>125626.57</td>\n",
       "    </tr>\n",
       "    <tr>\n",
       "      <th>2</th>\n",
       "      <td>Chicken Sandwiches</td>\n",
       "      <td>114612.45</td>\n",
       "    </tr>\n",
       "    <tr>\n",
       "      <th>3</th>\n",
       "      <td>Beverages</td>\n",
       "      <td>101214.50</td>\n",
       "    </tr>\n",
       "    <tr>\n",
       "      <th>4</th>\n",
       "      <td>Sides &amp; Other</td>\n",
       "      <td>47904.00</td>\n",
       "    </tr>\n",
       "  </tbody>\n",
       "</table>\n",
       "</div>"
      ],
      "text/plain": [
       "              Product    Revenue\n",
       "0             Burgers  370344.90\n",
       "1               Fries  125626.57\n",
       "2  Chicken Sandwiches  114612.45\n",
       "3           Beverages  101214.50\n",
       "4       Sides & Other   47904.00"
      ]
     },
     "execution_count": 277,
     "metadata": {},
     "output_type": "execute_result"
    }
   ],
   "source": [
    "most_revenue = most_revenue.reset_index()         # To convert the index of a Series into a column to form a DataFrame\n",
    "most_revenue"
   ]
  },
  {
   "cell_type": "code",
   "execution_count": 278,
   "id": "7e389da0",
   "metadata": {},
   "outputs": [
    {
     "data": {
      "image/png": "[encoded data removed]",
      "text/plain": [
       "<Figure size 900x400 with 1 Axes>"
      ]
     },
     "metadata": {},
     "output_type": "display_data"
    }
   ],
   "source": [
    "plt.figure(figsize=(9, 4))\n",
    "plt.bar(most_revenue['Product'], most_revenue['Revenue'], color = ['green', 'red', 'black', 'yellow', 'cyan'], width = 0.3);\n",
    "plt.title(\"Most Selling Product - By Revenue\")       # setting the title       \n",
    "plt.xlabel(\"Product\")                                # setting the x-axis label\n",
    "plt.ylabel(\"Revenue\");                               # setting the y-axis label"
   ]
  },
  {
   "cell_type": "markdown",
   "id": "d0be5e75",
   "metadata": {},
   "source": [
    "#### Q.3) Which city had maximum revenue\n",
    "##### or\n",
    "##### Which Manager earned maximum revenue"
   ]
  },
  {
   "cell_type": "code",
   "execution_count": 279,
   "id": "7da95351",
   "metadata": {},
   "outputs": [
    {
     "data": {
      "application/vnd.microsoft.datawrangler.viewer.v0+json": {
       "columns": [
        {
         "name": "index",
         "rawType": "int64",
         "type": "integer"
        },
        {
         "name": "Order ID",
         "rawType": "int32",
         "type": "integer"
        },
        {
         "name": "Date",
         "rawType": "datetime64[ns]",
         "type": "datetime"
        },
        {
         "name": "Product",
         "rawType": "object",
         "type": "string"
        },
        {
         "name": "Price",
         "rawType": "float64",
         "type": "float"
        },
        {
         "name": "Quantity",
         "rawType": "int32",
         "type": "integer"
        },
        {
         "name": "Purchase Type",
         "rawType": "object",
         "type": "string"
        },
        {
         "name": "Payment Method",
         "rawType": "object",
         "type": "string"
        },
        {
         "name": "Manager",
         "rawType": "object",
         "type": "string"
        },
        {
         "name": "City",
         "rawType": "object",
         "type": "string"
        },
        {
         "name": "Revenue",
         "rawType": "float64",
         "type": "float"
        }
       ],
       "ref": "85f9e679-8068-4f9c-85c3-2d751c1aa29a",
       "rows": [
        [
         "1",
         "10452",
         "2022-11-07 00:00:00",
         "Fries",
         "3.49",
         "573",
         "Online ",
         " Gift Card",
         "Tom Jackson",
         "London",
         "1999.7700000000002"
        ],
        [
         "2",
         "10453",
         "2022-11-07 00:00:00",
         "Beverages",
         "2.95",
         "746",
         "Online ",
         " Gift Card",
         "Pablo Perez",
         "Madrid",
         "2200.7000000000003"
        ],
        [
         "3",
         "10454",
         "2022-11-07 00:00:00",
         "Sides & Other",
         "4.99",
         "200",
         "In-store ",
         " Gift Card",
         "Joao Silva",
         "Lisbon",
         "998.0"
        ],
        [
         "4",
         "10455",
         "2022-11-08 00:00:00",
         "Burgers",
         "12.99",
         "570",
         "In-store ",
         " Credit Card",
         "Walter Muller",
         "Berlin",
         "7404.3"
        ],
        [
         "5",
         "10456",
         "2022-11-08 00:00:00",
         "Chicken Sandwiches",
         "9.95",
         "201",
         "In-store ",
         " Credit Card",
         "Walter Muller",
         "Berlin",
         "1999.9499999999998"
        ],
        [
         "6",
         "10457",
         "2022-11-08 00:00:00",
         "Fries",
         "3.49",
         "573",
         "In-store ",
         " Credit Card",
         "Remy Monet",
         "Paris",
         "1999.7700000000002"
        ],
        [
         "7",
         "10459",
         "2022-11-08 00:00:00",
         "Sides & Other",
         "4.99",
         "200",
         "In-store ",
         " Credit Card",
         "Walter Muller",
         "Berlin",
         "998.0"
        ],
        [
         "8",
         "10460",
         "2022-11-09 00:00:00",
         "Burgers",
         "12.99",
         "554",
         "In-store ",
         " Credit Card",
         "Remy Monet",
         "Paris",
         "7196.46"
        ],
        [
         "9",
         "10461",
         "2022-11-09 00:00:00",
         "Chicken Sandwiches",
         "9.95",
         "201",
         "In-store ",
         " Credit Card",
         "Remy Monet",
         "Paris",
         "1999.9499999999998"
        ],
        [
         "10",
         "10462",
         "2022-11-09 00:00:00",
         "Fries",
         "3.49",
         "573",
         "In-store ",
         " Credit Card",
         "Remy Monet",
         "Paris",
         "1999.7700000000002"
        ],
        [
         "11",
         "10463",
         "2022-11-09 00:00:00",
         "Beverages",
         "2.95",
         "678",
         "In-store ",
         " Credit Card",
         "Remy Monet",
         "Paris",
         "2000.1000000000001"
        ],
        [
         "12",
         "10464",
         "2022-11-09 00:00:00",
         "Sides & Other",
         "4.99",
         "200",
         "In-store ",
         " Credit Card",
         "Remy Monet",
         "Paris",
         "998.0"
        ],
        [
         "13",
         "10465",
         "2022-11-10 00:00:00",
         "Burgers",
         "12.99",
         "554",
         "In-store ",
         " Credit Card",
         "Pablo Perez",
         "Madrid",
         "7196.46"
        ],
        [
         "14",
         "10466",
         "2022-11-10 00:00:00",
         "Chicken Sandwiches",
         "9.95",
         "201",
         "In-store ",
         " Credit Card",
         "Pablo Perez",
         "Madrid",
         "1999.9499999999998"
        ],
        [
         "15",
         "10467",
         "2022-11-10 00:00:00",
         "Fries",
         "3.49",
         "573",
         "In-store ",
         " Credit Card",
         "Pablo Perez",
         "Madrid",
         "1999.7700000000002"
        ],
        [
         "16",
         "10468",
         "2022-11-10 00:00:00",
         "Beverages",
         "2.95",
         "678",
         "In-store ",
         " Credit Card",
         "Pablo Perez",
         "Madrid",
         "2000.1000000000001"
        ],
        [
         "17",
         "10470",
         "2022-11-11 00:00:00",
         "Burgers",
         "12.99",
         "554",
         "In-store ",
         " Credit Card",
         "Pablo Perez",
         "Madrid",
         "7196.46"
        ],
        [
         "18",
         "10471",
         "2022-11-11 00:00:00",
         "Chicken Sandwiches",
         "9.95",
         "201",
         "In-store ",
         " Credit Card",
         "Pablo Perez",
         "Madrid",
         "1999.9499999999998"
        ],
        [
         "19",
         "10472",
         "2022-11-11 00:00:00",
         "Fries",
         "3.49",
         "630",
         "In-store ",
         " Credit Card",
         "Pablo Perez",
         "Madrid",
         "2198.7000000000003"
        ],
        [
         "20",
         "10473",
         "2022-11-11 00:00:00",
         "Beverages",
         "2.95",
         "678",
         "In-store ",
         " Credit Card",
         "Pablo Perez",
         "Madrid",
         "2000.1000000000001"
        ],
        [
         "21",
         "10474",
         "2022-11-11 00:00:00",
         "Sides & Other",
         "4.99",
         "200",
         "In-store ",
         " Credit Card",
         "Pablo Perez",
         "Madrid",
         "998.0"
        ],
        [
         "22",
         "10475",
         "2022-11-12 00:00:00",
         "Burgers",
         "12.99",
         "523",
         "In-store ",
         " Credit Card",
         "Pablo Perez",
         "Madrid",
         "6793.77"
        ],
        [
         "23",
         "10476",
         "2022-11-12 00:00:00",
         "Chicken Sandwiches",
         "9.95",
         "201",
         "In-store ",
         " Credit Card",
         "Pablo Perez",
         "Madrid",
         "1999.9499999999998"
        ],
        [
         "24",
         "10477",
         "2022-11-12 00:00:00",
         "Fries",
         "3.49",
         "630",
         "In-store ",
         " Credit Card",
         "Pablo Perez",
         "Madrid",
         "2198.7000000000003"
        ],
        [
         "25",
         "10478",
         "2022-11-12 00:00:00",
         "Beverages",
         "2.95",
         "678",
         "In-store ",
         " Credit Card",
         "Pablo Perez",
         "Madrid",
         "2000.1000000000001"
        ],
        [
         "26",
         "10479",
         "2022-11-12 00:00:00",
         "Sides & Other",
         "4.99",
         "200",
         "In-store ",
         " Credit Card",
         "Pablo Perez",
         "Madrid",
         "998.0"
        ],
        [
         "27",
         "10480",
         "2022-11-13 00:00:00",
         "Burgers",
         "12.99",
         "508",
         "In-store ",
         " Credit Card",
         "Pablo Perez",
         "Madrid",
         "6598.92"
        ],
        [
         "28",
         "10481",
         "2022-11-13 00:00:00",
         "Chicken Sandwiches",
         "9.95",
         "201",
         "In-store ",
         " Credit Card",
         "Pablo Perez",
         "Madrid",
         "1999.9499999999998"
        ],
        [
         "29",
         "10482",
         "2022-11-13 00:00:00",
         "Fries",
         "25.5",
         "630",
         "In-store ",
         " Credit Card",
         "Joao Silva",
         "Lisbon",
         "16065.0"
        ],
        [
         "30",
         "10486",
         "2022-11-14 00:00:00",
         "Chicken Sandwiches",
         "29.05",
         "201",
         "In-store ",
         " Credit Card",
         "Joao Silva",
         "Lisbon",
         "5839.05"
        ],
        [
         "31",
         "10487",
         "2022-11-14 00:00:00",
         "Fries",
         "3.49",
         "630",
         "In-store ",
         " Credit Card",
         "Joao Silva",
         "Lisbon",
         "2198.7000000000003"
        ],
        [
         "35",
         "10491",
         "2022-11-15 00:00:00",
         "Chicken Sandwiches",
         "9.95",
         "201",
         "In-store ",
         " Credit Card",
         "Pablo Perez",
         "Madrid",
         "1999.9499999999998"
        ],
        [
         "36",
         "10492",
         "2022-11-15 00:00:00",
         "Fries",
         "3.49",
         "573",
         "In-store ",
         " Credit Card",
         "Pablo Perez",
         "Madrid",
         "1999.7700000000002"
        ],
        [
         "37",
         "10493",
         "2022-11-15 00:00:00",
         "Beverages",
         "2.95",
         "678",
         "In-store ",
         " Credit Card",
         "Pablo Perez",
         "Madrid",
         "2000.1000000000001"
        ],
        [
         "38",
         "10494",
         "2022-11-15 00:00:00",
         "Sides & Other",
         "4.99",
         "200",
         "In-store ",
         " Credit Card",
         "Pablo Perez",
         "Madrid",
         "998.0"
        ],
        [
         "39",
         "10495",
         "2022-11-16 00:00:00",
         "Burgers",
         "12.99",
         "508",
         "In-store ",
         " Credit Card",
         "Pablo Perez",
         "Madrid",
         "6598.92"
        ],
        [
         "40",
         "10496",
         "2022-11-16 00:00:00",
         "Chicken Sandwiches",
         "9.95",
         "201",
         "In-store ",
         " Credit Card",
         "Pablo Perez",
         "Madrid",
         "1999.9499999999998"
        ],
        [
         "41",
         "10497",
         "2022-11-16 00:00:00",
         "Fries",
         "3.49",
         "573",
         "In-store ",
         " Credit Card",
         "Pablo Perez",
         "Madrid",
         "1999.7700000000002"
        ],
        [
         "42",
         "10498",
         "2022-11-16 00:00:00",
         "Beverages",
         "2.95",
         "678",
         "Drive-thru ",
         " Credit Card",
         "Pablo Perez",
         "Madrid",
         "2000.1000000000001"
        ],
        [
         "43",
         "10499",
         "2022-11-16 00:00:00",
         "Sides & Other",
         "4.99",
         "200",
         "Drive-thru ",
         " Credit Card",
         "Pablo Perez",
         "Madrid",
         "998.0"
        ],
        [
         "44",
         "10500",
         "2022-11-17 00:00:00",
         "Burgers",
         "12.99",
         "523",
         "Drive-thru ",
         " Credit Card",
         "Pablo Perez",
         "Madrid",
         "6793.77"
        ],
        [
         "45",
         "10501",
         "2022-11-17 00:00:00",
         "Chicken Sandwiches",
         "9.95",
         "201",
         "Drive-thru ",
         " Credit Card",
         "Pablo Perez",
         "Madrid",
         "1999.9499999999998"
        ],
        [
         "46",
         "10502",
         "2022-11-17 00:00:00",
         "Fries",
         "3.49",
         "630",
         "Drive-thru ",
         " Credit Card",
         "Pablo Perez",
         "Madrid",
         "2198.7000000000003"
        ],
        [
         "47",
         "10503",
         "2022-11-17 00:00:00",
         "Beverages",
         "2.95",
         "678",
         "Drive-thru ",
         " Credit Card",
         "Pablo Perez",
         "Madrid",
         "2000.1000000000001"
        ],
        [
         "48",
         "10504",
         "2022-11-17 00:00:00",
         "Sides & Other",
         "4.99",
         "200",
         "Drive-thru ",
         " Credit Card",
         "Pablo Perez",
         "Madrid",
         "998.0"
        ],
        [
         "49",
         "10505",
         "2022-11-18 00:00:00",
         "Burgers",
         "12.99",
         "539",
         "Drive-thru ",
         " Credit Card",
         "Pablo Perez",
         "Madrid",
         "7001.61"
        ],
        [
         "50",
         "10506",
         "2022-11-18 00:00:00",
         "Chicken Sandwiches",
         "9.95",
         "201",
         "Drive-thru ",
         " Credit Card",
         "Pablo Perez",
         "Madrid",
         "1999.9499999999998"
        ],
        [
         "51",
         "10507",
         "2022-11-18 00:00:00",
         "Fries",
         "3.49",
         "688",
         "Drive-thru ",
         " Credit Card",
         "Pablo Perez",
         "Madrid",
         "2401.1200000000003"
        ],
        [
         "52",
         "10508",
         "2022-11-18 00:00:00",
         "Beverages",
         "2.95",
         "678",
         "Drive-thru ",
         " Credit Card",
         "Pablo Perez",
         "Madrid",
         "2000.1000000000001"
        ],
        [
         "53",
         "10509",
         "2022-11-18 00:00:00",
         "Sides & Other",
         "4.99",
         "200",
         "Drive-thru ",
         " Credit Card",
         "Pablo Perez",
         "Madrid",
         "998.0"
        ]
       ],
       "shape": {
        "columns": 10,
        "rows": 251
       }
      },
      "text/html": [
       "<div>\n",
       "<style scoped>\n",
       "    .dataframe tbody tr th:only-of-type {\n",
       "        vertical-align: middle;\n",
       "    }\n",
       "\n",
       "    .dataframe tbody tr th {\n",
       "        vertical-align: top;\n",
       "    }\n",
       "\n",
       "    .dataframe thead th {\n",
       "        text-align: right;\n",
       "    }\n",
       "</style>\n",
       "<table border=\"1\" class=\"dataframe\">\n",
       "  <thead>\n",
       "    <tr style=\"text-align: right;\">\n",
       "      <th></th>\n",
       "      <th>Order ID</th>\n",
       "      <th>Date</th>\n",
       "      <th>Product</th>\n",
       "      <th>Price</th>\n",
       "      <th>Quantity</th>\n",
       "      <th>Purchase Type</th>\n",
       "      <th>Payment Method</th>\n",
       "      <th>Manager</th>\n",
       "      <th>City</th>\n",
       "      <th>Revenue</th>\n",
       "    </tr>\n",
       "  </thead>\n",
       "  <tbody>\n",
       "    <tr>\n",
       "      <th>1</th>\n",
       "      <td>10452</td>\n",
       "      <td>2022-11-07</td>\n",
       "      <td>Fries</td>\n",
       "      <td>3.49</td>\n",
       "      <td>573</td>\n",
       "      <td>Online</td>\n",
       "      <td>Gift Card</td>\n",
       "      <td>Tom Jackson</td>\n",
       "      <td>London</td>\n",
       "      <td>1999.77</td>\n",
       "    </tr>\n",
       "    <tr>\n",
       "      <th>2</th>\n",
       "      <td>10453</td>\n",
       "      <td>2022-11-07</td>\n",
       "      <td>Beverages</td>\n",
       "      <td>2.95</td>\n",
       "      <td>746</td>\n",
       "      <td>Online</td>\n",
       "      <td>Gift Card</td>\n",
       "      <td>Pablo Perez</td>\n",
       "      <td>Madrid</td>\n",
       "      <td>2200.70</td>\n",
       "    </tr>\n",
       "    <tr>\n",
       "      <th>3</th>\n",
       "      <td>10454</td>\n",
       "      <td>2022-11-07</td>\n",
       "      <td>Sides &amp; Other</td>\n",
       "      <td>4.99</td>\n",
       "      <td>200</td>\n",
       "      <td>In-store</td>\n",
       "      <td>Gift Card</td>\n",
       "      <td>Joao Silva</td>\n",
       "      <td>Lisbon</td>\n",
       "      <td>998.00</td>\n",
       "    </tr>\n",
       "    <tr>\n",
       "      <th>4</th>\n",
       "      <td>10455</td>\n",
       "      <td>2022-11-08</td>\n",
       "      <td>Burgers</td>\n",
       "      <td>12.99</td>\n",
       "      <td>570</td>\n",
       "      <td>In-store</td>\n",
       "      <td>Credit Card</td>\n",
       "      <td>Walter Muller</td>\n",
       "      <td>Berlin</td>\n",
       "      <td>7404.30</td>\n",
       "    </tr>\n",
       "    <tr>\n",
       "      <th>5</th>\n",
       "      <td>10456</td>\n",
       "      <td>2022-11-08</td>\n",
       "      <td>Chicken Sandwiches</td>\n",
       "      <td>9.95</td>\n",
       "      <td>201</td>\n",
       "      <td>In-store</td>\n",
       "      <td>Credit Card</td>\n",
       "      <td>Walter Muller</td>\n",
       "      <td>Berlin</td>\n",
       "      <td>1999.95</td>\n",
       "    </tr>\n",
       "    <tr>\n",
       "      <th>...</th>\n",
       "      <td>...</td>\n",
       "      <td>...</td>\n",
       "      <td>...</td>\n",
       "      <td>...</td>\n",
       "      <td>...</td>\n",
       "      <td>...</td>\n",
       "      <td>...</td>\n",
       "      <td>...</td>\n",
       "      <td>...</td>\n",
       "      <td>...</td>\n",
       "    </tr>\n",
       "    <tr>\n",
       "      <th>250</th>\n",
       "      <td>10709</td>\n",
       "      <td>2022-12-28</td>\n",
       "      <td>Sides &amp; Other</td>\n",
       "      <td>4.99</td>\n",
       "      <td>200</td>\n",
       "      <td>Drive-thru</td>\n",
       "      <td>Gift Card</td>\n",
       "      <td>Walter Muller</td>\n",
       "      <td>Berlin</td>\n",
       "      <td>998.00</td>\n",
       "    </tr>\n",
       "    <tr>\n",
       "      <th>251</th>\n",
       "      <td>10710</td>\n",
       "      <td>2022-12-29</td>\n",
       "      <td>Burgers</td>\n",
       "      <td>12.99</td>\n",
       "      <td>754</td>\n",
       "      <td>Drive-thru</td>\n",
       "      <td>Gift Card</td>\n",
       "      <td>Walter Muller</td>\n",
       "      <td>Berlin</td>\n",
       "      <td>9794.46</td>\n",
       "    </tr>\n",
       "    <tr>\n",
       "      <th>252</th>\n",
       "      <td>10711</td>\n",
       "      <td>2022-12-29</td>\n",
       "      <td>Chicken Sandwiches</td>\n",
       "      <td>9.95</td>\n",
       "      <td>281</td>\n",
       "      <td>Drive-thru</td>\n",
       "      <td>Gift Card</td>\n",
       "      <td>Walter Muller</td>\n",
       "      <td>Berlin</td>\n",
       "      <td>2795.95</td>\n",
       "    </tr>\n",
       "    <tr>\n",
       "      <th>253</th>\n",
       "      <td>10712</td>\n",
       "      <td>2022-12-29</td>\n",
       "      <td>Fries</td>\n",
       "      <td>3.49</td>\n",
       "      <td>630</td>\n",
       "      <td>Drive-thru</td>\n",
       "      <td>Gift Card</td>\n",
       "      <td>Walter Muller</td>\n",
       "      <td>Berlin</td>\n",
       "      <td>2198.70</td>\n",
       "    </tr>\n",
       "    <tr>\n",
       "      <th>254</th>\n",
       "      <td>10713</td>\n",
       "      <td>2022-12-29</td>\n",
       "      <td>Beverages</td>\n",
       "      <td>2.95</td>\n",
       "      <td>678</td>\n",
       "      <td>Drive-thru</td>\n",
       "      <td>Gift Card</td>\n",
       "      <td>Walter Muller</td>\n",
       "      <td>Berlin</td>\n",
       "      <td>2000.10</td>\n",
       "    </tr>\n",
       "  </tbody>\n",
       "</table>\n",
       "<p>251 rows × 10 columns</p>\n",
       "</div>"
      ],
      "text/plain": [
       "0    Order ID       Date             Product  Price  Quantity Purchase Type  \\\n",
       "1       10452 2022-11-07               Fries   3.49       573       Online    \n",
       "2       10453 2022-11-07           Beverages   2.95       746       Online    \n",
       "3       10454 2022-11-07       Sides & Other   4.99       200     In-store    \n",
       "4       10455 2022-11-08             Burgers  12.99       570     In-store    \n",
       "5       10456 2022-11-08  Chicken Sandwiches   9.95       201     In-store    \n",
       "..        ...        ...                 ...    ...       ...           ...   \n",
       "250     10709 2022-12-28       Sides & Other   4.99       200   Drive-thru    \n",
       "251     10710 2022-12-29             Burgers  12.99       754   Drive-thru    \n",
       "252     10711 2022-12-29  Chicken Sandwiches   9.95       281   Drive-thru    \n",
       "253     10712 2022-12-29               Fries   3.49       630   Drive-thru    \n",
       "254     10713 2022-12-29           Beverages   2.95       678   Drive-thru    \n",
       "\n",
       "0   Payment Method        Manager    City  Revenue  \n",
       "1        Gift Card    Tom Jackson  London  1999.77  \n",
       "2        Gift Card    Pablo Perez  Madrid  2200.70  \n",
       "3        Gift Card     Joao Silva  Lisbon   998.00  \n",
       "4      Credit Card  Walter Muller  Berlin  7404.30  \n",
       "5      Credit Card  Walter Muller  Berlin  1999.95  \n",
       "..             ...            ...     ...      ...  \n",
       "250      Gift Card  Walter Muller  Berlin   998.00  \n",
       "251      Gift Card  Walter Muller  Berlin  9794.46  \n",
       "252      Gift Card  Walter Muller  Berlin  2795.95  \n",
       "253      Gift Card  Walter Muller  Berlin  2198.70  \n",
       "254      Gift Card  Walter Muller  Berlin  2000.10  \n",
       "\n",
       "[251 rows x 10 columns]"
      ]
     },
     "execution_count": 279,
     "metadata": {},
     "output_type": "execute_result"
    }
   ],
   "source": [
    "data"
   ]
  },
  {
   "cell_type": "code",
   "execution_count": 280,
   "id": "abe1f59a",
   "metadata": {},
   "outputs": [
    {
     "data": {
      "text/plain": [
       "array(['London', 'Madrid', 'Lisbon', 'Berlin', 'Paris'], dtype=object)"
      ]
     },
     "execution_count": 280,
     "metadata": {},
     "output_type": "execute_result"
    }
   ],
   "source": [
    "data.City.unique()                       # to check the unique values of the column 'City'"
   ]
  },
  {
   "cell_type": "code",
   "execution_count": 281,
   "id": "7635f2cb",
   "metadata": {},
   "outputs": [
    {
     "data": {
      "text/plain": [
       "5"
      ]
     },
     "execution_count": 281,
     "metadata": {},
     "output_type": "execute_result"
    }
   ],
   "source": [
    "data.City.nunique()                      # to check the count of unique values of the column 'City'"
   ]
  },
  {
   "cell_type": "code",
   "execution_count": 282,
   "id": "0922cff2",
   "metadata": {},
   "outputs": [
    {
     "data": {
      "application/vnd.microsoft.datawrangler.viewer.v0+json": {
       "columns": [
        {
         "name": "City",
         "rawType": "object",
         "type": "string"
        },
        {
         "name": "Revenue",
         "rawType": "float64",
         "type": "float"
        }
       ],
       "ref": "e82ae06d-7c5d-4e85-abda-072f8c2bd1aa",
       "rows": [
        [
         "Lisbon",
         "239635.39"
        ],
        [
         "London",
         "211160.04"
        ],
        [
         "Madrid",
         "128557.32"
        ],
        [
         "Berlin",
         "100572.34"
        ],
        [
         "Paris",
         "79777.33"
        ]
       ],
       "shape": {
        "columns": 1,
        "rows": 5
       }
      },
      "text/plain": [
       "City\n",
       "Lisbon    239635.39\n",
       "London    211160.04\n",
       "Madrid    128557.32\n",
       "Berlin    100572.34\n",
       "Paris      79777.33\n",
       "Name: Revenue, dtype: float64"
      ]
     },
     "execution_count": 282,
     "metadata": {},
     "output_type": "execute_result"
    }
   ],
   "source": [
    "data.groupby('City')['Revenue'].sum().sort_values(ascending=False)   # using groupby on 'City' & 'Revenue' column"
   ]
  },
  {
   "cell_type": "code",
   "execution_count": 283,
   "id": "71404729",
   "metadata": {},
   "outputs": [
    {
     "data": {
      "text/plain": [
       "5"
      ]
     },
     "execution_count": 283,
     "metadata": {},
     "output_type": "execute_result"
    }
   ],
   "source": [
    "data.Manager.nunique()                   # to check the count of unique values of the column 'Manager'"
   ]
  },
  {
   "cell_type": "code",
   "execution_count": 284,
   "id": "bcb74df3",
   "metadata": {},
   "outputs": [
    {
     "data": {
      "text/plain": [
       "array(['Tom Jackson', 'Pablo Perez', 'Joao Silva', 'Walter Muller',\n",
       "       'Remy Monet'], dtype=object)"
      ]
     },
     "execution_count": 284,
     "metadata": {},
     "output_type": "execute_result"
    }
   ],
   "source": [
    "data.Manager.unique()                   # to check the unique values of the column 'Manager'"
   ]
  },
  {
   "cell_type": "code",
   "execution_count": 285,
   "id": "bc92a0ef",
   "metadata": {},
   "outputs": [
    {
     "data": {
      "application/vnd.microsoft.datawrangler.viewer.v0+json": {
       "columns": [
        {
         "name": "Manager",
         "rawType": "object",
         "type": "string"
        },
        {
         "name": "Revenue",
         "rawType": "float64",
         "type": "float"
        }
       ],
       "ref": "3c9e2777-00e5-41b0-92b7-8ac7004b7595",
       "rows": [
        [
         "Joao Silva",
         "239635.39"
        ],
        [
         "Tom Jackson",
         "211160.04"
        ],
        [
         "Pablo Perez",
         "128557.32"
        ],
        [
         "Walter Muller",
         "100572.34"
        ],
        [
         "Remy Monet",
         "79777.33"
        ]
       ],
       "shape": {
        "columns": 1,
        "rows": 5
       }
      },
      "text/plain": [
       "Manager\n",
       "Joao Silva       239635.39\n",
       "Tom Jackson      211160.04\n",
       "Pablo Perez      128557.32\n",
       "Walter Muller    100572.34\n",
       "Remy Monet        79777.33\n",
       "Name: Revenue, dtype: float64"
      ]
     },
     "execution_count": 285,
     "metadata": {},
     "output_type": "execute_result"
    }
   ],
   "source": [
    "data.groupby('Manager')['Revenue'].sum().sort_values(ascending=False)   # using groupby on 'Manager' & 'Revenue' column"
   ]
  },
  {
   "cell_type": "markdown",
   "id": "755c61a8",
   "metadata": {},
   "source": [
    "#### Q.4) Date wise revenue"
   ]
  },
  {
   "cell_type": "code",
   "execution_count": 286,
   "id": "ac989469",
   "metadata": {},
   "outputs": [
    {
     "data": {
      "application/vnd.microsoft.datawrangler.viewer.v0+json": {
       "columns": [
        {
         "name": "index",
         "rawType": "int64",
         "type": "integer"
        },
        {
         "name": "Order ID",
         "rawType": "int32",
         "type": "integer"
        },
        {
         "name": "Date",
         "rawType": "datetime64[ns]",
         "type": "datetime"
        },
        {
         "name": "Product",
         "rawType": "object",
         "type": "string"
        },
        {
         "name": "Price",
         "rawType": "float64",
         "type": "float"
        },
        {
         "name": "Quantity",
         "rawType": "int32",
         "type": "integer"
        },
        {
         "name": "Purchase Type",
         "rawType": "object",
         "type": "string"
        },
        {
         "name": "Payment Method",
         "rawType": "object",
         "type": "string"
        },
        {
         "name": "Manager",
         "rawType": "object",
         "type": "string"
        },
        {
         "name": "City",
         "rawType": "object",
         "type": "string"
        },
        {
         "name": "Revenue",
         "rawType": "float64",
         "type": "float"
        }
       ],
       "ref": "c3c21a0f-2168-4248-b2c0-46aecfcbd75a",
       "rows": [
        [
         "1",
         "10452",
         "2022-11-07 00:00:00",
         "Fries",
         "3.49",
         "573",
         "Online ",
         " Gift Card",
         "Tom Jackson",
         "London",
         "1999.7700000000002"
        ],
        [
         "2",
         "10453",
         "2022-11-07 00:00:00",
         "Beverages",
         "2.95",
         "746",
         "Online ",
         " Gift Card",
         "Pablo Perez",
         "Madrid",
         "2200.7000000000003"
        ],
        [
         "3",
         "10454",
         "2022-11-07 00:00:00",
         "Sides & Other",
         "4.99",
         "200",
         "In-store ",
         " Gift Card",
         "Joao Silva",
         "Lisbon",
         "998.0"
        ],
        [
         "4",
         "10455",
         "2022-11-08 00:00:00",
         "Burgers",
         "12.99",
         "570",
         "In-store ",
         " Credit Card",
         "Walter Muller",
         "Berlin",
         "7404.3"
        ],
        [
         "5",
         "10456",
         "2022-11-08 00:00:00",
         "Chicken Sandwiches",
         "9.95",
         "201",
         "In-store ",
         " Credit Card",
         "Walter Muller",
         "Berlin",
         "1999.9499999999998"
        ]
       ],
       "shape": {
        "columns": 10,
        "rows": 5
       }
      },
      "text/html": [
       "<div>\n",
       "<style scoped>\n",
       "    .dataframe tbody tr th:only-of-type {\n",
       "        vertical-align: middle;\n",
       "    }\n",
       "\n",
       "    .dataframe tbody tr th {\n",
       "        vertical-align: top;\n",
       "    }\n",
       "\n",
       "    .dataframe thead th {\n",
       "        text-align: right;\n",
       "    }\n",
       "</style>\n",
       "<table border=\"1\" class=\"dataframe\">\n",
       "  <thead>\n",
       "    <tr style=\"text-align: right;\">\n",
       "      <th></th>\n",
       "      <th>Order ID</th>\n",
       "      <th>Date</th>\n",
       "      <th>Product</th>\n",
       "      <th>Price</th>\n",
       "      <th>Quantity</th>\n",
       "      <th>Purchase Type</th>\n",
       "      <th>Payment Method</th>\n",
       "      <th>Manager</th>\n",
       "      <th>City</th>\n",
       "      <th>Revenue</th>\n",
       "    </tr>\n",
       "  </thead>\n",
       "  <tbody>\n",
       "    <tr>\n",
       "      <th>1</th>\n",
       "      <td>10452</td>\n",
       "      <td>2022-11-07</td>\n",
       "      <td>Fries</td>\n",
       "      <td>3.49</td>\n",
       "      <td>573</td>\n",
       "      <td>Online</td>\n",
       "      <td>Gift Card</td>\n",
       "      <td>Tom Jackson</td>\n",
       "      <td>London</td>\n",
       "      <td>1999.77</td>\n",
       "    </tr>\n",
       "    <tr>\n",
       "      <th>2</th>\n",
       "      <td>10453</td>\n",
       "      <td>2022-11-07</td>\n",
       "      <td>Beverages</td>\n",
       "      <td>2.95</td>\n",
       "      <td>746</td>\n",
       "      <td>Online</td>\n",
       "      <td>Gift Card</td>\n",
       "      <td>Pablo Perez</td>\n",
       "      <td>Madrid</td>\n",
       "      <td>2200.70</td>\n",
       "    </tr>\n",
       "    <tr>\n",
       "      <th>3</th>\n",
       "      <td>10454</td>\n",
       "      <td>2022-11-07</td>\n",
       "      <td>Sides &amp; Other</td>\n",
       "      <td>4.99</td>\n",
       "      <td>200</td>\n",
       "      <td>In-store</td>\n",
       "      <td>Gift Card</td>\n",
       "      <td>Joao Silva</td>\n",
       "      <td>Lisbon</td>\n",
       "      <td>998.00</td>\n",
       "    </tr>\n",
       "    <tr>\n",
       "      <th>4</th>\n",
       "      <td>10455</td>\n",
       "      <td>2022-11-08</td>\n",
       "      <td>Burgers</td>\n",
       "      <td>12.99</td>\n",
       "      <td>570</td>\n",
       "      <td>In-store</td>\n",
       "      <td>Credit Card</td>\n",
       "      <td>Walter Muller</td>\n",
       "      <td>Berlin</td>\n",
       "      <td>7404.30</td>\n",
       "    </tr>\n",
       "    <tr>\n",
       "      <th>5</th>\n",
       "      <td>10456</td>\n",
       "      <td>2022-11-08</td>\n",
       "      <td>Chicken Sandwiches</td>\n",
       "      <td>9.95</td>\n",
       "      <td>201</td>\n",
       "      <td>In-store</td>\n",
       "      <td>Credit Card</td>\n",
       "      <td>Walter Muller</td>\n",
       "      <td>Berlin</td>\n",
       "      <td>1999.95</td>\n",
       "    </tr>\n",
       "  </tbody>\n",
       "</table>\n",
       "</div>"
      ],
      "text/plain": [
       "0  Order ID       Date             Product  Price  Quantity Purchase Type  \\\n",
       "1     10452 2022-11-07               Fries   3.49       573       Online    \n",
       "2     10453 2022-11-07           Beverages   2.95       746       Online    \n",
       "3     10454 2022-11-07       Sides & Other   4.99       200     In-store    \n",
       "4     10455 2022-11-08             Burgers  12.99       570     In-store    \n",
       "5     10456 2022-11-08  Chicken Sandwiches   9.95       201     In-store    \n",
       "\n",
       "0 Payment Method        Manager    City  Revenue  \n",
       "1      Gift Card    Tom Jackson  London  1999.77  \n",
       "2      Gift Card    Pablo Perez  Madrid  2200.70  \n",
       "3      Gift Card     Joao Silva  Lisbon   998.00  \n",
       "4    Credit Card  Walter Muller  Berlin  7404.30  \n",
       "5    Credit Card  Walter Muller  Berlin  1999.95  "
      ]
     },
     "execution_count": 286,
     "metadata": {},
     "output_type": "execute_result"
    }
   ],
   "source": [
    "data.head()"
   ]
  },
  {
   "cell_type": "code",
   "execution_count": 287,
   "id": "231c93f4",
   "metadata": {},
   "outputs": [
    {
     "data": {
      "text/plain": [
       "dtype('<M8[ns]')"
      ]
     },
     "execution_count": 287,
     "metadata": {},
     "output_type": "execute_result"
    }
   ],
   "source": [
    "data.Date.dtype"
   ]
  },
  {
   "cell_type": "code",
   "execution_count": 288,
   "id": "f9070b75",
   "metadata": {},
   "outputs": [
    {
     "name": "stdout",
     "output_type": "stream",
     "text": [
      "<class 'pandas.core.frame.DataFrame'>\n",
      "Index: 251 entries, 1 to 254\n",
      "Data columns (total 10 columns):\n",
      " #   Column          Non-Null Count  Dtype         \n",
      "---  ------          --------------  -----         \n",
      " 0   Order ID        251 non-null    int32         \n",
      " 1   Date            251 non-null    datetime64[ns]\n",
      " 2   Product         251 non-null    object        \n",
      " 3   Price           251 non-null    float64       \n",
      " 4   Quantity        251 non-null    int32         \n",
      " 5   Purchase Type   251 non-null    object        \n",
      " 6   Payment Method  251 non-null    object        \n",
      " 7   Manager         251 non-null    object        \n",
      " 8   City            251 non-null    object        \n",
      " 9   Revenue         251 non-null    float64       \n",
      "dtypes: datetime64[ns](1), float64(2), int32(2), object(5)\n",
      "memory usage: 19.6+ KB\n"
     ]
    }
   ],
   "source": [
    "data.info()"
   ]
  },
  {
   "cell_type": "code",
   "execution_count": 289,
   "id": "b90cea4c",
   "metadata": {},
   "outputs": [
    {
     "data": {
      "image/png": "[encoded data removed]",
      "text/plain": [
       "<Figure size 900x400 with 1 Axes>"
      ]
     },
     "metadata": {},
     "output_type": "display_data"
    }
   ],
   "source": [
    "data.plot('Date', 'Revenue', color='red', linewidth=2, figsize=(9,4)) \n",
    "plt.title(\"Date wise Revenue\")                        # setting the title\n",
    "plt.xlabel(\"Date\")                                    # setting the x-axis label\n",
    "plt.ylabel(\"Revenue\")                                 # setting the y-axis label\n",
    "plt.show()"
   ]
  },
  {
   "cell_type": "markdown",
   "id": "7829ee30",
   "metadata": {},
   "source": [
    "#### Q.5) Average Revenue"
   ]
  },
  {
   "cell_type": "code",
   "execution_count": 290,
   "id": "a6c202aa",
   "metadata": {},
   "outputs": [
    {
     "data": {
      "application/vnd.microsoft.datawrangler.viewer.v0+json": {
       "columns": [
        {
         "name": "index",
         "rawType": "int64",
         "type": "integer"
        },
        {
         "name": "Order ID",
         "rawType": "int32",
         "type": "integer"
        },
        {
         "name": "Date",
         "rawType": "datetime64[ns]",
         "type": "datetime"
        },
        {
         "name": "Product",
         "rawType": "object",
         "type": "string"
        },
        {
         "name": "Price",
         "rawType": "float64",
         "type": "float"
        },
        {
         "name": "Quantity",
         "rawType": "int32",
         "type": "integer"
        },
        {
         "name": "Purchase Type",
         "rawType": "object",
         "type": "string"
        },
        {
         "name": "Payment Method",
         "rawType": "object",
         "type": "string"
        },
        {
         "name": "Manager",
         "rawType": "object",
         "type": "string"
        },
        {
         "name": "City",
         "rawType": "object",
         "type": "string"
        },
        {
         "name": "Revenue",
         "rawType": "float64",
         "type": "float"
        }
       ],
       "ref": "9e758607-5e5f-44b0-854a-10be341f86d4",
       "rows": [
        [
         "1",
         "10452",
         "2022-11-07 00:00:00",
         "Fries",
         "3.49",
         "573",
         "Online ",
         " Gift Card",
         "Tom Jackson",
         "London",
         "1999.7700000000002"
        ],
        [
         "2",
         "10453",
         "2022-11-07 00:00:00",
         "Beverages",
         "2.95",
         "746",
         "Online ",
         " Gift Card",
         "Pablo Perez",
         "Madrid",
         "2200.7000000000003"
        ],
        [
         "3",
         "10454",
         "2022-11-07 00:00:00",
         "Sides & Other",
         "4.99",
         "200",
         "In-store ",
         " Gift Card",
         "Joao Silva",
         "Lisbon",
         "998.0"
        ],
        [
         "4",
         "10455",
         "2022-11-08 00:00:00",
         "Burgers",
         "12.99",
         "570",
         "In-store ",
         " Credit Card",
         "Walter Muller",
         "Berlin",
         "7404.3"
        ],
        [
         "5",
         "10456",
         "2022-11-08 00:00:00",
         "Chicken Sandwiches",
         "9.95",
         "201",
         "In-store ",
         " Credit Card",
         "Walter Muller",
         "Berlin",
         "1999.9499999999998"
        ]
       ],
       "shape": {
        "columns": 10,
        "rows": 5
       }
      },
      "text/html": [
       "<div>\n",
       "<style scoped>\n",
       "    .dataframe tbody tr th:only-of-type {\n",
       "        vertical-align: middle;\n",
       "    }\n",
       "\n",
       "    .dataframe tbody tr th {\n",
       "        vertical-align: top;\n",
       "    }\n",
       "\n",
       "    .dataframe thead th {\n",
       "        text-align: right;\n",
       "    }\n",
       "</style>\n",
       "<table border=\"1\" class=\"dataframe\">\n",
       "  <thead>\n",
       "    <tr style=\"text-align: right;\">\n",
       "      <th></th>\n",
       "      <th>Order ID</th>\n",
       "      <th>Date</th>\n",
       "      <th>Product</th>\n",
       "      <th>Price</th>\n",
       "      <th>Quantity</th>\n",
       "      <th>Purchase Type</th>\n",
       "      <th>Payment Method</th>\n",
       "      <th>Manager</th>\n",
       "      <th>City</th>\n",
       "      <th>Revenue</th>\n",
       "    </tr>\n",
       "  </thead>\n",
       "  <tbody>\n",
       "    <tr>\n",
       "      <th>1</th>\n",
       "      <td>10452</td>\n",
       "      <td>2022-11-07</td>\n",
       "      <td>Fries</td>\n",
       "      <td>3.49</td>\n",
       "      <td>573</td>\n",
       "      <td>Online</td>\n",
       "      <td>Gift Card</td>\n",
       "      <td>Tom Jackson</td>\n",
       "      <td>London</td>\n",
       "      <td>1999.77</td>\n",
       "    </tr>\n",
       "    <tr>\n",
       "      <th>2</th>\n",
       "      <td>10453</td>\n",
       "      <td>2022-11-07</td>\n",
       "      <td>Beverages</td>\n",
       "      <td>2.95</td>\n",
       "      <td>746</td>\n",
       "      <td>Online</td>\n",
       "      <td>Gift Card</td>\n",
       "      <td>Pablo Perez</td>\n",
       "      <td>Madrid</td>\n",
       "      <td>2200.70</td>\n",
       "    </tr>\n",
       "    <tr>\n",
       "      <th>3</th>\n",
       "      <td>10454</td>\n",
       "      <td>2022-11-07</td>\n",
       "      <td>Sides &amp; Other</td>\n",
       "      <td>4.99</td>\n",
       "      <td>200</td>\n",
       "      <td>In-store</td>\n",
       "      <td>Gift Card</td>\n",
       "      <td>Joao Silva</td>\n",
       "      <td>Lisbon</td>\n",
       "      <td>998.00</td>\n",
       "    </tr>\n",
       "    <tr>\n",
       "      <th>4</th>\n",
       "      <td>10455</td>\n",
       "      <td>2022-11-08</td>\n",
       "      <td>Burgers</td>\n",
       "      <td>12.99</td>\n",
       "      <td>570</td>\n",
       "      <td>In-store</td>\n",
       "      <td>Credit Card</td>\n",
       "      <td>Walter Muller</td>\n",
       "      <td>Berlin</td>\n",
       "      <td>7404.30</td>\n",
       "    </tr>\n",
       "    <tr>\n",
       "      <th>5</th>\n",
       "      <td>10456</td>\n",
       "      <td>2022-11-08</td>\n",
       "      <td>Chicken Sandwiches</td>\n",
       "      <td>9.95</td>\n",
       "      <td>201</td>\n",
       "      <td>In-store</td>\n",
       "      <td>Credit Card</td>\n",
       "      <td>Walter Muller</td>\n",
       "      <td>Berlin</td>\n",
       "      <td>1999.95</td>\n",
       "    </tr>\n",
       "  </tbody>\n",
       "</table>\n",
       "</div>"
      ],
      "text/plain": [
       "0  Order ID       Date             Product  Price  Quantity Purchase Type  \\\n",
       "1     10452 2022-11-07               Fries   3.49       573       Online    \n",
       "2     10453 2022-11-07           Beverages   2.95       746       Online    \n",
       "3     10454 2022-11-07       Sides & Other   4.99       200     In-store    \n",
       "4     10455 2022-11-08             Burgers  12.99       570     In-store    \n",
       "5     10456 2022-11-08  Chicken Sandwiches   9.95       201     In-store    \n",
       "\n",
       "0 Payment Method        Manager    City  Revenue  \n",
       "1      Gift Card    Tom Jackson  London  1999.77  \n",
       "2      Gift Card    Pablo Perez  Madrid  2200.70  \n",
       "3      Gift Card     Joao Silva  Lisbon   998.00  \n",
       "4    Credit Card  Walter Muller  Berlin  7404.30  \n",
       "5    Credit Card  Walter Muller  Berlin  1999.95  "
      ]
     },
     "execution_count": 290,
     "metadata": {},
     "output_type": "execute_result"
    }
   ],
   "source": [
    "data.head()"
   ]
  },
  {
   "cell_type": "code",
   "execution_count": 291,
   "id": "df87b856",
   "metadata": {},
   "outputs": [
    {
     "data": {
      "text/plain": [
       "3026.7028685258965"
      ]
     },
     "execution_count": 291,
     "metadata": {},
     "output_type": "execute_result"
    }
   ],
   "source": [
    "data['Revenue'].mean()"
   ]
  },
  {
   "cell_type": "markdown",
   "id": "9c728b58",
   "metadata": {},
   "source": [
    "#### Q.6) Average Revenue of November & December month"
   ]
  },
  {
   "cell_type": "code",
   "execution_count": 292,
   "id": "eaa5c329",
   "metadata": {},
   "outputs": [
    {
     "data": {
      "application/vnd.microsoft.datawrangler.viewer.v0+json": {
       "columns": [
        {
         "name": "index",
         "rawType": "int64",
         "type": "integer"
        },
        {
         "name": "Order ID",
         "rawType": "int32",
         "type": "integer"
        },
        {
         "name": "Date",
         "rawType": "datetime64[ns]",
         "type": "datetime"
        },
        {
         "name": "Product",
         "rawType": "object",
         "type": "string"
        },
        {
         "name": "Price",
         "rawType": "float64",
         "type": "float"
        },
        {
         "name": "Quantity",
         "rawType": "int32",
         "type": "integer"
        },
        {
         "name": "Purchase Type",
         "rawType": "object",
         "type": "string"
        },
        {
         "name": "Payment Method",
         "rawType": "object",
         "type": "string"
        },
        {
         "name": "Manager",
         "rawType": "object",
         "type": "string"
        },
        {
         "name": "City",
         "rawType": "object",
         "type": "string"
        },
        {
         "name": "Revenue",
         "rawType": "float64",
         "type": "float"
        }
       ],
       "ref": "ecb5a3b0-d59e-49d9-a369-9ab0cebbbd0d",
       "rows": [
        [
         "1",
         "10452",
         "2022-11-07 00:00:00",
         "Fries",
         "3.49",
         "573",
         "Online ",
         " Gift Card",
         "Tom Jackson",
         "London",
         "1999.7700000000002"
        ],
        [
         "2",
         "10453",
         "2022-11-07 00:00:00",
         "Beverages",
         "2.95",
         "746",
         "Online ",
         " Gift Card",
         "Pablo Perez",
         "Madrid",
         "2200.7000000000003"
        ],
        [
         "3",
         "10454",
         "2022-11-07 00:00:00",
         "Sides & Other",
         "4.99",
         "200",
         "In-store ",
         " Gift Card",
         "Joao Silva",
         "Lisbon",
         "998.0"
        ],
        [
         "4",
         "10455",
         "2022-11-08 00:00:00",
         "Burgers",
         "12.99",
         "570",
         "In-store ",
         " Credit Card",
         "Walter Muller",
         "Berlin",
         "7404.3"
        ],
        [
         "5",
         "10456",
         "2022-11-08 00:00:00",
         "Chicken Sandwiches",
         "9.95",
         "201",
         "In-store ",
         " Credit Card",
         "Walter Muller",
         "Berlin",
         "1999.9499999999998"
        ]
       ],
       "shape": {
        "columns": 10,
        "rows": 5
       }
      },
      "text/html": [
       "<div>\n",
       "<style scoped>\n",
       "    .dataframe tbody tr th:only-of-type {\n",
       "        vertical-align: middle;\n",
       "    }\n",
       "\n",
       "    .dataframe tbody tr th {\n",
       "        vertical-align: top;\n",
       "    }\n",
       "\n",
       "    .dataframe thead th {\n",
       "        text-align: right;\n",
       "    }\n",
       "</style>\n",
       "<table border=\"1\" class=\"dataframe\">\n",
       "  <thead>\n",
       "    <tr style=\"text-align: right;\">\n",
       "      <th></th>\n",
       "      <th>Order ID</th>\n",
       "      <th>Date</th>\n",
       "      <th>Product</th>\n",
       "      <th>Price</th>\n",
       "      <th>Quantity</th>\n",
       "      <th>Purchase Type</th>\n",
       "      <th>Payment Method</th>\n",
       "      <th>Manager</th>\n",
       "      <th>City</th>\n",
       "      <th>Revenue</th>\n",
       "    </tr>\n",
       "  </thead>\n",
       "  <tbody>\n",
       "    <tr>\n",
       "      <th>1</th>\n",
       "      <td>10452</td>\n",
       "      <td>2022-11-07</td>\n",
       "      <td>Fries</td>\n",
       "      <td>3.49</td>\n",
       "      <td>573</td>\n",
       "      <td>Online</td>\n",
       "      <td>Gift Card</td>\n",
       "      <td>Tom Jackson</td>\n",
       "      <td>London</td>\n",
       "      <td>1999.77</td>\n",
       "    </tr>\n",
       "    <tr>\n",
       "      <th>2</th>\n",
       "      <td>10453</td>\n",
       "      <td>2022-11-07</td>\n",
       "      <td>Beverages</td>\n",
       "      <td>2.95</td>\n",
       "      <td>746</td>\n",
       "      <td>Online</td>\n",
       "      <td>Gift Card</td>\n",
       "      <td>Pablo Perez</td>\n",
       "      <td>Madrid</td>\n",
       "      <td>2200.70</td>\n",
       "    </tr>\n",
       "    <tr>\n",
       "      <th>3</th>\n",
       "      <td>10454</td>\n",
       "      <td>2022-11-07</td>\n",
       "      <td>Sides &amp; Other</td>\n",
       "      <td>4.99</td>\n",
       "      <td>200</td>\n",
       "      <td>In-store</td>\n",
       "      <td>Gift Card</td>\n",
       "      <td>Joao Silva</td>\n",
       "      <td>Lisbon</td>\n",
       "      <td>998.00</td>\n",
       "    </tr>\n",
       "    <tr>\n",
       "      <th>4</th>\n",
       "      <td>10455</td>\n",
       "      <td>2022-11-08</td>\n",
       "      <td>Burgers</td>\n",
       "      <td>12.99</td>\n",
       "      <td>570</td>\n",
       "      <td>In-store</td>\n",
       "      <td>Credit Card</td>\n",
       "      <td>Walter Muller</td>\n",
       "      <td>Berlin</td>\n",
       "      <td>7404.30</td>\n",
       "    </tr>\n",
       "    <tr>\n",
       "      <th>5</th>\n",
       "      <td>10456</td>\n",
       "      <td>2022-11-08</td>\n",
       "      <td>Chicken Sandwiches</td>\n",
       "      <td>9.95</td>\n",
       "      <td>201</td>\n",
       "      <td>In-store</td>\n",
       "      <td>Credit Card</td>\n",
       "      <td>Walter Muller</td>\n",
       "      <td>Berlin</td>\n",
       "      <td>1999.95</td>\n",
       "    </tr>\n",
       "  </tbody>\n",
       "</table>\n",
       "</div>"
      ],
      "text/plain": [
       "0  Order ID       Date             Product  Price  Quantity Purchase Type  \\\n",
       "1     10452 2022-11-07               Fries   3.49       573       Online    \n",
       "2     10453 2022-11-07           Beverages   2.95       746       Online    \n",
       "3     10454 2022-11-07       Sides & Other   4.99       200     In-store    \n",
       "4     10455 2022-11-08             Burgers  12.99       570     In-store    \n",
       "5     10456 2022-11-08  Chicken Sandwiches   9.95       201     In-store    \n",
       "\n",
       "0 Payment Method        Manager    City  Revenue  \n",
       "1      Gift Card    Tom Jackson  London  1999.77  \n",
       "2      Gift Card    Pablo Perez  Madrid  2200.70  \n",
       "3      Gift Card     Joao Silva  Lisbon   998.00  \n",
       "4    Credit Card  Walter Muller  Berlin  7404.30  \n",
       "5    Credit Card  Walter Muller  Berlin  1999.95  "
      ]
     },
     "execution_count": 292,
     "metadata": {},
     "output_type": "execute_result"
    }
   ],
   "source": [
    "data.head()"
   ]
  },
  {
   "cell_type": "code",
   "execution_count": 293,
   "id": "7d2335c3",
   "metadata": {},
   "outputs": [],
   "source": [
    "data['Month'] = data['Date'].dt.month              # creating a new column showing Month only"
   ]
  },
  {
   "cell_type": "code",
   "execution_count": 294,
   "id": "d29dfda0",
   "metadata": {},
   "outputs": [
    {
     "data": {
      "application/vnd.microsoft.datawrangler.viewer.v0+json": {
       "columns": [
        {
         "name": "index",
         "rawType": "int64",
         "type": "integer"
        },
        {
         "name": "Order ID",
         "rawType": "int32",
         "type": "integer"
        },
        {
         "name": "Date",
         "rawType": "datetime64[ns]",
         "type": "datetime"
        },
        {
         "name": "Product",
         "rawType": "object",
         "type": "string"
        },
        {
         "name": "Price",
         "rawType": "float64",
         "type": "float"
        },
        {
         "name": "Quantity",
         "rawType": "int32",
         "type": "integer"
        },
        {
         "name": "Purchase Type",
         "rawType": "object",
         "type": "string"
        },
        {
         "name": "Payment Method",
         "rawType": "object",
         "type": "string"
        },
        {
         "name": "Manager",
         "rawType": "object",
         "type": "string"
        },
        {
         "name": "City",
         "rawType": "object",
         "type": "string"
        },
        {
         "name": "Revenue",
         "rawType": "float64",
         "type": "float"
        },
        {
         "name": "Month",
         "rawType": "int32",
         "type": "integer"
        }
       ],
       "ref": "638bdf6b-06f3-42af-9f7b-f6679dfb52f8",
       "rows": [
        [
         "1",
         "10452",
         "2022-11-07 00:00:00",
         "Fries",
         "3.49",
         "573",
         "Online ",
         " Gift Card",
         "Tom Jackson",
         "London",
         "1999.7700000000002",
         "11"
        ],
        [
         "2",
         "10453",
         "2022-11-07 00:00:00",
         "Beverages",
         "2.95",
         "746",
         "Online ",
         " Gift Card",
         "Pablo Perez",
         "Madrid",
         "2200.7000000000003",
         "11"
        ],
        [
         "3",
         "10454",
         "2022-11-07 00:00:00",
         "Sides & Other",
         "4.99",
         "200",
         "In-store ",
         " Gift Card",
         "Joao Silva",
         "Lisbon",
         "998.0",
         "11"
        ],
        [
         "4",
         "10455",
         "2022-11-08 00:00:00",
         "Burgers",
         "12.99",
         "570",
         "In-store ",
         " Credit Card",
         "Walter Muller",
         "Berlin",
         "7404.3",
         "11"
        ],
        [
         "5",
         "10456",
         "2022-11-08 00:00:00",
         "Chicken Sandwiches",
         "9.95",
         "201",
         "In-store ",
         " Credit Card",
         "Walter Muller",
         "Berlin",
         "1999.9499999999998",
         "11"
        ],
        [
         "6",
         "10457",
         "2022-11-08 00:00:00",
         "Fries",
         "3.49",
         "573",
         "In-store ",
         " Credit Card",
         "Remy Monet",
         "Paris",
         "1999.7700000000002",
         "11"
        ],
        [
         "7",
         "10459",
         "2022-11-08 00:00:00",
         "Sides & Other",
         "4.99",
         "200",
         "In-store ",
         " Credit Card",
         "Walter Muller",
         "Berlin",
         "998.0",
         "11"
        ],
        [
         "8",
         "10460",
         "2022-11-09 00:00:00",
         "Burgers",
         "12.99",
         "554",
         "In-store ",
         " Credit Card",
         "Remy Monet",
         "Paris",
         "7196.46",
         "11"
        ],
        [
         "9",
         "10461",
         "2022-11-09 00:00:00",
         "Chicken Sandwiches",
         "9.95",
         "201",
         "In-store ",
         " Credit Card",
         "Remy Monet",
         "Paris",
         "1999.9499999999998",
         "11"
        ],
        [
         "10",
         "10462",
         "2022-11-09 00:00:00",
         "Fries",
         "3.49",
         "573",
         "In-store ",
         " Credit Card",
         "Remy Monet",
         "Paris",
         "1999.7700000000002",
         "11"
        ],
        [
         "11",
         "10463",
         "2022-11-09 00:00:00",
         "Beverages",
         "2.95",
         "678",
         "In-store ",
         " Credit Card",
         "Remy Monet",
         "Paris",
         "2000.1000000000001",
         "11"
        ],
        [
         "12",
         "10464",
         "2022-11-09 00:00:00",
         "Sides & Other",
         "4.99",
         "200",
         "In-store ",
         " Credit Card",
         "Remy Monet",
         "Paris",
         "998.0",
         "11"
        ],
        [
         "13",
         "10465",
         "2022-11-10 00:00:00",
         "Burgers",
         "12.99",
         "554",
         "In-store ",
         " Credit Card",
         "Pablo Perez",
         "Madrid",
         "7196.46",
         "11"
        ],
        [
         "14",
         "10466",
         "2022-11-10 00:00:00",
         "Chicken Sandwiches",
         "9.95",
         "201",
         "In-store ",
         " Credit Card",
         "Pablo Perez",
         "Madrid",
         "1999.9499999999998",
         "11"
        ],
        [
         "15",
         "10467",
         "2022-11-10 00:00:00",
         "Fries",
         "3.49",
         "573",
         "In-store ",
         " Credit Card",
         "Pablo Perez",
         "Madrid",
         "1999.7700000000002",
         "11"
        ],
        [
         "16",
         "10468",
         "2022-11-10 00:00:00",
         "Beverages",
         "2.95",
         "678",
         "In-store ",
         " Credit Card",
         "Pablo Perez",
         "Madrid",
         "2000.1000000000001",
         "11"
        ],
        [
         "17",
         "10470",
         "2022-11-11 00:00:00",
         "Burgers",
         "12.99",
         "554",
         "In-store ",
         " Credit Card",
         "Pablo Perez",
         "Madrid",
         "7196.46",
         "11"
        ],
        [
         "18",
         "10471",
         "2022-11-11 00:00:00",
         "Chicken Sandwiches",
         "9.95",
         "201",
         "In-store ",
         " Credit Card",
         "Pablo Perez",
         "Madrid",
         "1999.9499999999998",
         "11"
        ],
        [
         "19",
         "10472",
         "2022-11-11 00:00:00",
         "Fries",
         "3.49",
         "630",
         "In-store ",
         " Credit Card",
         "Pablo Perez",
         "Madrid",
         "2198.7000000000003",
         "11"
        ],
        [
         "20",
         "10473",
         "2022-11-11 00:00:00",
         "Beverages",
         "2.95",
         "678",
         "In-store ",
         " Credit Card",
         "Pablo Perez",
         "Madrid",
         "2000.1000000000001",
         "11"
        ],
        [
         "21",
         "10474",
         "2022-11-11 00:00:00",
         "Sides & Other",
         "4.99",
         "200",
         "In-store ",
         " Credit Card",
         "Pablo Perez",
         "Madrid",
         "998.0",
         "11"
        ],
        [
         "22",
         "10475",
         "2022-11-12 00:00:00",
         "Burgers",
         "12.99",
         "523",
         "In-store ",
         " Credit Card",
         "Pablo Perez",
         "Madrid",
         "6793.77",
         "11"
        ],
        [
         "23",
         "10476",
         "2022-11-12 00:00:00",
         "Chicken Sandwiches",
         "9.95",
         "201",
         "In-store ",
         " Credit Card",
         "Pablo Perez",
         "Madrid",
         "1999.9499999999998",
         "11"
        ],
        [
         "24",
         "10477",
         "2022-11-12 00:00:00",
         "Fries",
         "3.49",
         "630",
         "In-store ",
         " Credit Card",
         "Pablo Perez",
         "Madrid",
         "2198.7000000000003",
         "11"
        ],
        [
         "25",
         "10478",
         "2022-11-12 00:00:00",
         "Beverages",
         "2.95",
         "678",
         "In-store ",
         " Credit Card",
         "Pablo Perez",
         "Madrid",
         "2000.1000000000001",
         "11"
        ],
        [
         "26",
         "10479",
         "2022-11-12 00:00:00",
         "Sides & Other",
         "4.99",
         "200",
         "In-store ",
         " Credit Card",
         "Pablo Perez",
         "Madrid",
         "998.0",
         "11"
        ],
        [
         "27",
         "10480",
         "2022-11-13 00:00:00",
         "Burgers",
         "12.99",
         "508",
         "In-store ",
         " Credit Card",
         "Pablo Perez",
         "Madrid",
         "6598.92",
         "11"
        ],
        [
         "28",
         "10481",
         "2022-11-13 00:00:00",
         "Chicken Sandwiches",
         "9.95",
         "201",
         "In-store ",
         " Credit Card",
         "Pablo Perez",
         "Madrid",
         "1999.9499999999998",
         "11"
        ],
        [
         "29",
         "10482",
         "2022-11-13 00:00:00",
         "Fries",
         "25.5",
         "630",
         "In-store ",
         " Credit Card",
         "Joao Silva",
         "Lisbon",
         "16065.0",
         "11"
        ],
        [
         "30",
         "10486",
         "2022-11-14 00:00:00",
         "Chicken Sandwiches",
         "29.05",
         "201",
         "In-store ",
         " Credit Card",
         "Joao Silva",
         "Lisbon",
         "5839.05",
         "11"
        ],
        [
         "31",
         "10487",
         "2022-11-14 00:00:00",
         "Fries",
         "3.49",
         "630",
         "In-store ",
         " Credit Card",
         "Joao Silva",
         "Lisbon",
         "2198.7000000000003",
         "11"
        ],
        [
         "35",
         "10491",
         "2022-11-15 00:00:00",
         "Chicken Sandwiches",
         "9.95",
         "201",
         "In-store ",
         " Credit Card",
         "Pablo Perez",
         "Madrid",
         "1999.9499999999998",
         "11"
        ],
        [
         "36",
         "10492",
         "2022-11-15 00:00:00",
         "Fries",
         "3.49",
         "573",
         "In-store ",
         " Credit Card",
         "Pablo Perez",
         "Madrid",
         "1999.7700000000002",
         "11"
        ],
        [
         "37",
         "10493",
         "2022-11-15 00:00:00",
         "Beverages",
         "2.95",
         "678",
         "In-store ",
         " Credit Card",
         "Pablo Perez",
         "Madrid",
         "2000.1000000000001",
         "11"
        ],
        [
         "38",
         "10494",
         "2022-11-15 00:00:00",
         "Sides & Other",
         "4.99",
         "200",
         "In-store ",
         " Credit Card",
         "Pablo Perez",
         "Madrid",
         "998.0",
         "11"
        ],
        [
         "39",
         "10495",
         "2022-11-16 00:00:00",
         "Burgers",
         "12.99",
         "508",
         "In-store ",
         " Credit Card",
         "Pablo Perez",
         "Madrid",
         "6598.92",
         "11"
        ],
        [
         "40",
         "10496",
         "2022-11-16 00:00:00",
         "Chicken Sandwiches",
         "9.95",
         "201",
         "In-store ",
         " Credit Card",
         "Pablo Perez",
         "Madrid",
         "1999.9499999999998",
         "11"
        ],
        [
         "41",
         "10497",
         "2022-11-16 00:00:00",
         "Fries",
         "3.49",
         "573",
         "In-store ",
         " Credit Card",
         "Pablo Perez",
         "Madrid",
         "1999.7700000000002",
         "11"
        ],
        [
         "42",
         "10498",
         "2022-11-16 00:00:00",
         "Beverages",
         "2.95",
         "678",
         "Drive-thru ",
         " Credit Card",
         "Pablo Perez",
         "Madrid",
         "2000.1000000000001",
         "11"
        ],
        [
         "43",
         "10499",
         "2022-11-16 00:00:00",
         "Sides & Other",
         "4.99",
         "200",
         "Drive-thru ",
         " Credit Card",
         "Pablo Perez",
         "Madrid",
         "998.0",
         "11"
        ],
        [
         "44",
         "10500",
         "2022-11-17 00:00:00",
         "Burgers",
         "12.99",
         "523",
         "Drive-thru ",
         " Credit Card",
         "Pablo Perez",
         "Madrid",
         "6793.77",
         "11"
        ],
        [
         "45",
         "10501",
         "2022-11-17 00:00:00",
         "Chicken Sandwiches",
         "9.95",
         "201",
         "Drive-thru ",
         " Credit Card",
         "Pablo Perez",
         "Madrid",
         "1999.9499999999998",
         "11"
        ],
        [
         "46",
         "10502",
         "2022-11-17 00:00:00",
         "Fries",
         "3.49",
         "630",
         "Drive-thru ",
         " Credit Card",
         "Pablo Perez",
         "Madrid",
         "2198.7000000000003",
         "11"
        ],
        [
         "47",
         "10503",
         "2022-11-17 00:00:00",
         "Beverages",
         "2.95",
         "678",
         "Drive-thru ",
         " Credit Card",
         "Pablo Perez",
         "Madrid",
         "2000.1000000000001",
         "11"
        ],
        [
         "48",
         "10504",
         "2022-11-17 00:00:00",
         "Sides & Other",
         "4.99",
         "200",
         "Drive-thru ",
         " Credit Card",
         "Pablo Perez",
         "Madrid",
         "998.0",
         "11"
        ],
        [
         "49",
         "10505",
         "2022-11-18 00:00:00",
         "Burgers",
         "12.99",
         "539",
         "Drive-thru ",
         " Credit Card",
         "Pablo Perez",
         "Madrid",
         "7001.61",
         "11"
        ],
        [
         "50",
         "10506",
         "2022-11-18 00:00:00",
         "Chicken Sandwiches",
         "9.95",
         "201",
         "Drive-thru ",
         " Credit Card",
         "Pablo Perez",
         "Madrid",
         "1999.9499999999998",
         "11"
        ],
        [
         "51",
         "10507",
         "2022-11-18 00:00:00",
         "Fries",
         "3.49",
         "688",
         "Drive-thru ",
         " Credit Card",
         "Pablo Perez",
         "Madrid",
         "2401.1200000000003",
         "11"
        ],
        [
         "52",
         "10508",
         "2022-11-18 00:00:00",
         "Beverages",
         "2.95",
         "678",
         "Drive-thru ",
         " Credit Card",
         "Pablo Perez",
         "Madrid",
         "2000.1000000000001",
         "11"
        ],
        [
         "53",
         "10509",
         "2022-11-18 00:00:00",
         "Sides & Other",
         "4.99",
         "200",
         "Drive-thru ",
         " Credit Card",
         "Pablo Perez",
         "Madrid",
         "998.0",
         "11"
        ]
       ],
       "shape": {
        "columns": 11,
        "rows": 251
       }
      },
      "text/html": [
       "<div>\n",
       "<style scoped>\n",
       "    .dataframe tbody tr th:only-of-type {\n",
       "        vertical-align: middle;\n",
       "    }\n",
       "\n",
       "    .dataframe tbody tr th {\n",
       "        vertical-align: top;\n",
       "    }\n",
       "\n",
       "    .dataframe thead th {\n",
       "        text-align: right;\n",
       "    }\n",
       "</style>\n",
       "<table border=\"1\" class=\"dataframe\">\n",
       "  <thead>\n",
       "    <tr style=\"text-align: right;\">\n",
       "      <th></th>\n",
       "      <th>Order ID</th>\n",
       "      <th>Date</th>\n",
       "      <th>Product</th>\n",
       "      <th>Price</th>\n",
       "      <th>Quantity</th>\n",
       "      <th>Purchase Type</th>\n",
       "      <th>Payment Method</th>\n",
       "      <th>Manager</th>\n",
       "      <th>City</th>\n",
       "      <th>Revenue</th>\n",
       "      <th>Month</th>\n",
       "    </tr>\n",
       "  </thead>\n",
       "  <tbody>\n",
       "    <tr>\n",
       "      <th>1</th>\n",
       "      <td>10452</td>\n",
       "      <td>2022-11-07</td>\n",
       "      <td>Fries</td>\n",
       "      <td>3.49</td>\n",
       "      <td>573</td>\n",
       "      <td>Online</td>\n",
       "      <td>Gift Card</td>\n",
       "      <td>Tom Jackson</td>\n",
       "      <td>London</td>\n",
       "      <td>1999.77</td>\n",
       "      <td>11</td>\n",
       "    </tr>\n",
       "    <tr>\n",
       "      <th>2</th>\n",
       "      <td>10453</td>\n",
       "      <td>2022-11-07</td>\n",
       "      <td>Beverages</td>\n",
       "      <td>2.95</td>\n",
       "      <td>746</td>\n",
       "      <td>Online</td>\n",
       "      <td>Gift Card</td>\n",
       "      <td>Pablo Perez</td>\n",
       "      <td>Madrid</td>\n",
       "      <td>2200.70</td>\n",
       "      <td>11</td>\n",
       "    </tr>\n",
       "    <tr>\n",
       "      <th>3</th>\n",
       "      <td>10454</td>\n",
       "      <td>2022-11-07</td>\n",
       "      <td>Sides &amp; Other</td>\n",
       "      <td>4.99</td>\n",
       "      <td>200</td>\n",
       "      <td>In-store</td>\n",
       "      <td>Gift Card</td>\n",
       "      <td>Joao Silva</td>\n",
       "      <td>Lisbon</td>\n",
       "      <td>998.00</td>\n",
       "      <td>11</td>\n",
       "    </tr>\n",
       "    <tr>\n",
       "      <th>4</th>\n",
       "      <td>10455</td>\n",
       "      <td>2022-11-08</td>\n",
       "      <td>Burgers</td>\n",
       "      <td>12.99</td>\n",
       "      <td>570</td>\n",
       "      <td>In-store</td>\n",
       "      <td>Credit Card</td>\n",
       "      <td>Walter Muller</td>\n",
       "      <td>Berlin</td>\n",
       "      <td>7404.30</td>\n",
       "      <td>11</td>\n",
       "    </tr>\n",
       "    <tr>\n",
       "      <th>5</th>\n",
       "      <td>10456</td>\n",
       "      <td>2022-11-08</td>\n",
       "      <td>Chicken Sandwiches</td>\n",
       "      <td>9.95</td>\n",
       "      <td>201</td>\n",
       "      <td>In-store</td>\n",
       "      <td>Credit Card</td>\n",
       "      <td>Walter Muller</td>\n",
       "      <td>Berlin</td>\n",
       "      <td>1999.95</td>\n",
       "      <td>11</td>\n",
       "    </tr>\n",
       "    <tr>\n",
       "      <th>...</th>\n",
       "      <td>...</td>\n",
       "      <td>...</td>\n",
       "      <td>...</td>\n",
       "      <td>...</td>\n",
       "      <td>...</td>\n",
       "      <td>...</td>\n",
       "      <td>...</td>\n",
       "      <td>...</td>\n",
       "      <td>...</td>\n",
       "      <td>...</td>\n",
       "      <td>...</td>\n",
       "    </tr>\n",
       "    <tr>\n",
       "      <th>250</th>\n",
       "      <td>10709</td>\n",
       "      <td>2022-12-28</td>\n",
       "      <td>Sides &amp; Other</td>\n",
       "      <td>4.99</td>\n",
       "      <td>200</td>\n",
       "      <td>Drive-thru</td>\n",
       "      <td>Gift Card</td>\n",
       "      <td>Walter Muller</td>\n",
       "      <td>Berlin</td>\n",
       "      <td>998.00</td>\n",
       "      <td>12</td>\n",
       "    </tr>\n",
       "    <tr>\n",
       "      <th>251</th>\n",
       "      <td>10710</td>\n",
       "      <td>2022-12-29</td>\n",
       "      <td>Burgers</td>\n",
       "      <td>12.99</td>\n",
       "      <td>754</td>\n",
       "      <td>Drive-thru</td>\n",
       "      <td>Gift Card</td>\n",
       "      <td>Walter Muller</td>\n",
       "      <td>Berlin</td>\n",
       "      <td>9794.46</td>\n",
       "      <td>12</td>\n",
       "    </tr>\n",
       "    <tr>\n",
       "      <th>252</th>\n",
       "      <td>10711</td>\n",
       "      <td>2022-12-29</td>\n",
       "      <td>Chicken Sandwiches</td>\n",
       "      <td>9.95</td>\n",
       "      <td>281</td>\n",
       "      <td>Drive-thru</td>\n",
       "      <td>Gift Card</td>\n",
       "      <td>Walter Muller</td>\n",
       "      <td>Berlin</td>\n",
       "      <td>2795.95</td>\n",
       "      <td>12</td>\n",
       "    </tr>\n",
       "    <tr>\n",
       "      <th>253</th>\n",
       "      <td>10712</td>\n",
       "      <td>2022-12-29</td>\n",
       "      <td>Fries</td>\n",
       "      <td>3.49</td>\n",
       "      <td>630</td>\n",
       "      <td>Drive-thru</td>\n",
       "      <td>Gift Card</td>\n",
       "      <td>Walter Muller</td>\n",
       "      <td>Berlin</td>\n",
       "      <td>2198.70</td>\n",
       "      <td>12</td>\n",
       "    </tr>\n",
       "    <tr>\n",
       "      <th>254</th>\n",
       "      <td>10713</td>\n",
       "      <td>2022-12-29</td>\n",
       "      <td>Beverages</td>\n",
       "      <td>2.95</td>\n",
       "      <td>678</td>\n",
       "      <td>Drive-thru</td>\n",
       "      <td>Gift Card</td>\n",
       "      <td>Walter Muller</td>\n",
       "      <td>Berlin</td>\n",
       "      <td>2000.10</td>\n",
       "      <td>12</td>\n",
       "    </tr>\n",
       "  </tbody>\n",
       "</table>\n",
       "<p>251 rows × 11 columns</p>\n",
       "</div>"
      ],
      "text/plain": [
       "0    Order ID       Date             Product  Price  Quantity Purchase Type  \\\n",
       "1       10452 2022-11-07               Fries   3.49       573       Online    \n",
       "2       10453 2022-11-07           Beverages   2.95       746       Online    \n",
       "3       10454 2022-11-07       Sides & Other   4.99       200     In-store    \n",
       "4       10455 2022-11-08             Burgers  12.99       570     In-store    \n",
       "5       10456 2022-11-08  Chicken Sandwiches   9.95       201     In-store    \n",
       "..        ...        ...                 ...    ...       ...           ...   \n",
       "250     10709 2022-12-28       Sides & Other   4.99       200   Drive-thru    \n",
       "251     10710 2022-12-29             Burgers  12.99       754   Drive-thru    \n",
       "252     10711 2022-12-29  Chicken Sandwiches   9.95       281   Drive-thru    \n",
       "253     10712 2022-12-29               Fries   3.49       630   Drive-thru    \n",
       "254     10713 2022-12-29           Beverages   2.95       678   Drive-thru    \n",
       "\n",
       "0   Payment Method        Manager    City  Revenue  Month  \n",
       "1        Gift Card    Tom Jackson  London  1999.77     11  \n",
       "2        Gift Card    Pablo Perez  Madrid  2200.70     11  \n",
       "3        Gift Card     Joao Silva  Lisbon   998.00     11  \n",
       "4      Credit Card  Walter Muller  Berlin  7404.30     11  \n",
       "5      Credit Card  Walter Muller  Berlin  1999.95     11  \n",
       "..             ...            ...     ...      ...    ...  \n",
       "250      Gift Card  Walter Muller  Berlin   998.00     12  \n",
       "251      Gift Card  Walter Muller  Berlin  9794.46     12  \n",
       "252      Gift Card  Walter Muller  Berlin  2795.95     12  \n",
       "253      Gift Card  Walter Muller  Berlin  2198.70     12  \n",
       "254      Gift Card  Walter Muller  Berlin  2000.10     12  \n",
       "\n",
       "[251 rows x 11 columns]"
      ]
     },
     "execution_count": 294,
     "metadata": {},
     "output_type": "execute_result"
    }
   ],
   "source": [
    "data"
   ]
  },
  {
   "cell_type": "code",
   "execution_count": 295,
   "id": "c1c866de",
   "metadata": {},
   "outputs": [
    {
     "data": {
      "application/vnd.microsoft.datawrangler.viewer.v0+json": {
       "columns": [
        {
         "name": "index",
         "rawType": "int64",
         "type": "integer"
        },
        {
         "name": "Order ID",
         "rawType": "int32",
         "type": "integer"
        },
        {
         "name": "Date",
         "rawType": "datetime64[ns]",
         "type": "datetime"
        },
        {
         "name": "Product",
         "rawType": "object",
         "type": "string"
        },
        {
         "name": "Price",
         "rawType": "float64",
         "type": "float"
        },
        {
         "name": "Quantity",
         "rawType": "int32",
         "type": "integer"
        },
        {
         "name": "Purchase Type",
         "rawType": "object",
         "type": "string"
        },
        {
         "name": "Payment Method",
         "rawType": "object",
         "type": "string"
        },
        {
         "name": "Manager",
         "rawType": "object",
         "type": "string"
        },
        {
         "name": "City",
         "rawType": "object",
         "type": "string"
        },
        {
         "name": "Revenue",
         "rawType": "float64",
         "type": "float"
        },
        {
         "name": "Month",
         "rawType": "int32",
         "type": "integer"
        }
       ],
       "ref": "cf6c239b-006d-4e1d-8ae5-76b58516340a",
       "rows": [
        [
         "1",
         "10452",
         "2022-11-07 00:00:00",
         "Fries",
         "3.49",
         "573",
         "Online ",
         " Gift Card",
         "Tom Jackson",
         "London",
         "1999.7700000000002",
         "11"
        ],
        [
         "2",
         "10453",
         "2022-11-07 00:00:00",
         "Beverages",
         "2.95",
         "746",
         "Online ",
         " Gift Card",
         "Pablo Perez",
         "Madrid",
         "2200.7000000000003",
         "11"
        ],
        [
         "3",
         "10454",
         "2022-11-07 00:00:00",
         "Sides & Other",
         "4.99",
         "200",
         "In-store ",
         " Gift Card",
         "Joao Silva",
         "Lisbon",
         "998.0",
         "11"
        ],
        [
         "4",
         "10455",
         "2022-11-08 00:00:00",
         "Burgers",
         "12.99",
         "570",
         "In-store ",
         " Credit Card",
         "Walter Muller",
         "Berlin",
         "7404.3",
         "11"
        ],
        [
         "5",
         "10456",
         "2022-11-08 00:00:00",
         "Chicken Sandwiches",
         "9.95",
         "201",
         "In-store ",
         " Credit Card",
         "Walter Muller",
         "Berlin",
         "1999.9499999999998",
         "11"
        ],
        [
         "6",
         "10457",
         "2022-11-08 00:00:00",
         "Fries",
         "3.49",
         "573",
         "In-store ",
         " Credit Card",
         "Remy Monet",
         "Paris",
         "1999.7700000000002",
         "11"
        ],
        [
         "7",
         "10459",
         "2022-11-08 00:00:00",
         "Sides & Other",
         "4.99",
         "200",
         "In-store ",
         " Credit Card",
         "Walter Muller",
         "Berlin",
         "998.0",
         "11"
        ],
        [
         "8",
         "10460",
         "2022-11-09 00:00:00",
         "Burgers",
         "12.99",
         "554",
         "In-store ",
         " Credit Card",
         "Remy Monet",
         "Paris",
         "7196.46",
         "11"
        ],
        [
         "9",
         "10461",
         "2022-11-09 00:00:00",
         "Chicken Sandwiches",
         "9.95",
         "201",
         "In-store ",
         " Credit Card",
         "Remy Monet",
         "Paris",
         "1999.9499999999998",
         "11"
        ],
        [
         "10",
         "10462",
         "2022-11-09 00:00:00",
         "Fries",
         "3.49",
         "573",
         "In-store ",
         " Credit Card",
         "Remy Monet",
         "Paris",
         "1999.7700000000002",
         "11"
        ],
        [
         "11",
         "10463",
         "2022-11-09 00:00:00",
         "Beverages",
         "2.95",
         "678",
         "In-store ",
         " Credit Card",
         "Remy Monet",
         "Paris",
         "2000.1000000000001",
         "11"
        ],
        [
         "12",
         "10464",
         "2022-11-09 00:00:00",
         "Sides & Other",
         "4.99",
         "200",
         "In-store ",
         " Credit Card",
         "Remy Monet",
         "Paris",
         "998.0",
         "11"
        ],
        [
         "13",
         "10465",
         "2022-11-10 00:00:00",
         "Burgers",
         "12.99",
         "554",
         "In-store ",
         " Credit Card",
         "Pablo Perez",
         "Madrid",
         "7196.46",
         "11"
        ],
        [
         "14",
         "10466",
         "2022-11-10 00:00:00",
         "Chicken Sandwiches",
         "9.95",
         "201",
         "In-store ",
         " Credit Card",
         "Pablo Perez",
         "Madrid",
         "1999.9499999999998",
         "11"
        ],
        [
         "15",
         "10467",
         "2022-11-10 00:00:00",
         "Fries",
         "3.49",
         "573",
         "In-store ",
         " Credit Card",
         "Pablo Perez",
         "Madrid",
         "1999.7700000000002",
         "11"
        ],
        [
         "16",
         "10468",
         "2022-11-10 00:00:00",
         "Beverages",
         "2.95",
         "678",
         "In-store ",
         " Credit Card",
         "Pablo Perez",
         "Madrid",
         "2000.1000000000001",
         "11"
        ],
        [
         "17",
         "10470",
         "2022-11-11 00:00:00",
         "Burgers",
         "12.99",
         "554",
         "In-store ",
         " Credit Card",
         "Pablo Perez",
         "Madrid",
         "7196.46",
         "11"
        ],
        [
         "18",
         "10471",
         "2022-11-11 00:00:00",
         "Chicken Sandwiches",
         "9.95",
         "201",
         "In-store ",
         " Credit Card",
         "Pablo Perez",
         "Madrid",
         "1999.9499999999998",
         "11"
        ],
        [
         "19",
         "10472",
         "2022-11-11 00:00:00",
         "Fries",
         "3.49",
         "630",
         "In-store ",
         " Credit Card",
         "Pablo Perez",
         "Madrid",
         "2198.7000000000003",
         "11"
        ],
        [
         "20",
         "10473",
         "2022-11-11 00:00:00",
         "Beverages",
         "2.95",
         "678",
         "In-store ",
         " Credit Card",
         "Pablo Perez",
         "Madrid",
         "2000.1000000000001",
         "11"
        ],
        [
         "21",
         "10474",
         "2022-11-11 00:00:00",
         "Sides & Other",
         "4.99",
         "200",
         "In-store ",
         " Credit Card",
         "Pablo Perez",
         "Madrid",
         "998.0",
         "11"
        ],
        [
         "22",
         "10475",
         "2022-11-12 00:00:00",
         "Burgers",
         "12.99",
         "523",
         "In-store ",
         " Credit Card",
         "Pablo Perez",
         "Madrid",
         "6793.77",
         "11"
        ],
        [
         "23",
         "10476",
         "2022-11-12 00:00:00",
         "Chicken Sandwiches",
         "9.95",
         "201",
         "In-store ",
         " Credit Card",
         "Pablo Perez",
         "Madrid",
         "1999.9499999999998",
         "11"
        ],
        [
         "24",
         "10477",
         "2022-11-12 00:00:00",
         "Fries",
         "3.49",
         "630",
         "In-store ",
         " Credit Card",
         "Pablo Perez",
         "Madrid",
         "2198.7000000000003",
         "11"
        ],
        [
         "25",
         "10478",
         "2022-11-12 00:00:00",
         "Beverages",
         "2.95",
         "678",
         "In-store ",
         " Credit Card",
         "Pablo Perez",
         "Madrid",
         "2000.1000000000001",
         "11"
        ],
        [
         "26",
         "10479",
         "2022-11-12 00:00:00",
         "Sides & Other",
         "4.99",
         "200",
         "In-store ",
         " Credit Card",
         "Pablo Perez",
         "Madrid",
         "998.0",
         "11"
        ],
        [
         "27",
         "10480",
         "2022-11-13 00:00:00",
         "Burgers",
         "12.99",
         "508",
         "In-store ",
         " Credit Card",
         "Pablo Perez",
         "Madrid",
         "6598.92",
         "11"
        ],
        [
         "28",
         "10481",
         "2022-11-13 00:00:00",
         "Chicken Sandwiches",
         "9.95",
         "201",
         "In-store ",
         " Credit Card",
         "Pablo Perez",
         "Madrid",
         "1999.9499999999998",
         "11"
        ],
        [
         "29",
         "10482",
         "2022-11-13 00:00:00",
         "Fries",
         "25.5",
         "630",
         "In-store ",
         " Credit Card",
         "Joao Silva",
         "Lisbon",
         "16065.0",
         "11"
        ],
        [
         "30",
         "10486",
         "2022-11-14 00:00:00",
         "Chicken Sandwiches",
         "29.05",
         "201",
         "In-store ",
         " Credit Card",
         "Joao Silva",
         "Lisbon",
         "5839.05",
         "11"
        ],
        [
         "31",
         "10487",
         "2022-11-14 00:00:00",
         "Fries",
         "3.49",
         "630",
         "In-store ",
         " Credit Card",
         "Joao Silva",
         "Lisbon",
         "2198.7000000000003",
         "11"
        ],
        [
         "35",
         "10491",
         "2022-11-15 00:00:00",
         "Chicken Sandwiches",
         "9.95",
         "201",
         "In-store ",
         " Credit Card",
         "Pablo Perez",
         "Madrid",
         "1999.9499999999998",
         "11"
        ],
        [
         "36",
         "10492",
         "2022-11-15 00:00:00",
         "Fries",
         "3.49",
         "573",
         "In-store ",
         " Credit Card",
         "Pablo Perez",
         "Madrid",
         "1999.7700000000002",
         "11"
        ],
        [
         "37",
         "10493",
         "2022-11-15 00:00:00",
         "Beverages",
         "2.95",
         "678",
         "In-store ",
         " Credit Card",
         "Pablo Perez",
         "Madrid",
         "2000.1000000000001",
         "11"
        ],
        [
         "38",
         "10494",
         "2022-11-15 00:00:00",
         "Sides & Other",
         "4.99",
         "200",
         "In-store ",
         " Credit Card",
         "Pablo Perez",
         "Madrid",
         "998.0",
         "11"
        ],
        [
         "39",
         "10495",
         "2022-11-16 00:00:00",
         "Burgers",
         "12.99",
         "508",
         "In-store ",
         " Credit Card",
         "Pablo Perez",
         "Madrid",
         "6598.92",
         "11"
        ],
        [
         "40",
         "10496",
         "2022-11-16 00:00:00",
         "Chicken Sandwiches",
         "9.95",
         "201",
         "In-store ",
         " Credit Card",
         "Pablo Perez",
         "Madrid",
         "1999.9499999999998",
         "11"
        ],
        [
         "41",
         "10497",
         "2022-11-16 00:00:00",
         "Fries",
         "3.49",
         "573",
         "In-store ",
         " Credit Card",
         "Pablo Perez",
         "Madrid",
         "1999.7700000000002",
         "11"
        ],
        [
         "42",
         "10498",
         "2022-11-16 00:00:00",
         "Beverages",
         "2.95",
         "678",
         "Drive-thru ",
         " Credit Card",
         "Pablo Perez",
         "Madrid",
         "2000.1000000000001",
         "11"
        ],
        [
         "43",
         "10499",
         "2022-11-16 00:00:00",
         "Sides & Other",
         "4.99",
         "200",
         "Drive-thru ",
         " Credit Card",
         "Pablo Perez",
         "Madrid",
         "998.0",
         "11"
        ],
        [
         "44",
         "10500",
         "2022-11-17 00:00:00",
         "Burgers",
         "12.99",
         "523",
         "Drive-thru ",
         " Credit Card",
         "Pablo Perez",
         "Madrid",
         "6793.77",
         "11"
        ],
        [
         "45",
         "10501",
         "2022-11-17 00:00:00",
         "Chicken Sandwiches",
         "9.95",
         "201",
         "Drive-thru ",
         " Credit Card",
         "Pablo Perez",
         "Madrid",
         "1999.9499999999998",
         "11"
        ],
        [
         "46",
         "10502",
         "2022-11-17 00:00:00",
         "Fries",
         "3.49",
         "630",
         "Drive-thru ",
         " Credit Card",
         "Pablo Perez",
         "Madrid",
         "2198.7000000000003",
         "11"
        ],
        [
         "47",
         "10503",
         "2022-11-17 00:00:00",
         "Beverages",
         "2.95",
         "678",
         "Drive-thru ",
         " Credit Card",
         "Pablo Perez",
         "Madrid",
         "2000.1000000000001",
         "11"
        ],
        [
         "48",
         "10504",
         "2022-11-17 00:00:00",
         "Sides & Other",
         "4.99",
         "200",
         "Drive-thru ",
         " Credit Card",
         "Pablo Perez",
         "Madrid",
         "998.0",
         "11"
        ],
        [
         "49",
         "10505",
         "2022-11-18 00:00:00",
         "Burgers",
         "12.99",
         "539",
         "Drive-thru ",
         " Credit Card",
         "Pablo Perez",
         "Madrid",
         "7001.61",
         "11"
        ],
        [
         "50",
         "10506",
         "2022-11-18 00:00:00",
         "Chicken Sandwiches",
         "9.95",
         "201",
         "Drive-thru ",
         " Credit Card",
         "Pablo Perez",
         "Madrid",
         "1999.9499999999998",
         "11"
        ],
        [
         "51",
         "10507",
         "2022-11-18 00:00:00",
         "Fries",
         "3.49",
         "688",
         "Drive-thru ",
         " Credit Card",
         "Pablo Perez",
         "Madrid",
         "2401.1200000000003",
         "11"
        ],
        [
         "52",
         "10508",
         "2022-11-18 00:00:00",
         "Beverages",
         "2.95",
         "678",
         "Drive-thru ",
         " Credit Card",
         "Pablo Perez",
         "Madrid",
         "2000.1000000000001",
         "11"
        ],
        [
         "53",
         "10509",
         "2022-11-18 00:00:00",
         "Sides & Other",
         "4.99",
         "200",
         "Drive-thru ",
         " Credit Card",
         "Pablo Perez",
         "Madrid",
         "998.0",
         "11"
        ]
       ],
       "shape": {
        "columns": 11,
        "rows": 110
       }
      },
      "text/html": [
       "<div>\n",
       "<style scoped>\n",
       "    .dataframe tbody tr th:only-of-type {\n",
       "        vertical-align: middle;\n",
       "    }\n",
       "\n",
       "    .dataframe tbody tr th {\n",
       "        vertical-align: top;\n",
       "    }\n",
       "\n",
       "    .dataframe thead th {\n",
       "        text-align: right;\n",
       "    }\n",
       "</style>\n",
       "<table border=\"1\" class=\"dataframe\">\n",
       "  <thead>\n",
       "    <tr style=\"text-align: right;\">\n",
       "      <th></th>\n",
       "      <th>Order ID</th>\n",
       "      <th>Date</th>\n",
       "      <th>Product</th>\n",
       "      <th>Price</th>\n",
       "      <th>Quantity</th>\n",
       "      <th>Purchase Type</th>\n",
       "      <th>Payment Method</th>\n",
       "      <th>Manager</th>\n",
       "      <th>City</th>\n",
       "      <th>Revenue</th>\n",
       "      <th>Month</th>\n",
       "    </tr>\n",
       "  </thead>\n",
       "  <tbody>\n",
       "    <tr>\n",
       "      <th>1</th>\n",
       "      <td>10452</td>\n",
       "      <td>2022-11-07</td>\n",
       "      <td>Fries</td>\n",
       "      <td>3.49</td>\n",
       "      <td>573</td>\n",
       "      <td>Online</td>\n",
       "      <td>Gift Card</td>\n",
       "      <td>Tom Jackson</td>\n",
       "      <td>London</td>\n",
       "      <td>1999.77</td>\n",
       "      <td>11</td>\n",
       "    </tr>\n",
       "    <tr>\n",
       "      <th>2</th>\n",
       "      <td>10453</td>\n",
       "      <td>2022-11-07</td>\n",
       "      <td>Beverages</td>\n",
       "      <td>2.95</td>\n",
       "      <td>746</td>\n",
       "      <td>Online</td>\n",
       "      <td>Gift Card</td>\n",
       "      <td>Pablo Perez</td>\n",
       "      <td>Madrid</td>\n",
       "      <td>2200.70</td>\n",
       "      <td>11</td>\n",
       "    </tr>\n",
       "    <tr>\n",
       "      <th>3</th>\n",
       "      <td>10454</td>\n",
       "      <td>2022-11-07</td>\n",
       "      <td>Sides &amp; Other</td>\n",
       "      <td>4.99</td>\n",
       "      <td>200</td>\n",
       "      <td>In-store</td>\n",
       "      <td>Gift Card</td>\n",
       "      <td>Joao Silva</td>\n",
       "      <td>Lisbon</td>\n",
       "      <td>998.00</td>\n",
       "      <td>11</td>\n",
       "    </tr>\n",
       "    <tr>\n",
       "      <th>4</th>\n",
       "      <td>10455</td>\n",
       "      <td>2022-11-08</td>\n",
       "      <td>Burgers</td>\n",
       "      <td>12.99</td>\n",
       "      <td>570</td>\n",
       "      <td>In-store</td>\n",
       "      <td>Credit Card</td>\n",
       "      <td>Walter Muller</td>\n",
       "      <td>Berlin</td>\n",
       "      <td>7404.30</td>\n",
       "      <td>11</td>\n",
       "    </tr>\n",
       "    <tr>\n",
       "      <th>5</th>\n",
       "      <td>10456</td>\n",
       "      <td>2022-11-08</td>\n",
       "      <td>Chicken Sandwiches</td>\n",
       "      <td>9.95</td>\n",
       "      <td>201</td>\n",
       "      <td>In-store</td>\n",
       "      <td>Credit Card</td>\n",
       "      <td>Walter Muller</td>\n",
       "      <td>Berlin</td>\n",
       "      <td>1999.95</td>\n",
       "      <td>11</td>\n",
       "    </tr>\n",
       "    <tr>\n",
       "      <th>...</th>\n",
       "      <td>...</td>\n",
       "      <td>...</td>\n",
       "      <td>...</td>\n",
       "      <td>...</td>\n",
       "      <td>...</td>\n",
       "      <td>...</td>\n",
       "      <td>...</td>\n",
       "      <td>...</td>\n",
       "      <td>...</td>\n",
       "      <td>...</td>\n",
       "      <td>...</td>\n",
       "    </tr>\n",
       "    <tr>\n",
       "      <th>109</th>\n",
       "      <td>10568</td>\n",
       "      <td>2022-11-30</td>\n",
       "      <td>Beverages</td>\n",
       "      <td>2.95</td>\n",
       "      <td>678</td>\n",
       "      <td>Online</td>\n",
       "      <td>Credit Card</td>\n",
       "      <td>Tom Jackson</td>\n",
       "      <td>London</td>\n",
       "      <td>2000.10</td>\n",
       "      <td>11</td>\n",
       "    </tr>\n",
       "    <tr>\n",
       "      <th>110</th>\n",
       "      <td>10569</td>\n",
       "      <td>2022-11-30</td>\n",
       "      <td>Sides &amp; Other</td>\n",
       "      <td>4.99</td>\n",
       "      <td>200</td>\n",
       "      <td>Online</td>\n",
       "      <td>Credit Card</td>\n",
       "      <td>Tom Jackson</td>\n",
       "      <td>London</td>\n",
       "      <td>998.00</td>\n",
       "      <td>11</td>\n",
       "    </tr>\n",
       "    <tr>\n",
       "      <th>128</th>\n",
       "      <td>10537</td>\n",
       "      <td>2022-11-24</td>\n",
       "      <td>Fries</td>\n",
       "      <td>3.49</td>\n",
       "      <td>630</td>\n",
       "      <td>Drive-thru</td>\n",
       "      <td>Credit Card</td>\n",
       "      <td>Pablo Perez</td>\n",
       "      <td>Madrid</td>\n",
       "      <td>2198.70</td>\n",
       "      <td>11</td>\n",
       "    </tr>\n",
       "    <tr>\n",
       "      <th>129</th>\n",
       "      <td>10538</td>\n",
       "      <td>2022-11-24</td>\n",
       "      <td>Beverages</td>\n",
       "      <td>2.95</td>\n",
       "      <td>746</td>\n",
       "      <td>Drive-thru</td>\n",
       "      <td>Credit Card</td>\n",
       "      <td>Pablo Perez</td>\n",
       "      <td>Madrid</td>\n",
       "      <td>2200.70</td>\n",
       "      <td>11</td>\n",
       "    </tr>\n",
       "    <tr>\n",
       "      <th>130</th>\n",
       "      <td>10539</td>\n",
       "      <td>2022-11-24</td>\n",
       "      <td>Sides &amp; Other</td>\n",
       "      <td>4.99</td>\n",
       "      <td>200</td>\n",
       "      <td>Drive-thru</td>\n",
       "      <td>Credit Card</td>\n",
       "      <td>Pablo Perez</td>\n",
       "      <td>Madrid</td>\n",
       "      <td>998.00</td>\n",
       "      <td>11</td>\n",
       "    </tr>\n",
       "  </tbody>\n",
       "</table>\n",
       "<p>110 rows × 11 columns</p>\n",
       "</div>"
      ],
      "text/plain": [
       "0    Order ID       Date             Product  Price  Quantity Purchase Type  \\\n",
       "1       10452 2022-11-07               Fries   3.49       573       Online    \n",
       "2       10453 2022-11-07           Beverages   2.95       746       Online    \n",
       "3       10454 2022-11-07       Sides & Other   4.99       200     In-store    \n",
       "4       10455 2022-11-08             Burgers  12.99       570     In-store    \n",
       "5       10456 2022-11-08  Chicken Sandwiches   9.95       201     In-store    \n",
       "..        ...        ...                 ...    ...       ...           ...   \n",
       "109     10568 2022-11-30           Beverages   2.95       678       Online    \n",
       "110     10569 2022-11-30       Sides & Other   4.99       200       Online    \n",
       "128     10537 2022-11-24               Fries   3.49       630   Drive-thru    \n",
       "129     10538 2022-11-24           Beverages   2.95       746   Drive-thru    \n",
       "130     10539 2022-11-24       Sides & Other   4.99       200   Drive-thru    \n",
       "\n",
       "0   Payment Method        Manager    City  Revenue  Month  \n",
       "1        Gift Card    Tom Jackson  London  1999.77     11  \n",
       "2        Gift Card    Pablo Perez  Madrid  2200.70     11  \n",
       "3        Gift Card     Joao Silva  Lisbon   998.00     11  \n",
       "4      Credit Card  Walter Muller  Berlin  7404.30     11  \n",
       "5      Credit Card  Walter Muller  Berlin  1999.95     11  \n",
       "..             ...            ...     ...      ...    ...  \n",
       "109    Credit Card    Tom Jackson  London  2000.10     11  \n",
       "110    Credit Card    Tom Jackson  London   998.00     11  \n",
       "128    Credit Card    Pablo Perez  Madrid  2198.70     11  \n",
       "129    Credit Card    Pablo Perez  Madrid  2200.70     11  \n",
       "130    Credit Card    Pablo Perez  Madrid   998.00     11  \n",
       "\n",
       "[110 rows x 11 columns]"
      ]
     },
     "execution_count": 295,
     "metadata": {},
     "output_type": "execute_result"
    }
   ],
   "source": [
    "m11 = data[data['Month'] == 11]          # filtering the records with month '11'\n",
    "m11"
   ]
  },
  {
   "cell_type": "code",
   "execution_count": 296,
   "id": "653692bf",
   "metadata": {},
   "outputs": [
    {
     "data": {
      "text/plain": [
       "2931.073636363636"
      ]
     },
     "execution_count": 296,
     "metadata": {},
     "output_type": "execute_result"
    }
   ],
   "source": [
    "m11.Revenue.mean()                           # to show the mean revenue"
   ]
  },
  {
   "cell_type": "code",
   "execution_count": 297,
   "id": "957f6a59",
   "metadata": {},
   "outputs": [
    {
     "data": {
      "application/vnd.microsoft.datawrangler.viewer.v0+json": {
       "columns": [
        {
         "name": "index",
         "rawType": "int64",
         "type": "integer"
        },
        {
         "name": "Order ID",
         "rawType": "int32",
         "type": "integer"
        },
        {
         "name": "Date",
         "rawType": "datetime64[ns]",
         "type": "datetime"
        },
        {
         "name": "Product",
         "rawType": "object",
         "type": "string"
        },
        {
         "name": "Price",
         "rawType": "float64",
         "type": "float"
        },
        {
         "name": "Quantity",
         "rawType": "int32",
         "type": "integer"
        },
        {
         "name": "Purchase Type",
         "rawType": "object",
         "type": "string"
        },
        {
         "name": "Payment Method",
         "rawType": "object",
         "type": "string"
        },
        {
         "name": "Manager",
         "rawType": "object",
         "type": "string"
        },
        {
         "name": "City",
         "rawType": "object",
         "type": "string"
        },
        {
         "name": "Revenue",
         "rawType": "float64",
         "type": "float"
        },
        {
         "name": "Month",
         "rawType": "int32",
         "type": "integer"
        }
       ],
       "ref": "7869d9b8-5772-46bb-8ed8-1eec10e9c173",
       "rows": [
        [
         "111",
         "10570",
         "2022-12-01 00:00:00",
         "Burgers",
         "12.99",
         "493",
         "Online ",
         " Credit Card",
         "Tom Jackson",
         "London",
         "6404.07",
         "12"
        ],
        [
         "112",
         "10571",
         "2022-12-01 00:00:00",
         "Chicken Sandwiches",
         "9.95",
         "201",
         "Online ",
         " Credit Card",
         "Tom Jackson",
         "London",
         "1999.9499999999998",
         "12"
        ],
        [
         "113",
         "10572",
         "2022-12-01 00:00:00",
         "Fries",
         "3.49",
         "573",
         "Online ",
         " Credit Card",
         "Remy Monet",
         "Paris",
         "1999.7700000000002",
         "12"
        ],
        [
         "114",
         "10573",
         "2022-12-01 00:00:00",
         "Beverages",
         "2.95",
         "678",
         "Online ",
         " Credit Card",
         "Remy Monet",
         "Paris",
         "2000.1000000000001",
         "12"
        ],
        [
         "115",
         "10574",
         "2022-12-01 00:00:00",
         "Sides & Other",
         "4.99",
         "200",
         "Online ",
         " Credit Card",
         "Remy Monet",
         "Paris",
         "998.0",
         "12"
        ],
        [
         "116",
         "10575",
         "2022-12-02 00:00:00",
         "Burgers",
         "12.99",
         "523",
         "Online ",
         " Credit Card",
         "Remy Monet",
         "Paris",
         "6793.77",
         "12"
        ],
        [
         "117",
         "10576",
         "2022-12-02 00:00:00",
         "Chicken Sandwiches",
         "9.95",
         "201",
         "Online ",
         " Credit Card",
         "Remy Monet",
         "Paris",
         "1999.9499999999998",
         "12"
        ],
        [
         "118",
         "10577",
         "2022-12-02 00:00:00",
         "Fries",
         "3.49",
         "630",
         "Online ",
         " Credit Card",
         "Remy Monet",
         "Paris",
         "2198.7000000000003",
         "12"
        ],
        [
         "119",
         "10578",
         "2022-12-02 00:00:00",
         "Beverages",
         "2.95",
         "678",
         "Online ",
         " Credit Card",
         "Remy Monet",
         "Paris",
         "2000.1000000000001",
         "12"
        ],
        [
         "120",
         "10579",
         "2022-12-02 00:00:00",
         "Sides & Other",
         "4.99",
         "200",
         "Online ",
         " Credit Card",
         "Remy Monet",
         "Paris",
         "998.0",
         "12"
        ],
        [
         "121",
         "10580",
         "2022-12-03 00:00:00",
         "Burgers",
         "12.99",
         "523",
         "Online ",
         " Credit Card",
         "Remy Monet",
         "Paris",
         "6793.77",
         "12"
        ],
        [
         "122",
         "10581",
         "2022-12-03 00:00:00",
         "Chicken Sandwiches",
         "9.95",
         "201",
         "Online ",
         " Credit Card",
         "Remy Monet",
         "Paris",
         "1999.9499999999998",
         "12"
        ],
        [
         "123",
         "10582",
         "2022-12-03 00:00:00",
         "Fries",
         "3.49",
         "630",
         "Online ",
         " Credit Card",
         "Tom Jackson",
         "London",
         "2198.7000000000003",
         "12"
        ],
        [
         "124",
         "10583",
         "2022-12-03 00:00:00",
         "Beverages",
         "2.95",
         "678",
         "Online ",
         " Credit Card",
         "Tom Jackson",
         "London",
         "2000.1000000000001",
         "12"
        ],
        [
         "125",
         "10584",
         "2022-12-03 00:00:00",
         "Sides & Other",
         "4.99",
         "200",
         "Online ",
         " Credit Card",
         "Tom Jackson",
         "London",
         "998.0",
         "12"
        ],
        [
         "126",
         "10585",
         "2022-12-04 00:00:00",
         "Burgers",
         "12.99",
         "539",
         "Online ",
         " Credit Card",
         "Tom Jackson",
         "London",
         "7001.61",
         "12"
        ],
        [
         "127",
         "10586",
         "2022-12-04 00:00:00",
         "Chicken Sandwiches",
         "9.95",
         "201",
         "Online ",
         " Credit Card",
         "Tom Jackson",
         "London",
         "1999.9499999999998",
         "12"
        ],
        [
         "131",
         "10590",
         "2022-12-05 00:00:00",
         "Burgers",
         "12.99",
         "554",
         "Online ",
         " Credit Card",
         "Tom Jackson",
         "London",
         "7196.46",
         "12"
        ],
        [
         "132",
         "10591",
         "2022-12-05 00:00:00",
         "Chicken Sandwiches",
         "9.95",
         "201",
         "Online ",
         " Credit Card",
         "Tom Jackson",
         "London",
         "1999.9499999999998",
         "12"
        ],
        [
         "133",
         "10592",
         "2022-12-05 00:00:00",
         "Fries",
         "3.49",
         "573",
         "Online ",
         " Credit Card",
         "Tom Jackson",
         "London",
         "1999.7700000000002",
         "12"
        ],
        [
         "134",
         "10593",
         "2022-12-05 00:00:00",
         "Beverages",
         "2.95",
         "678",
         "Online ",
         " Credit Card",
         "Tom Jackson",
         "London",
         "2000.1000000000001",
         "12"
        ],
        [
         "135",
         "10594",
         "2022-12-05 00:00:00",
         "Sides & Other",
         "4.99",
         "200",
         "Online ",
         " Credit Card",
         "Tom Jackson",
         "London",
         "998.0",
         "12"
        ],
        [
         "136",
         "10595",
         "2022-12-06 00:00:00",
         "Burgers",
         "12.99",
         "539",
         "Online ",
         " Credit Card",
         "Tom Jackson",
         "London",
         "7001.61",
         "12"
        ],
        [
         "137",
         "10596",
         "2022-12-06 00:00:00",
         "Chicken Sandwiches",
         "9.95",
         "201",
         "Online ",
         " Credit Card",
         "Tom Jackson",
         "London",
         "1999.9499999999998",
         "12"
        ],
        [
         "138",
         "10597",
         "2022-12-06 00:00:00",
         "Fries",
         "3.49",
         "573",
         "Online ",
         " Credit Card",
         "Tom Jackson",
         "London",
         "1999.7700000000002",
         "12"
        ],
        [
         "139",
         "10598",
         "2022-12-06 00:00:00",
         "Beverages",
         "2.95",
         "678",
         "Online ",
         " Credit Card",
         "Tom Jackson",
         "London",
         "2000.1000000000001",
         "12"
        ],
        [
         "140",
         "10599",
         "2022-12-06 00:00:00",
         "Sides & Other",
         "4.99",
         "200",
         "Online ",
         " Credit Card",
         "Tom Jackson",
         "London",
         "998.0",
         "12"
        ],
        [
         "141",
         "10600",
         "2022-12-07 00:00:00",
         "Burgers",
         "12.99",
         "523",
         "Online ",
         " Credit Card",
         "Tom Jackson",
         "London",
         "6793.77",
         "12"
        ],
        [
         "142",
         "10601",
         "2022-12-07 00:00:00",
         "Chicken Sandwiches",
         "9.95",
         "201",
         "Online ",
         " Credit Card",
         "Tom Jackson",
         "London",
         "1999.9499999999998",
         "12"
        ],
        [
         "143",
         "10602",
         "2022-12-07 00:00:00",
         "Fries",
         "3.49",
         "630",
         "Online ",
         " Cash",
         "Tom Jackson",
         "London",
         "2198.7000000000003",
         "12"
        ],
        [
         "144",
         "10603",
         "2022-12-07 00:00:00",
         "Beverages",
         "2.95",
         "678",
         "Online ",
         " Cash",
         "Tom Jackson",
         "London",
         "2000.1000000000001",
         "12"
        ],
        [
         "145",
         "10604",
         "2022-12-07 00:00:00",
         "Sides & Other",
         "4.99",
         "200",
         "Online ",
         " Cash",
         "Tom Jackson",
         "London",
         "998.0",
         "12"
        ],
        [
         "146",
         "10605",
         "2022-12-08 00:00:00",
         "Burgers",
         "12.99",
         "539",
         "Online ",
         " Cash",
         "Tom Jackson",
         "London",
         "7001.61",
         "12"
        ],
        [
         "147",
         "10606",
         "2022-12-08 00:00:00",
         "Chicken Sandwiches",
         "9.95",
         "201",
         "Online ",
         " Cash",
         "Tom Jackson",
         "London",
         "1999.9499999999998",
         "12"
        ],
        [
         "148",
         "10607",
         "2022-12-08 00:00:00",
         "Fries",
         "3.49",
         "630",
         "Online ",
         " Cash",
         "Tom Jackson",
         "London",
         "2198.7000000000003",
         "12"
        ],
        [
         "149",
         "10608",
         "2022-12-08 00:00:00",
         "Beverages",
         "2.95",
         "678",
         "Online ",
         " Gift Card",
         "Tom Jackson",
         "London",
         "2000.1000000000001",
         "12"
        ],
        [
         "150",
         "10609",
         "2022-12-08 00:00:00",
         "Sides & Other",
         "4.99",
         "200",
         "Online ",
         " Gift Card",
         "Tom Jackson",
         "London",
         "998.0",
         "12"
        ],
        [
         "151",
         "10610",
         "2022-12-09 00:00:00",
         "Burgers",
         "12.99",
         "570",
         "Online ",
         " Gift Card",
         "Tom Jackson",
         "London",
         "7404.3",
         "12"
        ],
        [
         "152",
         "10611",
         "2022-12-09 00:00:00",
         "Chicken Sandwiches",
         "9.95",
         "201",
         "Online ",
         " Gift Card",
         "Tom Jackson",
         "London",
         "1999.9499999999998",
         "12"
        ],
        [
         "153",
         "10612",
         "2022-12-09 00:00:00",
         "Fries",
         "3.49",
         "630",
         "Online ",
         " Gift Card",
         "Tom Jackson",
         "London",
         "2198.7000000000003",
         "12"
        ],
        [
         "154",
         "10613",
         "2022-12-09 00:00:00",
         "Beverages",
         "2.95",
         "678",
         "Online ",
         " Gift Card",
         "Tom Jackson",
         "London",
         "2000.1000000000001",
         "12"
        ],
        [
         "155",
         "10614",
         "2022-12-09 00:00:00",
         "Sides & Other",
         "4.99",
         "200",
         "Online ",
         " Gift Card",
         "Tom Jackson",
         "London",
         "998.0",
         "12"
        ],
        [
         "156",
         "10615",
         "2022-12-10 00:00:00",
         "Burgers",
         "12.99",
         "570",
         "Online ",
         " Gift Card",
         "Tom Jackson",
         "London",
         "7404.3",
         "12"
        ],
        [
         "157",
         "10616",
         "2022-12-10 00:00:00",
         "Chicken Sandwiches",
         "9.95",
         "201",
         "Online ",
         " Gift Card",
         "Tom Jackson",
         "London",
         "1999.9499999999998",
         "12"
        ],
        [
         "158",
         "10617",
         "2022-12-10 00:00:00",
         "Fries",
         "3.49",
         "630",
         "Online ",
         " Gift Card",
         "Tom Jackson",
         "London",
         "2198.7000000000003",
         "12"
        ],
        [
         "159",
         "10618",
         "2022-12-10 00:00:00",
         "Beverages",
         "2.95",
         "678",
         "Online ",
         " Gift Card",
         "Tom Jackson",
         "London",
         "2000.1000000000001",
         "12"
        ],
        [
         "160",
         "10619",
         "2022-12-10 00:00:00",
         "Sides & Other",
         "4.99",
         "200",
         "Online ",
         " Gift Card",
         "Tom Jackson",
         "London",
         "998.0",
         "12"
        ],
        [
         "161",
         "10620",
         "2022-12-11 00:00:00",
         "Burgers",
         "12.99",
         "585",
         "Online ",
         " Gift Card",
         "Tom Jackson",
         "London",
         "7599.150000000001",
         "12"
        ],
        [
         "162",
         "10621",
         "2022-12-11 00:00:00",
         "Chicken Sandwiches",
         "9.95",
         "201",
         "Online ",
         " Gift Card",
         "Tom Jackson",
         "London",
         "1999.9499999999998",
         "12"
        ],
        [
         "163",
         "10622",
         "2022-12-11 00:00:00",
         "Fries",
         "3.49",
         "630",
         "Online ",
         " Gift Card",
         "Tom Jackson",
         "London",
         "2198.7000000000003",
         "12"
        ]
       ],
       "shape": {
        "columns": 11,
        "rows": 141
       }
      },
      "text/html": [
       "<div>\n",
       "<style scoped>\n",
       "    .dataframe tbody tr th:only-of-type {\n",
       "        vertical-align: middle;\n",
       "    }\n",
       "\n",
       "    .dataframe tbody tr th {\n",
       "        vertical-align: top;\n",
       "    }\n",
       "\n",
       "    .dataframe thead th {\n",
       "        text-align: right;\n",
       "    }\n",
       "</style>\n",
       "<table border=\"1\" class=\"dataframe\">\n",
       "  <thead>\n",
       "    <tr style=\"text-align: right;\">\n",
       "      <th></th>\n",
       "      <th>Order ID</th>\n",
       "      <th>Date</th>\n",
       "      <th>Product</th>\n",
       "      <th>Price</th>\n",
       "      <th>Quantity</th>\n",
       "      <th>Purchase Type</th>\n",
       "      <th>Payment Method</th>\n",
       "      <th>Manager</th>\n",
       "      <th>City</th>\n",
       "      <th>Revenue</th>\n",
       "      <th>Month</th>\n",
       "    </tr>\n",
       "  </thead>\n",
       "  <tbody>\n",
       "    <tr>\n",
       "      <th>111</th>\n",
       "      <td>10570</td>\n",
       "      <td>2022-12-01</td>\n",
       "      <td>Burgers</td>\n",
       "      <td>12.99</td>\n",
       "      <td>493</td>\n",
       "      <td>Online</td>\n",
       "      <td>Credit Card</td>\n",
       "      <td>Tom Jackson</td>\n",
       "      <td>London</td>\n",
       "      <td>6404.07</td>\n",
       "      <td>12</td>\n",
       "    </tr>\n",
       "    <tr>\n",
       "      <th>112</th>\n",
       "      <td>10571</td>\n",
       "      <td>2022-12-01</td>\n",
       "      <td>Chicken Sandwiches</td>\n",
       "      <td>9.95</td>\n",
       "      <td>201</td>\n",
       "      <td>Online</td>\n",
       "      <td>Credit Card</td>\n",
       "      <td>Tom Jackson</td>\n",
       "      <td>London</td>\n",
       "      <td>1999.95</td>\n",
       "      <td>12</td>\n",
       "    </tr>\n",
       "    <tr>\n",
       "      <th>113</th>\n",
       "      <td>10572</td>\n",
       "      <td>2022-12-01</td>\n",
       "      <td>Fries</td>\n",
       "      <td>3.49</td>\n",
       "      <td>573</td>\n",
       "      <td>Online</td>\n",
       "      <td>Credit Card</td>\n",
       "      <td>Remy Monet</td>\n",
       "      <td>Paris</td>\n",
       "      <td>1999.77</td>\n",
       "      <td>12</td>\n",
       "    </tr>\n",
       "    <tr>\n",
       "      <th>114</th>\n",
       "      <td>10573</td>\n",
       "      <td>2022-12-01</td>\n",
       "      <td>Beverages</td>\n",
       "      <td>2.95</td>\n",
       "      <td>678</td>\n",
       "      <td>Online</td>\n",
       "      <td>Credit Card</td>\n",
       "      <td>Remy Monet</td>\n",
       "      <td>Paris</td>\n",
       "      <td>2000.10</td>\n",
       "      <td>12</td>\n",
       "    </tr>\n",
       "    <tr>\n",
       "      <th>115</th>\n",
       "      <td>10574</td>\n",
       "      <td>2022-12-01</td>\n",
       "      <td>Sides &amp; Other</td>\n",
       "      <td>4.99</td>\n",
       "      <td>200</td>\n",
       "      <td>Online</td>\n",
       "      <td>Credit Card</td>\n",
       "      <td>Remy Monet</td>\n",
       "      <td>Paris</td>\n",
       "      <td>998.00</td>\n",
       "      <td>12</td>\n",
       "    </tr>\n",
       "    <tr>\n",
       "      <th>...</th>\n",
       "      <td>...</td>\n",
       "      <td>...</td>\n",
       "      <td>...</td>\n",
       "      <td>...</td>\n",
       "      <td>...</td>\n",
       "      <td>...</td>\n",
       "      <td>...</td>\n",
       "      <td>...</td>\n",
       "      <td>...</td>\n",
       "      <td>...</td>\n",
       "      <td>...</td>\n",
       "    </tr>\n",
       "    <tr>\n",
       "      <th>250</th>\n",
       "      <td>10709</td>\n",
       "      <td>2022-12-28</td>\n",
       "      <td>Sides &amp; Other</td>\n",
       "      <td>4.99</td>\n",
       "      <td>200</td>\n",
       "      <td>Drive-thru</td>\n",
       "      <td>Gift Card</td>\n",
       "      <td>Walter Muller</td>\n",
       "      <td>Berlin</td>\n",
       "      <td>998.00</td>\n",
       "      <td>12</td>\n",
       "    </tr>\n",
       "    <tr>\n",
       "      <th>251</th>\n",
       "      <td>10710</td>\n",
       "      <td>2022-12-29</td>\n",
       "      <td>Burgers</td>\n",
       "      <td>12.99</td>\n",
       "      <td>754</td>\n",
       "      <td>Drive-thru</td>\n",
       "      <td>Gift Card</td>\n",
       "      <td>Walter Muller</td>\n",
       "      <td>Berlin</td>\n",
       "      <td>9794.46</td>\n",
       "      <td>12</td>\n",
       "    </tr>\n",
       "    <tr>\n",
       "      <th>252</th>\n",
       "      <td>10711</td>\n",
       "      <td>2022-12-29</td>\n",
       "      <td>Chicken Sandwiches</td>\n",
       "      <td>9.95</td>\n",
       "      <td>281</td>\n",
       "      <td>Drive-thru</td>\n",
       "      <td>Gift Card</td>\n",
       "      <td>Walter Muller</td>\n",
       "      <td>Berlin</td>\n",
       "      <td>2795.95</td>\n",
       "      <td>12</td>\n",
       "    </tr>\n",
       "    <tr>\n",
       "      <th>253</th>\n",
       "      <td>10712</td>\n",
       "      <td>2022-12-29</td>\n",
       "      <td>Fries</td>\n",
       "      <td>3.49</td>\n",
       "      <td>630</td>\n",
       "      <td>Drive-thru</td>\n",
       "      <td>Gift Card</td>\n",
       "      <td>Walter Muller</td>\n",
       "      <td>Berlin</td>\n",
       "      <td>2198.70</td>\n",
       "      <td>12</td>\n",
       "    </tr>\n",
       "    <tr>\n",
       "      <th>254</th>\n",
       "      <td>10713</td>\n",
       "      <td>2022-12-29</td>\n",
       "      <td>Beverages</td>\n",
       "      <td>2.95</td>\n",
       "      <td>678</td>\n",
       "      <td>Drive-thru</td>\n",
       "      <td>Gift Card</td>\n",
       "      <td>Walter Muller</td>\n",
       "      <td>Berlin</td>\n",
       "      <td>2000.10</td>\n",
       "      <td>12</td>\n",
       "    </tr>\n",
       "  </tbody>\n",
       "</table>\n",
       "<p>141 rows × 11 columns</p>\n",
       "</div>"
      ],
      "text/plain": [
       "0    Order ID       Date             Product  Price  Quantity Purchase Type  \\\n",
       "111     10570 2022-12-01             Burgers  12.99       493       Online    \n",
       "112     10571 2022-12-01  Chicken Sandwiches   9.95       201       Online    \n",
       "113     10572 2022-12-01               Fries   3.49       573       Online    \n",
       "114     10573 2022-12-01           Beverages   2.95       678       Online    \n",
       "115     10574 2022-12-01       Sides & Other   4.99       200       Online    \n",
       "..        ...        ...                 ...    ...       ...           ...   \n",
       "250     10709 2022-12-28       Sides & Other   4.99       200   Drive-thru    \n",
       "251     10710 2022-12-29             Burgers  12.99       754   Drive-thru    \n",
       "252     10711 2022-12-29  Chicken Sandwiches   9.95       281   Drive-thru    \n",
       "253     10712 2022-12-29               Fries   3.49       630   Drive-thru    \n",
       "254     10713 2022-12-29           Beverages   2.95       678   Drive-thru    \n",
       "\n",
       "0   Payment Method        Manager    City  Revenue  Month  \n",
       "111    Credit Card    Tom Jackson  London  6404.07     12  \n",
       "112    Credit Card    Tom Jackson  London  1999.95     12  \n",
       "113    Credit Card     Remy Monet   Paris  1999.77     12  \n",
       "114    Credit Card     Remy Monet   Paris  2000.10     12  \n",
       "115    Credit Card     Remy Monet   Paris   998.00     12  \n",
       "..             ...            ...     ...      ...    ...  \n",
       "250      Gift Card  Walter Muller  Berlin   998.00     12  \n",
       "251      Gift Card  Walter Muller  Berlin  9794.46     12  \n",
       "252      Gift Card  Walter Muller  Berlin  2795.95     12  \n",
       "253      Gift Card  Walter Muller  Berlin  2198.70     12  \n",
       "254      Gift Card  Walter Muller  Berlin  2000.10     12  \n",
       "\n",
       "[141 rows x 11 columns]"
      ]
     },
     "execution_count": 297,
     "metadata": {},
     "output_type": "execute_result"
    }
   ],
   "source": [
    "m12 = data[data.Month == 12]                  # filtering the records with month '12'\n",
    "m12"
   ]
  },
  {
   "cell_type": "code",
   "execution_count": 298,
   "id": "a04d7a38",
   "metadata": {},
   "outputs": [
    {
     "data": {
      "text/plain": [
       "3101.3072340425533"
      ]
     },
     "execution_count": 298,
     "metadata": {},
     "output_type": "execute_result"
    }
   ],
   "source": [
    "m12.Revenue.mean()                                  # to show the mean revenue"
   ]
  },
  {
   "cell_type": "markdown",
   "id": "8582111b",
   "metadata": {},
   "source": [
    "#### Q.7) Standard Deviation of Revenue and Quantity ?"
   ]
  },
  {
   "cell_type": "code",
   "execution_count": 299,
   "id": "89a03c5a",
   "metadata": {},
   "outputs": [
    {
     "data": {
      "text/plain": [
       "215.17680535260516"
      ]
     },
     "execution_count": 299,
     "metadata": {},
     "output_type": "execute_result"
    }
   ],
   "source": [
    "data['Quantity'].std()"
   ]
  },
  {
   "cell_type": "code",
   "execution_count": 300,
   "id": "c6276deb",
   "metadata": {},
   "outputs": [
    {
     "data": {
      "text/plain": [
       "2419.6341629733474"
      ]
     },
     "execution_count": 300,
     "metadata": {},
     "output_type": "execute_result"
    }
   ],
   "source": [
    "data['Revenue'].std()"
   ]
  },
  {
   "cell_type": "markdown",
   "id": "94c1fe80",
   "metadata": {},
   "source": [
    "#### Q.8) Variance of Revenue and Quantity ?"
   ]
  },
  {
   "cell_type": "code",
   "execution_count": 301,
   "id": "d0d060c1",
   "metadata": {},
   "outputs": [
    {
     "data": {
      "text/plain": [
       "46301.057561752925"
      ]
     },
     "execution_count": 301,
     "metadata": {},
     "output_type": "execute_result"
    }
   ],
   "source": [
    "data['Quantity'].var()"
   ]
  },
  {
   "cell_type": "code",
   "execution_count": 302,
   "id": "f15935a1",
   "metadata": {},
   "outputs": [
    {
     "data": {
      "text/plain": [
       "5854629.482627731"
      ]
     },
     "execution_count": 302,
     "metadata": {},
     "output_type": "execute_result"
    }
   ],
   "source": [
    "data['Revenue'].var()"
   ]
  },
  {
   "cell_type": "markdown",
   "id": "938f9b4f",
   "metadata": {},
   "source": [
    "#### Q.9) Is revenue increasing or decreasing over time?"
   ]
  },
  {
   "cell_type": "code",
   "execution_count": 303,
   "id": "e7a230e3",
   "metadata": {},
   "outputs": [
    {
     "data": {
      "application/vnd.microsoft.datawrangler.viewer.v0+json": {
       "columns": [
        {
         "name": "index",
         "rawType": "int64",
         "type": "integer"
        },
        {
         "name": "Order ID",
         "rawType": "int32",
         "type": "integer"
        },
        {
         "name": "Date",
         "rawType": "datetime64[ns]",
         "type": "datetime"
        },
        {
         "name": "Product",
         "rawType": "object",
         "type": "string"
        },
        {
         "name": "Price",
         "rawType": "float64",
         "type": "float"
        },
        {
         "name": "Quantity",
         "rawType": "int32",
         "type": "integer"
        },
        {
         "name": "Purchase Type",
         "rawType": "object",
         "type": "string"
        },
        {
         "name": "Payment Method",
         "rawType": "object",
         "type": "string"
        },
        {
         "name": "Manager",
         "rawType": "object",
         "type": "string"
        },
        {
         "name": "City",
         "rawType": "object",
         "type": "string"
        },
        {
         "name": "Revenue",
         "rawType": "float64",
         "type": "float"
        },
        {
         "name": "Month",
         "rawType": "int32",
         "type": "integer"
        }
       ],
       "ref": "af383539-9178-4c6a-9b6b-94c490d5f004",
       "rows": [
        [
         "1",
         "10452",
         "2022-11-07 00:00:00",
         "Fries",
         "3.49",
         "573",
         "Online ",
         " Gift Card",
         "Tom Jackson",
         "London",
         "1999.7700000000002",
         "11"
        ],
        [
         "2",
         "10453",
         "2022-11-07 00:00:00",
         "Beverages",
         "2.95",
         "746",
         "Online ",
         " Gift Card",
         "Pablo Perez",
         "Madrid",
         "2200.7000000000003",
         "11"
        ],
        [
         "3",
         "10454",
         "2022-11-07 00:00:00",
         "Sides & Other",
         "4.99",
         "200",
         "In-store ",
         " Gift Card",
         "Joao Silva",
         "Lisbon",
         "998.0",
         "11"
        ],
        [
         "4",
         "10455",
         "2022-11-08 00:00:00",
         "Burgers",
         "12.99",
         "570",
         "In-store ",
         " Credit Card",
         "Walter Muller",
         "Berlin",
         "7404.3",
         "11"
        ],
        [
         "5",
         "10456",
         "2022-11-08 00:00:00",
         "Chicken Sandwiches",
         "9.95",
         "201",
         "In-store ",
         " Credit Card",
         "Walter Muller",
         "Berlin",
         "1999.9499999999998",
         "11"
        ]
       ],
       "shape": {
        "columns": 11,
        "rows": 5
       }
      },
      "text/html": [
       "<div>\n",
       "<style scoped>\n",
       "    .dataframe tbody tr th:only-of-type {\n",
       "        vertical-align: middle;\n",
       "    }\n",
       "\n",
       "    .dataframe tbody tr th {\n",
       "        vertical-align: top;\n",
       "    }\n",
       "\n",
       "    .dataframe thead th {\n",
       "        text-align: right;\n",
       "    }\n",
       "</style>\n",
       "<table border=\"1\" class=\"dataframe\">\n",
       "  <thead>\n",
       "    <tr style=\"text-align: right;\">\n",
       "      <th></th>\n",
       "      <th>Order ID</th>\n",
       "      <th>Date</th>\n",
       "      <th>Product</th>\n",
       "      <th>Price</th>\n",
       "      <th>Quantity</th>\n",
       "      <th>Purchase Type</th>\n",
       "      <th>Payment Method</th>\n",
       "      <th>Manager</th>\n",
       "      <th>City</th>\n",
       "      <th>Revenue</th>\n",
       "      <th>Month</th>\n",
       "    </tr>\n",
       "  </thead>\n",
       "  <tbody>\n",
       "    <tr>\n",
       "      <th>1</th>\n",
       "      <td>10452</td>\n",
       "      <td>2022-11-07</td>\n",
       "      <td>Fries</td>\n",
       "      <td>3.49</td>\n",
       "      <td>573</td>\n",
       "      <td>Online</td>\n",
       "      <td>Gift Card</td>\n",
       "      <td>Tom Jackson</td>\n",
       "      <td>London</td>\n",
       "      <td>1999.77</td>\n",
       "      <td>11</td>\n",
       "    </tr>\n",
       "    <tr>\n",
       "      <th>2</th>\n",
       "      <td>10453</td>\n",
       "      <td>2022-11-07</td>\n",
       "      <td>Beverages</td>\n",
       "      <td>2.95</td>\n",
       "      <td>746</td>\n",
       "      <td>Online</td>\n",
       "      <td>Gift Card</td>\n",
       "      <td>Pablo Perez</td>\n",
       "      <td>Madrid</td>\n",
       "      <td>2200.70</td>\n",
       "      <td>11</td>\n",
       "    </tr>\n",
       "    <tr>\n",
       "      <th>3</th>\n",
       "      <td>10454</td>\n",
       "      <td>2022-11-07</td>\n",
       "      <td>Sides &amp; Other</td>\n",
       "      <td>4.99</td>\n",
       "      <td>200</td>\n",
       "      <td>In-store</td>\n",
       "      <td>Gift Card</td>\n",
       "      <td>Joao Silva</td>\n",
       "      <td>Lisbon</td>\n",
       "      <td>998.00</td>\n",
       "      <td>11</td>\n",
       "    </tr>\n",
       "    <tr>\n",
       "      <th>4</th>\n",
       "      <td>10455</td>\n",
       "      <td>2022-11-08</td>\n",
       "      <td>Burgers</td>\n",
       "      <td>12.99</td>\n",
       "      <td>570</td>\n",
       "      <td>In-store</td>\n",
       "      <td>Credit Card</td>\n",
       "      <td>Walter Muller</td>\n",
       "      <td>Berlin</td>\n",
       "      <td>7404.30</td>\n",
       "      <td>11</td>\n",
       "    </tr>\n",
       "    <tr>\n",
       "      <th>5</th>\n",
       "      <td>10456</td>\n",
       "      <td>2022-11-08</td>\n",
       "      <td>Chicken Sandwiches</td>\n",
       "      <td>9.95</td>\n",
       "      <td>201</td>\n",
       "      <td>In-store</td>\n",
       "      <td>Credit Card</td>\n",
       "      <td>Walter Muller</td>\n",
       "      <td>Berlin</td>\n",
       "      <td>1999.95</td>\n",
       "      <td>11</td>\n",
       "    </tr>\n",
       "  </tbody>\n",
       "</table>\n",
       "</div>"
      ],
      "text/plain": [
       "0  Order ID       Date             Product  Price  Quantity Purchase Type  \\\n",
       "1     10452 2022-11-07               Fries   3.49       573       Online    \n",
       "2     10453 2022-11-07           Beverages   2.95       746       Online    \n",
       "3     10454 2022-11-07       Sides & Other   4.99       200     In-store    \n",
       "4     10455 2022-11-08             Burgers  12.99       570     In-store    \n",
       "5     10456 2022-11-08  Chicken Sandwiches   9.95       201     In-store    \n",
       "\n",
       "0 Payment Method        Manager    City  Revenue  Month  \n",
       "1      Gift Card    Tom Jackson  London  1999.77     11  \n",
       "2      Gift Card    Pablo Perez  Madrid  2200.70     11  \n",
       "3      Gift Card     Joao Silva  Lisbon   998.00     11  \n",
       "4    Credit Card  Walter Muller  Berlin  7404.30     11  \n",
       "5    Credit Card  Walter Muller  Berlin  1999.95     11  "
      ]
     },
     "execution_count": 303,
     "metadata": {},
     "output_type": "execute_result"
    }
   ],
   "source": [
    "data.head()"
   ]
  },
  {
   "cell_type": "code",
   "execution_count": 304,
   "id": "45d08a5e",
   "metadata": {},
   "outputs": [
    {
     "data": {
      "application/vnd.microsoft.datawrangler.viewer.v0+json": {
       "columns": [
        {
         "name": "index",
         "rawType": "int64",
         "type": "integer"
        },
        {
         "name": "Order ID",
         "rawType": "int32",
         "type": "integer"
        },
        {
         "name": "Date",
         "rawType": "datetime64[ns]",
         "type": "datetime"
        },
        {
         "name": "Product",
         "rawType": "object",
         "type": "string"
        },
        {
         "name": "Price",
         "rawType": "float64",
         "type": "float"
        },
        {
         "name": "Quantity",
         "rawType": "int32",
         "type": "integer"
        },
        {
         "name": "Purchase Type",
         "rawType": "object",
         "type": "string"
        },
        {
         "name": "Payment Method",
         "rawType": "object",
         "type": "string"
        },
        {
         "name": "Manager",
         "rawType": "object",
         "type": "string"
        },
        {
         "name": "City",
         "rawType": "object",
         "type": "string"
        },
        {
         "name": "Revenue",
         "rawType": "float64",
         "type": "float"
        },
        {
         "name": "Month",
         "rawType": "int32",
         "type": "integer"
        }
       ],
       "ref": "75dff87e-e0d7-42ce-a46f-588264ab2a80",
       "rows": [
        [
         "1",
         "10452",
         "2022-11-07 00:00:00",
         "Fries",
         "3.49",
         "573",
         "Online ",
         " Gift Card",
         "Tom Jackson",
         "London",
         "1999.7700000000002",
         "11"
        ],
        [
         "2",
         "10453",
         "2022-11-07 00:00:00",
         "Beverages",
         "2.95",
         "746",
         "Online ",
         " Gift Card",
         "Pablo Perez",
         "Madrid",
         "2200.7000000000003",
         "11"
        ],
        [
         "3",
         "10454",
         "2022-11-07 00:00:00",
         "Sides & Other",
         "4.99",
         "200",
         "In-store ",
         " Gift Card",
         "Joao Silva",
         "Lisbon",
         "998.0",
         "11"
        ],
        [
         "4",
         "10455",
         "2022-11-08 00:00:00",
         "Burgers",
         "12.99",
         "570",
         "In-store ",
         " Credit Card",
         "Walter Muller",
         "Berlin",
         "7404.3",
         "11"
        ],
        [
         "5",
         "10456",
         "2022-11-08 00:00:00",
         "Chicken Sandwiches",
         "9.95",
         "201",
         "In-store ",
         " Credit Card",
         "Walter Muller",
         "Berlin",
         "1999.9499999999998",
         "11"
        ],
        [
         "6",
         "10457",
         "2022-11-08 00:00:00",
         "Fries",
         "3.49",
         "573",
         "In-store ",
         " Credit Card",
         "Remy Monet",
         "Paris",
         "1999.7700000000002",
         "11"
        ],
        [
         "7",
         "10459",
         "2022-11-08 00:00:00",
         "Sides & Other",
         "4.99",
         "200",
         "In-store ",
         " Credit Card",
         "Walter Muller",
         "Berlin",
         "998.0",
         "11"
        ],
        [
         "8",
         "10460",
         "2022-11-09 00:00:00",
         "Burgers",
         "12.99",
         "554",
         "In-store ",
         " Credit Card",
         "Remy Monet",
         "Paris",
         "7196.46",
         "11"
        ],
        [
         "9",
         "10461",
         "2022-11-09 00:00:00",
         "Chicken Sandwiches",
         "9.95",
         "201",
         "In-store ",
         " Credit Card",
         "Remy Monet",
         "Paris",
         "1999.9499999999998",
         "11"
        ],
        [
         "10",
         "10462",
         "2022-11-09 00:00:00",
         "Fries",
         "3.49",
         "573",
         "In-store ",
         " Credit Card",
         "Remy Monet",
         "Paris",
         "1999.7700000000002",
         "11"
        ],
        [
         "11",
         "10463",
         "2022-11-09 00:00:00",
         "Beverages",
         "2.95",
         "678",
         "In-store ",
         " Credit Card",
         "Remy Monet",
         "Paris",
         "2000.1000000000001",
         "11"
        ],
        [
         "12",
         "10464",
         "2022-11-09 00:00:00",
         "Sides & Other",
         "4.99",
         "200",
         "In-store ",
         " Credit Card",
         "Remy Monet",
         "Paris",
         "998.0",
         "11"
        ],
        [
         "13",
         "10465",
         "2022-11-10 00:00:00",
         "Burgers",
         "12.99",
         "554",
         "In-store ",
         " Credit Card",
         "Pablo Perez",
         "Madrid",
         "7196.46",
         "11"
        ],
        [
         "14",
         "10466",
         "2022-11-10 00:00:00",
         "Chicken Sandwiches",
         "9.95",
         "201",
         "In-store ",
         " Credit Card",
         "Pablo Perez",
         "Madrid",
         "1999.9499999999998",
         "11"
        ],
        [
         "15",
         "10467",
         "2022-11-10 00:00:00",
         "Fries",
         "3.49",
         "573",
         "In-store ",
         " Credit Card",
         "Pablo Perez",
         "Madrid",
         "1999.7700000000002",
         "11"
        ],
        [
         "16",
         "10468",
         "2022-11-10 00:00:00",
         "Beverages",
         "2.95",
         "678",
         "In-store ",
         " Credit Card",
         "Pablo Perez",
         "Madrid",
         "2000.1000000000001",
         "11"
        ],
        [
         "17",
         "10470",
         "2022-11-11 00:00:00",
         "Burgers",
         "12.99",
         "554",
         "In-store ",
         " Credit Card",
         "Pablo Perez",
         "Madrid",
         "7196.46",
         "11"
        ],
        [
         "18",
         "10471",
         "2022-11-11 00:00:00",
         "Chicken Sandwiches",
         "9.95",
         "201",
         "In-store ",
         " Credit Card",
         "Pablo Perez",
         "Madrid",
         "1999.9499999999998",
         "11"
        ],
        [
         "19",
         "10472",
         "2022-11-11 00:00:00",
         "Fries",
         "3.49",
         "630",
         "In-store ",
         " Credit Card",
         "Pablo Perez",
         "Madrid",
         "2198.7000000000003",
         "11"
        ],
        [
         "20",
         "10473",
         "2022-11-11 00:00:00",
         "Beverages",
         "2.95",
         "678",
         "In-store ",
         " Credit Card",
         "Pablo Perez",
         "Madrid",
         "2000.1000000000001",
         "11"
        ],
        [
         "21",
         "10474",
         "2022-11-11 00:00:00",
         "Sides & Other",
         "4.99",
         "200",
         "In-store ",
         " Credit Card",
         "Pablo Perez",
         "Madrid",
         "998.0",
         "11"
        ],
        [
         "22",
         "10475",
         "2022-11-12 00:00:00",
         "Burgers",
         "12.99",
         "523",
         "In-store ",
         " Credit Card",
         "Pablo Perez",
         "Madrid",
         "6793.77",
         "11"
        ],
        [
         "23",
         "10476",
         "2022-11-12 00:00:00",
         "Chicken Sandwiches",
         "9.95",
         "201",
         "In-store ",
         " Credit Card",
         "Pablo Perez",
         "Madrid",
         "1999.9499999999998",
         "11"
        ],
        [
         "24",
         "10477",
         "2022-11-12 00:00:00",
         "Fries",
         "3.49",
         "630",
         "In-store ",
         " Credit Card",
         "Pablo Perez",
         "Madrid",
         "2198.7000000000003",
         "11"
        ],
        [
         "25",
         "10478",
         "2022-11-12 00:00:00",
         "Beverages",
         "2.95",
         "678",
         "In-store ",
         " Credit Card",
         "Pablo Perez",
         "Madrid",
         "2000.1000000000001",
         "11"
        ],
        [
         "26",
         "10479",
         "2022-11-12 00:00:00",
         "Sides & Other",
         "4.99",
         "200",
         "In-store ",
         " Credit Card",
         "Pablo Perez",
         "Madrid",
         "998.0",
         "11"
        ],
        [
         "27",
         "10480",
         "2022-11-13 00:00:00",
         "Burgers",
         "12.99",
         "508",
         "In-store ",
         " Credit Card",
         "Pablo Perez",
         "Madrid",
         "6598.92",
         "11"
        ],
        [
         "28",
         "10481",
         "2022-11-13 00:00:00",
         "Chicken Sandwiches",
         "9.95",
         "201",
         "In-store ",
         " Credit Card",
         "Pablo Perez",
         "Madrid",
         "1999.9499999999998",
         "11"
        ],
        [
         "29",
         "10482",
         "2022-11-13 00:00:00",
         "Fries",
         "25.5",
         "630",
         "In-store ",
         " Credit Card",
         "Joao Silva",
         "Lisbon",
         "16065.0",
         "11"
        ],
        [
         "30",
         "10486",
         "2022-11-14 00:00:00",
         "Chicken Sandwiches",
         "29.05",
         "201",
         "In-store ",
         " Credit Card",
         "Joao Silva",
         "Lisbon",
         "5839.05",
         "11"
        ],
        [
         "31",
         "10487",
         "2022-11-14 00:00:00",
         "Fries",
         "3.49",
         "630",
         "In-store ",
         " Credit Card",
         "Joao Silva",
         "Lisbon",
         "2198.7000000000003",
         "11"
        ],
        [
         "35",
         "10491",
         "2022-11-15 00:00:00",
         "Chicken Sandwiches",
         "9.95",
         "201",
         "In-store ",
         " Credit Card",
         "Pablo Perez",
         "Madrid",
         "1999.9499999999998",
         "11"
        ],
        [
         "36",
         "10492",
         "2022-11-15 00:00:00",
         "Fries",
         "3.49",
         "573",
         "In-store ",
         " Credit Card",
         "Pablo Perez",
         "Madrid",
         "1999.7700000000002",
         "11"
        ],
        [
         "37",
         "10493",
         "2022-11-15 00:00:00",
         "Beverages",
         "2.95",
         "678",
         "In-store ",
         " Credit Card",
         "Pablo Perez",
         "Madrid",
         "2000.1000000000001",
         "11"
        ],
        [
         "38",
         "10494",
         "2022-11-15 00:00:00",
         "Sides & Other",
         "4.99",
         "200",
         "In-store ",
         " Credit Card",
         "Pablo Perez",
         "Madrid",
         "998.0",
         "11"
        ],
        [
         "39",
         "10495",
         "2022-11-16 00:00:00",
         "Burgers",
         "12.99",
         "508",
         "In-store ",
         " Credit Card",
         "Pablo Perez",
         "Madrid",
         "6598.92",
         "11"
        ],
        [
         "40",
         "10496",
         "2022-11-16 00:00:00",
         "Chicken Sandwiches",
         "9.95",
         "201",
         "In-store ",
         " Credit Card",
         "Pablo Perez",
         "Madrid",
         "1999.9499999999998",
         "11"
        ],
        [
         "41",
         "10497",
         "2022-11-16 00:00:00",
         "Fries",
         "3.49",
         "573",
         "In-store ",
         " Credit Card",
         "Pablo Perez",
         "Madrid",
         "1999.7700000000002",
         "11"
        ],
        [
         "42",
         "10498",
         "2022-11-16 00:00:00",
         "Beverages",
         "2.95",
         "678",
         "Drive-thru ",
         " Credit Card",
         "Pablo Perez",
         "Madrid",
         "2000.1000000000001",
         "11"
        ],
        [
         "43",
         "10499",
         "2022-11-16 00:00:00",
         "Sides & Other",
         "4.99",
         "200",
         "Drive-thru ",
         " Credit Card",
         "Pablo Perez",
         "Madrid",
         "998.0",
         "11"
        ],
        [
         "44",
         "10500",
         "2022-11-17 00:00:00",
         "Burgers",
         "12.99",
         "523",
         "Drive-thru ",
         " Credit Card",
         "Pablo Perez",
         "Madrid",
         "6793.77",
         "11"
        ],
        [
         "45",
         "10501",
         "2022-11-17 00:00:00",
         "Chicken Sandwiches",
         "9.95",
         "201",
         "Drive-thru ",
         " Credit Card",
         "Pablo Perez",
         "Madrid",
         "1999.9499999999998",
         "11"
        ],
        [
         "46",
         "10502",
         "2022-11-17 00:00:00",
         "Fries",
         "3.49",
         "630",
         "Drive-thru ",
         " Credit Card",
         "Pablo Perez",
         "Madrid",
         "2198.7000000000003",
         "11"
        ],
        [
         "47",
         "10503",
         "2022-11-17 00:00:00",
         "Beverages",
         "2.95",
         "678",
         "Drive-thru ",
         " Credit Card",
         "Pablo Perez",
         "Madrid",
         "2000.1000000000001",
         "11"
        ],
        [
         "48",
         "10504",
         "2022-11-17 00:00:00",
         "Sides & Other",
         "4.99",
         "200",
         "Drive-thru ",
         " Credit Card",
         "Pablo Perez",
         "Madrid",
         "998.0",
         "11"
        ],
        [
         "49",
         "10505",
         "2022-11-18 00:00:00",
         "Burgers",
         "12.99",
         "539",
         "Drive-thru ",
         " Credit Card",
         "Pablo Perez",
         "Madrid",
         "7001.61",
         "11"
        ],
        [
         "50",
         "10506",
         "2022-11-18 00:00:00",
         "Chicken Sandwiches",
         "9.95",
         "201",
         "Drive-thru ",
         " Credit Card",
         "Pablo Perez",
         "Madrid",
         "1999.9499999999998",
         "11"
        ],
        [
         "51",
         "10507",
         "2022-11-18 00:00:00",
         "Fries",
         "3.49",
         "688",
         "Drive-thru ",
         " Credit Card",
         "Pablo Perez",
         "Madrid",
         "2401.1200000000003",
         "11"
        ],
        [
         "52",
         "10508",
         "2022-11-18 00:00:00",
         "Beverages",
         "2.95",
         "678",
         "Drive-thru ",
         " Credit Card",
         "Pablo Perez",
         "Madrid",
         "2000.1000000000001",
         "11"
        ],
        [
         "53",
         "10509",
         "2022-11-18 00:00:00",
         "Sides & Other",
         "4.99",
         "200",
         "Drive-thru ",
         " Credit Card",
         "Pablo Perez",
         "Madrid",
         "998.0",
         "11"
        ]
       ],
       "shape": {
        "columns": 11,
        "rows": 110
       }
      },
      "text/html": [
       "<div>\n",
       "<style scoped>\n",
       "    .dataframe tbody tr th:only-of-type {\n",
       "        vertical-align: middle;\n",
       "    }\n",
       "\n",
       "    .dataframe tbody tr th {\n",
       "        vertical-align: top;\n",
       "    }\n",
       "\n",
       "    .dataframe thead th {\n",
       "        text-align: right;\n",
       "    }\n",
       "</style>\n",
       "<table border=\"1\" class=\"dataframe\">\n",
       "  <thead>\n",
       "    <tr style=\"text-align: right;\">\n",
       "      <th></th>\n",
       "      <th>Order ID</th>\n",
       "      <th>Date</th>\n",
       "      <th>Product</th>\n",
       "      <th>Price</th>\n",
       "      <th>Quantity</th>\n",
       "      <th>Purchase Type</th>\n",
       "      <th>Payment Method</th>\n",
       "      <th>Manager</th>\n",
       "      <th>City</th>\n",
       "      <th>Revenue</th>\n",
       "      <th>Month</th>\n",
       "    </tr>\n",
       "  </thead>\n",
       "  <tbody>\n",
       "    <tr>\n",
       "      <th>1</th>\n",
       "      <td>10452</td>\n",
       "      <td>2022-11-07</td>\n",
       "      <td>Fries</td>\n",
       "      <td>3.49</td>\n",
       "      <td>573</td>\n",
       "      <td>Online</td>\n",
       "      <td>Gift Card</td>\n",
       "      <td>Tom Jackson</td>\n",
       "      <td>London</td>\n",
       "      <td>1999.77</td>\n",
       "      <td>11</td>\n",
       "    </tr>\n",
       "    <tr>\n",
       "      <th>2</th>\n",
       "      <td>10453</td>\n",
       "      <td>2022-11-07</td>\n",
       "      <td>Beverages</td>\n",
       "      <td>2.95</td>\n",
       "      <td>746</td>\n",
       "      <td>Online</td>\n",
       "      <td>Gift Card</td>\n",
       "      <td>Pablo Perez</td>\n",
       "      <td>Madrid</td>\n",
       "      <td>2200.70</td>\n",
       "      <td>11</td>\n",
       "    </tr>\n",
       "    <tr>\n",
       "      <th>3</th>\n",
       "      <td>10454</td>\n",
       "      <td>2022-11-07</td>\n",
       "      <td>Sides &amp; Other</td>\n",
       "      <td>4.99</td>\n",
       "      <td>200</td>\n",
       "      <td>In-store</td>\n",
       "      <td>Gift Card</td>\n",
       "      <td>Joao Silva</td>\n",
       "      <td>Lisbon</td>\n",
       "      <td>998.00</td>\n",
       "      <td>11</td>\n",
       "    </tr>\n",
       "    <tr>\n",
       "      <th>4</th>\n",
       "      <td>10455</td>\n",
       "      <td>2022-11-08</td>\n",
       "      <td>Burgers</td>\n",
       "      <td>12.99</td>\n",
       "      <td>570</td>\n",
       "      <td>In-store</td>\n",
       "      <td>Credit Card</td>\n",
       "      <td>Walter Muller</td>\n",
       "      <td>Berlin</td>\n",
       "      <td>7404.30</td>\n",
       "      <td>11</td>\n",
       "    </tr>\n",
       "    <tr>\n",
       "      <th>5</th>\n",
       "      <td>10456</td>\n",
       "      <td>2022-11-08</td>\n",
       "      <td>Chicken Sandwiches</td>\n",
       "      <td>9.95</td>\n",
       "      <td>201</td>\n",
       "      <td>In-store</td>\n",
       "      <td>Credit Card</td>\n",
       "      <td>Walter Muller</td>\n",
       "      <td>Berlin</td>\n",
       "      <td>1999.95</td>\n",
       "      <td>11</td>\n",
       "    </tr>\n",
       "    <tr>\n",
       "      <th>...</th>\n",
       "      <td>...</td>\n",
       "      <td>...</td>\n",
       "      <td>...</td>\n",
       "      <td>...</td>\n",
       "      <td>...</td>\n",
       "      <td>...</td>\n",
       "      <td>...</td>\n",
       "      <td>...</td>\n",
       "      <td>...</td>\n",
       "      <td>...</td>\n",
       "      <td>...</td>\n",
       "    </tr>\n",
       "    <tr>\n",
       "      <th>109</th>\n",
       "      <td>10568</td>\n",
       "      <td>2022-11-30</td>\n",
       "      <td>Beverages</td>\n",
       "      <td>2.95</td>\n",
       "      <td>678</td>\n",
       "      <td>Online</td>\n",
       "      <td>Credit Card</td>\n",
       "      <td>Tom Jackson</td>\n",
       "      <td>London</td>\n",
       "      <td>2000.10</td>\n",
       "      <td>11</td>\n",
       "    </tr>\n",
       "    <tr>\n",
       "      <th>110</th>\n",
       "      <td>10569</td>\n",
       "      <td>2022-11-30</td>\n",
       "      <td>Sides &amp; Other</td>\n",
       "      <td>4.99</td>\n",
       "      <td>200</td>\n",
       "      <td>Online</td>\n",
       "      <td>Credit Card</td>\n",
       "      <td>Tom Jackson</td>\n",
       "      <td>London</td>\n",
       "      <td>998.00</td>\n",
       "      <td>11</td>\n",
       "    </tr>\n",
       "    <tr>\n",
       "      <th>128</th>\n",
       "      <td>10537</td>\n",
       "      <td>2022-11-24</td>\n",
       "      <td>Fries</td>\n",
       "      <td>3.49</td>\n",
       "      <td>630</td>\n",
       "      <td>Drive-thru</td>\n",
       "      <td>Credit Card</td>\n",
       "      <td>Pablo Perez</td>\n",
       "      <td>Madrid</td>\n",
       "      <td>2198.70</td>\n",
       "      <td>11</td>\n",
       "    </tr>\n",
       "    <tr>\n",
       "      <th>129</th>\n",
       "      <td>10538</td>\n",
       "      <td>2022-11-24</td>\n",
       "      <td>Beverages</td>\n",
       "      <td>2.95</td>\n",
       "      <td>746</td>\n",
       "      <td>Drive-thru</td>\n",
       "      <td>Credit Card</td>\n",
       "      <td>Pablo Perez</td>\n",
       "      <td>Madrid</td>\n",
       "      <td>2200.70</td>\n",
       "      <td>11</td>\n",
       "    </tr>\n",
       "    <tr>\n",
       "      <th>130</th>\n",
       "      <td>10539</td>\n",
       "      <td>2022-11-24</td>\n",
       "      <td>Sides &amp; Other</td>\n",
       "      <td>4.99</td>\n",
       "      <td>200</td>\n",
       "      <td>Drive-thru</td>\n",
       "      <td>Credit Card</td>\n",
       "      <td>Pablo Perez</td>\n",
       "      <td>Madrid</td>\n",
       "      <td>998.00</td>\n",
       "      <td>11</td>\n",
       "    </tr>\n",
       "  </tbody>\n",
       "</table>\n",
       "<p>110 rows × 11 columns</p>\n",
       "</div>"
      ],
      "text/plain": [
       "0    Order ID       Date             Product  Price  Quantity Purchase Type  \\\n",
       "1       10452 2022-11-07               Fries   3.49       573       Online    \n",
       "2       10453 2022-11-07           Beverages   2.95       746       Online    \n",
       "3       10454 2022-11-07       Sides & Other   4.99       200     In-store    \n",
       "4       10455 2022-11-08             Burgers  12.99       570     In-store    \n",
       "5       10456 2022-11-08  Chicken Sandwiches   9.95       201     In-store    \n",
       "..        ...        ...                 ...    ...       ...           ...   \n",
       "109     10568 2022-11-30           Beverages   2.95       678       Online    \n",
       "110     10569 2022-11-30       Sides & Other   4.99       200       Online    \n",
       "128     10537 2022-11-24               Fries   3.49       630   Drive-thru    \n",
       "129     10538 2022-11-24           Beverages   2.95       746   Drive-thru    \n",
       "130     10539 2022-11-24       Sides & Other   4.99       200   Drive-thru    \n",
       "\n",
       "0   Payment Method        Manager    City  Revenue  Month  \n",
       "1        Gift Card    Tom Jackson  London  1999.77     11  \n",
       "2        Gift Card    Pablo Perez  Madrid  2200.70     11  \n",
       "3        Gift Card     Joao Silva  Lisbon   998.00     11  \n",
       "4      Credit Card  Walter Muller  Berlin  7404.30     11  \n",
       "5      Credit Card  Walter Muller  Berlin  1999.95     11  \n",
       "..             ...            ...     ...      ...    ...  \n",
       "109    Credit Card    Tom Jackson  London  2000.10     11  \n",
       "110    Credit Card    Tom Jackson  London   998.00     11  \n",
       "128    Credit Card    Pablo Perez  Madrid  2198.70     11  \n",
       "129    Credit Card    Pablo Perez  Madrid  2200.70     11  \n",
       "130    Credit Card    Pablo Perez  Madrid   998.00     11  \n",
       "\n",
       "[110 rows x 11 columns]"
      ]
     },
     "execution_count": 304,
     "metadata": {},
     "output_type": "execute_result"
    }
   ],
   "source": [
    "m11 = data[data['Month'] == 11]          # filtering the records with month '11'\n",
    "m11"
   ]
  },
  {
   "cell_type": "code",
   "execution_count": 305,
   "id": "f67f1316",
   "metadata": {},
   "outputs": [
    {
     "data": {
      "text/plain": [
       "322418.1"
      ]
     },
     "execution_count": 305,
     "metadata": {},
     "output_type": "execute_result"
    }
   ],
   "source": [
    "m11['Revenue'].sum()"
   ]
  },
  {
   "cell_type": "code",
   "execution_count": 306,
   "id": "a910fc22",
   "metadata": {},
   "outputs": [
    {
     "data": {
      "application/vnd.microsoft.datawrangler.viewer.v0+json": {
       "columns": [
        {
         "name": "index",
         "rawType": "int64",
         "type": "integer"
        },
        {
         "name": "Order ID",
         "rawType": "int32",
         "type": "integer"
        },
        {
         "name": "Date",
         "rawType": "datetime64[ns]",
         "type": "datetime"
        },
        {
         "name": "Product",
         "rawType": "object",
         "type": "string"
        },
        {
         "name": "Price",
         "rawType": "float64",
         "type": "float"
        },
        {
         "name": "Quantity",
         "rawType": "int32",
         "type": "integer"
        },
        {
         "name": "Purchase Type",
         "rawType": "object",
         "type": "string"
        },
        {
         "name": "Payment Method",
         "rawType": "object",
         "type": "string"
        },
        {
         "name": "Manager",
         "rawType": "object",
         "type": "string"
        },
        {
         "name": "City",
         "rawType": "object",
         "type": "string"
        },
        {
         "name": "Revenue",
         "rawType": "float64",
         "type": "float"
        },
        {
         "name": "Month",
         "rawType": "int32",
         "type": "integer"
        }
       ],
       "ref": "40cc4d90-9cd7-45e8-8a97-2ce947b00311",
       "rows": [
        [
         "111",
         "10570",
         "2022-12-01 00:00:00",
         "Burgers",
         "12.99",
         "493",
         "Online ",
         " Credit Card",
         "Tom Jackson",
         "London",
         "6404.07",
         "12"
        ],
        [
         "112",
         "10571",
         "2022-12-01 00:00:00",
         "Chicken Sandwiches",
         "9.95",
         "201",
         "Online ",
         " Credit Card",
         "Tom Jackson",
         "London",
         "1999.9499999999998",
         "12"
        ],
        [
         "113",
         "10572",
         "2022-12-01 00:00:00",
         "Fries",
         "3.49",
         "573",
         "Online ",
         " Credit Card",
         "Remy Monet",
         "Paris",
         "1999.7700000000002",
         "12"
        ],
        [
         "114",
         "10573",
         "2022-12-01 00:00:00",
         "Beverages",
         "2.95",
         "678",
         "Online ",
         " Credit Card",
         "Remy Monet",
         "Paris",
         "2000.1000000000001",
         "12"
        ],
        [
         "115",
         "10574",
         "2022-12-01 00:00:00",
         "Sides & Other",
         "4.99",
         "200",
         "Online ",
         " Credit Card",
         "Remy Monet",
         "Paris",
         "998.0",
         "12"
        ],
        [
         "116",
         "10575",
         "2022-12-02 00:00:00",
         "Burgers",
         "12.99",
         "523",
         "Online ",
         " Credit Card",
         "Remy Monet",
         "Paris",
         "6793.77",
         "12"
        ],
        [
         "117",
         "10576",
         "2022-12-02 00:00:00",
         "Chicken Sandwiches",
         "9.95",
         "201",
         "Online ",
         " Credit Card",
         "Remy Monet",
         "Paris",
         "1999.9499999999998",
         "12"
        ],
        [
         "118",
         "10577",
         "2022-12-02 00:00:00",
         "Fries",
         "3.49",
         "630",
         "Online ",
         " Credit Card",
         "Remy Monet",
         "Paris",
         "2198.7000000000003",
         "12"
        ],
        [
         "119",
         "10578",
         "2022-12-02 00:00:00",
         "Beverages",
         "2.95",
         "678",
         "Online ",
         " Credit Card",
         "Remy Monet",
         "Paris",
         "2000.1000000000001",
         "12"
        ],
        [
         "120",
         "10579",
         "2022-12-02 00:00:00",
         "Sides & Other",
         "4.99",
         "200",
         "Online ",
         " Credit Card",
         "Remy Monet",
         "Paris",
         "998.0",
         "12"
        ],
        [
         "121",
         "10580",
         "2022-12-03 00:00:00",
         "Burgers",
         "12.99",
         "523",
         "Online ",
         " Credit Card",
         "Remy Monet",
         "Paris",
         "6793.77",
         "12"
        ],
        [
         "122",
         "10581",
         "2022-12-03 00:00:00",
         "Chicken Sandwiches",
         "9.95",
         "201",
         "Online ",
         " Credit Card",
         "Remy Monet",
         "Paris",
         "1999.9499999999998",
         "12"
        ],
        [
         "123",
         "10582",
         "2022-12-03 00:00:00",
         "Fries",
         "3.49",
         "630",
         "Online ",
         " Credit Card",
         "Tom Jackson",
         "London",
         "2198.7000000000003",
         "12"
        ],
        [
         "124",
         "10583",
         "2022-12-03 00:00:00",
         "Beverages",
         "2.95",
         "678",
         "Online ",
         " Credit Card",
         "Tom Jackson",
         "London",
         "2000.1000000000001",
         "12"
        ],
        [
         "125",
         "10584",
         "2022-12-03 00:00:00",
         "Sides & Other",
         "4.99",
         "200",
         "Online ",
         " Credit Card",
         "Tom Jackson",
         "London",
         "998.0",
         "12"
        ],
        [
         "126",
         "10585",
         "2022-12-04 00:00:00",
         "Burgers",
         "12.99",
         "539",
         "Online ",
         " Credit Card",
         "Tom Jackson",
         "London",
         "7001.61",
         "12"
        ],
        [
         "127",
         "10586",
         "2022-12-04 00:00:00",
         "Chicken Sandwiches",
         "9.95",
         "201",
         "Online ",
         " Credit Card",
         "Tom Jackson",
         "London",
         "1999.9499999999998",
         "12"
        ],
        [
         "131",
         "10590",
         "2022-12-05 00:00:00",
         "Burgers",
         "12.99",
         "554",
         "Online ",
         " Credit Card",
         "Tom Jackson",
         "London",
         "7196.46",
         "12"
        ],
        [
         "132",
         "10591",
         "2022-12-05 00:00:00",
         "Chicken Sandwiches",
         "9.95",
         "201",
         "Online ",
         " Credit Card",
         "Tom Jackson",
         "London",
         "1999.9499999999998",
         "12"
        ],
        [
         "133",
         "10592",
         "2022-12-05 00:00:00",
         "Fries",
         "3.49",
         "573",
         "Online ",
         " Credit Card",
         "Tom Jackson",
         "London",
         "1999.7700000000002",
         "12"
        ],
        [
         "134",
         "10593",
         "2022-12-05 00:00:00",
         "Beverages",
         "2.95",
         "678",
         "Online ",
         " Credit Card",
         "Tom Jackson",
         "London",
         "2000.1000000000001",
         "12"
        ],
        [
         "135",
         "10594",
         "2022-12-05 00:00:00",
         "Sides & Other",
         "4.99",
         "200",
         "Online ",
         " Credit Card",
         "Tom Jackson",
         "London",
         "998.0",
         "12"
        ],
        [
         "136",
         "10595",
         "2022-12-06 00:00:00",
         "Burgers",
         "12.99",
         "539",
         "Online ",
         " Credit Card",
         "Tom Jackson",
         "London",
         "7001.61",
         "12"
        ],
        [
         "137",
         "10596",
         "2022-12-06 00:00:00",
         "Chicken Sandwiches",
         "9.95",
         "201",
         "Online ",
         " Credit Card",
         "Tom Jackson",
         "London",
         "1999.9499999999998",
         "12"
        ],
        [
         "138",
         "10597",
         "2022-12-06 00:00:00",
         "Fries",
         "3.49",
         "573",
         "Online ",
         " Credit Card",
         "Tom Jackson",
         "London",
         "1999.7700000000002",
         "12"
        ],
        [
         "139",
         "10598",
         "2022-12-06 00:00:00",
         "Beverages",
         "2.95",
         "678",
         "Online ",
         " Credit Card",
         "Tom Jackson",
         "London",
         "2000.1000000000001",
         "12"
        ],
        [
         "140",
         "10599",
         "2022-12-06 00:00:00",
         "Sides & Other",
         "4.99",
         "200",
         "Online ",
         " Credit Card",
         "Tom Jackson",
         "London",
         "998.0",
         "12"
        ],
        [
         "141",
         "10600",
         "2022-12-07 00:00:00",
         "Burgers",
         "12.99",
         "523",
         "Online ",
         " Credit Card",
         "Tom Jackson",
         "London",
         "6793.77",
         "12"
        ],
        [
         "142",
         "10601",
         "2022-12-07 00:00:00",
         "Chicken Sandwiches",
         "9.95",
         "201",
         "Online ",
         " Credit Card",
         "Tom Jackson",
         "London",
         "1999.9499999999998",
         "12"
        ],
        [
         "143",
         "10602",
         "2022-12-07 00:00:00",
         "Fries",
         "3.49",
         "630",
         "Online ",
         " Cash",
         "Tom Jackson",
         "London",
         "2198.7000000000003",
         "12"
        ],
        [
         "144",
         "10603",
         "2022-12-07 00:00:00",
         "Beverages",
         "2.95",
         "678",
         "Online ",
         " Cash",
         "Tom Jackson",
         "London",
         "2000.1000000000001",
         "12"
        ],
        [
         "145",
         "10604",
         "2022-12-07 00:00:00",
         "Sides & Other",
         "4.99",
         "200",
         "Online ",
         " Cash",
         "Tom Jackson",
         "London",
         "998.0",
         "12"
        ],
        [
         "146",
         "10605",
         "2022-12-08 00:00:00",
         "Burgers",
         "12.99",
         "539",
         "Online ",
         " Cash",
         "Tom Jackson",
         "London",
         "7001.61",
         "12"
        ],
        [
         "147",
         "10606",
         "2022-12-08 00:00:00",
         "Chicken Sandwiches",
         "9.95",
         "201",
         "Online ",
         " Cash",
         "Tom Jackson",
         "London",
         "1999.9499999999998",
         "12"
        ],
        [
         "148",
         "10607",
         "2022-12-08 00:00:00",
         "Fries",
         "3.49",
         "630",
         "Online ",
         " Cash",
         "Tom Jackson",
         "London",
         "2198.7000000000003",
         "12"
        ],
        [
         "149",
         "10608",
         "2022-12-08 00:00:00",
         "Beverages",
         "2.95",
         "678",
         "Online ",
         " Gift Card",
         "Tom Jackson",
         "London",
         "2000.1000000000001",
         "12"
        ],
        [
         "150",
         "10609",
         "2022-12-08 00:00:00",
         "Sides & Other",
         "4.99",
         "200",
         "Online ",
         " Gift Card",
         "Tom Jackson",
         "London",
         "998.0",
         "12"
        ],
        [
         "151",
         "10610",
         "2022-12-09 00:00:00",
         "Burgers",
         "12.99",
         "570",
         "Online ",
         " Gift Card",
         "Tom Jackson",
         "London",
         "7404.3",
         "12"
        ],
        [
         "152",
         "10611",
         "2022-12-09 00:00:00",
         "Chicken Sandwiches",
         "9.95",
         "201",
         "Online ",
         " Gift Card",
         "Tom Jackson",
         "London",
         "1999.9499999999998",
         "12"
        ],
        [
         "153",
         "10612",
         "2022-12-09 00:00:00",
         "Fries",
         "3.49",
         "630",
         "Online ",
         " Gift Card",
         "Tom Jackson",
         "London",
         "2198.7000000000003",
         "12"
        ],
        [
         "154",
         "10613",
         "2022-12-09 00:00:00",
         "Beverages",
         "2.95",
         "678",
         "Online ",
         " Gift Card",
         "Tom Jackson",
         "London",
         "2000.1000000000001",
         "12"
        ],
        [
         "155",
         "10614",
         "2022-12-09 00:00:00",
         "Sides & Other",
         "4.99",
         "200",
         "Online ",
         " Gift Card",
         "Tom Jackson",
         "London",
         "998.0",
         "12"
        ],
        [
         "156",
         "10615",
         "2022-12-10 00:00:00",
         "Burgers",
         "12.99",
         "570",
         "Online ",
         " Gift Card",
         "Tom Jackson",
         "London",
         "7404.3",
         "12"
        ],
        [
         "157",
         "10616",
         "2022-12-10 00:00:00",
         "Chicken Sandwiches",
         "9.95",
         "201",
         "Online ",
         " Gift Card",
         "Tom Jackson",
         "London",
         "1999.9499999999998",
         "12"
        ],
        [
         "158",
         "10617",
         "2022-12-10 00:00:00",
         "Fries",
         "3.49",
         "630",
         "Online ",
         " Gift Card",
         "Tom Jackson",
         "London",
         "2198.7000000000003",
         "12"
        ],
        [
         "159",
         "10618",
         "2022-12-10 00:00:00",
         "Beverages",
         "2.95",
         "678",
         "Online ",
         " Gift Card",
         "Tom Jackson",
         "London",
         "2000.1000000000001",
         "12"
        ],
        [
         "160",
         "10619",
         "2022-12-10 00:00:00",
         "Sides & Other",
         "4.99",
         "200",
         "Online ",
         " Gift Card",
         "Tom Jackson",
         "London",
         "998.0",
         "12"
        ],
        [
         "161",
         "10620",
         "2022-12-11 00:00:00",
         "Burgers",
         "12.99",
         "585",
         "Online ",
         " Gift Card",
         "Tom Jackson",
         "London",
         "7599.150000000001",
         "12"
        ],
        [
         "162",
         "10621",
         "2022-12-11 00:00:00",
         "Chicken Sandwiches",
         "9.95",
         "201",
         "Online ",
         " Gift Card",
         "Tom Jackson",
         "London",
         "1999.9499999999998",
         "12"
        ],
        [
         "163",
         "10622",
         "2022-12-11 00:00:00",
         "Fries",
         "3.49",
         "630",
         "Online ",
         " Gift Card",
         "Tom Jackson",
         "London",
         "2198.7000000000003",
         "12"
        ]
       ],
       "shape": {
        "columns": 11,
        "rows": 141
       }
      },
      "text/html": [
       "<div>\n",
       "<style scoped>\n",
       "    .dataframe tbody tr th:only-of-type {\n",
       "        vertical-align: middle;\n",
       "    }\n",
       "\n",
       "    .dataframe tbody tr th {\n",
       "        vertical-align: top;\n",
       "    }\n",
       "\n",
       "    .dataframe thead th {\n",
       "        text-align: right;\n",
       "    }\n",
       "</style>\n",
       "<table border=\"1\" class=\"dataframe\">\n",
       "  <thead>\n",
       "    <tr style=\"text-align: right;\">\n",
       "      <th></th>\n",
       "      <th>Order ID</th>\n",
       "      <th>Date</th>\n",
       "      <th>Product</th>\n",
       "      <th>Price</th>\n",
       "      <th>Quantity</th>\n",
       "      <th>Purchase Type</th>\n",
       "      <th>Payment Method</th>\n",
       "      <th>Manager</th>\n",
       "      <th>City</th>\n",
       "      <th>Revenue</th>\n",
       "      <th>Month</th>\n",
       "    </tr>\n",
       "  </thead>\n",
       "  <tbody>\n",
       "    <tr>\n",
       "      <th>111</th>\n",
       "      <td>10570</td>\n",
       "      <td>2022-12-01</td>\n",
       "      <td>Burgers</td>\n",
       "      <td>12.99</td>\n",
       "      <td>493</td>\n",
       "      <td>Online</td>\n",
       "      <td>Credit Card</td>\n",
       "      <td>Tom Jackson</td>\n",
       "      <td>London</td>\n",
       "      <td>6404.07</td>\n",
       "      <td>12</td>\n",
       "    </tr>\n",
       "    <tr>\n",
       "      <th>112</th>\n",
       "      <td>10571</td>\n",
       "      <td>2022-12-01</td>\n",
       "      <td>Chicken Sandwiches</td>\n",
       "      <td>9.95</td>\n",
       "      <td>201</td>\n",
       "      <td>Online</td>\n",
       "      <td>Credit Card</td>\n",
       "      <td>Tom Jackson</td>\n",
       "      <td>London</td>\n",
       "      <td>1999.95</td>\n",
       "      <td>12</td>\n",
       "    </tr>\n",
       "    <tr>\n",
       "      <th>113</th>\n",
       "      <td>10572</td>\n",
       "      <td>2022-12-01</td>\n",
       "      <td>Fries</td>\n",
       "      <td>3.49</td>\n",
       "      <td>573</td>\n",
       "      <td>Online</td>\n",
       "      <td>Credit Card</td>\n",
       "      <td>Remy Monet</td>\n",
       "      <td>Paris</td>\n",
       "      <td>1999.77</td>\n",
       "      <td>12</td>\n",
       "    </tr>\n",
       "    <tr>\n",
       "      <th>114</th>\n",
       "      <td>10573</td>\n",
       "      <td>2022-12-01</td>\n",
       "      <td>Beverages</td>\n",
       "      <td>2.95</td>\n",
       "      <td>678</td>\n",
       "      <td>Online</td>\n",
       "      <td>Credit Card</td>\n",
       "      <td>Remy Monet</td>\n",
       "      <td>Paris</td>\n",
       "      <td>2000.10</td>\n",
       "      <td>12</td>\n",
       "    </tr>\n",
       "    <tr>\n",
       "      <th>115</th>\n",
       "      <td>10574</td>\n",
       "      <td>2022-12-01</td>\n",
       "      <td>Sides &amp; Other</td>\n",
       "      <td>4.99</td>\n",
       "      <td>200</td>\n",
       "      <td>Online</td>\n",
       "      <td>Credit Card</td>\n",
       "      <td>Remy Monet</td>\n",
       "      <td>Paris</td>\n",
       "      <td>998.00</td>\n",
       "      <td>12</td>\n",
       "    </tr>\n",
       "    <tr>\n",
       "      <th>...</th>\n",
       "      <td>...</td>\n",
       "      <td>...</td>\n",
       "      <td>...</td>\n",
       "      <td>...</td>\n",
       "      <td>...</td>\n",
       "      <td>...</td>\n",
       "      <td>...</td>\n",
       "      <td>...</td>\n",
       "      <td>...</td>\n",
       "      <td>...</td>\n",
       "      <td>...</td>\n",
       "    </tr>\n",
       "    <tr>\n",
       "      <th>250</th>\n",
       "      <td>10709</td>\n",
       "      <td>2022-12-28</td>\n",
       "      <td>Sides &amp; Other</td>\n",
       "      <td>4.99</td>\n",
       "      <td>200</td>\n",
       "      <td>Drive-thru</td>\n",
       "      <td>Gift Card</td>\n",
       "      <td>Walter Muller</td>\n",
       "      <td>Berlin</td>\n",
       "      <td>998.00</td>\n",
       "      <td>12</td>\n",
       "    </tr>\n",
       "    <tr>\n",
       "      <th>251</th>\n",
       "      <td>10710</td>\n",
       "      <td>2022-12-29</td>\n",
       "      <td>Burgers</td>\n",
       "      <td>12.99</td>\n",
       "      <td>754</td>\n",
       "      <td>Drive-thru</td>\n",
       "      <td>Gift Card</td>\n",
       "      <td>Walter Muller</td>\n",
       "      <td>Berlin</td>\n",
       "      <td>9794.46</td>\n",
       "      <td>12</td>\n",
       "    </tr>\n",
       "    <tr>\n",
       "      <th>252</th>\n",
       "      <td>10711</td>\n",
       "      <td>2022-12-29</td>\n",
       "      <td>Chicken Sandwiches</td>\n",
       "      <td>9.95</td>\n",
       "      <td>281</td>\n",
       "      <td>Drive-thru</td>\n",
       "      <td>Gift Card</td>\n",
       "      <td>Walter Muller</td>\n",
       "      <td>Berlin</td>\n",
       "      <td>2795.95</td>\n",
       "      <td>12</td>\n",
       "    </tr>\n",
       "    <tr>\n",
       "      <th>253</th>\n",
       "      <td>10712</td>\n",
       "      <td>2022-12-29</td>\n",
       "      <td>Fries</td>\n",
       "      <td>3.49</td>\n",
       "      <td>630</td>\n",
       "      <td>Drive-thru</td>\n",
       "      <td>Gift Card</td>\n",
       "      <td>Walter Muller</td>\n",
       "      <td>Berlin</td>\n",
       "      <td>2198.70</td>\n",
       "      <td>12</td>\n",
       "    </tr>\n",
       "    <tr>\n",
       "      <th>254</th>\n",
       "      <td>10713</td>\n",
       "      <td>2022-12-29</td>\n",
       "      <td>Beverages</td>\n",
       "      <td>2.95</td>\n",
       "      <td>678</td>\n",
       "      <td>Drive-thru</td>\n",
       "      <td>Gift Card</td>\n",
       "      <td>Walter Muller</td>\n",
       "      <td>Berlin</td>\n",
       "      <td>2000.10</td>\n",
       "      <td>12</td>\n",
       "    </tr>\n",
       "  </tbody>\n",
       "</table>\n",
       "<p>141 rows × 11 columns</p>\n",
       "</div>"
      ],
      "text/plain": [
       "0    Order ID       Date             Product  Price  Quantity Purchase Type  \\\n",
       "111     10570 2022-12-01             Burgers  12.99       493       Online    \n",
       "112     10571 2022-12-01  Chicken Sandwiches   9.95       201       Online    \n",
       "113     10572 2022-12-01               Fries   3.49       573       Online    \n",
       "114     10573 2022-12-01           Beverages   2.95       678       Online    \n",
       "115     10574 2022-12-01       Sides & Other   4.99       200       Online    \n",
       "..        ...        ...                 ...    ...       ...           ...   \n",
       "250     10709 2022-12-28       Sides & Other   4.99       200   Drive-thru    \n",
       "251     10710 2022-12-29             Burgers  12.99       754   Drive-thru    \n",
       "252     10711 2022-12-29  Chicken Sandwiches   9.95       281   Drive-thru    \n",
       "253     10712 2022-12-29               Fries   3.49       630   Drive-thru    \n",
       "254     10713 2022-12-29           Beverages   2.95       678   Drive-thru    \n",
       "\n",
       "0   Payment Method        Manager    City  Revenue  Month  \n",
       "111    Credit Card    Tom Jackson  London  6404.07     12  \n",
       "112    Credit Card    Tom Jackson  London  1999.95     12  \n",
       "113    Credit Card     Remy Monet   Paris  1999.77     12  \n",
       "114    Credit Card     Remy Monet   Paris  2000.10     12  \n",
       "115    Credit Card     Remy Monet   Paris   998.00     12  \n",
       "..             ...            ...     ...      ...    ...  \n",
       "250      Gift Card  Walter Muller  Berlin   998.00     12  \n",
       "251      Gift Card  Walter Muller  Berlin  9794.46     12  \n",
       "252      Gift Card  Walter Muller  Berlin  2795.95     12  \n",
       "253      Gift Card  Walter Muller  Berlin  2198.70     12  \n",
       "254      Gift Card  Walter Muller  Berlin  2000.10     12  \n",
       "\n",
       "[141 rows x 11 columns]"
      ]
     },
     "execution_count": 306,
     "metadata": {},
     "output_type": "execute_result"
    }
   ],
   "source": [
    "m12 = data[data.Month == 12]                  # filtering the records with month '12'\n",
    "m12"
   ]
  },
  {
   "cell_type": "code",
   "execution_count": 307,
   "id": "99d3b811",
   "metadata": {},
   "outputs": [
    {
     "data": {
      "text/plain": [
       "437284.32"
      ]
     },
     "execution_count": 307,
     "metadata": {},
     "output_type": "execute_result"
    }
   ],
   "source": [
    "m12.Revenue.sum()"
   ]
  },
  {
   "cell_type": "markdown",
   "id": "33d664ec",
   "metadata": {},
   "source": [
    "#### Q.10) Average 'Quantity Sold' & 'Average Revenue' for each product ?"
   ]
  },
  {
   "cell_type": "code",
   "execution_count": 308,
   "id": "644fc9b7",
   "metadata": {},
   "outputs": [
    {
     "data": {
      "application/vnd.microsoft.datawrangler.viewer.v0+json": {
       "columns": [
        {
         "name": "index",
         "rawType": "int64",
         "type": "integer"
        },
        {
         "name": "Order ID",
         "rawType": "int32",
         "type": "integer"
        },
        {
         "name": "Date",
         "rawType": "datetime64[ns]",
         "type": "datetime"
        },
        {
         "name": "Product",
         "rawType": "object",
         "type": "string"
        },
        {
         "name": "Price",
         "rawType": "float64",
         "type": "float"
        },
        {
         "name": "Quantity",
         "rawType": "int32",
         "type": "integer"
        },
        {
         "name": "Purchase Type",
         "rawType": "object",
         "type": "string"
        },
        {
         "name": "Payment Method",
         "rawType": "object",
         "type": "string"
        },
        {
         "name": "Manager",
         "rawType": "object",
         "type": "string"
        },
        {
         "name": "City",
         "rawType": "object",
         "type": "string"
        },
        {
         "name": "Revenue",
         "rawType": "float64",
         "type": "float"
        },
        {
         "name": "Month",
         "rawType": "int32",
         "type": "integer"
        }
       ],
       "ref": "465b24bc-2f29-48ee-b53a-c8fb2c152438",
       "rows": [
        [
         "1",
         "10452",
         "2022-11-07 00:00:00",
         "Fries",
         "3.49",
         "573",
         "Online ",
         " Gift Card",
         "Tom Jackson",
         "London",
         "1999.7700000000002",
         "11"
        ],
        [
         "2",
         "10453",
         "2022-11-07 00:00:00",
         "Beverages",
         "2.95",
         "746",
         "Online ",
         " Gift Card",
         "Pablo Perez",
         "Madrid",
         "2200.7000000000003",
         "11"
        ],
        [
         "3",
         "10454",
         "2022-11-07 00:00:00",
         "Sides & Other",
         "4.99",
         "200",
         "In-store ",
         " Gift Card",
         "Joao Silva",
         "Lisbon",
         "998.0",
         "11"
        ],
        [
         "4",
         "10455",
         "2022-11-08 00:00:00",
         "Burgers",
         "12.99",
         "570",
         "In-store ",
         " Credit Card",
         "Walter Muller",
         "Berlin",
         "7404.3",
         "11"
        ],
        [
         "5",
         "10456",
         "2022-11-08 00:00:00",
         "Chicken Sandwiches",
         "9.95",
         "201",
         "In-store ",
         " Credit Card",
         "Walter Muller",
         "Berlin",
         "1999.9499999999998",
         "11"
        ]
       ],
       "shape": {
        "columns": 11,
        "rows": 5
       }
      },
      "text/html": [
       "<div>\n",
       "<style scoped>\n",
       "    .dataframe tbody tr th:only-of-type {\n",
       "        vertical-align: middle;\n",
       "    }\n",
       "\n",
       "    .dataframe tbody tr th {\n",
       "        vertical-align: top;\n",
       "    }\n",
       "\n",
       "    .dataframe thead th {\n",
       "        text-align: right;\n",
       "    }\n",
       "</style>\n",
       "<table border=\"1\" class=\"dataframe\">\n",
       "  <thead>\n",
       "    <tr style=\"text-align: right;\">\n",
       "      <th></th>\n",
       "      <th>Order ID</th>\n",
       "      <th>Date</th>\n",
       "      <th>Product</th>\n",
       "      <th>Price</th>\n",
       "      <th>Quantity</th>\n",
       "      <th>Purchase Type</th>\n",
       "      <th>Payment Method</th>\n",
       "      <th>Manager</th>\n",
       "      <th>City</th>\n",
       "      <th>Revenue</th>\n",
       "      <th>Month</th>\n",
       "    </tr>\n",
       "  </thead>\n",
       "  <tbody>\n",
       "    <tr>\n",
       "      <th>1</th>\n",
       "      <td>10452</td>\n",
       "      <td>2022-11-07</td>\n",
       "      <td>Fries</td>\n",
       "      <td>3.49</td>\n",
       "      <td>573</td>\n",
       "      <td>Online</td>\n",
       "      <td>Gift Card</td>\n",
       "      <td>Tom Jackson</td>\n",
       "      <td>London</td>\n",
       "      <td>1999.77</td>\n",
       "      <td>11</td>\n",
       "    </tr>\n",
       "    <tr>\n",
       "      <th>2</th>\n",
       "      <td>10453</td>\n",
       "      <td>2022-11-07</td>\n",
       "      <td>Beverages</td>\n",
       "      <td>2.95</td>\n",
       "      <td>746</td>\n",
       "      <td>Online</td>\n",
       "      <td>Gift Card</td>\n",
       "      <td>Pablo Perez</td>\n",
       "      <td>Madrid</td>\n",
       "      <td>2200.70</td>\n",
       "      <td>11</td>\n",
       "    </tr>\n",
       "    <tr>\n",
       "      <th>3</th>\n",
       "      <td>10454</td>\n",
       "      <td>2022-11-07</td>\n",
       "      <td>Sides &amp; Other</td>\n",
       "      <td>4.99</td>\n",
       "      <td>200</td>\n",
       "      <td>In-store</td>\n",
       "      <td>Gift Card</td>\n",
       "      <td>Joao Silva</td>\n",
       "      <td>Lisbon</td>\n",
       "      <td>998.00</td>\n",
       "      <td>11</td>\n",
       "    </tr>\n",
       "    <tr>\n",
       "      <th>4</th>\n",
       "      <td>10455</td>\n",
       "      <td>2022-11-08</td>\n",
       "      <td>Burgers</td>\n",
       "      <td>12.99</td>\n",
       "      <td>570</td>\n",
       "      <td>In-store</td>\n",
       "      <td>Credit Card</td>\n",
       "      <td>Walter Muller</td>\n",
       "      <td>Berlin</td>\n",
       "      <td>7404.30</td>\n",
       "      <td>11</td>\n",
       "    </tr>\n",
       "    <tr>\n",
       "      <th>5</th>\n",
       "      <td>10456</td>\n",
       "      <td>2022-11-08</td>\n",
       "      <td>Chicken Sandwiches</td>\n",
       "      <td>9.95</td>\n",
       "      <td>201</td>\n",
       "      <td>In-store</td>\n",
       "      <td>Credit Card</td>\n",
       "      <td>Walter Muller</td>\n",
       "      <td>Berlin</td>\n",
       "      <td>1999.95</td>\n",
       "      <td>11</td>\n",
       "    </tr>\n",
       "  </tbody>\n",
       "</table>\n",
       "</div>"
      ],
      "text/plain": [
       "0  Order ID       Date             Product  Price  Quantity Purchase Type  \\\n",
       "1     10452 2022-11-07               Fries   3.49       573       Online    \n",
       "2     10453 2022-11-07           Beverages   2.95       746       Online    \n",
       "3     10454 2022-11-07       Sides & Other   4.99       200     In-store    \n",
       "4     10455 2022-11-08             Burgers  12.99       570     In-store    \n",
       "5     10456 2022-11-08  Chicken Sandwiches   9.95       201     In-store    \n",
       "\n",
       "0 Payment Method        Manager    City  Revenue  Month  \n",
       "1      Gift Card    Tom Jackson  London  1999.77     11  \n",
       "2      Gift Card    Pablo Perez  Madrid  2200.70     11  \n",
       "3      Gift Card     Joao Silva  Lisbon   998.00     11  \n",
       "4    Credit Card  Walter Muller  Berlin  7404.30     11  \n",
       "5    Credit Card  Walter Muller  Berlin  1999.95     11  "
      ]
     },
     "execution_count": 308,
     "metadata": {},
     "output_type": "execute_result"
    }
   ],
   "source": [
    "data.head()"
   ]
  },
  {
   "cell_type": "code",
   "execution_count": 309,
   "id": "8532c203",
   "metadata": {},
   "outputs": [
    {
     "data": {
      "application/vnd.microsoft.datawrangler.viewer.v0+json": {
       "columns": [
        {
         "name": "Product",
         "rawType": "object",
         "type": "string"
        },
        {
         "name": "Quantity",
         "rawType": "float64",
         "type": "float"
        },
        {
         "name": "Revenue",
         "rawType": "float64",
         "type": "float"
        }
       ],
       "ref": "18d13c74-6fb8-4d0c-a65b-2d6094e052fb",
       "rows": [
        [
         "Beverages",
         "700.204081632653",
         "2065.6020408163267"
        ],
        [
         "Burgers",
         "559.0196078431372",
         "7261.664705882354"
        ],
        [
         "Chicken Sandwiches",
         "214.09615384615384",
         "2204.085576923077"
        ],
        [
         "Fries",
         "627.9019607843137",
         "2463.2660784313725"
        ],
        [
         "Sides & Other",
         "200.0",
         "998.0"
        ]
       ],
       "shape": {
        "columns": 2,
        "rows": 5
       }
      },
      "text/html": [
       "<div>\n",
       "<style scoped>\n",
       "    .dataframe tbody tr th:only-of-type {\n",
       "        vertical-align: middle;\n",
       "    }\n",
       "\n",
       "    .dataframe tbody tr th {\n",
       "        vertical-align: top;\n",
       "    }\n",
       "\n",
       "    .dataframe thead th {\n",
       "        text-align: right;\n",
       "    }\n",
       "</style>\n",
       "<table border=\"1\" class=\"dataframe\">\n",
       "  <thead>\n",
       "    <tr style=\"text-align: right;\">\n",
       "      <th></th>\n",
       "      <th>Quantity</th>\n",
       "      <th>Revenue</th>\n",
       "    </tr>\n",
       "    <tr>\n",
       "      <th>Product</th>\n",
       "      <th></th>\n",
       "      <th></th>\n",
       "    </tr>\n",
       "  </thead>\n",
       "  <tbody>\n",
       "    <tr>\n",
       "      <th>Beverages</th>\n",
       "      <td>700.204082</td>\n",
       "      <td>2065.602041</td>\n",
       "    </tr>\n",
       "    <tr>\n",
       "      <th>Burgers</th>\n",
       "      <td>559.019608</td>\n",
       "      <td>7261.664706</td>\n",
       "    </tr>\n",
       "    <tr>\n",
       "      <th>Chicken Sandwiches</th>\n",
       "      <td>214.096154</td>\n",
       "      <td>2204.085577</td>\n",
       "    </tr>\n",
       "    <tr>\n",
       "      <th>Fries</th>\n",
       "      <td>627.901961</td>\n",
       "      <td>2463.266078</td>\n",
       "    </tr>\n",
       "    <tr>\n",
       "      <th>Sides &amp; Other</th>\n",
       "      <td>200.000000</td>\n",
       "      <td>998.000000</td>\n",
       "    </tr>\n",
       "  </tbody>\n",
       "</table>\n",
       "</div>"
      ],
      "text/plain": [
       "0                     Quantity      Revenue\n",
       "Product                                    \n",
       "Beverages           700.204082  2065.602041\n",
       "Burgers             559.019608  7261.664706\n",
       "Chicken Sandwiches  214.096154  2204.085577\n",
       "Fries               627.901961  2463.266078\n",
       "Sides & Other       200.000000   998.000000"
      ]
     },
     "execution_count": 309,
     "metadata": {},
     "output_type": "execute_result"
    }
   ],
   "source": [
    "data.groupby('Product')[['Quantity', 'Revenue']].agg({'Quantity':'mean', 'Revenue':'mean'})  # using agg() with groupby()"
   ]
  },
  {
   "cell_type": "markdown",
   "id": "62ffbdd4",
   "metadata": {},
   "source": [
    "--------------"
   ]
  },
  {
   "cell_type": "markdown",
   "id": "33315f60",
   "metadata": {},
   "source": [
    "--------------"
   ]
  },
  {
   "cell_type": "markdown",
   "id": "62b1390f",
   "metadata": {},
   "source": [
    "--------------"
   ]
  },
  {
   "cell_type": "markdown",
   "id": "b7947657",
   "metadata": {},
   "source": [
    "###### by - ALPHA YERROH BARRIE\n",
    "\n",
    "(Learning Machine Learning)"
   ]
  }
 ],
 "metadata": {
  "kernelspec": {
   "display_name": "Python [conda env:base] *",
   "language": "python",
   "name": "conda-base-py"
  },
  "language_info": {
   "codemirror_mode": {
    "name": "ipython",
    "version": 3
   },
   "file_extension": ".py",
   "mimetype": "text/x-python",
   "name": "python",
   "nbconvert_exporter": "python",
   "pygments_lexer": "ipython3",
   "version": "3.12.7"
  }
 },
 "nbformat": 4,
 "nbformat_minor": 5
}
